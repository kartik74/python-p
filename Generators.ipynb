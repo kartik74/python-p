{
 "cells": [
  {
   "cell_type": "code",
   "execution_count": 1,
   "metadata": {},
   "outputs": [],
   "source": [
    "import math"
   ]
  },
  {
   "cell_type": "code",
   "execution_count": 2,
   "metadata": {},
   "outputs": [],
   "source": [
    "class FactIter:\n",
    "    def __init__(self, n):\n",
    "        self.n = n\n",
    "        self.i = 0\n",
    "        \n",
    "    def __iter__(self):\n",
    "        return self\n",
    "    def __next__(self):\n",
    "        if self.i >= self.n:\n",
    "            raise StopIteration\n",
    "            \n",
    "        else:\n",
    "            result = math.factorial(self.i)\n",
    "            self.i +=1\n",
    "            return result"
   ]
  },
  {
   "cell_type": "code",
   "execution_count": 3,
   "metadata": {},
   "outputs": [],
   "source": [
    "fact_iter = FactIter(5)"
   ]
  },
  {
   "cell_type": "code",
   "execution_count": 4,
   "metadata": {},
   "outputs": [
    {
     "data": {
      "text/plain": [
       "[1, 1, 2, 6, 24]"
      ]
     },
     "execution_count": 4,
     "metadata": {},
     "output_type": "execute_result"
    }
   ],
   "source": [
    "list(fact_iter)"
   ]
  },
  {
   "cell_type": "code",
   "execution_count": 5,
   "metadata": {},
   "outputs": [
    {
     "data": {
      "text/plain": [
       "[]"
      ]
     },
     "execution_count": 5,
     "metadata": {},
     "output_type": "execute_result"
    }
   ],
   "source": [
    "list(fact_iter)"
   ]
  },
  {
   "cell_type": "code",
   "execution_count": 6,
   "metadata": {},
   "outputs": [
    {
     "ename": "StopIteration",
     "evalue": "",
     "output_type": "error",
     "traceback": [
      "\u001b[1;31m---------------------------------------------------------------------------\u001b[0m",
      "\u001b[1;31mStopIteration\u001b[0m                             Traceback (most recent call last)",
      "\u001b[1;32m<ipython-input-6-30c888a65224>\u001b[0m in \u001b[0;36m<module>\u001b[1;34m\u001b[0m\n\u001b[1;32m----> 1\u001b[1;33m \u001b[0mnext\u001b[0m\u001b[1;33m(\u001b[0m\u001b[0mfact_iter\u001b[0m\u001b[1;33m)\u001b[0m\u001b[1;33m\u001b[0m\u001b[1;33m\u001b[0m\u001b[0m\n\u001b[0m",
      "\u001b[1;32m<ipython-input-2-561b7bce2b4b>\u001b[0m in \u001b[0;36m__next__\u001b[1;34m(self)\u001b[0m\n\u001b[0;32m      8\u001b[0m     \u001b[1;32mdef\u001b[0m \u001b[0m__next__\u001b[0m\u001b[1;33m(\u001b[0m\u001b[0mself\u001b[0m\u001b[1;33m)\u001b[0m\u001b[1;33m:\u001b[0m\u001b[1;33m\u001b[0m\u001b[1;33m\u001b[0m\u001b[0m\n\u001b[0;32m      9\u001b[0m         \u001b[1;32mif\u001b[0m \u001b[0mself\u001b[0m\u001b[1;33m.\u001b[0m\u001b[0mi\u001b[0m \u001b[1;33m>=\u001b[0m \u001b[0mself\u001b[0m\u001b[1;33m.\u001b[0m\u001b[0mn\u001b[0m\u001b[1;33m:\u001b[0m\u001b[1;33m\u001b[0m\u001b[1;33m\u001b[0m\u001b[0m\n\u001b[1;32m---> 10\u001b[1;33m             \u001b[1;32mraise\u001b[0m \u001b[0mStopIteration\u001b[0m\u001b[1;33m\u001b[0m\u001b[1;33m\u001b[0m\u001b[0m\n\u001b[0m\u001b[0;32m     11\u001b[0m \u001b[1;33m\u001b[0m\u001b[0m\n\u001b[0;32m     12\u001b[0m         \u001b[1;32melse\u001b[0m\u001b[1;33m:\u001b[0m\u001b[1;33m\u001b[0m\u001b[1;33m\u001b[0m\u001b[0m\n",
      "\u001b[1;31mStopIteration\u001b[0m: "
     ]
    }
   ],
   "source": [
    "next(fact_iter)"
   ]
  },
  {
   "cell_type": "code",
   "execution_count": 11,
   "metadata": {},
   "outputs": [],
   "source": [
    "def fact():\n",
    "    i = 0\n",
    "    def inner():\n",
    "        nonlocal i\n",
    "        result = math.factorial(i)\n",
    "        i +=1\n",
    "        return result\n",
    "    return inner"
   ]
  },
  {
   "cell_type": "code",
   "execution_count": 12,
   "metadata": {},
   "outputs": [],
   "source": [
    "f = fact()"
   ]
  },
  {
   "cell_type": "code",
   "execution_count": 13,
   "metadata": {},
   "outputs": [
    {
     "data": {
      "text/plain": [
       "<function __main__.fact.<locals>.inner()>"
      ]
     },
     "execution_count": 13,
     "metadata": {},
     "output_type": "execute_result"
    }
   ],
   "source": [
    "f"
   ]
  },
  {
   "cell_type": "code",
   "execution_count": 14,
   "metadata": {},
   "outputs": [
    {
     "data": {
      "text/plain": [
       "1"
      ]
     },
     "execution_count": 14,
     "metadata": {},
     "output_type": "execute_result"
    }
   ],
   "source": [
    "f()"
   ]
  },
  {
   "cell_type": "code",
   "execution_count": 15,
   "metadata": {},
   "outputs": [
    {
     "data": {
      "text/plain": [
       "1"
      ]
     },
     "execution_count": 15,
     "metadata": {},
     "output_type": "execute_result"
    }
   ],
   "source": [
    "f()"
   ]
  },
  {
   "cell_type": "code",
   "execution_count": 16,
   "metadata": {},
   "outputs": [
    {
     "data": {
      "text/plain": [
       "2"
      ]
     },
     "execution_count": 16,
     "metadata": {},
     "output_type": "execute_result"
    }
   ],
   "source": [
    "f()"
   ]
  },
  {
   "cell_type": "code",
   "execution_count": 17,
   "metadata": {},
   "outputs": [
    {
     "data": {
      "text/plain": [
       "6"
      ]
     },
     "execution_count": 17,
     "metadata": {},
     "output_type": "execute_result"
    }
   ],
   "source": [
    "f()"
   ]
  },
  {
   "cell_type": "code",
   "execution_count": 18,
   "metadata": {},
   "outputs": [
    {
     "data": {
      "text/plain": [
       "24"
      ]
     },
     "execution_count": 18,
     "metadata": {},
     "output_type": "execute_result"
    }
   ],
   "source": [
    "f()"
   ]
  },
  {
   "cell_type": "code",
   "execution_count": 19,
   "metadata": {},
   "outputs": [],
   "source": [
    "f = fact()\n",
    "\n",
    "fact_iter = iter(f, math.factorial(5))\n",
    "\n"
   ]
  },
  {
   "cell_type": "code",
   "execution_count": 20,
   "metadata": {},
   "outputs": [
    {
     "data": {
      "text/plain": [
       "[1, 1, 2, 6, 24]"
      ]
     },
     "execution_count": 20,
     "metadata": {},
     "output_type": "execute_result"
    }
   ],
   "source": [
    "list(fact_iter)"
   ]
  },
  {
   "cell_type": "code",
   "execution_count": 21,
   "metadata": {},
   "outputs": [
    {
     "data": {
      "text/plain": [
       "[]"
      ]
     },
     "execution_count": 21,
     "metadata": {},
     "output_type": "execute_result"
    }
   ],
   "source": [
    "list(fact_iter)"
   ]
  },
  {
   "cell_type": "code",
   "execution_count": 22,
   "metadata": {},
   "outputs": [
    {
     "data": {
      "text/plain": [
       "[]"
      ]
     },
     "execution_count": 22,
     "metadata": {},
     "output_type": "execute_result"
    }
   ],
   "source": [
    "list(fact_iter)"
   ]
  },
  {
   "cell_type": "code",
   "execution_count": 23,
   "metadata": {},
   "outputs": [],
   "source": [
    "def my_func():\n",
    "    print('line 1')\n",
    "    yield 'Flying'\n",
    "    print('line 2')\n",
    "    yield 'Circus'"
   ]
  },
  {
   "cell_type": "code",
   "execution_count": 24,
   "metadata": {},
   "outputs": [
    {
     "data": {
      "text/plain": [
       "function"
      ]
     },
     "execution_count": 24,
     "metadata": {},
     "output_type": "execute_result"
    }
   ],
   "source": [
    "type(my_func)"
   ]
  },
  {
   "cell_type": "code",
   "execution_count": 25,
   "metadata": {},
   "outputs": [],
   "source": [
    "f = my_func()"
   ]
  },
  {
   "cell_type": "code",
   "execution_count": 26,
   "metadata": {},
   "outputs": [
    {
     "data": {
      "text/plain": [
       "generator"
      ]
     },
     "execution_count": 26,
     "metadata": {},
     "output_type": "execute_result"
    }
   ],
   "source": [
    "type(f)"
   ]
  },
  {
   "cell_type": "code",
   "execution_count": 27,
   "metadata": {},
   "outputs": [
    {
     "data": {
      "text/plain": [
       "True"
      ]
     },
     "execution_count": 27,
     "metadata": {},
     "output_type": "execute_result"
    }
   ],
   "source": [
    "'__iter__' in dir(f)"
   ]
  },
  {
   "cell_type": "code",
   "execution_count": 28,
   "metadata": {},
   "outputs": [
    {
     "data": {
      "text/plain": [
       "True"
      ]
     },
     "execution_count": 28,
     "metadata": {},
     "output_type": "execute_result"
    }
   ],
   "source": [
    "'__next__' in dir(f)"
   ]
  },
  {
   "cell_type": "code",
   "execution_count": 29,
   "metadata": {},
   "outputs": [
    {
     "data": {
      "text/plain": [
       "True"
      ]
     },
     "execution_count": 29,
     "metadata": {},
     "output_type": "execute_result"
    }
   ],
   "source": [
    "iter(f) is f"
   ]
  },
  {
   "cell_type": "code",
   "execution_count": 30,
   "metadata": {},
   "outputs": [
    {
     "name": "stdout",
     "output_type": "stream",
     "text": [
      "line 1\n"
     ]
    },
    {
     "data": {
      "text/plain": [
       "'Flying'"
      ]
     },
     "execution_count": 30,
     "metadata": {},
     "output_type": "execute_result"
    }
   ],
   "source": [
    "f.__next__()"
   ]
  },
  {
   "cell_type": "code",
   "execution_count": 31,
   "metadata": {},
   "outputs": [
    {
     "name": "stdout",
     "output_type": "stream",
     "text": [
      "line 2\n"
     ]
    }
   ],
   "source": [
    "result = next(f)"
   ]
  },
  {
   "cell_type": "code",
   "execution_count": 32,
   "metadata": {},
   "outputs": [
    {
     "data": {
      "text/plain": [
       "'Circus'"
      ]
     },
     "execution_count": 32,
     "metadata": {},
     "output_type": "execute_result"
    }
   ],
   "source": [
    "result"
   ]
  },
  {
   "cell_type": "code",
   "execution_count": 40,
   "metadata": {},
   "outputs": [],
   "source": [
    "def silly():\n",
    "    yield 'the'\n",
    "    yield 'min'\n",
    "    yield 'of'\n",
    "    yield 'silly'\n",
    "    return None"
   ]
  },
  {
   "cell_type": "code",
   "execution_count": 41,
   "metadata": {},
   "outputs": [
    {
     "data": {
      "text/plain": [
       "<function __main__.silly()>"
      ]
     },
     "execution_count": 41,
     "metadata": {},
     "output_type": "execute_result"
    }
   ],
   "source": [
    "silly"
   ]
  },
  {
   "cell_type": "code",
   "execution_count": 42,
   "metadata": {},
   "outputs": [],
   "source": [
    "gen = silly()"
   ]
  },
  {
   "cell_type": "code",
   "execution_count": 43,
   "metadata": {},
   "outputs": [
    {
     "data": {
      "text/plain": [
       "<generator object silly at 0x00000251AC27A200>"
      ]
     },
     "execution_count": 43,
     "metadata": {},
     "output_type": "execute_result"
    }
   ],
   "source": [
    "gen"
   ]
  },
  {
   "cell_type": "code",
   "execution_count": 44,
   "metadata": {},
   "outputs": [
    {
     "name": "stdout",
     "output_type": "stream",
     "text": [
      "the\n",
      "min\n",
      "of\n",
      "silly\n"
     ]
    }
   ],
   "source": [
    "for line in gen:\n",
    "    print(line)"
   ]
  },
  {
   "cell_type": "code",
   "execution_count": 45,
   "metadata": {},
   "outputs": [
    {
     "ename": "StopIteration",
     "evalue": "",
     "output_type": "error",
     "traceback": [
      "\u001b[1;31m---------------------------------------------------------------------------\u001b[0m",
      "\u001b[1;31mStopIteration\u001b[0m                             Traceback (most recent call last)",
      "\u001b[1;32m<ipython-input-45-6e72e47198db>\u001b[0m in \u001b[0;36m<module>\u001b[1;34m\u001b[0m\n\u001b[1;32m----> 1\u001b[1;33m \u001b[0mnext\u001b[0m\u001b[1;33m(\u001b[0m\u001b[0mgen\u001b[0m\u001b[1;33m)\u001b[0m\u001b[1;33m\u001b[0m\u001b[1;33m\u001b[0m\u001b[0m\n\u001b[0m",
      "\u001b[1;31mStopIteration\u001b[0m: "
     ]
    }
   ],
   "source": [
    "next(gen)"
   ]
  },
  {
   "cell_type": "code",
   "execution_count": 46,
   "metadata": {},
   "outputs": [],
   "source": [
    "def silly():\n",
    "    yield 'the'\n",
    "    yield 'min'\n",
    "    yield 'of'\n",
    "    yield 'silly'\n",
    "    if True:\n",
    "        return 'Sorry'\n",
    "    \n",
    "    return None"
   ]
  },
  {
   "cell_type": "code",
   "execution_count": 47,
   "metadata": {},
   "outputs": [],
   "source": [
    "gen = silly()"
   ]
  },
  {
   "cell_type": "code",
   "execution_count": 48,
   "metadata": {},
   "outputs": [
    {
     "data": {
      "text/plain": [
       "'the'"
      ]
     },
     "execution_count": 48,
     "metadata": {},
     "output_type": "execute_result"
    }
   ],
   "source": [
    "next(gen)"
   ]
  },
  {
   "cell_type": "code",
   "execution_count": 49,
   "metadata": {},
   "outputs": [
    {
     "data": {
      "text/plain": [
       "'min'"
      ]
     },
     "execution_count": 49,
     "metadata": {},
     "output_type": "execute_result"
    }
   ],
   "source": [
    "next(gen)"
   ]
  },
  {
   "cell_type": "code",
   "execution_count": 50,
   "metadata": {},
   "outputs": [
    {
     "data": {
      "text/plain": [
       "'of'"
      ]
     },
     "execution_count": 50,
     "metadata": {},
     "output_type": "execute_result"
    }
   ],
   "source": [
    "next(gen)"
   ]
  },
  {
   "cell_type": "code",
   "execution_count": 51,
   "metadata": {},
   "outputs": [
    {
     "data": {
      "text/plain": [
       "'silly'"
      ]
     },
     "execution_count": 51,
     "metadata": {},
     "output_type": "execute_result"
    }
   ],
   "source": [
    "next(gen)"
   ]
  },
  {
   "cell_type": "code",
   "execution_count": 52,
   "metadata": {},
   "outputs": [
    {
     "ename": "StopIteration",
     "evalue": "Sorry",
     "output_type": "error",
     "traceback": [
      "\u001b[1;31m---------------------------------------------------------------------------\u001b[0m",
      "\u001b[1;31mStopIteration\u001b[0m                             Traceback (most recent call last)",
      "\u001b[1;32m<ipython-input-52-6e72e47198db>\u001b[0m in \u001b[0;36m<module>\u001b[1;34m\u001b[0m\n\u001b[1;32m----> 1\u001b[1;33m \u001b[0mnext\u001b[0m\u001b[1;33m(\u001b[0m\u001b[0mgen\u001b[0m\u001b[1;33m)\u001b[0m\u001b[1;33m\u001b[0m\u001b[1;33m\u001b[0m\u001b[0m\n\u001b[0m",
      "\u001b[1;31mStopIteration\u001b[0m: Sorry"
     ]
    }
   ],
   "source": [
    "next(gen)"
   ]
  },
  {
   "cell_type": "code",
   "execution_count": 53,
   "metadata": {},
   "outputs": [
    {
     "ename": "StopIteration",
     "evalue": "",
     "output_type": "error",
     "traceback": [
      "\u001b[1;31m---------------------------------------------------------------------------\u001b[0m",
      "\u001b[1;31mStopIteration\u001b[0m                             Traceback (most recent call last)",
      "\u001b[1;32m<ipython-input-53-6e72e47198db>\u001b[0m in \u001b[0;36m<module>\u001b[1;34m\u001b[0m\n\u001b[1;32m----> 1\u001b[1;33m \u001b[0mnext\u001b[0m\u001b[1;33m(\u001b[0m\u001b[0mgen\u001b[0m\u001b[1;33m)\u001b[0m\u001b[1;33m\u001b[0m\u001b[1;33m\u001b[0m\u001b[0m\n\u001b[0m",
      "\u001b[1;31mStopIteration\u001b[0m: "
     ]
    }
   ],
   "source": [
    "next(gen)\n"
   ]
  },
  {
   "cell_type": "code",
   "execution_count": 55,
   "metadata": {},
   "outputs": [],
   "source": [
    "def fact(n):\n",
    "    for i in range(n):\n",
    "        print(math.factorial(i))"
   ]
  },
  {
   "cell_type": "code",
   "execution_count": 56,
   "metadata": {},
   "outputs": [
    {
     "name": "stdout",
     "output_type": "stream",
     "text": [
      "1\n",
      "1\n",
      "2\n",
      "6\n",
      "24\n"
     ]
    }
   ],
   "source": [
    "fact(5)"
   ]
  },
  {
   "cell_type": "code",
   "execution_count": 57,
   "metadata": {},
   "outputs": [],
   "source": [
    "def fact(n):\n",
    "    for i in range(n):\n",
    "        yield math.factorial(i)"
   ]
  },
  {
   "cell_type": "code",
   "execution_count": 58,
   "metadata": {},
   "outputs": [
    {
     "data": {
      "text/plain": [
       "<function __main__.fact(n)>"
      ]
     },
     "execution_count": 58,
     "metadata": {},
     "output_type": "execute_result"
    }
   ],
   "source": [
    "fact"
   ]
  },
  {
   "cell_type": "code",
   "execution_count": 59,
   "metadata": {},
   "outputs": [],
   "source": [
    "gen  = fact(5)"
   ]
  },
  {
   "cell_type": "code",
   "execution_count": 60,
   "metadata": {},
   "outputs": [
    {
     "data": {
      "text/plain": [
       "<generator object fact at 0x00000251AC185190>"
      ]
     },
     "execution_count": 60,
     "metadata": {},
     "output_type": "execute_result"
    }
   ],
   "source": [
    "gen"
   ]
  },
  {
   "cell_type": "code",
   "execution_count": 61,
   "metadata": {},
   "outputs": [
    {
     "data": {
      "text/plain": [
       "1"
      ]
     },
     "execution_count": 61,
     "metadata": {},
     "output_type": "execute_result"
    }
   ],
   "source": [
    "next(gen)"
   ]
  },
  {
   "cell_type": "code",
   "execution_count": 62,
   "metadata": {},
   "outputs": [
    {
     "data": {
      "text/plain": [
       "1"
      ]
     },
     "execution_count": 62,
     "metadata": {},
     "output_type": "execute_result"
    }
   ],
   "source": [
    "next(gen)"
   ]
  },
  {
   "cell_type": "code",
   "execution_count": 63,
   "metadata": {},
   "outputs": [
    {
     "data": {
      "text/plain": [
       "2"
      ]
     },
     "execution_count": 63,
     "metadata": {},
     "output_type": "execute_result"
    }
   ],
   "source": [
    "next(gen)"
   ]
  },
  {
   "cell_type": "code",
   "execution_count": 64,
   "metadata": {},
   "outputs": [
    {
     "data": {
      "text/plain": [
       "6"
      ]
     },
     "execution_count": 64,
     "metadata": {},
     "output_type": "execute_result"
    }
   ],
   "source": [
    "next(gen)"
   ]
  },
  {
   "cell_type": "code",
   "execution_count": 65,
   "metadata": {},
   "outputs": [
    {
     "data": {
      "text/plain": [
       "24"
      ]
     },
     "execution_count": 65,
     "metadata": {},
     "output_type": "execute_result"
    }
   ],
   "source": [
    "next(gen)"
   ]
  },
  {
   "cell_type": "code",
   "execution_count": 66,
   "metadata": {},
   "outputs": [
    {
     "ename": "StopIteration",
     "evalue": "",
     "output_type": "error",
     "traceback": [
      "\u001b[1;31m---------------------------------------------------------------------------\u001b[0m",
      "\u001b[1;31mStopIteration\u001b[0m                             Traceback (most recent call last)",
      "\u001b[1;32m<ipython-input-66-6e72e47198db>\u001b[0m in \u001b[0;36m<module>\u001b[1;34m\u001b[0m\n\u001b[1;32m----> 1\u001b[1;33m \u001b[0mnext\u001b[0m\u001b[1;33m(\u001b[0m\u001b[0mgen\u001b[0m\u001b[1;33m)\u001b[0m\u001b[1;33m\u001b[0m\u001b[1;33m\u001b[0m\u001b[0m\n\u001b[0m",
      "\u001b[1;31mStopIteration\u001b[0m: "
     ]
    }
   ],
   "source": [
    "next(gen)"
   ]
  },
  {
   "cell_type": "code",
   "execution_count": 67,
   "metadata": {},
   "outputs": [],
   "source": [
    "for num in gen:\n",
    "    print(num)"
   ]
  },
  {
   "cell_type": "code",
   "execution_count": 68,
   "metadata": {},
   "outputs": [
    {
     "data": {
      "text/plain": [
       "[]"
      ]
     },
     "execution_count": 68,
     "metadata": {},
     "output_type": "execute_result"
    }
   ],
   "source": [
    "list(gen)"
   ]
  },
  {
   "cell_type": "code",
   "execution_count": 69,
   "metadata": {},
   "outputs": [
    {
     "ename": "StopIteration",
     "evalue": "",
     "output_type": "error",
     "traceback": [
      "\u001b[1;31m---------------------------------------------------------------------------\u001b[0m",
      "\u001b[1;31mStopIteration\u001b[0m                             Traceback (most recent call last)",
      "\u001b[1;32m<ipython-input-69-6e72e47198db>\u001b[0m in \u001b[0;36m<module>\u001b[1;34m\u001b[0m\n\u001b[1;32m----> 1\u001b[1;33m \u001b[0mnext\u001b[0m\u001b[1;33m(\u001b[0m\u001b[0mgen\u001b[0m\u001b[1;33m)\u001b[0m\u001b[1;33m\u001b[0m\u001b[1;33m\u001b[0m\u001b[0m\n\u001b[0m",
      "\u001b[1;31mStopIteration\u001b[0m: "
     ]
    }
   ],
   "source": [
    "next(gen)"
   ]
  },
  {
   "cell_type": "code",
   "execution_count": 71,
   "metadata": {},
   "outputs": [],
   "source": [
    "def squares(n):\n",
    "    for i in range(n):\n",
    "        yield i**2\n"
   ]
  },
  {
   "cell_type": "code",
   "execution_count": 72,
   "metadata": {},
   "outputs": [],
   "source": [
    "sq = squares(5)"
   ]
  },
  {
   "cell_type": "code",
   "execution_count": 73,
   "metadata": {},
   "outputs": [
    {
     "data": {
      "text/plain": [
       "[0, 1, 4, 9, 16]"
      ]
     },
     "execution_count": 73,
     "metadata": {},
     "output_type": "execute_result"
    }
   ],
   "source": [
    "list(sq)"
   ]
  },
  {
   "cell_type": "code",
   "execution_count": 74,
   "metadata": {},
   "outputs": [
    {
     "data": {
      "text/plain": [
       "[]"
      ]
     },
     "execution_count": 74,
     "metadata": {},
     "output_type": "execute_result"
    }
   ],
   "source": [
    "list(sq)"
   ]
  },
  {
   "cell_type": "code",
   "execution_count": 76,
   "metadata": {},
   "outputs": [],
   "source": [
    "def fib(n):\n",
    "    if n <= 1:\n",
    "        return 1\n",
    "    else:\n",
    "        return fib(n-1) + fib(n-2)"
   ]
  },
  {
   "cell_type": "code",
   "execution_count": 77,
   "metadata": {},
   "outputs": [
    {
     "data": {
      "text/plain": [
       "[1, 1, 2, 3, 5, 8, 13]"
      ]
     },
     "execution_count": 77,
     "metadata": {},
     "output_type": "execute_result"
    }
   ],
   "source": [
    "[fib(i) for i in range(7)]"
   ]
  },
  {
   "cell_type": "code",
   "execution_count": 78,
   "metadata": {},
   "outputs": [],
   "source": [
    "from timeit import timeit"
   ]
  },
  {
   "cell_type": "code",
   "execution_count": 82,
   "metadata": {},
   "outputs": [
    {
     "data": {
      "text/plain": [
       "0.0004280999999082269"
      ]
     },
     "execution_count": 82,
     "metadata": {},
     "output_type": "execute_result"
    }
   ],
   "source": [
    "timeit('fib(10)', globals = globals(), number = 10)"
   ]
  },
  {
   "cell_type": "code",
   "execution_count": 83,
   "metadata": {},
   "outputs": [
    {
     "data": {
      "text/plain": [
       "2.342112000000043"
      ]
     },
     "execution_count": 83,
     "metadata": {},
     "output_type": "execute_result"
    }
   ],
   "source": [
    "timeit('fib(28)', globals = globals(), number = 10)"
   ]
  },
  {
   "cell_type": "code",
   "execution_count": 84,
   "metadata": {},
   "outputs": [
    {
     "data": {
      "text/plain": [
       "3.8141103000000385"
      ]
     },
     "execution_count": 84,
     "metadata": {},
     "output_type": "execute_result"
    }
   ],
   "source": [
    "timeit('fib(29)', globals = globals(), number = 10)"
   ]
  },
  {
   "cell_type": "code",
   "execution_count": 85,
   "metadata": {},
   "outputs": [],
   "source": [
    "from functools import lru_cache"
   ]
  },
  {
   "cell_type": "code",
   "execution_count": 86,
   "metadata": {},
   "outputs": [],
   "source": [
    "@lru_cache\n",
    "def fib(n):\n",
    "    if n <= 1:\n",
    "        return 1\n",
    "    else:\n",
    "        return fib(n-1) + fib(n-2)"
   ]
  },
  {
   "cell_type": "code",
   "execution_count": 87,
   "metadata": {},
   "outputs": [
    {
     "data": {
      "text/plain": [
       "1.9999999949504854e-05"
      ]
     },
     "execution_count": 87,
     "metadata": {},
     "output_type": "execute_result"
    }
   ],
   "source": [
    "timeit('fib(10)', globals = globals(), number = 10)"
   ]
  },
  {
   "cell_type": "code",
   "execution_count": 88,
   "metadata": {},
   "outputs": [
    {
     "data": {
      "text/plain": [
       "3.5600000046542846e-05"
      ]
     },
     "execution_count": 88,
     "metadata": {},
     "output_type": "execute_result"
    }
   ],
   "source": [
    "timeit('fib(28)', globals = globals(), number = 10)"
   ]
  },
  {
   "cell_type": "code",
   "execution_count": 89,
   "metadata": {},
   "outputs": [
    {
     "ename": "RecursionError",
     "evalue": "maximum recursion depth exceeded in comparison",
     "output_type": "error",
     "traceback": [
      "\u001b[1;31m---------------------------------------------------------------------------\u001b[0m",
      "\u001b[1;31mRecursionError\u001b[0m                            Traceback (most recent call last)",
      "\u001b[1;32m<ipython-input-89-d5a702961312>\u001b[0m in \u001b[0;36m<module>\u001b[1;34m\u001b[0m\n\u001b[1;32m----> 1\u001b[1;33m \u001b[0mfib\u001b[0m\u001b[1;33m(\u001b[0m\u001b[1;36m2000\u001b[0m\u001b[1;33m)\u001b[0m\u001b[1;33m\u001b[0m\u001b[1;33m\u001b[0m\u001b[0m\n\u001b[0m",
      "\u001b[1;32m<ipython-input-86-3433a205ebfa>\u001b[0m in \u001b[0;36mfib\u001b[1;34m(n)\u001b[0m\n\u001b[0;32m      4\u001b[0m         \u001b[1;32mreturn\u001b[0m \u001b[1;36m1\u001b[0m\u001b[1;33m\u001b[0m\u001b[1;33m\u001b[0m\u001b[0m\n\u001b[0;32m      5\u001b[0m     \u001b[1;32melse\u001b[0m\u001b[1;33m:\u001b[0m\u001b[1;33m\u001b[0m\u001b[1;33m\u001b[0m\u001b[0m\n\u001b[1;32m----> 6\u001b[1;33m         \u001b[1;32mreturn\u001b[0m \u001b[0mfib\u001b[0m\u001b[1;33m(\u001b[0m\u001b[0mn\u001b[0m\u001b[1;33m-\u001b[0m\u001b[1;36m1\u001b[0m\u001b[1;33m)\u001b[0m \u001b[1;33m+\u001b[0m \u001b[0mfib\u001b[0m\u001b[1;33m(\u001b[0m\u001b[0mn\u001b[0m\u001b[1;33m-\u001b[0m\u001b[1;36m2\u001b[0m\u001b[1;33m)\u001b[0m\u001b[1;33m\u001b[0m\u001b[1;33m\u001b[0m\u001b[0m\n\u001b[0m",
      "... last 1 frames repeated, from the frame below ...\n",
      "\u001b[1;32m<ipython-input-86-3433a205ebfa>\u001b[0m in \u001b[0;36mfib\u001b[1;34m(n)\u001b[0m\n\u001b[0;32m      4\u001b[0m         \u001b[1;32mreturn\u001b[0m \u001b[1;36m1\u001b[0m\u001b[1;33m\u001b[0m\u001b[1;33m\u001b[0m\u001b[0m\n\u001b[0;32m      5\u001b[0m     \u001b[1;32melse\u001b[0m\u001b[1;33m:\u001b[0m\u001b[1;33m\u001b[0m\u001b[1;33m\u001b[0m\u001b[0m\n\u001b[1;32m----> 6\u001b[1;33m         \u001b[1;32mreturn\u001b[0m \u001b[0mfib\u001b[0m\u001b[1;33m(\u001b[0m\u001b[0mn\u001b[0m\u001b[1;33m-\u001b[0m\u001b[1;36m1\u001b[0m\u001b[1;33m)\u001b[0m \u001b[1;33m+\u001b[0m \u001b[0mfib\u001b[0m\u001b[1;33m(\u001b[0m\u001b[0mn\u001b[0m\u001b[1;33m-\u001b[0m\u001b[1;36m2\u001b[0m\u001b[1;33m)\u001b[0m\u001b[1;33m\u001b[0m\u001b[1;33m\u001b[0m\u001b[0m\n\u001b[0m",
      "\u001b[1;31mRecursionError\u001b[0m: maximum recursion depth exceeded in comparison"
     ]
    }
   ],
   "source": [
    "fib(2000)"
   ]
  },
  {
   "cell_type": "code",
   "execution_count": 90,
   "metadata": {},
   "outputs": [],
   "source": [
    "def fib(n):\n",
    "    fib_0 =1\n",
    "    fib_1 = 1\n",
    "    for i in range(n-1):\n",
    "        fib_0 , fib_1 = fib_1, fib_0 + fib_1\n",
    "    return fib_1"
   ]
  },
  {
   "cell_type": "code",
   "execution_count": 92,
   "metadata": {},
   "outputs": [
    {
     "data": {
      "text/plain": [
       "[1, 1, 2, 3, 5, 8, 13]"
      ]
     },
     "execution_count": 92,
     "metadata": {},
     "output_type": "execute_result"
    }
   ],
   "source": [
    "[fib(i) for i in range(7)]"
   ]
  },
  {
   "cell_type": "code",
   "execution_count": 94,
   "metadata": {},
   "outputs": [
    {
     "data": {
      "text/plain": [
       "0.016904500000009648"
      ]
     },
     "execution_count": 94,
     "metadata": {},
     "output_type": "execute_result"
    }
   ],
   "source": [
    "timeit('fib(5000)', globals = globals(), number = 10)"
   ]
  },
  {
   "cell_type": "code",
   "execution_count": 97,
   "metadata": {},
   "outputs": [],
   "source": [
    "class FibIter:\n",
    "    def __init__(self, n):\n",
    "        self.n = n\n",
    "        self.i = 0\n",
    "        \n",
    "    def __iter__(self):\n",
    "        return self\n",
    "    def __next__(self):\n",
    "        if self.i >= self.n:\n",
    "            raise StopIteration\n",
    "        else:\n",
    "            result = fib(self.i)\n",
    "            self.i += 1\n",
    "            return result"
   ]
  },
  {
   "cell_type": "code",
   "execution_count": 100,
   "metadata": {},
   "outputs": [],
   "source": [
    "fib_iter =FibIter(7)"
   ]
  },
  {
   "cell_type": "code",
   "execution_count": 101,
   "metadata": {},
   "outputs": [
    {
     "name": "stdout",
     "output_type": "stream",
     "text": [
      "1\n",
      "1\n",
      "2\n",
      "3\n",
      "5\n",
      "8\n",
      "13\n"
     ]
    }
   ],
   "source": [
    "for num in fib_iter:\n",
    "    print(num)"
   ]
  },
  {
   "cell_type": "code",
   "execution_count": 102,
   "metadata": {},
   "outputs": [],
   "source": [
    "def fib(n):\n",
    "    fib_0 =1\n",
    "    fib_1 = 1\n",
    "    for i in range(n-1):\n",
    "        fib_0 , fib_1 = fib_1, fib_0 + fib_1\n",
    "        yield fib_1"
   ]
  },
  {
   "cell_type": "code",
   "execution_count": 103,
   "metadata": {},
   "outputs": [],
   "source": [
    "gen = fib(7)"
   ]
  },
  {
   "cell_type": "code",
   "execution_count": 104,
   "metadata": {},
   "outputs": [
    {
     "name": "stdout",
     "output_type": "stream",
     "text": [
      "2\n",
      "3\n",
      "5\n",
      "8\n",
      "13\n",
      "21\n"
     ]
    }
   ],
   "source": [
    "for num in gen:\n",
    "    print(num)"
   ]
  },
  {
   "cell_type": "code",
   "execution_count": 112,
   "metadata": {},
   "outputs": [],
   "source": [
    "def fib(n):\n",
    "    fib_0 =1\n",
    "    yield fib_0\n",
    "    fib_1 = 1\n",
    "    yield fib_1\n",
    "    for i in range(n-1):\n",
    "        fib_0 , fib_1 = fib_1, fib_0 + fib_1\n",
    "        yield fib_1"
   ]
  },
  {
   "cell_type": "code",
   "execution_count": 113,
   "metadata": {},
   "outputs": [],
   "source": [
    "gen = fib(7)"
   ]
  },
  {
   "cell_type": "code",
   "execution_count": 115,
   "metadata": {},
   "outputs": [
    {
     "name": "stdout",
     "output_type": "stream",
     "text": [
      "1\n",
      "1\n",
      "2\n",
      "3\n",
      "5\n",
      "8\n",
      "13\n",
      "21\n"
     ]
    }
   ],
   "source": [
    "for num in gen:\n",
    "    print(num)"
   ]
  },
  {
   "cell_type": "code",
   "execution_count": 116,
   "metadata": {},
   "outputs": [],
   "source": [
    "def sq_gen(n):\n",
    "    for i in range(n):\n",
    "        yield i**2\n",
    "    "
   ]
  },
  {
   "cell_type": "code",
   "execution_count": 117,
   "metadata": {},
   "outputs": [],
   "source": [
    "sq = sq_gen(5)"
   ]
  },
  {
   "cell_type": "code",
   "execution_count": 118,
   "metadata": {},
   "outputs": [
    {
     "data": {
      "text/plain": [
       "<generator object sq_gen at 0x00000251AC3723C0>"
      ]
     },
     "execution_count": 118,
     "metadata": {},
     "output_type": "execute_result"
    }
   ],
   "source": [
    "sq"
   ]
  },
  {
   "cell_type": "code",
   "execution_count": 119,
   "metadata": {},
   "outputs": [
    {
     "name": "stdout",
     "output_type": "stream",
     "text": [
      "0\n",
      "1\n",
      "4\n",
      "9\n",
      "16\n"
     ]
    }
   ],
   "source": [
    "for num in sq:\n",
    "    print(num)"
   ]
  },
  {
   "cell_type": "code",
   "execution_count": 120,
   "metadata": {},
   "outputs": [
    {
     "data": {
      "text/plain": [
       "[]"
      ]
     },
     "execution_count": 120,
     "metadata": {},
     "output_type": "execute_result"
    }
   ],
   "source": [
    "list(sq)"
   ]
  },
  {
   "cell_type": "code",
   "execution_count": 121,
   "metadata": {},
   "outputs": [],
   "source": [
    "class Squares:\n",
    "    def __init__(self, n):\n",
    "        self.n = n\n",
    "        \n",
    "    def __iter__(self):\n",
    "        return sq_gen(self.n)"
   ]
  },
  {
   "cell_type": "code",
   "execution_count": 122,
   "metadata": {},
   "outputs": [],
   "source": [
    "sq = Squares(5)"
   ]
  },
  {
   "cell_type": "code",
   "execution_count": 123,
   "metadata": {},
   "outputs": [
    {
     "name": "stdout",
     "output_type": "stream",
     "text": [
      "0\n",
      "1\n",
      "4\n",
      "9\n",
      "16\n"
     ]
    }
   ],
   "source": [
    "for num in sq:\n",
    "    print(num)"
   ]
  },
  {
   "cell_type": "code",
   "execution_count": 125,
   "metadata": {},
   "outputs": [
    {
     "data": {
      "text/plain": [
       "[0, 1, 4, 9, 16]"
      ]
     },
     "execution_count": 125,
     "metadata": {},
     "output_type": "execute_result"
    }
   ],
   "source": [
    "list(sq)"
   ]
  },
  {
   "cell_type": "code",
   "execution_count": 126,
   "metadata": {},
   "outputs": [],
   "source": [
    "class Squares:\n",
    "    def __init__(self, n):\n",
    "        self.n = n\n",
    "        \n",
    "    def __iter__(self):\n",
    "        return Squares.sq_gen(self.n)\n",
    "    \n",
    "    @staticmethod\n",
    "    def sq_gen(n):\n",
    "        for i in range(n):\n",
    "            yield i**2\n",
    "    "
   ]
  },
  {
   "cell_type": "code",
   "execution_count": 127,
   "metadata": {},
   "outputs": [],
   "source": [
    "sq = Squares(5)"
   ]
  },
  {
   "cell_type": "code",
   "execution_count": 128,
   "metadata": {},
   "outputs": [
    {
     "data": {
      "text/plain": [
       "[0, 1, 4, 9, 16]"
      ]
     },
     "execution_count": 128,
     "metadata": {},
     "output_type": "execute_result"
    }
   ],
   "source": [
    "list(sq)"
   ]
  },
  {
   "cell_type": "code",
   "execution_count": 129,
   "metadata": {},
   "outputs": [
    {
     "data": {
      "text/plain": [
       "[0, 1, 4, 9, 16]"
      ]
     },
     "execution_count": 129,
     "metadata": {},
     "output_type": "execute_result"
    }
   ],
   "source": [
    "list(sq)"
   ]
  },
  {
   "cell_type": "code",
   "execution_count": 130,
   "metadata": {},
   "outputs": [
    {
     "data": {
      "text/plain": [
       "[0, 1, 4, 9, 16]"
      ]
     },
     "execution_count": 130,
     "metadata": {},
     "output_type": "execute_result"
    }
   ],
   "source": [
    "list(sq)"
   ]
  },
  {
   "cell_type": "code",
   "execution_count": 131,
   "metadata": {},
   "outputs": [
    {
     "data": {
      "text/plain": [
       "[0, 1, 4, 9, 16]"
      ]
     },
     "execution_count": 131,
     "metadata": {},
     "output_type": "execute_result"
    }
   ],
   "source": [
    "list(sq)"
   ]
  },
  {
   "cell_type": "code",
   "execution_count": 132,
   "metadata": {},
   "outputs": [],
   "source": [
    "def sq_gen(n):\n",
    "    for i in range(n):\n",
    "        yield i**2\n",
    "    "
   ]
  },
  {
   "cell_type": "code",
   "execution_count": 133,
   "metadata": {},
   "outputs": [],
   "source": [
    "sq =squares(5)"
   ]
  },
  {
   "cell_type": "code",
   "execution_count": 134,
   "metadata": {},
   "outputs": [],
   "source": [
    "enum_sq = enumerate(sq)"
   ]
  },
  {
   "cell_type": "code",
   "execution_count": 135,
   "metadata": {},
   "outputs": [
    {
     "data": {
      "text/plain": [
       "[(0, 0), (1, 1), (2, 4), (3, 9), (4, 16)]"
      ]
     },
     "execution_count": 135,
     "metadata": {},
     "output_type": "execute_result"
    }
   ],
   "source": [
    "list(enum_sq)"
   ]
  },
  {
   "cell_type": "code",
   "execution_count": 136,
   "metadata": {},
   "outputs": [],
   "source": [
    "l = [1,2,3]"
   ]
  },
  {
   "cell_type": "code",
   "execution_count": 137,
   "metadata": {},
   "outputs": [],
   "source": [
    "enum = enumerate(l)"
   ]
  },
  {
   "cell_type": "code",
   "execution_count": 139,
   "metadata": {},
   "outputs": [
    {
     "data": {
      "text/plain": [
       "[(0, 1), (1, 2), (2, 3)]"
      ]
     },
     "execution_count": 139,
     "metadata": {},
     "output_type": "execute_result"
    }
   ],
   "source": [
    "list(enum)"
   ]
  },
  {
   "cell_type": "code",
   "execution_count": 140,
   "metadata": {},
   "outputs": [
    {
     "data": {
      "text/plain": [
       "[]"
      ]
     },
     "execution_count": 140,
     "metadata": {},
     "output_type": "execute_result"
    }
   ],
   "source": [
    "list(enum)"
   ]
  },
  {
   "cell_type": "code",
   "execution_count": 141,
   "metadata": {},
   "outputs": [],
   "source": [
    "sq = squares(5)"
   ]
  },
  {
   "cell_type": "code",
   "execution_count": 142,
   "metadata": {},
   "outputs": [
    {
     "data": {
      "text/plain": [
       "0"
      ]
     },
     "execution_count": 142,
     "metadata": {},
     "output_type": "execute_result"
    }
   ],
   "source": [
    "next(sq)"
   ]
  },
  {
   "cell_type": "code",
   "execution_count": 143,
   "metadata": {},
   "outputs": [
    {
     "data": {
      "text/plain": [
       "1"
      ]
     },
     "execution_count": 143,
     "metadata": {},
     "output_type": "execute_result"
    }
   ],
   "source": [
    "next(sq)"
   ]
  },
  {
   "cell_type": "code",
   "execution_count": 144,
   "metadata": {},
   "outputs": [
    {
     "data": {
      "text/plain": [
       "[(0, 4), (1, 9), (2, 16)]"
      ]
     },
     "execution_count": 144,
     "metadata": {},
     "output_type": "execute_result"
    }
   ],
   "source": [
    "list(enumerate(sq))"
   ]
  },
  {
   "cell_type": "code",
   "execution_count": 145,
   "metadata": {},
   "outputs": [],
   "source": [
    "from collections import namedtuple"
   ]
  },
  {
   "cell_type": "code",
   "execution_count": 150,
   "metadata": {},
   "outputs": [],
   "source": [
    "Card = namedtuple('Card', 'rank suit')\n",
    "SUITS = ('Spades', 'Hearts', 'Diamonds', 'Clubs')\n",
    "RANKS = tuple(range(2,11)) + tuple('JQKA')"
   ]
  },
  {
   "cell_type": "code",
   "execution_count": 153,
   "metadata": {},
   "outputs": [],
   "source": [
    "def card_gen():\n",
    "    for i in range(len(SUITS) * len(RANKS)):\n",
    "        suit = SUITS[i // len(RANKS)]\n",
    "        rank = RANKS[i% len(RANKS)]\n",
    "        card = Card(rank,suit)\n",
    "        yield card"
   ]
  },
  {
   "cell_type": "code",
   "execution_count": 154,
   "metadata": {},
   "outputs": [
    {
     "name": "stdout",
     "output_type": "stream",
     "text": [
      "Card(rank=2, suit='Spades')\n",
      "Card(rank=3, suit='Spades')\n",
      "Card(rank=4, suit='Spades')\n",
      "Card(rank=5, suit='Spades')\n",
      "Card(rank=6, suit='Spades')\n",
      "Card(rank=7, suit='Spades')\n",
      "Card(rank=8, suit='Spades')\n",
      "Card(rank=9, suit='Spades')\n",
      "Card(rank=10, suit='Spades')\n",
      "Card(rank='J', suit='Spades')\n",
      "Card(rank='Q', suit='Spades')\n",
      "Card(rank='K', suit='Spades')\n",
      "Card(rank='A', suit='Spades')\n",
      "Card(rank=2, suit='Hearts')\n",
      "Card(rank=3, suit='Hearts')\n",
      "Card(rank=4, suit='Hearts')\n",
      "Card(rank=5, suit='Hearts')\n",
      "Card(rank=6, suit='Hearts')\n",
      "Card(rank=7, suit='Hearts')\n",
      "Card(rank=8, suit='Hearts')\n",
      "Card(rank=9, suit='Hearts')\n",
      "Card(rank=10, suit='Hearts')\n",
      "Card(rank='J', suit='Hearts')\n",
      "Card(rank='Q', suit='Hearts')\n",
      "Card(rank='K', suit='Hearts')\n",
      "Card(rank='A', suit='Hearts')\n",
      "Card(rank=2, suit='Diamonds')\n",
      "Card(rank=3, suit='Diamonds')\n",
      "Card(rank=4, suit='Diamonds')\n",
      "Card(rank=5, suit='Diamonds')\n",
      "Card(rank=6, suit='Diamonds')\n",
      "Card(rank=7, suit='Diamonds')\n",
      "Card(rank=8, suit='Diamonds')\n",
      "Card(rank=9, suit='Diamonds')\n",
      "Card(rank=10, suit='Diamonds')\n",
      "Card(rank='J', suit='Diamonds')\n",
      "Card(rank='Q', suit='Diamonds')\n",
      "Card(rank='K', suit='Diamonds')\n",
      "Card(rank='A', suit='Diamonds')\n",
      "Card(rank=2, suit='Clubs')\n",
      "Card(rank=3, suit='Clubs')\n",
      "Card(rank=4, suit='Clubs')\n",
      "Card(rank=5, suit='Clubs')\n",
      "Card(rank=6, suit='Clubs')\n",
      "Card(rank=7, suit='Clubs')\n",
      "Card(rank=8, suit='Clubs')\n",
      "Card(rank=9, suit='Clubs')\n",
      "Card(rank=10, suit='Clubs')\n",
      "Card(rank='J', suit='Clubs')\n",
      "Card(rank='Q', suit='Clubs')\n",
      "Card(rank='K', suit='Clubs')\n",
      "Card(rank='A', suit='Clubs')\n"
     ]
    }
   ],
   "source": [
    "for card in card_gen():\n",
    "    print(card)"
   ]
  },
  {
   "cell_type": "code",
   "execution_count": 157,
   "metadata": {},
   "outputs": [],
   "source": [
    "def card_gen():\n",
    "    for suit in SUITS:\n",
    "        for rank in RANKS:\n",
    "            yield Card(rank, suit)"
   ]
  },
  {
   "cell_type": "code",
   "execution_count": 159,
   "metadata": {},
   "outputs": [
    {
     "name": "stdout",
     "output_type": "stream",
     "text": [
      "Card(rank=2, suit='Spades')\n",
      "Card(rank=3, suit='Spades')\n",
      "Card(rank=4, suit='Spades')\n",
      "Card(rank=5, suit='Spades')\n",
      "Card(rank=6, suit='Spades')\n",
      "Card(rank=7, suit='Spades')\n",
      "Card(rank=8, suit='Spades')\n",
      "Card(rank=9, suit='Spades')\n",
      "Card(rank=10, suit='Spades')\n",
      "Card(rank='J', suit='Spades')\n",
      "Card(rank='Q', suit='Spades')\n",
      "Card(rank='K', suit='Spades')\n",
      "Card(rank='A', suit='Spades')\n",
      "Card(rank=2, suit='Hearts')\n",
      "Card(rank=3, suit='Hearts')\n",
      "Card(rank=4, suit='Hearts')\n",
      "Card(rank=5, suit='Hearts')\n",
      "Card(rank=6, suit='Hearts')\n",
      "Card(rank=7, suit='Hearts')\n",
      "Card(rank=8, suit='Hearts')\n",
      "Card(rank=9, suit='Hearts')\n",
      "Card(rank=10, suit='Hearts')\n",
      "Card(rank='J', suit='Hearts')\n",
      "Card(rank='Q', suit='Hearts')\n",
      "Card(rank='K', suit='Hearts')\n",
      "Card(rank='A', suit='Hearts')\n",
      "Card(rank=2, suit='Diamonds')\n",
      "Card(rank=3, suit='Diamonds')\n",
      "Card(rank=4, suit='Diamonds')\n",
      "Card(rank=5, suit='Diamonds')\n",
      "Card(rank=6, suit='Diamonds')\n",
      "Card(rank=7, suit='Diamonds')\n",
      "Card(rank=8, suit='Diamonds')\n",
      "Card(rank=9, suit='Diamonds')\n",
      "Card(rank=10, suit='Diamonds')\n",
      "Card(rank='J', suit='Diamonds')\n",
      "Card(rank='Q', suit='Diamonds')\n",
      "Card(rank='K', suit='Diamonds')\n",
      "Card(rank='A', suit='Diamonds')\n",
      "Card(rank=2, suit='Clubs')\n",
      "Card(rank=3, suit='Clubs')\n",
      "Card(rank=4, suit='Clubs')\n",
      "Card(rank=5, suit='Clubs')\n",
      "Card(rank=6, suit='Clubs')\n",
      "Card(rank=7, suit='Clubs')\n",
      "Card(rank=8, suit='Clubs')\n",
      "Card(rank=9, suit='Clubs')\n",
      "Card(rank=10, suit='Clubs')\n",
      "Card(rank='J', suit='Clubs')\n",
      "Card(rank='Q', suit='Clubs')\n",
      "Card(rank='K', suit='Clubs')\n",
      "Card(rank='A', suit='Clubs')\n"
     ]
    }
   ],
   "source": [
    "for card in card_gen():\n",
    "    print(card)"
   ]
  },
  {
   "cell_type": "code",
   "execution_count": 160,
   "metadata": {},
   "outputs": [],
   "source": [
    "class CardDeck:\n",
    "    SUITS = ('Spades', 'Hearts', 'Diamonds', 'Clubs')\n",
    "    RANKS = tuple(range(2,11)) + tuple('JQKA')\n",
    "    \n",
    "    \n",
    "    def __iter__(self):\n",
    "        return CardDeck.card_gen()\n",
    "        \n",
    "        \n",
    "        \n",
    "    @staticmethod    \n",
    "    def card_gen():\n",
    "        for suit in CardDeck.SUITS:\n",
    "            for rank in CardDeck.RANKS:\n",
    "                yield Card(rank, suit)"
   ]
  },
  {
   "cell_type": "code",
   "execution_count": 161,
   "metadata": {},
   "outputs": [],
   "source": [
    "deck = CardDeck()"
   ]
  },
  {
   "cell_type": "code",
   "execution_count": 162,
   "metadata": {},
   "outputs": [
    {
     "data": {
      "text/plain": [
       "[Card(rank=2, suit='Spades'),\n",
       " Card(rank=3, suit='Spades'),\n",
       " Card(rank=4, suit='Spades'),\n",
       " Card(rank=5, suit='Spades'),\n",
       " Card(rank=6, suit='Spades'),\n",
       " Card(rank=7, suit='Spades'),\n",
       " Card(rank=8, suit='Spades'),\n",
       " Card(rank=9, suit='Spades'),\n",
       " Card(rank=10, suit='Spades'),\n",
       " Card(rank='J', suit='Spades'),\n",
       " Card(rank='Q', suit='Spades'),\n",
       " Card(rank='K', suit='Spades'),\n",
       " Card(rank='A', suit='Spades'),\n",
       " Card(rank=2, suit='Hearts'),\n",
       " Card(rank=3, suit='Hearts'),\n",
       " Card(rank=4, suit='Hearts'),\n",
       " Card(rank=5, suit='Hearts'),\n",
       " Card(rank=6, suit='Hearts'),\n",
       " Card(rank=7, suit='Hearts'),\n",
       " Card(rank=8, suit='Hearts'),\n",
       " Card(rank=9, suit='Hearts'),\n",
       " Card(rank=10, suit='Hearts'),\n",
       " Card(rank='J', suit='Hearts'),\n",
       " Card(rank='Q', suit='Hearts'),\n",
       " Card(rank='K', suit='Hearts'),\n",
       " Card(rank='A', suit='Hearts'),\n",
       " Card(rank=2, suit='Diamonds'),\n",
       " Card(rank=3, suit='Diamonds'),\n",
       " Card(rank=4, suit='Diamonds'),\n",
       " Card(rank=5, suit='Diamonds'),\n",
       " Card(rank=6, suit='Diamonds'),\n",
       " Card(rank=7, suit='Diamonds'),\n",
       " Card(rank=8, suit='Diamonds'),\n",
       " Card(rank=9, suit='Diamonds'),\n",
       " Card(rank=10, suit='Diamonds'),\n",
       " Card(rank='J', suit='Diamonds'),\n",
       " Card(rank='Q', suit='Diamonds'),\n",
       " Card(rank='K', suit='Diamonds'),\n",
       " Card(rank='A', suit='Diamonds'),\n",
       " Card(rank=2, suit='Clubs'),\n",
       " Card(rank=3, suit='Clubs'),\n",
       " Card(rank=4, suit='Clubs'),\n",
       " Card(rank=5, suit='Clubs'),\n",
       " Card(rank=6, suit='Clubs'),\n",
       " Card(rank=7, suit='Clubs'),\n",
       " Card(rank=8, suit='Clubs'),\n",
       " Card(rank=9, suit='Clubs'),\n",
       " Card(rank=10, suit='Clubs'),\n",
       " Card(rank='J', suit='Clubs'),\n",
       " Card(rank='Q', suit='Clubs'),\n",
       " Card(rank='K', suit='Clubs'),\n",
       " Card(rank='A', suit='Clubs')]"
      ]
     },
     "execution_count": 162,
     "metadata": {},
     "output_type": "execute_result"
    }
   ],
   "source": [
    "list(deck)"
   ]
  },
  {
   "cell_type": "code",
   "execution_count": 163,
   "metadata": {},
   "outputs": [
    {
     "data": {
      "text/plain": [
       "[Card(rank=2, suit='Spades'),\n",
       " Card(rank=3, suit='Spades'),\n",
       " Card(rank=4, suit='Spades'),\n",
       " Card(rank=5, suit='Spades'),\n",
       " Card(rank=6, suit='Spades'),\n",
       " Card(rank=7, suit='Spades'),\n",
       " Card(rank=8, suit='Spades'),\n",
       " Card(rank=9, suit='Spades'),\n",
       " Card(rank=10, suit='Spades'),\n",
       " Card(rank='J', suit='Spades'),\n",
       " Card(rank='Q', suit='Spades'),\n",
       " Card(rank='K', suit='Spades'),\n",
       " Card(rank='A', suit='Spades'),\n",
       " Card(rank=2, suit='Hearts'),\n",
       " Card(rank=3, suit='Hearts'),\n",
       " Card(rank=4, suit='Hearts'),\n",
       " Card(rank=5, suit='Hearts'),\n",
       " Card(rank=6, suit='Hearts'),\n",
       " Card(rank=7, suit='Hearts'),\n",
       " Card(rank=8, suit='Hearts'),\n",
       " Card(rank=9, suit='Hearts'),\n",
       " Card(rank=10, suit='Hearts'),\n",
       " Card(rank='J', suit='Hearts'),\n",
       " Card(rank='Q', suit='Hearts'),\n",
       " Card(rank='K', suit='Hearts'),\n",
       " Card(rank='A', suit='Hearts'),\n",
       " Card(rank=2, suit='Diamonds'),\n",
       " Card(rank=3, suit='Diamonds'),\n",
       " Card(rank=4, suit='Diamonds'),\n",
       " Card(rank=5, suit='Diamonds'),\n",
       " Card(rank=6, suit='Diamonds'),\n",
       " Card(rank=7, suit='Diamonds'),\n",
       " Card(rank=8, suit='Diamonds'),\n",
       " Card(rank=9, suit='Diamonds'),\n",
       " Card(rank=10, suit='Diamonds'),\n",
       " Card(rank='J', suit='Diamonds'),\n",
       " Card(rank='Q', suit='Diamonds'),\n",
       " Card(rank='K', suit='Diamonds'),\n",
       " Card(rank='A', suit='Diamonds'),\n",
       " Card(rank=2, suit='Clubs'),\n",
       " Card(rank=3, suit='Clubs'),\n",
       " Card(rank=4, suit='Clubs'),\n",
       " Card(rank=5, suit='Clubs'),\n",
       " Card(rank=6, suit='Clubs'),\n",
       " Card(rank=7, suit='Clubs'),\n",
       " Card(rank=8, suit='Clubs'),\n",
       " Card(rank=9, suit='Clubs'),\n",
       " Card(rank=10, suit='Clubs'),\n",
       " Card(rank='J', suit='Clubs'),\n",
       " Card(rank='Q', suit='Clubs'),\n",
       " Card(rank='K', suit='Clubs'),\n",
       " Card(rank='A', suit='Clubs')]"
      ]
     },
     "execution_count": 163,
     "metadata": {},
     "output_type": "execute_result"
    }
   ],
   "source": [
    "list(deck)"
   ]
  },
  {
   "cell_type": "code",
   "execution_count": 164,
   "metadata": {},
   "outputs": [
    {
     "ename": "TypeError",
     "evalue": "'CardDeck' object is not reversible",
     "output_type": "error",
     "traceback": [
      "\u001b[1;31m---------------------------------------------------------------------------\u001b[0m",
      "\u001b[1;31mTypeError\u001b[0m                                 Traceback (most recent call last)",
      "\u001b[1;32m<ipython-input-164-00fa332c37fa>\u001b[0m in \u001b[0;36m<module>\u001b[1;34m\u001b[0m\n\u001b[1;32m----> 1\u001b[1;33m \u001b[0mreversed\u001b[0m\u001b[1;33m(\u001b[0m\u001b[0mCardDeck\u001b[0m\u001b[1;33m(\u001b[0m\u001b[1;33m)\u001b[0m\u001b[1;33m)\u001b[0m\u001b[1;33m\u001b[0m\u001b[1;33m\u001b[0m\u001b[0m\n\u001b[0m",
      "\u001b[1;31mTypeError\u001b[0m: 'CardDeck' object is not reversible"
     ]
    }
   ],
   "source": [
    "reversed(CardDeck())"
   ]
  },
  {
   "cell_type": "code",
   "execution_count": 165,
   "metadata": {},
   "outputs": [],
   "source": [
    "class CardDeck:\n",
    "    SUITS = ('Spades', 'Hearts', 'Diamonds', 'Clubs')\n",
    "    RANKS = tuple(range(2,11)) + tuple('JQKA')\n",
    "    \n",
    "    \n",
    "    def __iter__(self):\n",
    "        return CardDeck.card_gen()\n",
    "    \n",
    "    \n",
    "    def __reversed__(self):\n",
    "        return CardDeck.reversed_card_gen()\n",
    "        \n",
    "        \n",
    "        \n",
    "    @staticmethod    \n",
    "    def card_gen():\n",
    "        for suit in CardDeck.SUITS:\n",
    "            for rank in CardDeck.RANKS:\n",
    "                yield Card(rank, suit)\n",
    "                \n",
    "    @staticmethod            \n",
    "    def reversed_card_gen():\n",
    "        for suit in reversed(CardDeck.SUITS):\n",
    "            for rank in reversed(CardDeck.RANKS):\n",
    "                yield Card(rank,suit)"
   ]
  },
  {
   "cell_type": "code",
   "execution_count": 168,
   "metadata": {},
   "outputs": [
    {
     "data": {
      "text/plain": [
       "[Card(rank='A', suit='Clubs'),\n",
       " Card(rank='K', suit='Clubs'),\n",
       " Card(rank='Q', suit='Clubs'),\n",
       " Card(rank='J', suit='Clubs'),\n",
       " Card(rank=10, suit='Clubs'),\n",
       " Card(rank=9, suit='Clubs'),\n",
       " Card(rank=8, suit='Clubs'),\n",
       " Card(rank=7, suit='Clubs'),\n",
       " Card(rank=6, suit='Clubs'),\n",
       " Card(rank=5, suit='Clubs'),\n",
       " Card(rank=4, suit='Clubs'),\n",
       " Card(rank=3, suit='Clubs'),\n",
       " Card(rank=2, suit='Clubs'),\n",
       " Card(rank='A', suit='Diamonds'),\n",
       " Card(rank='K', suit='Diamonds'),\n",
       " Card(rank='Q', suit='Diamonds'),\n",
       " Card(rank='J', suit='Diamonds'),\n",
       " Card(rank=10, suit='Diamonds'),\n",
       " Card(rank=9, suit='Diamonds'),\n",
       " Card(rank=8, suit='Diamonds'),\n",
       " Card(rank=7, suit='Diamonds'),\n",
       " Card(rank=6, suit='Diamonds'),\n",
       " Card(rank=5, suit='Diamonds'),\n",
       " Card(rank=4, suit='Diamonds'),\n",
       " Card(rank=3, suit='Diamonds'),\n",
       " Card(rank=2, suit='Diamonds'),\n",
       " Card(rank='A', suit='Hearts'),\n",
       " Card(rank='K', suit='Hearts'),\n",
       " Card(rank='Q', suit='Hearts'),\n",
       " Card(rank='J', suit='Hearts'),\n",
       " Card(rank=10, suit='Hearts'),\n",
       " Card(rank=9, suit='Hearts'),\n",
       " Card(rank=8, suit='Hearts'),\n",
       " Card(rank=7, suit='Hearts'),\n",
       " Card(rank=6, suit='Hearts'),\n",
       " Card(rank=5, suit='Hearts'),\n",
       " Card(rank=4, suit='Hearts'),\n",
       " Card(rank=3, suit='Hearts'),\n",
       " Card(rank=2, suit='Hearts'),\n",
       " Card(rank='A', suit='Spades'),\n",
       " Card(rank='K', suit='Spades'),\n",
       " Card(rank='Q', suit='Spades'),\n",
       " Card(rank='J', suit='Spades'),\n",
       " Card(rank=10, suit='Spades'),\n",
       " Card(rank=9, suit='Spades'),\n",
       " Card(rank=8, suit='Spades'),\n",
       " Card(rank=7, suit='Spades'),\n",
       " Card(rank=6, suit='Spades'),\n",
       " Card(rank=5, suit='Spades'),\n",
       " Card(rank=4, suit='Spades'),\n",
       " Card(rank=3, suit='Spades'),\n",
       " Card(rank=2, suit='Spades')]"
      ]
     },
     "execution_count": 168,
     "metadata": {},
     "output_type": "execute_result"
    }
   ],
   "source": [
    "list(reversed(CardDeck()))"
   ]
  },
  {
   "cell_type": "code",
   "execution_count": 169,
   "metadata": {},
   "outputs": [],
   "source": [
    " l = [i**2 for i in range(5)]"
   ]
  },
  {
   "cell_type": "code",
   "execution_count": 170,
   "metadata": {},
   "outputs": [
    {
     "data": {
      "text/plain": [
       "[0, 1, 4, 9, 16]"
      ]
     },
     "execution_count": 170,
     "metadata": {},
     "output_type": "execute_result"
    }
   ],
   "source": [
    "l"
   ]
  },
  {
   "cell_type": "code",
   "execution_count": 171,
   "metadata": {},
   "outputs": [],
   "source": [
    "g = (i**2 for i in range(5))"
   ]
  },
  {
   "cell_type": "code",
   "execution_count": 172,
   "metadata": {},
   "outputs": [
    {
     "data": {
      "text/plain": [
       "generator"
      ]
     },
     "execution_count": 172,
     "metadata": {},
     "output_type": "execute_result"
    }
   ],
   "source": [
    "type(g)"
   ]
  },
  {
   "cell_type": "code",
   "execution_count": 173,
   "metadata": {},
   "outputs": [
    {
     "name": "stdout",
     "output_type": "stream",
     "text": [
      "0\n",
      "1\n",
      "4\n",
      "9\n",
      "16\n"
     ]
    }
   ],
   "source": [
    "for i in g:\n",
    "    print(i)"
   ]
  },
  {
   "cell_type": "code",
   "execution_count": 174,
   "metadata": {},
   "outputs": [
    {
     "data": {
      "text/plain": [
       "[]"
      ]
     },
     "execution_count": 174,
     "metadata": {},
     "output_type": "execute_result"
    }
   ],
   "source": [
    "list(g)"
   ]
  },
  {
   "cell_type": "code",
   "execution_count": 175,
   "metadata": {},
   "outputs": [],
   "source": [
    "import dis"
   ]
  },
  {
   "cell_type": "code",
   "execution_count": 176,
   "metadata": {},
   "outputs": [],
   "source": [
    "exp = compile('[i**2 for i in range(5)]',\n",
    "             filename = '<string>', mode = 'eval')"
   ]
  },
  {
   "cell_type": "code",
   "execution_count": 177,
   "metadata": {},
   "outputs": [
    {
     "name": "stdout",
     "output_type": "stream",
     "text": [
      "  1           0 LOAD_CONST               0 (<code object <listcomp> at 0x00000251AC0A25B0, file \"<string>\", line 1>)\n",
      "              2 LOAD_CONST               1 ('<listcomp>')\n",
      "              4 MAKE_FUNCTION            0\n",
      "              6 LOAD_NAME                0 (range)\n",
      "              8 LOAD_CONST               2 (5)\n",
      "             10 CALL_FUNCTION            1\n",
      "             12 GET_ITER\n",
      "             14 CALL_FUNCTION            1\n",
      "             16 RETURN_VALUE\n",
      "\n",
      "Disassembly of <code object <listcomp> at 0x00000251AC0A25B0, file \"<string>\", line 1>:\n",
      "  1           0 BUILD_LIST               0\n",
      "              2 LOAD_FAST                0 (.0)\n",
      "        >>    4 FOR_ITER                12 (to 18)\n",
      "              6 STORE_FAST               1 (i)\n",
      "              8 LOAD_FAST                1 (i)\n",
      "             10 LOAD_CONST               0 (2)\n",
      "             12 BINARY_POWER\n",
      "             14 LIST_APPEND              2\n",
      "             16 JUMP_ABSOLUTE            4\n",
      "        >>   18 RETURN_VALUE\n"
     ]
    }
   ],
   "source": [
    "dis.dis(exp)"
   ]
  },
  {
   "cell_type": "code",
   "execution_count": 178,
   "metadata": {},
   "outputs": [],
   "source": [
    "exp = compile('(i**2 for i in range(5))',\n",
    "             filename = '<string>', mode = 'eval')"
   ]
  },
  {
   "cell_type": "code",
   "execution_count": 179,
   "metadata": {},
   "outputs": [
    {
     "name": "stdout",
     "output_type": "stream",
     "text": [
      "  1           0 LOAD_CONST               0 (<code object <genexpr> at 0x00000251AC09F660, file \"<string>\", line 1>)\n",
      "              2 LOAD_CONST               1 ('<genexpr>')\n",
      "              4 MAKE_FUNCTION            0\n",
      "              6 LOAD_NAME                0 (range)\n",
      "              8 LOAD_CONST               2 (5)\n",
      "             10 CALL_FUNCTION            1\n",
      "             12 GET_ITER\n",
      "             14 CALL_FUNCTION            1\n",
      "             16 RETURN_VALUE\n",
      "\n",
      "Disassembly of <code object <genexpr> at 0x00000251AC09F660, file \"<string>\", line 1>:\n",
      "  1           0 LOAD_FAST                0 (.0)\n",
      "        >>    2 FOR_ITER                14 (to 18)\n",
      "              4 STORE_FAST               1 (i)\n",
      "              6 LOAD_FAST                1 (i)\n",
      "              8 LOAD_CONST               0 (2)\n",
      "             10 BINARY_POWER\n",
      "             12 YIELD_VALUE\n",
      "             14 POP_TOP\n",
      "             16 JUMP_ABSOLUTE            2\n",
      "        >>   18 LOAD_CONST               1 (None)\n",
      "             20 RETURN_VALUE\n"
     ]
    }
   ],
   "source": [
    "dis.dis(exp)"
   ]
  },
  {
   "cell_type": "code",
   "execution_count": 180,
   "metadata": {},
   "outputs": [],
   "source": [
    "l = [i**2 for i in range(5)]\n",
    "g = (i**2 for i in range(5))"
   ]
  },
  {
   "cell_type": "code",
   "execution_count": 181,
   "metadata": {},
   "outputs": [
    {
     "data": {
      "text/plain": [
       "[0, 1, 4, 9, 16]"
      ]
     },
     "execution_count": 181,
     "metadata": {},
     "output_type": "execute_result"
    }
   ],
   "source": [
    "list(l)"
   ]
  },
  {
   "cell_type": "code",
   "execution_count": 182,
   "metadata": {},
   "outputs": [
    {
     "data": {
      "text/plain": [
       "[0, 1, 4, 9, 16]"
      ]
     },
     "execution_count": 182,
     "metadata": {},
     "output_type": "execute_result"
    }
   ],
   "source": [
    "list(l)"
   ]
  },
  {
   "cell_type": "code",
   "execution_count": 183,
   "metadata": {},
   "outputs": [
    {
     "data": {
      "text/plain": [
       "[0, 1, 4, 9, 16]"
      ]
     },
     "execution_count": 183,
     "metadata": {},
     "output_type": "execute_result"
    }
   ],
   "source": [
    "list(g)"
   ]
  },
  {
   "cell_type": "code",
   "execution_count": 184,
   "metadata": {},
   "outputs": [
    {
     "data": {
      "text/plain": [
       "[]"
      ]
     },
     "execution_count": 184,
     "metadata": {},
     "output_type": "execute_result"
    }
   ],
   "source": [
    "list(g)"
   ]
  },
  {
   "cell_type": "code",
   "execution_count": 185,
   "metadata": {},
   "outputs": [],
   "source": [
    "start = 1\n",
    "stop = 10\n",
    "mult_lst = [[i*j \n",
    "             for j in range(start, stop +1)]\n",
    "           for i in range(start, stop +1)]"
   ]
  },
  {
   "cell_type": "code",
   "execution_count": 186,
   "metadata": {},
   "outputs": [
    {
     "data": {
      "text/plain": [
       "[[1, 2, 3, 4, 5, 6, 7, 8, 9, 10],\n",
       " [2, 4, 6, 8, 10, 12, 14, 16, 18, 20],\n",
       " [3, 6, 9, 12, 15, 18, 21, 24, 27, 30],\n",
       " [4, 8, 12, 16, 20, 24, 28, 32, 36, 40],\n",
       " [5, 10, 15, 20, 25, 30, 35, 40, 45, 50],\n",
       " [6, 12, 18, 24, 30, 36, 42, 48, 54, 60],\n",
       " [7, 14, 21, 28, 35, 42, 49, 56, 63, 70],\n",
       " [8, 16, 24, 32, 40, 48, 56, 64, 72, 80],\n",
       " [9, 18, 27, 36, 45, 54, 63, 72, 81, 90],\n",
       " [10, 20, 30, 40, 50, 60, 70, 80, 90, 100]]"
      ]
     },
     "execution_count": 186,
     "metadata": {},
     "output_type": "execute_result"
    }
   ],
   "source": [
    "mult_lst"
   ]
  },
  {
   "cell_type": "code",
   "execution_count": 187,
   "metadata": {},
   "outputs": [],
   "source": [
    "start = 1\n",
    "stop = 10\n",
    "mult_lst = ((i*j \n",
    "             for j in range(start, stop +1))\n",
    "           for i in range(start, stop +1))"
   ]
  },
  {
   "cell_type": "code",
   "execution_count": 188,
   "metadata": {},
   "outputs": [
    {
     "data": {
      "text/plain": [
       "<generator object <genexpr> at 0x00000251AC35BB30>"
      ]
     },
     "execution_count": 188,
     "metadata": {},
     "output_type": "execute_result"
    }
   ],
   "source": [
    "mult_lst"
   ]
  },
  {
   "cell_type": "code",
   "execution_count": 189,
   "metadata": {},
   "outputs": [
    {
     "data": {
      "text/plain": [
       "[<generator object <genexpr>.<genexpr> at 0x00000251AC35B190>,\n",
       " <generator object <genexpr>.<genexpr> at 0x00000251AC35B430>,\n",
       " <generator object <genexpr>.<genexpr> at 0x00000251AC35B0B0>,\n",
       " <generator object <genexpr>.<genexpr> at 0x00000251AC35BBA0>,\n",
       " <generator object <genexpr>.<genexpr> at 0x00000251AC35BC10>,\n",
       " <generator object <genexpr>.<genexpr> at 0x00000251AC35BD60>,\n",
       " <generator object <genexpr>.<genexpr> at 0x00000251AC35BDD0>,\n",
       " <generator object <genexpr>.<genexpr> at 0x00000251AC35BE40>,\n",
       " <generator object <genexpr>.<genexpr> at 0x00000251AC35BEB0>,\n",
       " <generator object <genexpr>.<genexpr> at 0x00000251AC35BF20>]"
      ]
     },
     "execution_count": 189,
     "metadata": {},
     "output_type": "execute_result"
    }
   ],
   "source": [
    "list(mult_lst)"
   ]
  },
  {
   "cell_type": "code",
   "execution_count": 190,
   "metadata": {},
   "outputs": [],
   "source": [
    "start = 1\n",
    "stop = 10\n",
    "mult_lst = ((i*j \n",
    "             for j in range(start, stop +1))\n",
    "           for i in range(start, stop +1))"
   ]
  },
  {
   "cell_type": "code",
   "execution_count": 191,
   "metadata": {},
   "outputs": [
    {
     "name": "stdout",
     "output_type": "stream",
     "text": [
      "1\n",
      "2\n",
      "3\n",
      "4\n",
      "5\n",
      "6\n",
      "7\n",
      "8\n",
      "9\n",
      "10\n",
      "2\n",
      "4\n",
      "6\n",
      "8\n",
      "10\n",
      "12\n",
      "14\n",
      "16\n",
      "18\n",
      "20\n",
      "3\n",
      "6\n",
      "9\n",
      "12\n",
      "15\n",
      "18\n",
      "21\n",
      "24\n",
      "27\n",
      "30\n",
      "4\n",
      "8\n",
      "12\n",
      "16\n",
      "20\n",
      "24\n",
      "28\n",
      "32\n",
      "36\n",
      "40\n",
      "5\n",
      "10\n",
      "15\n",
      "20\n",
      "25\n",
      "30\n",
      "35\n",
      "40\n",
      "45\n",
      "50\n",
      "6\n",
      "12\n",
      "18\n",
      "24\n",
      "30\n",
      "36\n",
      "42\n",
      "48\n",
      "54\n",
      "60\n",
      "7\n",
      "14\n",
      "21\n",
      "28\n",
      "35\n",
      "42\n",
      "49\n",
      "56\n",
      "63\n",
      "70\n",
      "8\n",
      "16\n",
      "24\n",
      "32\n",
      "40\n",
      "48\n",
      "56\n",
      "64\n",
      "72\n",
      "80\n",
      "9\n",
      "18\n",
      "27\n",
      "36\n",
      "45\n",
      "54\n",
      "63\n",
      "72\n",
      "81\n",
      "90\n",
      "10\n",
      "20\n",
      "30\n",
      "40\n",
      "50\n",
      "60\n",
      "70\n",
      "80\n",
      "90\n",
      "100\n"
     ]
    }
   ],
   "source": [
    "for row in mult_lst:\n",
    "    for item in row:\n",
    "        print(item)"
   ]
  },
  {
   "cell_type": "code",
   "execution_count": 195,
   "metadata": {},
   "outputs": [
    {
     "name": "stdout",
     "output_type": "stream",
     "text": [
      "1 2 3 4 5 6 7 8 9 10 \n",
      "2 4 6 8 10 12 14 16 18 20 \n",
      "3 6 9 12 15 18 21 24 27 30 \n",
      "4 8 12 16 20 24 28 32 36 40 \n",
      "5 10 15 20 25 30 35 40 45 50 \n",
      "6 12 18 24 30 36 42 48 54 60 \n",
      "7 14 21 28 35 42 49 56 63 70 \n",
      "8 16 24 32 40 48 56 64 72 80 \n",
      "9 18 27 36 45 54 63 72 81 90 \n",
      "10 20 30 40 50 60 70 80 90 100 \n"
     ]
    }
   ],
   "source": [
    "start = 1\n",
    "stop = 10\n",
    "mult_lst = ((i*j \n",
    "             for j in range(start, stop +1))\n",
    "           for i in range(start, stop +1))\n",
    "\n",
    "\n",
    "for row in mult_lst:\n",
    "    for item in row:\n",
    "        print(item,end = ' ')\n",
    "        \n",
    "    print('')"
   ]
  },
  {
   "cell_type": "code",
   "execution_count": 196,
   "metadata": {},
   "outputs": [],
   "source": [
    "start = 1\n",
    "stop = 10\n",
    "mult_lst = ([i*j \n",
    "             for j in range(start, stop +1)]\n",
    "           for i in range(start, stop +1))"
   ]
  },
  {
   "cell_type": "code",
   "execution_count": 197,
   "metadata": {},
   "outputs": [
    {
     "data": {
      "text/plain": [
       "[[1, 2, 3, 4, 5, 6, 7, 8, 9, 10],\n",
       " [2, 4, 6, 8, 10, 12, 14, 16, 18, 20],\n",
       " [3, 6, 9, 12, 15, 18, 21, 24, 27, 30],\n",
       " [4, 8, 12, 16, 20, 24, 28, 32, 36, 40],\n",
       " [5, 10, 15, 20, 25, 30, 35, 40, 45, 50],\n",
       " [6, 12, 18, 24, 30, 36, 42, 48, 54, 60],\n",
       " [7, 14, 21, 28, 35, 42, 49, 56, 63, 70],\n",
       " [8, 16, 24, 32, 40, 48, 56, 64, 72, 80],\n",
       " [9, 18, 27, 36, 45, 54, 63, 72, 81, 90],\n",
       " [10, 20, 30, 40, 50, 60, 70, 80, 90, 100]]"
      ]
     },
     "execution_count": 197,
     "metadata": {},
     "output_type": "execute_result"
    }
   ],
   "source": [
    "list(mult_lst)"
   ]
  },
  {
   "cell_type": "code",
   "execution_count": 198,
   "metadata": {},
   "outputs": [
    {
     "name": "stdout",
     "output_type": "stream",
     "text": [
      "[1, 2, 3, 4, 5, 6, 7, 8, 9, 10]\n",
      "[2, 4, 6, 8, 10, 12, 14, 16, 18, 20]\n",
      "[3, 6, 9, 12, 15, 18, 21, 24, 27, 30]\n",
      "[4, 8, 12, 16, 20, 24, 28, 32, 36, 40]\n",
      "[5, 10, 15, 20, 25, 30, 35, 40, 45, 50]\n",
      "[6, 12, 18, 24, 30, 36, 42, 48, 54, 60]\n",
      "[7, 14, 21, 28, 35, 42, 49, 56, 63, 70]\n",
      "[8, 16, 24, 32, 40, 48, 56, 64, 72, 80]\n",
      "[9, 18, 27, 36, 45, 54, 63, 72, 81, 90]\n",
      "[10, 20, 30, 40, 50, 60, 70, 80, 90, 100]\n"
     ]
    }
   ],
   "source": [
    "start = 1\n",
    "stop = 10\n",
    "mult_lst = ([i*j \n",
    "             for j in range(start, stop +1)]\n",
    "           for i in range(start, stop +1))\n",
    "\n",
    "\n",
    "for row in mult_lst:\n",
    "    print(row)"
   ]
  },
  {
   "cell_type": "code",
   "execution_count": 199,
   "metadata": {},
   "outputs": [],
   "source": [
    "from math import factorial"
   ]
  },
  {
   "cell_type": "code",
   "execution_count": 204,
   "metadata": {},
   "outputs": [],
   "source": [
    "def combo(n,k):\n",
    "    return factorial(n) // (factorial(k)* factorial(n-k))"
   ]
  },
  {
   "cell_type": "code",
   "execution_count": 205,
   "metadata": {},
   "outputs": [],
   "source": [
    "size = 10  #global var"
   ]
  },
  {
   "cell_type": "code",
   "execution_count": 206,
   "metadata": {},
   "outputs": [],
   "source": [
    "pascal = [[combo(n,k) for k in range(n+1)] for n in range(size+1)]"
   ]
  },
  {
   "cell_type": "code",
   "execution_count": 207,
   "metadata": {},
   "outputs": [
    {
     "data": {
      "text/plain": [
       "[[1],\n",
       " [1, 1],\n",
       " [1, 2, 1],\n",
       " [1, 3, 3, 1],\n",
       " [1, 4, 6, 4, 1],\n",
       " [1, 5, 10, 10, 5, 1],\n",
       " [1, 6, 15, 20, 15, 6, 1],\n",
       " [1, 7, 21, 35, 35, 21, 7, 1],\n",
       " [1, 8, 28, 56, 70, 56, 28, 8, 1],\n",
       " [1, 9, 36, 84, 126, 126, 84, 36, 9, 1],\n",
       " [1, 10, 45, 120, 210, 252, 210, 120, 45, 10, 1]]"
      ]
     },
     "execution_count": 207,
     "metadata": {},
     "output_type": "execute_result"
    }
   ],
   "source": [
    "pascal"
   ]
  },
  {
   "cell_type": "code",
   "execution_count": 208,
   "metadata": {},
   "outputs": [],
   "source": [
    "pascal = ((combo(n,k) for k in range(n+1)) for n in range(size+1))"
   ]
  },
  {
   "cell_type": "code",
   "execution_count": 209,
   "metadata": {},
   "outputs": [
    {
     "data": {
      "text/plain": [
       "[[1],\n",
       " [1, 1],\n",
       " [1, 2, 1],\n",
       " [1, 3, 3, 1],\n",
       " [1, 4, 6, 4, 1],\n",
       " [1, 5, 10, 10, 5, 1],\n",
       " [1, 6, 15, 20, 15, 6, 1],\n",
       " [1, 7, 21, 35, 35, 21, 7, 1],\n",
       " [1, 8, 28, 56, 70, 56, 28, 8, 1],\n",
       " [1, 9, 36, 84, 126, 126, 84, 36, 9, 1],\n",
       " [1, 10, 45, 120, 210, 252, 210, 120, 45, 10, 1]]"
      ]
     },
     "execution_count": 209,
     "metadata": {},
     "output_type": "execute_result"
    }
   ],
   "source": [
    "[list(row) for row in pascal]"
   ]
  },
  {
   "cell_type": "code",
   "execution_count": 210,
   "metadata": {},
   "outputs": [],
   "source": [
    "from timeit import timeit"
   ]
  },
  {
   "cell_type": "code",
   "execution_count": 211,
   "metadata": {},
   "outputs": [],
   "source": [
    "size = 600"
   ]
  },
  {
   "cell_type": "code",
   "execution_count": 213,
   "metadata": {},
   "outputs": [
    {
     "data": {
      "text/plain": [
       "12.836964200001603"
      ]
     },
     "execution_count": 213,
     "metadata": {},
     "output_type": "execute_result"
    }
   ],
   "source": [
    "timeit('[[combo(n,k) for k in range(n+1)] for n in range(size+1)]',\n",
    "       globals = globals(), number = 1)\n"
   ]
  },
  {
   "cell_type": "code",
   "execution_count": 217,
   "metadata": {},
   "outputs": [
    {
     "data": {
      "text/plain": [
       "3.6100000215810724e-05"
      ]
     },
     "execution_count": 217,
     "metadata": {},
     "output_type": "execute_result"
    }
   ],
   "source": [
    "timeit('((combo(n,k) for k in range(n+1)) for n in range(size+1))',\n",
    "       globals = globals(), number = 1)\n"
   ]
  },
  {
   "cell_type": "code",
   "execution_count": 216,
   "metadata": {},
   "outputs": [
    {
     "data": {
      "text/plain": [
       "1.06999996205559e-05"
      ]
     },
     "execution_count": 216,
     "metadata": {},
     "output_type": "execute_result"
    }
   ],
   "source": [
    "timeit('([combo(n,k) for k in range(n+1)] for n in range(size+1))',\n",
    "       globals = globals(), number = 1)\n"
   ]
  },
  {
   "cell_type": "code",
   "execution_count": 218,
   "metadata": {},
   "outputs": [],
   "source": [
    "size = 100_000"
   ]
  },
  {
   "cell_type": "code",
   "execution_count": 219,
   "metadata": {},
   "outputs": [
    {
     "data": {
      "text/plain": [
       "9.900000804918818e-06"
      ]
     },
     "execution_count": 219,
     "metadata": {},
     "output_type": "execute_result"
    }
   ],
   "source": [
    "timeit('([combo(n,k) for k in range(n+1)] for n in range(size+1))',\n",
    "       globals = globals(), number = 1)\n"
   ]
  },
  {
   "cell_type": "code",
   "execution_count": 220,
   "metadata": {},
   "outputs": [],
   "source": [
    "def pascal_list(size):\n",
    "    l = [[combo(n,k) for k in range(n+1)] for n in range(size+1)]\n",
    "    for row in l:\n",
    "        for i in row:\n",
    "            pass"
   ]
  },
  {
   "cell_type": "code",
   "execution_count": 221,
   "metadata": {},
   "outputs": [],
   "source": [
    "def pascal_gen(size):\n",
    "    g = ((combo(n,k) for k in range(n+1)) for n in range(size+1))\n",
    "    for row in g:\n",
    "        for i in row:\n",
    "            pass"
   ]
  },
  {
   "cell_type": "code",
   "execution_count": 222,
   "metadata": {},
   "outputs": [],
   "source": [
    "size = 600"
   ]
  },
  {
   "cell_type": "code",
   "execution_count": 225,
   "metadata": {},
   "outputs": [
    {
     "data": {
      "text/plain": [
       "12.112150200000542"
      ]
     },
     "execution_count": 225,
     "metadata": {},
     "output_type": "execute_result"
    }
   ],
   "source": [
    "timeit('pascal_list(size)', globals = globals(), number =1)"
   ]
  },
  {
   "cell_type": "code",
   "execution_count": 226,
   "metadata": {},
   "outputs": [
    {
     "data": {
      "text/plain": [
       "13.95074190000014"
      ]
     },
     "execution_count": 226,
     "metadata": {},
     "output_type": "execute_result"
    }
   ],
   "source": [
    "timeit('pascal_gen(size)', globals = globals(), number =1)"
   ]
  },
  {
   "cell_type": "code",
   "execution_count": 227,
   "metadata": {},
   "outputs": [],
   "source": [
    "import tracemalloc"
   ]
  },
  {
   "cell_type": "code",
   "execution_count": 228,
   "metadata": {},
   "outputs": [],
   "source": [
    "def pascal_list(size):\n",
    "    l = [[combo(n,k) for k in range(n+1)] for n in range(size+1)]\n",
    "    for row in l:\n",
    "        for i in row:\n",
    "            pass\n",
    "        \n",
    "        \n",
    "    stats = tracemalloc.take_snapshot().statistics('lineno')\n",
    "    print(stats[0].size, 'bytes')\n",
    "    "
   ]
  },
  {
   "cell_type": "code",
   "execution_count": 229,
   "metadata": {},
   "outputs": [],
   "source": [
    "def pascal_gen(size):\n",
    "    g = ((combo(n,k) for k in range(n+1)) for n in range(size+1))\n",
    "    for row in g:\n",
    "        for i in row:\n",
    "            pass\n",
    "    stats = tracemalloc.take_snapshot().statistics('lineno')\n",
    "    print(stats[0].size, 'bytes')\n",
    "        \n",
    "    "
   ]
  },
  {
   "cell_type": "code",
   "execution_count": 230,
   "metadata": {},
   "outputs": [
    {
     "name": "stdout",
     "output_type": "stream",
     "text": [
      "1998608 bytes\n"
     ]
    }
   ],
   "source": [
    "tracemalloc.stop()\n",
    "tracemalloc.clear_traces()\n",
    "tracemalloc.start()\n",
    "pascal_list(300)"
   ]
  },
  {
   "cell_type": "markdown",
   "metadata": {},
   "source": [
    "1998608/1024/1024"
   ]
  },
  {
   "cell_type": "raw",
   "metadata": {},
   "source": []
  },
  {
   "cell_type": "code",
   "execution_count": 231,
   "metadata": {},
   "outputs": [
    {
     "data": {
      "text/plain": [
       "1.9060211181640625"
      ]
     },
     "execution_count": 231,
     "metadata": {},
     "output_type": "execute_result"
    }
   ],
   "source": [
    "1998608/1024/1024"
   ]
  },
  {
   "cell_type": "code",
   "execution_count": 232,
   "metadata": {},
   "outputs": [
    {
     "name": "stdout",
     "output_type": "stream",
     "text": [
      "268 bytes\n"
     ]
    }
   ],
   "source": [
    "tracemalloc.stop()\n",
    "tracemalloc.clear_traces()\n",
    "tracemalloc.start()\n",
    "pascal_gen(300)"
   ]
  },
  {
   "cell_type": "code",
   "execution_count": 233,
   "metadata": {},
   "outputs": [],
   "source": [
    "def matrix(n):\n",
    "    gen = ( (i*j for j in range(1,n+1))\n",
    "    for i in range(1,n+1))\n",
    "    return gen"
   ]
  },
  {
   "cell_type": "code",
   "execution_count": 234,
   "metadata": {},
   "outputs": [],
   "source": [
    "m = list(matrix(5))"
   ]
  },
  {
   "cell_type": "code",
   "execution_count": 235,
   "metadata": {},
   "outputs": [
    {
     "data": {
      "text/plain": [
       "[<generator object matrix.<locals>.<genexpr>.<genexpr> at 0x00000251AC373350>,\n",
       " <generator object matrix.<locals>.<genexpr>.<genexpr> at 0x00000251AC3735F0>,\n",
       " <generator object matrix.<locals>.<genexpr>.<genexpr> at 0x00000251AC373C10>,\n",
       " <generator object matrix.<locals>.<genexpr>.<genexpr> at 0x00000251AC3C22E0>,\n",
       " <generator object matrix.<locals>.<genexpr>.<genexpr> at 0x00000251AC3C23C0>]"
      ]
     },
     "execution_count": 235,
     "metadata": {},
     "output_type": "execute_result"
    }
   ],
   "source": [
    "m"
   ]
  },
  {
   "cell_type": "code",
   "execution_count": 236,
   "metadata": {},
   "outputs": [],
   "source": [
    "def matrix_iter(n):\n",
    "    for row in matrix(n):\n",
    "        for i in row:\n",
    "            yield i"
   ]
  },
  {
   "cell_type": "code",
   "execution_count": 237,
   "metadata": {},
   "outputs": [
    {
     "name": "stdout",
     "output_type": "stream",
     "text": [
      "1\n",
      "2\n",
      "3\n",
      "2\n",
      "4\n",
      "6\n",
      "3\n",
      "6\n",
      "9\n"
     ]
    }
   ],
   "source": [
    "for i in matrix_iter(3):\n",
    "    print(i)"
   ]
  },
  {
   "cell_type": "code",
   "execution_count": 238,
   "metadata": {},
   "outputs": [],
   "source": [
    "def matrix_iter(n):\n",
    "    for row in matrix(n):\n",
    "        yield from row"
   ]
  },
  {
   "cell_type": "code",
   "execution_count": 239,
   "metadata": {},
   "outputs": [
    {
     "name": "stdout",
     "output_type": "stream",
     "text": [
      "1\n",
      "2\n",
      "3\n",
      "2\n",
      "4\n",
      "6\n",
      "3\n",
      "6\n",
      "9\n"
     ]
    }
   ],
   "source": [
    "for i in matrix_iter(3):\n",
    "    print(i)"
   ]
  },
  {
   "cell_type": "code",
   "execution_count": 240,
   "metadata": {},
   "outputs": [],
   "source": [
    "file_1 = 'car-brands-1.txt'\n",
    "file_2 = 'car-brands-2.txt'\n",
    "file_3 = 'car-brands-3.txt'\n",
    "files = file_1,file_2,file_3"
   ]
  },
  {
   "cell_type": "code",
   "execution_count": 241,
   "metadata": {},
   "outputs": [],
   "source": [
    "brands = []\n",
    "\n",
    "with open(file_1) as f:\n",
    "    for brand in f:\n",
    "        brands.append(brand.strip('\\n'))\n",
    "        \n",
    "        \n",
    "\n",
    "with open(file_2) as f:\n",
    "    for brand in f:\n",
    "        brands.append(brand.strip('\\n'))\n",
    "        \n",
    "        \n",
    "        \n",
    "\n",
    "with open(file_3) as f:\n",
    "    for brand in f:\n",
    "        brands.append(brand.strip('\\n'))\n",
    "        "
   ]
  },
  {
   "cell_type": "code",
   "execution_count": 242,
   "metadata": {},
   "outputs": [
    {
     "data": {
      "text/plain": [
       "['Alfa Romeo',\n",
       " 'Aston Martin',\n",
       " 'Audi',\n",
       " 'Bentley',\n",
       " 'Benz',\n",
       " 'BMW',\n",
       " 'Bugatti',\n",
       " 'Cadillac',\n",
       " 'Chevrolet',\n",
       " 'Chrysler',\n",
       " 'Citroën',\n",
       " 'Corvette',\n",
       " 'DAF',\n",
       " 'Dacia',\n",
       " 'Daewoo',\n",
       " 'Daihatsu',\n",
       " 'Datsun',\n",
       " 'De Lorean',\n",
       " 'Dino',\n",
       " 'Dodge',\n",
       " 'Farboud',\n",
       " 'Ferrari',\n",
       " 'Fiat',\n",
       " 'Ford',\n",
       " 'Honda',\n",
       " 'Hummer',\n",
       " 'Hyundai',\n",
       " 'Jaguar',\n",
       " 'Jeep',\n",
       " 'KIA',\n",
       " 'Koenigsegg',\n",
       " 'Lada',\n",
       " 'Lamborghini',\n",
       " 'Lancia',\n",
       " 'Land Rover',\n",
       " 'Lexus',\n",
       " 'Ligier',\n",
       " 'Lincoln',\n",
       " 'Lotus',\n",
       " 'Martini',\n",
       " 'Maserati',\n",
       " 'Maybach',\n",
       " 'Mazda',\n",
       " 'McLaren',\n",
       " 'Mercedes-Benz',\n",
       " 'Mini',\n",
       " 'Mitsubishi',\n",
       " 'Nissan',\n",
       " 'Noble',\n",
       " 'Opel',\n",
       " 'Peugeot',\n",
       " 'Pontiac',\n",
       " 'Porsche',\n",
       " 'Renault',\n",
       " 'Rolls-Royce',\n",
       " 'Saab',\n",
       " 'Seat',\n",
       " 'Å\\xa0koda',\n",
       " 'Smart',\n",
       " 'Spyker',\n",
       " 'Subaru',\n",
       " 'Suzuki',\n",
       " 'Toyota',\n",
       " 'Vauxhall',\n",
       " 'Volkswagen',\n",
       " 'Volvo']"
      ]
     },
     "execution_count": 242,
     "metadata": {},
     "output_type": "execute_result"
    }
   ],
   "source": [
    "brands"
   ]
  },
  {
   "cell_type": "code",
   "execution_count": 243,
   "metadata": {},
   "outputs": [
    {
     "name": "stdout",
     "output_type": "stream",
     "text": [
      "Alfa Romeo\n",
      "Aston Martin\n",
      "Audi\n",
      "Bentley\n",
      "Benz\n",
      "BMW\n",
      "Bugatti\n",
      "Cadillac\n",
      "Chevrolet\n",
      "Chrysler\n",
      "Citroën\n",
      "Corvette\n",
      "DAF\n",
      "Dacia\n",
      "Daewoo\n",
      "Daihatsu\n",
      "Datsun\n",
      "De Lorean\n",
      "Dino\n",
      "Dodge\n",
      "Farboud\n",
      "Ferrari\n",
      "Fiat\n",
      "Ford\n",
      "Honda\n",
      "Hummer\n",
      "Hyundai\n",
      "Jaguar\n",
      "Jeep\n",
      "KIA\n",
      "Koenigsegg\n",
      "Lada\n",
      "Lamborghini\n",
      "Lancia\n",
      "Land Rover\n",
      "Lexus\n",
      "Ligier\n",
      "Lincoln\n",
      "Lotus\n",
      "Martini\n",
      "Maserati\n",
      "Maybach\n",
      "Mazda\n",
      "McLaren\n",
      "Mercedes-Benz\n",
      "Mini\n",
      "Mitsubishi\n",
      "Nissan\n",
      "Noble\n",
      "Opel\n",
      "Peugeot\n",
      "Pontiac\n",
      "Porsche\n",
      "Renault\n",
      "Rolls-Royce\n",
      "Saab\n",
      "Seat\n",
      "Å koda\n",
      "Smart\n",
      "Spyker\n",
      "Subaru\n",
      "Suzuki\n",
      "Toyota\n",
      "Vauxhall\n",
      "Volkswagen\n",
      "Volvo\n"
     ]
    }
   ],
   "source": [
    "for brand in brands:\n",
    "    print(brand)"
   ]
  },
  {
   "cell_type": "code",
   "execution_count": 244,
   "metadata": {},
   "outputs": [],
   "source": [
    "def brands(*files):\n",
    "    for f_name in files:\n",
    "        with open(f_name) as f:\n",
    "            for line in f:\n",
    "                yield line.strip('\\n')"
   ]
  },
  {
   "cell_type": "code",
   "execution_count": 245,
   "metadata": {},
   "outputs": [
    {
     "name": "stdout",
     "output_type": "stream",
     "text": [
      "Alfa Romeo\n",
      "Aston Martin\n",
      "Audi\n",
      "Bentley\n",
      "Benz\n",
      "BMW\n",
      "Bugatti\n",
      "Cadillac\n",
      "Chevrolet\n",
      "Chrysler\n",
      "Citroën\n",
      "Corvette\n",
      "DAF\n",
      "Dacia\n",
      "Daewoo\n",
      "Daihatsu\n",
      "Datsun\n",
      "De Lorean\n",
      "Dino\n",
      "Dodge\n",
      "Farboud\n",
      "Ferrari\n",
      "Fiat\n",
      "Ford\n",
      "Honda\n",
      "Hummer\n",
      "Hyundai\n",
      "Jaguar\n",
      "Jeep\n",
      "KIA\n",
      "Koenigsegg\n",
      "Lada\n",
      "Lamborghini\n",
      "Lancia\n",
      "Land Rover\n",
      "Lexus\n",
      "Ligier\n",
      "Lincoln\n",
      "Lotus\n",
      "Martini\n",
      "Maserati\n",
      "Maybach\n",
      "Mazda\n",
      "McLaren\n",
      "Mercedes-Benz\n",
      "Mini\n",
      "Mitsubishi\n",
      "Nissan\n",
      "Noble\n",
      "Opel\n",
      "Peugeot\n",
      "Pontiac\n",
      "Porsche\n",
      "Renault\n",
      "Rolls-Royce\n",
      "Saab\n",
      "Seat\n",
      "Å koda\n",
      "Smart\n",
      "Spyker\n",
      "Subaru\n",
      "Suzuki\n",
      "Toyota\n",
      "Vauxhall\n",
      "Volkswagen\n",
      "Volvo\n"
     ]
    }
   ],
   "source": [
    "for brand in brands(*files):\n",
    "    print(brand)"
   ]
  },
  {
   "cell_type": "code",
   "execution_count": 254,
   "metadata": {},
   "outputs": [],
   "source": [
    "def gen_clean_data(file):\n",
    "    with open(file) as f:\n",
    "        for row in f:\n",
    "            yield row.strip('\\n')"
   ]
  },
  {
   "cell_type": "code",
   "execution_count": 250,
   "metadata": {},
   "outputs": [],
   "source": [
    "def brands(*files):\n",
    "    for f_name in files:\n",
    "        cleaned_data = gen_clean_data(f_name)\n",
    "        for line in cleaned_data:\n",
    "            yield line"
   ]
  },
  {
   "cell_type": "code",
   "execution_count": 251,
   "metadata": {},
   "outputs": [
    {
     "data": {
      "text/plain": [
       "['Alfa Romeo',\n",
       " 'Aston Martin',\n",
       " 'Audi',\n",
       " 'Bentley',\n",
       " 'Benz',\n",
       " 'BMW',\n",
       " 'Bugatti',\n",
       " 'Cadillac',\n",
       " 'Chevrolet',\n",
       " 'Chrysler',\n",
       " 'Citroën',\n",
       " 'Corvette',\n",
       " 'DAF',\n",
       " 'Dacia',\n",
       " 'Daewoo',\n",
       " 'Daihatsu',\n",
       " 'Datsun',\n",
       " 'De Lorean',\n",
       " 'Dino',\n",
       " 'Dodge',\n",
       " 'Farboud',\n",
       " 'Ferrari',\n",
       " 'Fiat',\n",
       " 'Ford',\n",
       " 'Honda',\n",
       " 'Hummer',\n",
       " 'Hyundai',\n",
       " 'Jaguar',\n",
       " 'Jeep',\n",
       " 'KIA',\n",
       " 'Koenigsegg',\n",
       " 'Lada',\n",
       " 'Lamborghini',\n",
       " 'Lancia',\n",
       " 'Land Rover',\n",
       " 'Lexus',\n",
       " 'Ligier',\n",
       " 'Lincoln',\n",
       " 'Lotus',\n",
       " 'Martini',\n",
       " 'Maserati',\n",
       " 'Maybach',\n",
       " 'Mazda',\n",
       " 'McLaren',\n",
       " 'Mercedes-Benz',\n",
       " 'Mini',\n",
       " 'Mitsubishi',\n",
       " 'Nissan',\n",
       " 'Noble',\n",
       " 'Opel',\n",
       " 'Peugeot',\n",
       " 'Pontiac',\n",
       " 'Porsche',\n",
       " 'Renault',\n",
       " 'Rolls-Royce',\n",
       " 'Saab',\n",
       " 'Seat',\n",
       " 'Å\\xa0koda',\n",
       " 'Smart',\n",
       " 'Spyker',\n",
       " 'Subaru',\n",
       " 'Suzuki',\n",
       " 'Toyota',\n",
       " 'Vauxhall',\n",
       " 'Volkswagen',\n",
       " 'Volvo']"
      ]
     },
     "execution_count": 251,
     "metadata": {},
     "output_type": "execute_result"
    }
   ],
   "source": [
    "list(brands(*files))"
   ]
  },
  {
   "cell_type": "code",
   "execution_count": 257,
   "metadata": {},
   "outputs": [],
   "source": [
    "def brands(*files):\n",
    "    for f_name in files:\n",
    "        yield from gen_clean_data(f_name)"
   ]
  },
  {
   "cell_type": "code",
   "execution_count": 258,
   "metadata": {},
   "outputs": [
    {
     "data": {
      "text/plain": [
       "['Alfa Romeo',\n",
       " 'Aston Martin',\n",
       " 'Audi',\n",
       " 'Bentley',\n",
       " 'Benz',\n",
       " 'BMW',\n",
       " 'Bugatti',\n",
       " 'Cadillac',\n",
       " 'Chevrolet',\n",
       " 'Chrysler',\n",
       " 'Citroën',\n",
       " 'Corvette',\n",
       " 'DAF',\n",
       " 'Dacia',\n",
       " 'Daewoo',\n",
       " 'Daihatsu',\n",
       " 'Datsun',\n",
       " 'De Lorean',\n",
       " 'Dino',\n",
       " 'Dodge',\n",
       " 'Farboud',\n",
       " 'Ferrari',\n",
       " 'Fiat',\n",
       " 'Ford',\n",
       " 'Honda',\n",
       " 'Hummer',\n",
       " 'Hyundai',\n",
       " 'Jaguar',\n",
       " 'Jeep',\n",
       " 'KIA',\n",
       " 'Koenigsegg',\n",
       " 'Lada',\n",
       " 'Lamborghini',\n",
       " 'Lancia',\n",
       " 'Land Rover',\n",
       " 'Lexus',\n",
       " 'Ligier',\n",
       " 'Lincoln',\n",
       " 'Lotus',\n",
       " 'Martini',\n",
       " 'Maserati',\n",
       " 'Maybach',\n",
       " 'Mazda',\n",
       " 'McLaren',\n",
       " 'Mercedes-Benz',\n",
       " 'Mini',\n",
       " 'Mitsubishi',\n",
       " 'Nissan',\n",
       " 'Noble',\n",
       " 'Opel',\n",
       " 'Peugeot',\n",
       " 'Pontiac',\n",
       " 'Porsche',\n",
       " 'Renault',\n",
       " 'Rolls-Royce',\n",
       " 'Saab',\n",
       " 'Seat',\n",
       " 'Å\\xa0koda',\n",
       " 'Smart',\n",
       " 'Spyker',\n",
       " 'Subaru',\n",
       " 'Suzuki',\n",
       " 'Toyota',\n",
       " 'Vauxhall',\n",
       " 'Volkswagen',\n",
       " 'Volvo']"
      ]
     },
     "execution_count": 258,
     "metadata": {},
     "output_type": "execute_result"
    }
   ],
   "source": [
    "list(brands(*files))"
   ]
  },
  {
   "cell_type": "code",
   "execution_count": null,
   "metadata": {},
   "outputs": [],
   "source": []
  }
 ],
 "metadata": {
  "kernelspec": {
   "display_name": "Python 3",
   "language": "python",
   "name": "python3"
  },
  "language_info": {
   "codemirror_mode": {
    "name": "ipython",
    "version": 3
   },
   "file_extension": ".py",
   "mimetype": "text/x-python",
   "name": "python",
   "nbconvert_exporter": "python",
   "pygments_lexer": "ipython3",
   "version": "3.9.0"
  }
 },
 "nbformat": 4,
 "nbformat_minor": 4
}
