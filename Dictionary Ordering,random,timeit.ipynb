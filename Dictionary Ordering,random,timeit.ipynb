{
 "cells": [
  {
   "cell_type": "code",
   "execution_count": 1,
   "metadata": {},
   "outputs": [],
   "source": [
    "from sys import version_info"
   ]
  },
  {
   "cell_type": "code",
   "execution_count": 2,
   "metadata": {},
   "outputs": [
    {
     "data": {
      "text/plain": [
       "sys.version_info(major=3, minor=9, micro=0, releaselevel='final', serial=0)"
      ]
     },
     "execution_count": 2,
     "metadata": {},
     "output_type": "execute_result"
    }
   ],
   "source": [
    "version_info"
   ]
  },
  {
   "cell_type": "code",
   "execution_count": 5,
   "metadata": {},
   "outputs": [],
   "source": [
    " d = {'b' : 1 , 'a' : 2}"
   ]
  },
  {
   "cell_type": "code",
   "execution_count": 6,
   "metadata": {},
   "outputs": [
    {
     "data": {
      "text/plain": [
       "(dict_keys(['b', 'a']), dict_values([1, 2]), dict_items([('b', 1), ('a', 2)]))"
      ]
     },
     "execution_count": 6,
     "metadata": {},
     "output_type": "execute_result"
    }
   ],
   "source": [
    "d.keys(), d.values(), d.items()"
   ]
  },
  {
   "cell_type": "code",
   "execution_count": 7,
   "metadata": {},
   "outputs": [],
   "source": [
    "d['x'] = 3"
   ]
  },
  {
   "cell_type": "code",
   "execution_count": 8,
   "metadata": {},
   "outputs": [
    {
     "data": {
      "text/plain": [
       "(dict_keys(['b', 'a', 'x']),\n",
       " dict_values([1, 2, 3]),\n",
       " dict_items([('b', 1), ('a', 2), ('x', 3)]))"
      ]
     },
     "execution_count": 8,
     "metadata": {},
     "output_type": "execute_result"
    }
   ],
   "source": [
    "d.keys(), d.values(), d.items()"
   ]
  },
  {
   "cell_type": "code",
   "execution_count": 9,
   "metadata": {},
   "outputs": [],
   "source": [
    "del d['a']"
   ]
  },
  {
   "cell_type": "code",
   "execution_count": 10,
   "metadata": {},
   "outputs": [
    {
     "data": {
      "text/plain": [
       "dict_items([('b', 1), ('x', 3)])"
      ]
     },
     "execution_count": 10,
     "metadata": {},
     "output_type": "execute_result"
    }
   ],
   "source": [
    "d.items()"
   ]
  },
  {
   "cell_type": "code",
   "execution_count": 11,
   "metadata": {},
   "outputs": [],
   "source": [
    "d['a'] = 1"
   ]
  },
  {
   "cell_type": "code",
   "execution_count": 12,
   "metadata": {},
   "outputs": [
    {
     "data": {
      "text/plain": [
       "dict_items([('b', 1), ('x', 3), ('a', 1)])"
      ]
     },
     "execution_count": 12,
     "metadata": {},
     "output_type": "execute_result"
    }
   ],
   "source": [
    "d.items()"
   ]
  },
  {
   "cell_type": "code",
   "execution_count": 13,
   "metadata": {},
   "outputs": [
    {
     "data": {
      "text/plain": [
       "dict_items([('b', 1), ('x', 3), ('a', 1)])"
      ]
     },
     "execution_count": 13,
     "metadata": {},
     "output_type": "execute_result"
    }
   ],
   "source": [
    "d.items()"
   ]
  },
  {
   "cell_type": "code",
   "execution_count": 14,
   "metadata": {},
   "outputs": [
    {
     "data": {
      "text/plain": [
       "{'b': 1, 'x': 3, 'a': 1}"
      ]
     },
     "execution_count": 14,
     "metadata": {},
     "output_type": "execute_result"
    }
   ],
   "source": [
    "d"
   ]
  },
  {
   "cell_type": "code",
   "execution_count": 15,
   "metadata": {},
   "outputs": [
    {
     "name": "stdout",
     "output_type": "stream",
     "text": [
      "{'b': 1, 'x': 3, 'a': 1}\n"
     ]
    }
   ],
   "source": [
    "print(d)"
   ]
  },
  {
   "cell_type": "code",
   "execution_count": 17,
   "metadata": {},
   "outputs": [
    {
     "data": {
      "text/plain": [
       "('a', 1)"
      ]
     },
     "execution_count": 17,
     "metadata": {},
     "output_type": "execute_result"
    }
   ],
   "source": [
    "d.popitem()"
   ]
  },
  {
   "cell_type": "code",
   "execution_count": 18,
   "metadata": {},
   "outputs": [
    {
     "data": {
      "text/plain": [
       "{'b': 1, 'x': 3}"
      ]
     },
     "execution_count": 18,
     "metadata": {},
     "output_type": "execute_result"
    }
   ],
   "source": [
    "d"
   ]
  },
  {
   "cell_type": "code",
   "execution_count": 19,
   "metadata": {},
   "outputs": [],
   "source": [
    "d1 = {'a':1, 'b':200}"
   ]
  },
  {
   "cell_type": "code",
   "execution_count": 20,
   "metadata": {},
   "outputs": [],
   "source": [
    "d2 = {'a':100, 'd': 300, 'c':400}"
   ]
  },
  {
   "cell_type": "code",
   "execution_count": 21,
   "metadata": {},
   "outputs": [],
   "source": [
    "d1.update(d2)"
   ]
  },
  {
   "cell_type": "code",
   "execution_count": 22,
   "metadata": {},
   "outputs": [
    {
     "data": {
      "text/plain": [
       "{'a': 100, 'b': 200, 'd': 300, 'c': 400}"
      ]
     },
     "execution_count": 22,
     "metadata": {},
     "output_type": "execute_result"
    }
   ],
   "source": [
    "d1"
   ]
  },
  {
   "cell_type": "code",
   "execution_count": 23,
   "metadata": {},
   "outputs": [],
   "source": [
    "##moved to end with last=True"
   ]
  },
  {
   "cell_type": "code",
   "execution_count": 24,
   "metadata": {},
   "outputs": [
    {
     "name": "stdout",
     "output_type": "stream",
     "text": [
      "start {'a': 1, 'b': 2, 'c': 3}\n",
      "moved to end {'b': 2, 'c': 3, 'a': 1}\n"
     ]
    }
   ],
   "source": [
    "d = {'a':1, 'b':2, 'c':3}\n",
    "print('start',d)\n",
    "d['a']=d.pop('a')\n",
    "print('moved to end', d)"
   ]
  },
  {
   "cell_type": "code",
   "execution_count": 25,
   "metadata": {},
   "outputs": [],
   "source": [
    "##moved to end()(last=False)"
   ]
  },
  {
   "cell_type": "code",
   "execution_count": 28,
   "metadata": {},
   "outputs": [
    {
     "name": "stdout",
     "output_type": "stream",
     "text": [
      "start {'a': 1, 'b': 2, 'c': 3, 'x': 100, 'y': 200}\n",
      "moved c to end {'a': 1, 'b': 2, 'x': 100, 'y': 200, 'c': 3}\n",
      "moved {'c': 3, 'a': 1, 'b': 2, 'x': 100, 'y': 200}\n"
     ]
    }
   ],
   "source": [
    "d = {'a':1, 'b':2, 'c':3, 'x':100, 'y':200}\n",
    "print('start',d)\n",
    "d['c'] = d.pop('c')\n",
    "print('moved c to end',d)\n",
    "for i in range(len(d)-1):\n",
    "    key = next(iter(d.keys()))\n",
    "    d[key] = d.pop(key)\n",
    "print('moved',d)"
   ]
  },
  {
   "cell_type": "code",
   "execution_count": 29,
   "metadata": {},
   "outputs": [],
   "source": [
    "##pop last item"
   ]
  },
  {
   "cell_type": "code",
   "execution_count": 30,
   "metadata": {},
   "outputs": [
    {
     "name": "stdout",
     "output_type": "stream",
     "text": [
      "start {'a': 1, 'b': 2, 'c': 3, 'x': 100, 'y': 200}\n",
      "{'a': 1, 'b': 2, 'c': 3, 'x': 100}\n"
     ]
    }
   ],
   "source": [
    "d = {'a':1, 'b':2, 'c':3, 'x':100, 'y':200}\n",
    "print('start',d)\n",
    "d.popitem()\n",
    "print(d)"
   ]
  },
  {
   "cell_type": "code",
   "execution_count": 31,
   "metadata": {},
   "outputs": [],
   "source": [
    "##pop first item"
   ]
  },
  {
   "cell_type": "code",
   "execution_count": 33,
   "metadata": {},
   "outputs": [
    {
     "name": "stdout",
     "output_type": "stream",
     "text": [
      "start {'a': 1, 'b': 2, 'c': 3, 'x': 100, 'y': 200}\n",
      "after pop {'b': 2, 'c': 3, 'x': 100, 'y': 200}\n"
     ]
    }
   ],
   "source": [
    "d = {'a':1, 'b':2, 'c':3, 'x':100, 'y':200}\n",
    "print('start',d)\n",
    "d.pop(key)\n",
    "print('after pop', d)"
   ]
  },
  {
   "cell_type": "code",
   "execution_count": 34,
   "metadata": {},
   "outputs": [],
   "source": [
    "def fun(**kwargs):\n",
    "    for item in kwargs.items():\n",
    "        print(item)"
   ]
  },
  {
   "cell_type": "code",
   "execution_count": 35,
   "metadata": {},
   "outputs": [
    {
     "name": "stdout",
     "output_type": "stream",
     "text": [
      "('b', 100)\n",
      "('a', 100)\n",
      "('y', 'hello')\n",
      "('p', 'python')\n"
     ]
    }
   ],
   "source": [
    "fun(b=100, a=100, y ='hello', p = 'python')"
   ]
  },
  {
   "cell_type": "code",
   "execution_count": 36,
   "metadata": {},
   "outputs": [],
   "source": [
    "from collections import namedtuple"
   ]
  },
  {
   "cell_type": "code",
   "execution_count": 37,
   "metadata": {},
   "outputs": [],
   "source": [
    "def def_namedtuple(class_name, **fields):\n",
    "    Struct = namedtuple('Struct', fields.keys())\n",
    "    Struct.__new__.__defaults__ = tuple(fields.values())\n",
    "    return Struct"
   ]
  },
  {
   "cell_type": "code",
   "execution_count": 41,
   "metadata": {},
   "outputs": [],
   "source": [
    "Vector2D = def_namedtuple('Vector2D', \n",
    "                         x1 = None,\n",
    "                         x2 = None,\n",
    "                         y1 = None,\n",
    "                         y2= None,\n",
    "                         origin_x = 0, origin_y = 0)"
   ]
  },
  {
   "cell_type": "code",
   "execution_count": 43,
   "metadata": {},
   "outputs": [
    {
     "data": {
      "text/plain": [
       "('x1', 'x2', 'y1', 'y2', 'origin_x', 'origin_y')"
      ]
     },
     "execution_count": 43,
     "metadata": {},
     "output_type": "execute_result"
    }
   ],
   "source": [
    "Vector2D._fields"
   ]
  },
  {
   "cell_type": "code",
   "execution_count": 44,
   "metadata": {},
   "outputs": [],
   "source": [
    "v1 = Vector2D(10,10,20,20)"
   ]
  },
  {
   "cell_type": "code",
   "execution_count": 45,
   "metadata": {},
   "outputs": [
    {
     "data": {
      "text/plain": [
       "Struct(x1=10, x2=10, y1=20, y2=20, origin_x=0, origin_y=0)"
      ]
     },
     "execution_count": 45,
     "metadata": {},
     "output_type": "execute_result"
    }
   ],
   "source": [
    "v1"
   ]
  },
  {
   "cell_type": "code",
   "execution_count": 46,
   "metadata": {},
   "outputs": [
    {
     "data": {
      "text/plain": [
       "10000000"
      ]
     },
     "execution_count": 46,
     "metadata": {},
     "output_type": "execute_result"
    }
   ],
   "source": [
    "10_000_000"
   ]
  },
  {
   "cell_type": "code",
   "execution_count": 47,
   "metadata": {},
   "outputs": [
    {
     "data": {
      "text/plain": [
       "1048575"
      ]
     },
     "execution_count": 47,
     "metadata": {},
     "output_type": "execute_result"
    }
   ],
   "source": [
    "0x_FF_FFF"
   ]
  },
  {
   "cell_type": "code",
   "execution_count": 48,
   "metadata": {},
   "outputs": [
    {
     "data": {
      "text/plain": [
       "268435455"
      ]
     },
     "execution_count": 48,
     "metadata": {},
     "output_type": "execute_result"
    }
   ],
   "source": [
    "0xFFFFFFF"
   ]
  },
  {
   "cell_type": "code",
   "execution_count": 49,
   "metadata": {},
   "outputs": [
    {
     "data": {
      "text/plain": [
       "4294967295"
      ]
     },
     "execution_count": 49,
     "metadata": {},
     "output_type": "execute_result"
    }
   ],
   "source": [
    "0x_F_F_F_F_F_F_F_F"
   ]
  },
  {
   "cell_type": "code",
   "execution_count": 50,
   "metadata": {},
   "outputs": [
    {
     "data": {
      "text/plain": [
       "10000.54321"
      ]
     },
     "execution_count": 50,
     "metadata": {},
     "output_type": "execute_result"
    }
   ],
   "source": [
    "1_0_0_0_0.54321"
   ]
  },
  {
   "cell_type": "code",
   "execution_count": 52,
   "metadata": {},
   "outputs": [
    {
     "data": {
      "text/plain": [
       "'1_000_000_000'"
      ]
     },
     "execution_count": 52,
     "metadata": {},
     "output_type": "execute_result"
    }
   ],
   "source": [
    "'{:_}'.format(1000000000)"
   ]
  },
  {
   "cell_type": "code",
   "execution_count": 53,
   "metadata": {},
   "outputs": [
    {
     "data": {
      "text/plain": [
       "'ffff_ffff'"
      ]
     },
     "execution_count": 53,
     "metadata": {},
     "output_type": "execute_result"
    }
   ],
   "source": [
    "'{:_x}'.format(4294967295)"
   ]
  },
  {
   "cell_type": "code",
   "execution_count": 54,
   "metadata": {},
   "outputs": [
    {
     "data": {
      "text/plain": [
       "268435455"
      ]
     },
     "execution_count": 54,
     "metadata": {},
     "output_type": "execute_result"
    }
   ],
   "source": [
    "int('FF_FFFFF', 16)"
   ]
  },
  {
   "cell_type": "code",
   "execution_count": 56,
   "metadata": {},
   "outputs": [
    {
     "data": {
      "text/plain": [
       "'10%3 = 1'"
      ]
     },
     "execution_count": 56,
     "metadata": {},
     "output_type": "execute_result"
    }
   ],
   "source": [
    "'{}%{} = {}'.format(10,3,10%3)"
   ]
  },
  {
   "cell_type": "code",
   "execution_count": 58,
   "metadata": {},
   "outputs": [
    {
     "data": {
      "text/plain": [
       "'10 %3 = 1'"
      ]
     },
     "execution_count": 58,
     "metadata": {},
     "output_type": "execute_result"
    }
   ],
   "source": [
    "'{1} %{2} = {0}'.format(10%3,10,3)"
   ]
  },
  {
   "cell_type": "code",
   "execution_count": 59,
   "metadata": {},
   "outputs": [
    {
     "data": {
      "text/plain": [
       "'10%3= 1'"
      ]
     },
     "execution_count": 59,
     "metadata": {},
     "output_type": "execute_result"
    }
   ],
   "source": [
    "'{a}%{b}= {mod}'.format(a=10, mod =10%3, b=3)"
   ]
  },
  {
   "cell_type": "code",
   "execution_count": 61,
   "metadata": {},
   "outputs": [
    {
     "data": {
      "text/plain": [
       "'10 % 3 = 1'"
      ]
     },
     "execution_count": 61,
     "metadata": {},
     "output_type": "execute_result"
    }
   ],
   "source": [
    "a = 10\n",
    "b=3\n",
    "f'{a} % {b} = {a%b}'"
   ]
  },
  {
   "cell_type": "markdown",
   "metadata": {},
   "source": [
    "# "
   ]
  },
  {
   "cell_type": "code",
   "execution_count": 63,
   "metadata": {},
   "outputs": [
    {
     "data": {
      "text/plain": [
       "'3.33333'"
      ]
     },
     "execution_count": 63,
     "metadata": {},
     "output_type": "execute_result"
    }
   ],
   "source": [
    "a = 10/3\n",
    "f'{a:0.5f}'"
   ]
  },
  {
   "cell_type": "code",
   "execution_count": 65,
   "metadata": {},
   "outputs": [
    {
     "data": {
      "text/plain": [
       "'3.33333'"
      ]
     },
     "execution_count": 65,
     "metadata": {},
     "output_type": "execute_result"
    }
   ],
   "source": [
    "f'{10/3:0.5f}'"
   ]
  },
  {
   "cell_type": "code",
   "execution_count": 66,
   "metadata": {},
   "outputs": [],
   "source": [
    "name = 'Python'"
   ]
  },
  {
   "cell_type": "code",
   "execution_count": 68,
   "metadata": {},
   "outputs": [
    {
     "data": {
      "text/plain": [
       "'{name} rocks'"
      ]
     },
     "execution_count": 68,
     "metadata": {},
     "output_type": "execute_result"
    }
   ],
   "source": [
    "'{name} rocks'"
   ]
  },
  {
   "cell_type": "code",
   "execution_count": 70,
   "metadata": {},
   "outputs": [
    {
     "data": {
      "text/plain": [
       "'Python rocks!'"
      ]
     },
     "execution_count": 70,
     "metadata": {},
     "output_type": "execute_result"
    }
   ],
   "source": [
    "'{name} rocks!'.format(name=name)"
   ]
  },
  {
   "cell_type": "code",
   "execution_count": 71,
   "metadata": {},
   "outputs": [],
   "source": [
    "def outer():\n",
    "    name = 'Python'\n",
    "    def inner():\n",
    "        return f'{name} rocks!'\n",
    "    return inner"
   ]
  },
  {
   "cell_type": "code",
   "execution_count": 72,
   "metadata": {},
   "outputs": [
    {
     "name": "stdout",
     "output_type": "stream",
     "text": [
      "Python rocks!\n"
     ]
    }
   ],
   "source": [
    "print(outer()())"
   ]
  },
  {
   "cell_type": "code",
   "execution_count": 73,
   "metadata": {},
   "outputs": [],
   "source": [
    "sq  = lambda x:x**2"
   ]
  },
  {
   "cell_type": "code",
   "execution_count": 78,
   "metadata": {},
   "outputs": [
    {
     "name": "stdout",
     "output_type": "stream",
     "text": [
      "10\n",
      "100\n"
     ]
    }
   ],
   "source": [
    "a = 10\n",
    "b=1\n",
    "print(f\"{sq(a) if b >5 else a}\")\n",
    "b=10\n",
    "print(f\"{sq(a) if b >5 else a}\")"
   ]
  },
  {
   "cell_type": "code",
   "execution_count": 80,
   "metadata": {},
   "outputs": [
    {
     "name": "stdout",
     "output_type": "stream",
     "text": [
      "10\n",
      "100\n"
     ]
    }
   ],
   "source": [
    "a = 10\n",
    "b=1\n",
    "print(f'{(lambda x: x**2)(a) if b>5 else a}')\n",
    "b=10\n",
    "print(f'{(lambda x: x**2)(a) if b>5 else a}')"
   ]
  },
  {
   "cell_type": "code",
   "execution_count": 81,
   "metadata": {},
   "outputs": [],
   "source": [
    "import random"
   ]
  },
  {
   "cell_type": "code",
   "execution_count": 82,
   "metadata": {},
   "outputs": [
    {
     "name": "stdout",
     "output_type": "stream",
     "text": [
      "15 0.09118310583779043\n",
      "11 0.7548956764016237\n",
      "10 0.3555550973243964\n",
      "18 0.21346863572883157\n",
      "18 0.17262597308055472\n",
      "15 0.49227192298857025\n",
      "15 0.7281430868120735\n",
      "10 0.8046731096082241\n",
      "11 0.41022383356523817\n",
      "15 0.2104021019174006\n"
     ]
    }
   ],
   "source": [
    "for _ in range(10):\n",
    "    print(random.randint(10,20), random.random())"
   ]
  },
  {
   "cell_type": "code",
   "execution_count": 83,
   "metadata": {},
   "outputs": [
    {
     "name": "stdout",
     "output_type": "stream",
     "text": [
      "20 0.4104884049664359\n",
      "13 0.9255426220880706\n",
      "13 0.9102314540857479\n",
      "12 0.5010124724623057\n",
      "17 0.3323131933872697\n",
      "17 0.7777238982328988\n",
      "18 0.23695858738979292\n",
      "15 0.6544518961106671\n",
      "20 0.6434163132395898\n",
      "17 0.10819397158477762\n"
     ]
    }
   ],
   "source": [
    "for _ in range(10):\n",
    "    print(random.randint(10,20), random.random())"
   ]
  },
  {
   "cell_type": "code",
   "execution_count": 84,
   "metadata": {},
   "outputs": [],
   "source": [
    "random.seed(0)"
   ]
  },
  {
   "cell_type": "code",
   "execution_count": 85,
   "metadata": {},
   "outputs": [
    {
     "name": "stdout",
     "output_type": "stream",
     "text": [
      "16 0.7579544029403025\n",
      "16 0.04048437818077755\n",
      "18 0.48592769656281265\n",
      "14 0.9677999949201714\n",
      "15 0.5833820394550312\n",
      "13 0.5046868558173903\n",
      "14 0.1397457849666789\n",
      "11 0.6183689966753316\n",
      "14 0.9872592010330129\n",
      "18 0.9827854760376531\n"
     ]
    }
   ],
   "source": [
    "for _ in range(10):\n",
    "    print(random.randint(10,20), random.random())"
   ]
  },
  {
   "cell_type": "code",
   "execution_count": 86,
   "metadata": {},
   "outputs": [
    {
     "name": "stdout",
     "output_type": "stream",
     "text": [
      "19 0.9021659504395827\n",
      "14 0.09876334465914771\n",
      "11 0.8988382879679935\n",
      "20 0.33019721859799855\n",
      "18 0.1007012080683658\n",
      "16 0.31619669952159346\n",
      "20 0.9130110532378982\n",
      "18 0.47700977655271704\n",
      "18 0.2604923103919594\n",
      "18 0.9159944803568847\n"
     ]
    }
   ],
   "source": [
    "for _ in range(10):\n",
    "    print(random.randint(10,20), random.random())"
   ]
  },
  {
   "cell_type": "code",
   "execution_count": 87,
   "metadata": {},
   "outputs": [
    {
     "name": "stdout",
     "output_type": "stream",
     "text": [
      "16 0.7579544029403025\n",
      "16 0.04048437818077755\n",
      "18 0.48592769656281265\n",
      "14 0.9677999949201714\n",
      "15 0.5833820394550312\n",
      "13 0.5046868558173903\n",
      "14 0.1397457849666789\n",
      "11 0.6183689966753316\n",
      "14 0.9872592010330129\n",
      "18 0.9827854760376531\n"
     ]
    }
   ],
   "source": [
    "random.seed(0)\n",
    "for _ in range(10):\n",
    "    print(random.randint(10,20), random.random())"
   ]
  },
  {
   "cell_type": "code",
   "execution_count": 88,
   "metadata": {},
   "outputs": [
    {
     "name": "stdout",
     "output_type": "stream",
     "text": [
      "16 0.7579544029403025\n",
      "16 0.04048437818077755\n",
      "18 0.48592769656281265\n",
      "14 0.9677999949201714\n",
      "15 0.5833820394550312\n",
      "13 0.5046868558173903\n",
      "14 0.1397457849666789\n",
      "11 0.6183689966753316\n",
      "14 0.9872592010330129\n",
      "18 0.9827854760376531\n"
     ]
    }
   ],
   "source": [
    "random.seed(0)\n",
    "for _ in range(10):\n",
    "    print(random.randint(10,20), random.random())"
   ]
  },
  {
   "cell_type": "code",
   "execution_count": 89,
   "metadata": {},
   "outputs": [],
   "source": [
    "def generate_random_stuff(seed=None):\n",
    "    random.seed(seed)\n",
    "    results = []\n",
    "    for _ in range(5):\n",
    "        results.append(random.randint(0,5))\n",
    "        \n",
    "    characters = list('abc')\n",
    "    random.shuffle(characters)\n",
    "    results.append(characters)\n",
    "    \n",
    "    for _ in range(5):\n",
    "        results.append(random.gauss(0,1))\n",
    "        \n",
    "    return results"
   ]
  },
  {
   "cell_type": "code",
   "execution_count": 90,
   "metadata": {},
   "outputs": [
    {
     "data": {
      "text/plain": [
       "[3,\n",
       " 3,\n",
       " 5,\n",
       " 1,\n",
       " 5,\n",
       " ['c', 'a', 'b'],\n",
       " 0.44809258493703863,\n",
       " 0.03628018651930084,\n",
       " -0.10989448925844639,\n",
       " -0.2551615178503112,\n",
       " 0.9245834713514316]"
      ]
     },
     "execution_count": 90,
     "metadata": {},
     "output_type": "execute_result"
    }
   ],
   "source": [
    "generate_random_stuff()"
   ]
  },
  {
   "cell_type": "code",
   "execution_count": 91,
   "metadata": {},
   "outputs": [
    {
     "data": {
      "text/plain": [
       "[5,\n",
       " 4,\n",
       " 0,\n",
       " 5,\n",
       " 3,\n",
       " ['b', 'c', 'a'],\n",
       " 1.6903786725487338,\n",
       " 0.7890268534055087,\n",
       " 0.8845669879054742,\n",
       " -0.009428933620598653,\n",
       " 0.02670024338441462]"
      ]
     },
     "execution_count": 91,
     "metadata": {},
     "output_type": "execute_result"
    }
   ],
   "source": [
    "generate_random_stuff()"
   ]
  },
  {
   "cell_type": "code",
   "execution_count": 92,
   "metadata": {},
   "outputs": [
    {
     "data": {
      "text/plain": [
       "[3,\n",
       " 5,\n",
       " 1,\n",
       " 4,\n",
       " 1,\n",
       " ['a', 'c', 'b'],\n",
       " 0.26547077722326534,\n",
       " -0.23189153424064363,\n",
       " 0.8232983922494312,\n",
       " 0.39537831924552097,\n",
       " -0.2208015104777857]"
      ]
     },
     "execution_count": 92,
     "metadata": {},
     "output_type": "execute_result"
    }
   ],
   "source": [
    "generate_random_stuff()"
   ]
  },
  {
   "cell_type": "code",
   "execution_count": 93,
   "metadata": {},
   "outputs": [
    {
     "data": {
      "text/plain": [
       "[3,\n",
       " 3,\n",
       " 0,\n",
       " 2,\n",
       " 4,\n",
       " ['a', 'c', 'b'],\n",
       " 1.6391095109274887,\n",
       " -0.9249345372119703,\n",
       " 0.9223306019157185,\n",
       " -0.1891931090669293,\n",
       " 0.5456115709634167]"
      ]
     },
     "execution_count": 93,
     "metadata": {},
     "output_type": "execute_result"
    }
   ],
   "source": [
    "generate_random_stuff(0)"
   ]
  },
  {
   "cell_type": "code",
   "execution_count": 94,
   "metadata": {},
   "outputs": [
    {
     "data": {
      "text/plain": [
       "[3,\n",
       " 3,\n",
       " 0,\n",
       " 2,\n",
       " 4,\n",
       " ['a', 'c', 'b'],\n",
       " 1.6391095109274887,\n",
       " -0.9249345372119703,\n",
       " 0.9223306019157185,\n",
       " -0.1891931090669293,\n",
       " 0.5456115709634167]"
      ]
     },
     "execution_count": 94,
     "metadata": {},
     "output_type": "execute_result"
    }
   ],
   "source": [
    "generate_random_stuff(0)"
   ]
  },
  {
   "cell_type": "code",
   "execution_count": 95,
   "metadata": {},
   "outputs": [
    {
     "data": {
      "text/plain": [
       "[1,\n",
       " 3,\n",
       " 3,\n",
       " 1,\n",
       " 5,\n",
       " ['a', 'c', 'b'],\n",
       " -1.639893943131093,\n",
       " 0.7278930291928233,\n",
       " -0.4000719319137612,\n",
       " -0.08390378703116254,\n",
       " -0.3013546798244102]"
      ]
     },
     "execution_count": 95,
     "metadata": {},
     "output_type": "execute_result"
    }
   ],
   "source": [
    "generate_random_stuff(100)"
   ]
  },
  {
   "cell_type": "code",
   "execution_count": 96,
   "metadata": {},
   "outputs": [
    {
     "data": {
      "text/plain": [
       "[1,\n",
       " 3,\n",
       " 3,\n",
       " 1,\n",
       " 5,\n",
       " ['a', 'c', 'b'],\n",
       " -1.639893943131093,\n",
       " 0.7278930291928233,\n",
       " -0.4000719319137612,\n",
       " -0.08390378703116254,\n",
       " -0.3013546798244102]"
      ]
     },
     "execution_count": 96,
     "metadata": {},
     "output_type": "execute_result"
    }
   ],
   "source": [
    "generate_random_stuff(100)"
   ]
  },
  {
   "cell_type": "code",
   "execution_count": 97,
   "metadata": {},
   "outputs": [
    {
     "data": {
      "text/plain": [
       "[1,\n",
       " 3,\n",
       " 3,\n",
       " 1,\n",
       " 5,\n",
       " ['a', 'c', 'b'],\n",
       " -1.639893943131093,\n",
       " 0.7278930291928233,\n",
       " -0.4000719319137612,\n",
       " -0.08390378703116254,\n",
       " -0.3013546798244102]"
      ]
     },
     "execution_count": 97,
     "metadata": {},
     "output_type": "execute_result"
    }
   ],
   "source": [
    "generate_random_stuff(100)"
   ]
  },
  {
   "cell_type": "code",
   "execution_count": 99,
   "metadata": {},
   "outputs": [],
   "source": [
    "def freq_analysis(lst):\n",
    "    return {k: lst.count(k) for k in set(lst)}\n"
   ]
  },
  {
   "cell_type": "code",
   "execution_count": 100,
   "metadata": {},
   "outputs": [],
   "source": [
    "lst= [random.randint(0,10) for _ in range(100)]"
   ]
  },
  {
   "cell_type": "code",
   "execution_count": 101,
   "metadata": {},
   "outputs": [
    {
     "name": "stdout",
     "output_type": "stream",
     "text": [
      "[10, 3, 5, 3, 4, 3, 2, 2, 3, 5, 5, 10, 6, 3, 6, 7, 8, 4, 6, 2, 10, 10, 1, 2, 0, 9, 6, 2, 9, 2, 3, 2, 0, 10, 3, 7, 10, 6, 2, 9, 8, 0, 9, 3, 9, 8, 4, 9, 5, 8, 10, 5, 8, 5, 7, 6, 0, 1, 4, 10, 6, 4, 3, 6, 8, 7, 9, 4, 2, 0, 10, 9, 5, 2, 0, 4, 1, 0, 9, 3, 4, 8, 9, 3, 10, 9, 5, 5, 7, 0, 1, 7, 3, 8, 1, 9, 3, 0, 6, 1]\n"
     ]
    }
   ],
   "source": [
    "print(lst)"
   ]
  },
  {
   "cell_type": "code",
   "execution_count": 102,
   "metadata": {},
   "outputs": [
    {
     "data": {
      "text/plain": [
       "{0, 1, 2, 3, 4, 5, 6, 7, 8, 9, 10}"
      ]
     },
     "execution_count": 102,
     "metadata": {},
     "output_type": "execute_result"
    }
   ],
   "source": [
    "set(lst)"
   ]
  },
  {
   "cell_type": "code",
   "execution_count": 103,
   "metadata": {},
   "outputs": [
    {
     "data": {
      "text/plain": [
       "6"
      ]
     },
     "execution_count": 103,
     "metadata": {},
     "output_type": "execute_result"
    }
   ],
   "source": [
    "lst.count(1)"
   ]
  },
  {
   "cell_type": "code",
   "execution_count": 104,
   "metadata": {},
   "outputs": [
    {
     "data": {
      "text/plain": [
       "10"
      ]
     },
     "execution_count": 104,
     "metadata": {},
     "output_type": "execute_result"
    }
   ],
   "source": [
    "lst.count(10)"
   ]
  },
  {
   "cell_type": "code",
   "execution_count": 105,
   "metadata": {},
   "outputs": [
    {
     "data": {
      "text/plain": [
       "{0: 9, 1: 6, 2: 10, 3: 13, 4: 8, 5: 9, 6: 9, 7: 6, 8: 8, 9: 12, 10: 10}"
      ]
     },
     "execution_count": 105,
     "metadata": {},
     "output_type": "execute_result"
    }
   ],
   "source": [
    "freq_analysis(lst)"
   ]
  },
  {
   "cell_type": "code",
   "execution_count": 107,
   "metadata": {},
   "outputs": [],
   "source": [
    "d = freq_analysis([random.randint(0,10) for _ in range(1_000_000)])"
   ]
  },
  {
   "cell_type": "code",
   "execution_count": 108,
   "metadata": {},
   "outputs": [
    {
     "data": {
      "text/plain": [
       "{0: 90934,\n",
       " 1: 90927,\n",
       " 2: 90801,\n",
       " 3: 91040,\n",
       " 4: 90818,\n",
       " 5: 90753,\n",
       " 6: 91280,\n",
       " 7: 90850,\n",
       " 8: 90473,\n",
       " 9: 90894,\n",
       " 10: 91230}"
      ]
     },
     "execution_count": 108,
     "metadata": {},
     "output_type": "execute_result"
    }
   ],
   "source": [
    "d"
   ]
  },
  {
   "cell_type": "code",
   "execution_count": 110,
   "metadata": {},
   "outputs": [],
   "source": [
    "total = sum(d.values())"
   ]
  },
  {
   "cell_type": "code",
   "execution_count": 111,
   "metadata": {},
   "outputs": [
    {
     "data": {
      "text/plain": [
       "1000000"
      ]
     },
     "execution_count": 111,
     "metadata": {},
     "output_type": "execute_result"
    }
   ],
   "source": [
    "total"
   ]
  },
  {
   "cell_type": "code",
   "execution_count": 112,
   "metadata": {},
   "outputs": [
    {
     "data": {
      "text/plain": [
       "{0: 9.0934,\n",
       " 1: 9.092699999999999,\n",
       " 2: 9.0801,\n",
       " 3: 9.104,\n",
       " 4: 9.0818,\n",
       " 5: 9.0753,\n",
       " 6: 9.128,\n",
       " 7: 9.085,\n",
       " 8: 9.0473,\n",
       " 9: 9.0894,\n",
       " 10: 9.123000000000001}"
      ]
     },
     "execution_count": 112,
     "metadata": {},
     "output_type": "execute_result"
    }
   ],
   "source": [
    "{k: v/total *100 for k, v in d.items()}"
   ]
  },
  {
   "cell_type": "code",
   "execution_count": 113,
   "metadata": {},
   "outputs": [],
   "source": [
    "from collections import Counter"
   ]
  },
  {
   "cell_type": "code",
   "execution_count": 114,
   "metadata": {},
   "outputs": [
    {
     "data": {
      "text/plain": [
       "Counter({15: 9076,\n",
       "         14: 9254,\n",
       "         18: 9018,\n",
       "         10: 9028,\n",
       "         13: 9036,\n",
       "         16: 9067,\n",
       "         19: 9059,\n",
       "         12: 9061,\n",
       "         20: 9084,\n",
       "         11: 9127,\n",
       "         17: 9190})"
      ]
     },
     "execution_count": 114,
     "metadata": {},
     "output_type": "execute_result"
    }
   ],
   "source": [
    "Counter([random.randint(10,20) for _ in range(100_000)])"
   ]
  },
  {
   "cell_type": "code",
   "execution_count": 115,
   "metadata": {},
   "outputs": [],
   "source": [
    "l = [10,20,30,40,50]"
   ]
  },
  {
   "cell_type": "code",
   "execution_count": 118,
   "metadata": {},
   "outputs": [
    {
     "data": {
      "text/plain": [
       "30"
      ]
     },
     "execution_count": 118,
     "metadata": {},
     "output_type": "execute_result"
    }
   ],
   "source": [
    "random_index = random.randrange(len(l))\n",
    "l[random_index]"
   ]
  },
  {
   "cell_type": "code",
   "execution_count": 119,
   "metadata": {},
   "outputs": [],
   "source": [
    "l = list(range(1000))"
   ]
  },
  {
   "cell_type": "code",
   "execution_count": 123,
   "metadata": {},
   "outputs": [
    {
     "name": "stdout",
     "output_type": "stream",
     "text": [
      "[356, 360, 898, 870, 912]\n"
     ]
    }
   ],
   "source": [
    "randoms = []\n",
    "\n",
    "for _ in range(5):\n",
    "    randoms.append(l[random.randrange(len(l))])\n",
    "    \n",
    "print(randoms)"
   ]
  },
  {
   "cell_type": "code",
   "execution_count": 126,
   "metadata": {},
   "outputs": [
    {
     "data": {
      "text/plain": [
       "206"
      ]
     },
     "execution_count": 126,
     "metadata": {},
     "output_type": "execute_result"
    }
   ],
   "source": [
    "random.choice(l)"
   ]
  },
  {
   "cell_type": "code",
   "execution_count": 130,
   "metadata": {},
   "outputs": [
    {
     "name": "stdout",
     "output_type": "stream",
     "text": [
      "[431, 178, 178, 216, 125]\n"
     ]
    }
   ],
   "source": [
    "randoms = []\n",
    "\n",
    "for _ in range(5):\n",
    "    randoms.append(l[random.choice(l)])\n",
    "    \n",
    "print(randoms)"
   ]
  },
  {
   "cell_type": "code",
   "execution_count": 134,
   "metadata": {},
   "outputs": [
    {
     "name": "stdout",
     "output_type": "stream",
     "text": [
      "[246, 303, 602, 488, 515]\n"
     ]
    }
   ],
   "source": [
    "randoms = [random.choice(l) for _ in range(5)]\n",
    "print(randoms)"
   ]
  },
  {
   "cell_type": "code",
   "execution_count": 137,
   "metadata": {},
   "outputs": [
    {
     "name": "stdout",
     "output_type": "stream",
     "text": [
      "[238, 642, 64, 602, 968]\n"
     ]
    }
   ],
   "source": [
    "randoms = random.choices(l, k=5)\n",
    "print(randoms)"
   ]
  },
  {
   "cell_type": "code",
   "execution_count": 140,
   "metadata": {},
   "outputs": [
    {
     "name": "stdout",
     "output_type": "stream",
     "text": [
      "[4, 4, 3, 2, 4, 3, 3, 2, 2, 2]\n"
     ]
    }
   ],
   "source": [
    "l = [1,2,3,4]\n",
    "\n",
    "randoms = [random.choice(l) for _ in range(10)]\n",
    "print(randoms)"
   ]
  },
  {
   "cell_type": "code",
   "execution_count": 141,
   "metadata": {},
   "outputs": [
    {
     "name": "stdout",
     "output_type": "stream",
     "text": [
      "[1, 2, 2, 3, 3, 4, 4, 1, 3, 1]\n"
     ]
    }
   ],
   "source": [
    "randoms = random.choices(l, k=10)\n",
    "print(randoms)"
   ]
  },
  {
   "cell_type": "code",
   "execution_count": 142,
   "metadata": {},
   "outputs": [],
   "source": [
    "l = ['a', 'b', 'c']"
   ]
  },
  {
   "cell_type": "code",
   "execution_count": 143,
   "metadata": {},
   "outputs": [
    {
     "name": "stdout",
     "output_type": "stream",
     "text": [
      "['c', 'c', 'b', 'c', 'a']\n",
      "['b', 'c', 'a', 'c', 'a']\n",
      "['c', 'c', 'a', 'b', 'b']\n",
      "['b', 'a', 'c', 'b', 'a']\n",
      "['b', 'a', 'c', 'b', 'a']\n",
      "['c', 'a', 'b', 'a', 'a']\n",
      "['b', 'b', 'c', 'b', 'b']\n",
      "['a', 'a', 'a', 'b', 'a']\n",
      "['b', 'c', 'a', 'a', 'a']\n",
      "['c', 'a', 'b', 'c', 'b']\n"
     ]
    }
   ],
   "source": [
    "for _ in range(10):\n",
    "    print(random.choices(l, k=5))"
   ]
  },
  {
   "cell_type": "code",
   "execution_count": 144,
   "metadata": {},
   "outputs": [],
   "source": [
    "weights = [10,1,1]"
   ]
  },
  {
   "cell_type": "code",
   "execution_count": 147,
   "metadata": {},
   "outputs": [
    {
     "name": "stdout",
     "output_type": "stream",
     "text": [
      "['a', 'a', 'a', 'a', 'c']\n",
      "['a', 'a', 'a', 'a', 'a']\n",
      "['c', 'a', 'a', 'a', 'a']\n",
      "['a', 'c', 'a', 'a', 'a']\n",
      "['a', 'c', 'a', 'a', 'a']\n",
      "['a', 'a', 'a', 'a', 'a']\n",
      "['a', 'b', 'a', 'a', 'a']\n",
      "['a', 'a', 'b', 'c', 'a']\n",
      "['a', 'a', 'b', 'a', 'a']\n",
      "['b', 'a', 'a', 'a', 'a']\n"
     ]
    }
   ],
   "source": [
    "for _ in range(10):\n",
    "    print(random.choices(l, k=5, weights = weights))"
   ]
  },
  {
   "cell_type": "code",
   "execution_count": 148,
   "metadata": {},
   "outputs": [],
   "source": [
    "from collections import namedtuple\n",
    "\n",
    "Fred = namedtuple('Fred', 'count, freq')\n"
   ]
  },
  {
   "cell_type": "code",
   "execution_count": 150,
   "metadata": {},
   "outputs": [],
   "source": [
    "def freq_counts(lst):\n",
    "    total = len(lst)\n",
    "    return {k: Fred(lst.count(k), 100 * lst.count(k)/total) for k in set(lst)}"
   ]
  },
  {
   "cell_type": "code",
   "execution_count": 153,
   "metadata": {},
   "outputs": [
    {
     "data": {
      "text/plain": [
       "{'a': Fred(count=33125, freq=33.125),\n",
       " 'b': Fred(count=33372, freq=33.372),\n",
       " 'c': Fred(count=33503, freq=33.503)}"
      ]
     },
     "execution_count": 153,
     "metadata": {},
     "output_type": "execute_result"
    }
   ],
   "source": [
    "freq_counts(random.choices(l,k=100_000))"
   ]
  },
  {
   "cell_type": "code",
   "execution_count": 154,
   "metadata": {},
   "outputs": [],
   "source": [
    "weights = [8,1,1]"
   ]
  },
  {
   "cell_type": "code",
   "execution_count": 155,
   "metadata": {},
   "outputs": [
    {
     "data": {
      "text/plain": [
       "{'a': Fred(count=80045, freq=80.045),\n",
       " 'b': Fred(count=10037, freq=10.037),\n",
       " 'c': Fred(count=9918, freq=9.918)}"
      ]
     },
     "execution_count": 155,
     "metadata": {},
     "output_type": "execute_result"
    }
   ],
   "source": [
    "freq_counts(random.choices(l,k=100_000, weights =weights))"
   ]
  },
  {
   "cell_type": "code",
   "execution_count": 156,
   "metadata": {},
   "outputs": [],
   "source": [
    "weights = [7,1,2]"
   ]
  },
  {
   "cell_type": "code",
   "execution_count": 157,
   "metadata": {},
   "outputs": [
    {
     "data": {
      "text/plain": [
       "{'a': Fred(count=33309, freq=33.309),\n",
       " 'b': Fred(count=33284, freq=33.284),\n",
       " 'c': Fred(count=33407, freq=33.407)}"
      ]
     },
     "execution_count": 157,
     "metadata": {},
     "output_type": "execute_result"
    }
   ],
   "source": [
    "freq_counts(random.choices(l,k=100_000))"
   ]
  },
  {
   "cell_type": "code",
   "execution_count": 158,
   "metadata": {},
   "outputs": [
    {
     "data": {
      "text/plain": [
       "{'a': Fred(count=70047, freq=70.047),\n",
       " 'b': Fred(count=9976, freq=9.976),\n",
       " 'c': Fred(count=19977, freq=19.977)}"
      ]
     },
     "execution_count": 158,
     "metadata": {},
     "output_type": "execute_result"
    }
   ],
   "source": [
    "freq_counts(random.choices(l,k=100_000, weights =weights))"
   ]
  },
  {
   "cell_type": "code",
   "execution_count": 163,
   "metadata": {},
   "outputs": [],
   "source": [
    "cum_weights = [7,8,10]"
   ]
  },
  {
   "cell_type": "code",
   "execution_count": 164,
   "metadata": {},
   "outputs": [
    {
     "data": {
      "text/plain": [
       "{'a': Fred(count=70210, freq=70.21),\n",
       " 'b': Fred(count=9820, freq=9.82),\n",
       " 'c': Fred(count=19970, freq=19.97)}"
      ]
     },
     "execution_count": 164,
     "metadata": {},
     "output_type": "execute_result"
    }
   ],
   "source": [
    "freq_counts(random.choices(l,k=100_000, weights =weights))"
   ]
  },
  {
   "cell_type": "code",
   "execution_count": 165,
   "metadata": {},
   "outputs": [],
   "source": [
    "from time import perf_counter"
   ]
  },
  {
   "cell_type": "code",
   "execution_count": 166,
   "metadata": {},
   "outputs": [],
   "source": [
    "random.seed(0)\n"
   ]
  },
  {
   "cell_type": "code",
   "execution_count": 167,
   "metadata": {},
   "outputs": [],
   "source": [
    "denoms = random.choices([0,1], k = 10_000_000)"
   ]
  },
  {
   "cell_type": "code",
   "execution_count": 176,
   "metadata": {},
   "outputs": [
    {
     "name": "stdout",
     "output_type": "stream",
     "text": [
      "avg start time: 0.000000238775740\n"
     ]
    }
   ],
   "source": [
    "start = perf_counter()\n",
    "for d in denoms:\n",
    "    if d ==0:\n",
    "        continue\n",
    "    else:\n",
    "        10 / d\n",
    "end = perf_counter()\n",
    "print(f'avg start time: {(end-start)/len(denoms):0.15f}')"
   ]
  },
  {
   "cell_type": "code",
   "execution_count": 177,
   "metadata": {},
   "outputs": [
    {
     "name": "stdout",
     "output_type": "stream",
     "text": [
      "avg start time: 0.000000671996360\n"
     ]
    }
   ],
   "source": [
    "start = perf_counter()\n",
    "for d in denoms:\n",
    "    try:\n",
    "        10/d\n",
    "    except ZeroDivisionError:\n",
    "        pass\n",
    "end = perf_counter()\n",
    "print(f'avg start time: {(end-start)/len(denoms):0.15f}')"
   ]
  },
  {
   "cell_type": "code",
   "execution_count": 178,
   "metadata": {},
   "outputs": [],
   "source": [
    "random.seed(0)\n",
    "denoms = random.choices([0,1], k = 10_000_000, weights=[1,9])"
   ]
  },
  {
   "cell_type": "code",
   "execution_count": 180,
   "metadata": {},
   "outputs": [
    {
     "name": "stdout",
     "output_type": "stream",
     "text": [
      "avg start time: 2.288991100002022e-07\n"
     ]
    }
   ],
   "source": [
    "start = perf_counter()\n",
    "for d in denoms:\n",
    "    if d ==0:\n",
    "        continue\n",
    "    else:\n",
    "        10 / d\n",
    "end = perf_counter()\n",
    "print(f'avg start time: {(end-start)/len(denoms)}')"
   ]
  },
  {
   "cell_type": "code",
   "execution_count": 181,
   "metadata": {},
   "outputs": [
    {
     "name": "stdout",
     "output_type": "stream",
     "text": [
      "avg start time: 2.8131837000037195e-07\n"
     ]
    }
   ],
   "source": [
    "start = perf_counter()\n",
    "for d in denoms:\n",
    "    try:\n",
    "        10/d\n",
    "    except ZeroDivisionError:\n",
    "        pass\n",
    "end = perf_counter()\n",
    "print(f'avg start time: {(end-start)/len(denoms)}')"
   ]
  },
  {
   "cell_type": "code",
   "execution_count": 182,
   "metadata": {},
   "outputs": [],
   "source": [
    "random.seed(0)\n",
    "denoms = random.choices([0,1], k = 10_000_000, weights=[9,1])"
   ]
  },
  {
   "cell_type": "code",
   "execution_count": 183,
   "metadata": {},
   "outputs": [
    {
     "name": "stdout",
     "output_type": "stream",
     "text": [
      "avg start time: 1.588711999997031e-07\n"
     ]
    }
   ],
   "source": [
    "start = perf_counter()\n",
    "for d in denoms:\n",
    "    if d ==0:\n",
    "        continue\n",
    "    else:\n",
    "        10 / d\n",
    "end = perf_counter()\n",
    "print(f'avg start time: {(end-start)/len(denoms)}')"
   ]
  },
  {
   "cell_type": "code",
   "execution_count": 184,
   "metadata": {},
   "outputs": [
    {
     "name": "stdout",
     "output_type": "stream",
     "text": [
      "avg start time: 9.545212700002594e-07\n"
     ]
    }
   ],
   "source": [
    "start = perf_counter()\n",
    "for d in denoms:\n",
    "    try:\n",
    "        10/d\n",
    "    except ZeroDivisionError:\n",
    "        pass\n",
    "end = perf_counter()\n",
    "print(f'avg start time: {(end-start)/len(denoms)}')"
   ]
  },
  {
   "cell_type": "code",
   "execution_count": 185,
   "metadata": {},
   "outputs": [
    {
     "data": {
      "text/plain": [
       "['c', 'c', 'a', 'b', 'b', 'c', 'c', 'c', 'a', 'b']"
      ]
     },
     "execution_count": 185,
     "metadata": {},
     "output_type": "execute_result"
    }
   ],
   "source": [
    "random.choices(list('abc'), k=10)"
   ]
  },
  {
   "cell_type": "code",
   "execution_count": 186,
   "metadata": {},
   "outputs": [
    {
     "name": "stdout",
     "output_type": "stream",
     "text": [
      "[0, 1, 2, 3, 4, 5, 6, 7, 8, 9]\n"
     ]
    }
   ],
   "source": [
    "l = list(range(10))\n",
    "print(l)"
   ]
  },
  {
   "cell_type": "code",
   "execution_count": 187,
   "metadata": {},
   "outputs": [
    {
     "data": {
      "text/plain": [
       "[3, 2, 4, 5, 7]"
      ]
     },
     "execution_count": 187,
     "metadata": {},
     "output_type": "execute_result"
    }
   ],
   "source": [
    "random.choices(l,k=5)"
   ]
  },
  {
   "cell_type": "code",
   "execution_count": 192,
   "metadata": {},
   "outputs": [
    {
     "data": {
      "text/plain": [
       "[2, 6, 8, 7, 9, 5, 1, 4, 3, 0]"
      ]
     },
     "execution_count": 192,
     "metadata": {},
     "output_type": "execute_result"
    }
   ],
   "source": [
    "random.sample(l,k=10)"
   ]
  },
  {
   "cell_type": "code",
   "execution_count": 193,
   "metadata": {},
   "outputs": [],
   "source": [
    "suits = 'C', 'D', 'H', 'S'\n",
    "ranks = tuple(range(2,11)) + tuple('JQKA')"
   ]
  },
  {
   "cell_type": "code",
   "execution_count": 194,
   "metadata": {},
   "outputs": [
    {
     "data": {
      "text/plain": [
       "('C', 'D', 'H', 'S')"
      ]
     },
     "execution_count": 194,
     "metadata": {},
     "output_type": "execute_result"
    }
   ],
   "source": [
    "suits"
   ]
  },
  {
   "cell_type": "code",
   "execution_count": 195,
   "metadata": {},
   "outputs": [
    {
     "data": {
      "text/plain": [
       "(2, 3, 4, 5, 6, 7, 8, 9, 10, 'J', 'Q', 'K', 'A')"
      ]
     },
     "execution_count": 195,
     "metadata": {},
     "output_type": "execute_result"
    }
   ],
   "source": [
    "ranks"
   ]
  },
  {
   "cell_type": "code",
   "execution_count": 196,
   "metadata": {},
   "outputs": [],
   "source": [
    "deck = []\n",
    "for suit in suits:\n",
    "    for rank in ranks:\n",
    "        deck.append(str(rank) + suit)"
   ]
  },
  {
   "cell_type": "code",
   "execution_count": 197,
   "metadata": {},
   "outputs": [
    {
     "name": "stdout",
     "output_type": "stream",
     "text": [
      "['2C', '3C', '4C', '5C', '6C', '7C', '8C', '9C', '10C', 'JC', 'QC', 'KC', 'AC', '2D', '3D', '4D', '5D', '6D', '7D', '8D', '9D', '10D', 'JD', 'QD', 'KD', 'AD', '2H', '3H', '4H', '5H', '6H', '7H', '8H', '9H', '10H', 'JH', 'QH', 'KH', 'AH', '2S', '3S', '4S', '5S', '6S', '7S', '8S', '9S', '10S', 'JS', 'QS', 'KS', 'AS']\n"
     ]
    }
   ],
   "source": [
    "print(deck)"
   ]
  },
  {
   "cell_type": "code",
   "execution_count": 201,
   "metadata": {},
   "outputs": [],
   "source": [
    "deck = [str(rank) + suit for suit in suits for rank in ranks]"
   ]
  },
  {
   "cell_type": "code",
   "execution_count": 202,
   "metadata": {},
   "outputs": [
    {
     "data": {
      "text/plain": [
       "['2C',\n",
       " '3C',\n",
       " '4C',\n",
       " '5C',\n",
       " '6C',\n",
       " '7C',\n",
       " '8C',\n",
       " '9C',\n",
       " '10C',\n",
       " 'JC',\n",
       " 'QC',\n",
       " 'KC',\n",
       " 'AC',\n",
       " '2D',\n",
       " '3D',\n",
       " '4D',\n",
       " '5D',\n",
       " '6D',\n",
       " '7D',\n",
       " '8D',\n",
       " '9D',\n",
       " '10D',\n",
       " 'JD',\n",
       " 'QD',\n",
       " 'KD',\n",
       " 'AD',\n",
       " '2H',\n",
       " '3H',\n",
       " '4H',\n",
       " '5H',\n",
       " '6H',\n",
       " '7H',\n",
       " '8H',\n",
       " '9H',\n",
       " '10H',\n",
       " 'JH',\n",
       " 'QH',\n",
       " 'KH',\n",
       " 'AH',\n",
       " '2S',\n",
       " '3S',\n",
       " '4S',\n",
       " '5S',\n",
       " '6S',\n",
       " '7S',\n",
       " '8S',\n",
       " '9S',\n",
       " '10S',\n",
       " 'JS',\n",
       " 'QS',\n",
       " 'KS',\n",
       " 'AS']"
      ]
     },
     "execution_count": 202,
     "metadata": {},
     "output_type": "execute_result"
    }
   ],
   "source": [
    "deck"
   ]
  },
  {
   "cell_type": "code",
   "execution_count": 205,
   "metadata": {},
   "outputs": [
    {
     "data": {
      "text/plain": [
       "Counter({'8S': 2,\n",
       "         '7D': 3,\n",
       "         'AS': 2,\n",
       "         '9C': 1,\n",
       "         '10H': 1,\n",
       "         '10D': 1,\n",
       "         '9D': 1,\n",
       "         '8C': 2,\n",
       "         '8H': 1,\n",
       "         '5D': 2,\n",
       "         '10C': 1,\n",
       "         '6H': 1,\n",
       "         'JH': 1,\n",
       "         '6S': 2,\n",
       "         '8D': 1,\n",
       "         '5C': 2,\n",
       "         'KD': 1,\n",
       "         'AH': 2,\n",
       "         '4S': 3,\n",
       "         'QH': 1,\n",
       "         '4D': 1,\n",
       "         '2D': 1,\n",
       "         '6D': 1,\n",
       "         'AD': 1,\n",
       "         'QC': 1,\n",
       "         'QS': 1,\n",
       "         '7C': 1,\n",
       "         '10S': 1,\n",
       "         '5S': 1})"
      ]
     },
     "execution_count": 205,
     "metadata": {},
     "output_type": "execute_result"
    }
   ],
   "source": [
    "Counter(random.choices(deck,k=40))"
   ]
  },
  {
   "cell_type": "markdown",
   "metadata": {},
   "source": []
  },
  {
   "cell_type": "raw",
   "metadata": {},
   "source": []
  },
  {
   "cell_type": "raw",
   "metadata": {},
   "source": []
  },
  {
   "cell_type": "code",
   "execution_count": 208,
   "metadata": {},
   "outputs": [
    {
     "data": {
      "text/plain": [
       "Counter({'2D': 1,\n",
       "         'AC': 1,\n",
       "         '3C': 1,\n",
       "         'JH': 1,\n",
       "         'AD': 1,\n",
       "         '5C': 1,\n",
       "         '9D': 1,\n",
       "         '8C': 1,\n",
       "         '6D': 1,\n",
       "         '3H': 1,\n",
       "         '7H': 1,\n",
       "         '5D': 1,\n",
       "         'JC': 1,\n",
       "         '9H': 1,\n",
       "         '2H': 1,\n",
       "         'QC': 1,\n",
       "         '4S': 1,\n",
       "         '10S': 1,\n",
       "         '10C': 1,\n",
       "         '7S': 1,\n",
       "         '8S': 1,\n",
       "         '9S': 1,\n",
       "         '8D': 1,\n",
       "         'QS': 1,\n",
       "         '6H': 1,\n",
       "         'JS': 1,\n",
       "         'KS': 1,\n",
       "         '4H': 1,\n",
       "         '4D': 1,\n",
       "         'QH': 1,\n",
       "         'QD': 1,\n",
       "         '2S': 1,\n",
       "         '3S': 1,\n",
       "         '5S': 1,\n",
       "         '7D': 1,\n",
       "         '8H': 1,\n",
       "         '10D': 1,\n",
       "         'KD': 1,\n",
       "         'KH': 1,\n",
       "         'AS': 1,\n",
       "         '5H': 1,\n",
       "         'JD': 1,\n",
       "         '7C': 1,\n",
       "         '4C': 1,\n",
       "         'AH': 1,\n",
       "         '2C': 1,\n",
       "         '3D': 1,\n",
       "         '6S': 1,\n",
       "         '6C': 1,\n",
       "         'KC': 1,\n",
       "         '9C': 1,\n",
       "         '10H': 1})"
      ]
     },
     "execution_count": 208,
     "metadata": {},
     "output_type": "execute_result"
    }
   ],
   "source": [
    "Counter(random.sample(deck, k =52))"
   ]
  },
  {
   "cell_type": "code",
   "execution_count": 209,
   "metadata": {},
   "outputs": [],
   "source": [
    "from timeit import timeit"
   ]
  },
  {
   "cell_type": "code",
   "execution_count": 210,
   "metadata": {},
   "outputs": [
    {
     "name": "stdout",
     "output_type": "stream",
     "text": [
      "Help on function timeit in module timeit:\n",
      "\n",
      "timeit(stmt='pass', setup='pass', timer=<built-in function perf_counter>, number=1000000, globals=None)\n",
      "    Convenience function to create Timer object and call timeit method.\n",
      "\n"
     ]
    }
   ],
   "source": [
    "help(timeit)"
   ]
  },
  {
   "cell_type": "code",
   "execution_count": 211,
   "metadata": {},
   "outputs": [
    {
     "data": {
      "text/plain": [
       "{'__name__': '__main__',\n",
       " '__doc__': 'Automatically created module for IPython interactive environment',\n",
       " '__package__': None,\n",
       " '__loader__': None,\n",
       " '__spec__': None,\n",
       " '__builtin__': <module 'builtins' (built-in)>,\n",
       " '__builtins__': <module 'builtins' (built-in)>,\n",
       " '_ih': ['',\n",
       "  'from sys import version_info',\n",
       "  'version_info',\n",
       "  \"d = {'b' = 1 , 'a' = 2}\",\n",
       "  'd.keys(), d.values(), d.items()',\n",
       "  \"d = {'b' : 1 , 'a' : 2}\",\n",
       "  'd.keys(), d.values(), d.items()',\n",
       "  \"d['x'] = 3\",\n",
       "  'd.keys(), d.values(), d.items()',\n",
       "  \"del d['a']\",\n",
       "  'd.items()',\n",
       "  \"d['a'] = 1\",\n",
       "  'd.items()',\n",
       "  'd.items()',\n",
       "  'd',\n",
       "  'print(d)',\n",
       "  'd.popitems()',\n",
       "  'd.popitem()',\n",
       "  'd',\n",
       "  \"d1 = {'a':1, 'b':200}\",\n",
       "  \"d2 = {'a':100, 'd': 300, 'c':400}\",\n",
       "  'd1.update(d2)',\n",
       "  'd1',\n",
       "  '##moved to end',\n",
       "  \"d = {'a':1, 'b':2, 'c':3}\\nprint('start',d)\\nd['a']=d.pop('a')\\nprint('moved to end', d)\",\n",
       "  '##moved to end()(last=False)',\n",
       "  \"d = {'a':1, 'b':2, 'c':3, 'x'=100, 'y'=200}\\nprint('start',d)\\nd['c'] = d.pop('c')\\nprint('moved c to end',d)\",\n",
       "  \"d = {'a':1, 'b':2, 'c':3, 'x':100, 'y':200}\\nprint('start',d)\\nd['c'] = d.pop('c')\\nprint('moved c to end',d)\",\n",
       "  \"d = {'a':1, 'b':2, 'c':3, 'x':100, 'y':200}\\nprint('start',d)\\nd['c'] = d.pop('c')\\nprint('moved c to end',d)\\nfor i in range(len(d)-1):\\n    key = next(iter(d.keys()))\\n    d[key] = d.pop(key)\\nprint('moved',d)\",\n",
       "  '##pop last item',\n",
       "  \"d = {'a':1, 'b':2, 'c':3, 'x':100, 'y':200}\\nprint('start',d)\\nd.popitem()\\nprint(d)\",\n",
       "  '##pop first item',\n",
       "  \"d = {'a':1, 'b':2, 'c':3, 'x':100, 'y':200}\\nprint('start',d)\\nkey = next(iter(d.keys()))\\nd.popkey()\\nprint('after pop', d)\",\n",
       "  \"d = {'a':1, 'b':2, 'c':3, 'x':100, 'y':200}\\nprint('start',d)\\nkey = next(iter(d.keys()))\\nd.pop(key)\\nprint('after pop', d)\",\n",
       "  'def fun(**kwargs):\\n    for item in kwargs.items():\\n        print(item)',\n",
       "  \"fun(b=100, a=100, y ='hello', p = 'python')\",\n",
       "  'from collections import namedtuple',\n",
       "  \"def def_namedtuple(class_name, **fields):\\n    Struct = namedtuple('Struct', fields.keys())\\n    Struct.__new__.__defaults__ = tuple(fields.values())\\n    return Struct\",\n",
       "  \"Vector2D = def_namedtuple('Vector2d', \\n                         x1 = None,\\n                         x2 = None,\\n                         y1 = None,\\n                         y2= None,\\n                         origin_x = 0, origin_y = 0)\",\n",
       "  'Vector2d.__fields__',\n",
       "  'Vector2d._fields',\n",
       "  \"Vector2D = def_namedtuple('Vector2d', \\n                         x1 = None,\\n                         x2 = None,\\n                         y1 = None,\\n                         y2= None,\\n                         origin_x = 0, origin_y = 0)\",\n",
       "  'Vector2d._fields',\n",
       "  'Vector2D._fields',\n",
       "  'v1 = Vector2D(10,10,20,20)',\n",
       "  'v1',\n",
       "  '10_000_000',\n",
       "  '0x_FF_FFF',\n",
       "  '0xFFFFFFF',\n",
       "  '0x_F_F_F_F_F_F_F_F',\n",
       "  '1_0_0_0_0.54321',\n",
       "  \"'{:_}'.format(10000)\",\n",
       "  \"'{:_}'.format(1000000000)\",\n",
       "  \"'{:_x}'.format(4294967295)\",\n",
       "  \"int('FF_FFFFF', 16)\",\n",
       "  \"int('0b_1_000')\",\n",
       "  \"'{}%{} = {}'.format(10,3,10%3)\",\n",
       "  '{1} %{2} = {0}.format(10%3,10,3)',\n",
       "  \"'{1} %{2} = {0}'.format(10%3,10,3)\",\n",
       "  \"'{a}%{b}= {mod}'.format(a=10, mod =10%3, b=3)\",\n",
       "  \"a = 10\\nb=3\\nf'{a} % {b}'\",\n",
       "  \"a = 10\\nb=3\\nf'{a} % {b} = {a%b}'\",\n",
       "  \"a = 10/3\\nf'{a:0.5f}\",\n",
       "  \"a = 10/3\\nf'{a:0.5f}'\",\n",
       "  \"f'{10/3:0.5f}''\",\n",
       "  \"f'{10/3:0.5f}'\",\n",
       "  \"name = 'Python'\",\n",
       "  \"''{name} rocks'\",\n",
       "  \"'{name} rocks'\",\n",
       "  \"'{name} rocks!'.format(name)\",\n",
       "  \"'{name} rocks!'.format(name=name)\",\n",
       "  \"def outer():\\n    name = 'Python'\\n    def inner():\\n        return f'{name} rocks!'\\n    return inner\",\n",
       "  'print(outer()())',\n",
       "  'sq  = lambda x:x**2',\n",
       "  'a = 10, b=1\\nprint(f\"{sq(a) if b >5 else a}\")\\nb=10\\nprint(f\"{sq(a) if b >5 else a}\")',\n",
       "  'a = 10, b=1\\nprint(f\"{sq(a) if b >5 else a}\")\\nb=10\\nprint(f\"{sq(b) if b >5 else b}\")',\n",
       "  'a = 10, b=1\\nprint(f\"{sq(a) if b >5 else a}\")',\n",
       "  'a = 10\\nb=1\\nprint(f\"{sq(a) if b >5 else a}\")',\n",
       "  'a = 10\\nb=1\\nprint(f\"{sq(a) if b >5 else a}\")\\nb=10\\nprint(f\"{sq(a) if b >5 else a}\")',\n",
       "  \"a = 10\\nb=1\\nprint(f'{(lambda x: x**2)(a) if b>5 else a}')\",\n",
       "  \"a = 10\\nb=1\\nprint(f'{(lambda x: x**2)(a) if b>5 else a}')\\nb=10\\nprint(f'{(lambda x: x**2)(a) if b>5 else a}')\",\n",
       "  'import random',\n",
       "  'for _ in range(10):\\n    print(random.randint(10,20), random.random())',\n",
       "  'for _ in range(10):\\n    print(random.randint(10,20), random.random())',\n",
       "  'random.seed(0)',\n",
       "  'for _ in range(10):\\n    print(random.randint(10,20), random.random())',\n",
       "  'for _ in range(10):\\n    print(random.randint(10,20), random.random())',\n",
       "  'random.seed(0)\\nfor _ in range(10):\\n    print(random.randint(10,20), random.random())',\n",
       "  'random.seed(0)\\nfor _ in range(10):\\n    print(random.randint(10,20), random.random())',\n",
       "  \"def generate_random_stuff(seed=None):\\n    random.seed(seed)\\n    results = []\\n    for _ in range(5):\\n        results.append(random.randint(0,5))\\n        \\n    characters = list('abc')\\n    random.shuffle(characters)\\n    results.append(characters)\\n    \\n    for _ in range(5):\\n        results.append(random.gauss(0,1))\\n        \\n    return results\",\n",
       "  'generate_random_stuff()',\n",
       "  'generate_random_stuff()',\n",
       "  'generate_random_stuff()',\n",
       "  'generate_random_stuff(0)',\n",
       "  'generate_random_stuff(0)',\n",
       "  'generate_random_stuff(100)',\n",
       "  'generate_random_stuff(100)',\n",
       "  'generate_random_stuff(100)',\n",
       "  'def freq_analysis(lst):\\n    return {k: lst.count(k) for k in lst set(lst)}',\n",
       "  'def freq_analysis(lst):\\n    return {k: lst.count(k) for k in set(lst)}',\n",
       "  'lst= [random.randint(0,10) for _ in range(100)]',\n",
       "  'print(lst)',\n",
       "  'set(lst)',\n",
       "  'lst.count(1)',\n",
       "  'lst.count(10)',\n",
       "  'freq_analysis(lst)',\n",
       "  'freq_analysis([random.randint(0,10) for _ in range(1_000_000)])',\n",
       "  'd = freq_analysis([random.randint(0,10) for _ in range(1_000_000)])',\n",
       "  'd',\n",
       "  'total = sum(d.values)',\n",
       "  'total = sum(d.values())',\n",
       "  'total',\n",
       "  '{k: v/total *100 for k, v in d.items()}',\n",
       "  'from collections import Counter',\n",
       "  'Counter([random.randint(10,20) for _ in range(100_000)])',\n",
       "  'l = [10,20,30,40,50]',\n",
       "  'random_index = random.randrange(len(l))\\nl[random_index]',\n",
       "  'random_index = random.randrange(len(l))\\nl[random_index]',\n",
       "  'random_index = random.randrange(len(l))\\nl[random_index]',\n",
       "  'l = list(range(1000))',\n",
       "  'print(l)',\n",
       "  'randoms = []\\n\\nfor _ in range(5):\\n    randoms.append(l[random.randrange(len(l))])\\n    \\nprint(randoms)',\n",
       "  'randoms = []\\n\\nfor _ in range(5):\\n    randoms.append(l[random.randrange(len(l))])\\n    \\nprint(randoms)',\n",
       "  'randoms = []\\n\\nfor _ in range(5):\\n    randoms.append(l[random.randrange(len(l))])\\n    \\nprint(randoms)',\n",
       "  'random.cjoice(l)',\n",
       "  'random.choice(l)',\n",
       "  'random.choice(l)',\n",
       "  'randoms = []\\n\\nfor _ in range(5):\\n    randoms.append(l[random.choice(len(l))])\\n    \\nprint(randoms)',\n",
       "  'randoms = []\\n\\nfor _ in range(5):\\n    randoms.append(l[random.choice(l)])\\n    \\nprint(randoms)',\n",
       "  'randoms = []\\n\\nfor _ in range(5):\\n    randoms.append(l[random.choice(l)])\\n    \\nprint(randoms)',\n",
       "  'randoms = []\\n\\nfor _ in range(5):\\n    randoms.append(l[random.choice(l)])\\n    \\nprint(randoms)',\n",
       "  'randoms = [random.choice(l) for _ in range(5)]',\n",
       "  'randoms = [random.choice(l) for _ in range(5)]\\nprint(randoms)',\n",
       "  'randoms = [random.choice(l) for _ in range(5)]\\nprint(randoms)',\n",
       "  'randoms = [random.choice(l) for _ in range(5)]\\nprint(randoms)',\n",
       "  'randoms = random.choices(l, k=5)\\nprint(randoms)',\n",
       "  'randoms = random.choices(l, k=5)\\nprint(randoms)',\n",
       "  'randoms = random.choices(l, k=5)\\nprint(randoms)',\n",
       "  'l [1,2,3,4]\\n\\nrandoms = [random.choice(l) for _ in range(10)]',\n",
       "  'l [1,2,3,4]\\n\\nrandoms = [random.choice(l) for _ in range(10)]\\nprint(randoms)',\n",
       "  'l = [1,2,3,4]\\n\\nrandoms = [random.choice(l) for _ in range(10)]\\nprint(randoms)',\n",
       "  'randoms = random.choices(l, k=10)\\nprint(randoms)',\n",
       "  \"l = ['a', 'b', 'c']\",\n",
       "  'for _ in range(10):\\n    print(random.choices(l, k=5))',\n",
       "  'weights = [10,1,1]',\n",
       "  'for _ in range(10):\\n    print(random.choices(l, k=5), weight = weights)',\n",
       "  'for _ in range(10):\\n    print(random.choices(l, k=5), weights = weights)',\n",
       "  'for _ in range(10):\\n    print(random.choices(l, k=5, weights = weights))',\n",
       "  \"from collections import namedtuple\\n\\nFred = namedtuple('Fred', 'count, freq')\",\n",
       "  'def freq_counts(lst):\\n    total = len(lst)\\n    return {k: Fred(lst.count(k),100* lst.count(k)/total for k in set(lst))}',\n",
       "  'def freq_counts(lst):\\n    total = len(lst)\\n    return {k: Fred(lst.count(k), 100 * lst.count(k)/total) for k in set(lst)}',\n",
       "  'freq_counts(random.choices(l,1000))',\n",
       "  'freq_counts(random.choices(l,k=1000))',\n",
       "  'freq_counts(random.choices(l,k=100_000))',\n",
       "  'weights = [8,1,1]',\n",
       "  'freq_counts(random.choices(l,k=100_000, weights =weights))',\n",
       "  'weights = [7,1,2]',\n",
       "  'freq_counts(random.choices(l,k=100_000))',\n",
       "  'freq_counts(random.choices(l,k=100_000, weights =weights))',\n",
       "  'cum_weights[7.8.10]',\n",
       "  'cum_weights = [7.8.10]',\n",
       "  'cum_weights = [7.8.10]',\n",
       "  'cum_weights = [7,810]',\n",
       "  'cum_weights = [7,8,10]',\n",
       "  'freq_counts(random.choices(l,k=100_000, weights =weights))',\n",
       "  'from time import perf_counter',\n",
       "  'random.seed(0)',\n",
       "  'denoms = random.choices([0,1], k = 10_000_000)',\n",
       "  \"start = perf_counter()\\nfor d in denoms:\\n    if d ==0:\\n        continue\\n    else:\\n        10/denominator\\nend = perf_counter()\\nperint(f'avg start time: {(end-start)/len(denoms):0.15f}')\",\n",
       "  \"start = perf_counter()\\nfor d in denoms:\\n    if d ==0:\\n        continue\\n    else:\\n        10/denoms\\nend = perf_counter()\\nperint(f'avg start time: {(end-start)/len(denoms):0.15f}')\",\n",
       "  \"start = perf_counter()\\nfor d in denoms:\\n    if d ==0:\\n        continue\\n    else:\\n        10/denominator\\nend = perf_counter()\\nperint(f'avg start time: {(end-start)/len(denoms):0.15f}')\",\n",
       "  \"start = perf_counter()\\nfor d in denoms:\\n    if d ==0:\\n        continue\\n    else:\\n        10/denominator\\nend = perf_counter()\\nperint(f'avg start time: {(end-start)/len(denoms):0.15f}')\",\n",
       "  \"start = perf_counter()\\nfor d in denoms:\\n    if d ==0:\\n        continue\\n    else:\\n        10 / denominator\\nend = perf_counter()\\nperint(f'avg start time: {(end-start)/len(denoms):0.15f}')\",\n",
       "  \"start = perf_counter()\\nfor d in denoms:\\n    if d ==0:\\n        continue\\n    else:\\n        10 / denoms\\nend = perf_counter()\\nperint(f'avg start time: {(end-start)/len(denoms):0.15f}')\",\n",
       "  \"start = perf_counter()\\nfor d in denoms:\\n    if d ==0:\\n        continue\\n    else:\\n        10 / denom\\nend = perf_counter()\\nprint(f'avg start time: {(end-start)/len(denoms):0.15f}')\",\n",
       "  \"start = perf_counter()\\nfor d in denoms:\\n    if d ==0:\\n        continue\\n    else:\\n        10 / denominator\\nend = perf_counter()\\nprint(f'avg start time: {(end-start)/len(denoms):0.15f}')\",\n",
       "  \"start = perf_counter()\\nfor d in denoms:\\n    if d ==0:\\n        continue\\n    else:\\n        10 / d\\nend = perf_counter()\\nprint(f'avg start time: {(end-start)/len(denoms):0.15f}')\",\n",
       "  \"start = perf_counter()\\nfor d in denoms:\\n    try:\\n        10/d\\n    except ZeroDivisionError:\\n        pass\\nend = perf_counter()\\nprint(f'avg start time: {(end-start)/len(denoms):0.15f}')\",\n",
       "  'random.seed(0)\\ndenoms = random.choices([0,1], k = 10_000_000, weights=[1,9])',\n",
       "  \"start = perf_counter()\\nfor d in denoms:\\n    if d ==0:\\n        continue\\n    else:\\n        10 / d\\nend = perf_counter()\\nprint(f'avg start time: {(end-start)/len(denoms):0.15f}')\",\n",
       "  \"start = perf_counter()\\nfor d in denoms:\\n    if d ==0:\\n        continue\\n    else:\\n        10 / d\\nend = perf_counter()\\nprint(f'avg start time: {(end-start)/len(denoms)}')\",\n",
       "  \"start = perf_counter()\\nfor d in denoms:\\n    try:\\n        10/d\\n    except ZeroDivisionError:\\n        pass\\nend = perf_counter()\\nprint(f'avg start time: {(end-start)/len(denoms)}')\",\n",
       "  'random.seed(0)\\ndenoms = random.choices([0,1], k = 10_000_000, weights=[9,1])',\n",
       "  \"start = perf_counter()\\nfor d in denoms:\\n    if d ==0:\\n        continue\\n    else:\\n        10 / d\\nend = perf_counter()\\nprint(f'avg start time: {(end-start)/len(denoms)}')\",\n",
       "  \"start = perf_counter()\\nfor d in denoms:\\n    try:\\n        10/d\\n    except ZeroDivisionError:\\n        pass\\nend = perf_counter()\\nprint(f'avg start time: {(end-start)/len(denoms)}')\",\n",
       "  \"random.choices(list('abc'), k=10)\",\n",
       "  'l = list(range(10))\\nprint(l)',\n",
       "  'random.choices(l,k=5)',\n",
       "  'random.sample(l,k=5)',\n",
       "  'random.sample(l,k=5)',\n",
       "  'random.sample(l,k=5)',\n",
       "  'random.sample(l,k=11)',\n",
       "  'random.sample(l,k=10)',\n",
       "  \"suits = 'C', 'D', 'H', 'S'\\nranks = tuple(range(2,11)) + tuple('JQKA')\",\n",
       "  'suits',\n",
       "  'ranks',\n",
       "  'deck = []\\nfor suit in suits:\\n    for rank in ranks:\\n        deck.append(str(rank) + suit)',\n",
       "  'print(deck)',\n",
       "  'deck [str(rank) + rank for suit in suits for rank in ranks]',\n",
       "  'deck [str(rank) + suit for  suit in suits for rank in ranks]',\n",
       "  'deck [str(rank) + suit for suit in suits for rank in ranks]',\n",
       "  'deck = [str(rank) + suit for suit in suits for rank in ranks]',\n",
       "  'deck',\n",
       "  'random.choices(deck,k=10)',\n",
       "  'random.choices(deck,k=40)',\n",
       "  'Counter(random.choices(deck,k=40))',\n",
       "  'random.sample(deck, k 10)',\n",
       "  'random.sample(deck, k =10)',\n",
       "  'Counter(random.sample(deck, k =52))',\n",
       "  'from timeit import timeit',\n",
       "  'help(timeit)',\n",
       "  'globals()'],\n",
       " '_oh': {2: sys.version_info(major=3, minor=9, micro=0, releaselevel='final', serial=0),\n",
       "  6: (dict_keys(['b', 'x']),\n",
       "   dict_values([1, 3]),\n",
       "   dict_items([('b', 1), ('x', 3)])),\n",
       "  8: (dict_keys(['b', 'x']),\n",
       "   dict_values([1, 3]),\n",
       "   dict_items([('b', 1), ('x', 3)])),\n",
       "  10: dict_items([('b', 1), ('x', 3)]),\n",
       "  12: dict_items([('b', 1), ('x', 3)]),\n",
       "  13: dict_items([('b', 1), ('x', 3)]),\n",
       "  14: {'b': 1, 'x': 3},\n",
       "  17: ('a', 1),\n",
       "  18: {'b': 1, 'x': 3},\n",
       "  22: {'a': 100, 'b': 200, 'd': 300, 'c': 400},\n",
       "  43: ('x1', 'x2', 'y1', 'y2', 'origin_x', 'origin_y'),\n",
       "  45: Struct(x1=10, x2=10, y1=20, y2=20, origin_x=0, origin_y=0),\n",
       "  46: 10000000,\n",
       "  47: 1048575,\n",
       "  48: 268435455,\n",
       "  49: 4294967295,\n",
       "  50: 10000.54321,\n",
       "  51: '10_000',\n",
       "  52: '1_000_000_000',\n",
       "  53: 'ffff_ffff',\n",
       "  54: 268435455,\n",
       "  56: '10%3 = 1',\n",
       "  58: '10 %3 = 1',\n",
       "  59: '10%3= 1',\n",
       "  60: '10 % 3',\n",
       "  61: '10 % 3 = 1',\n",
       "  63: '3.33333',\n",
       "  65: '3.33333',\n",
       "  68: '{name} rocks',\n",
       "  70: 'Python rocks!',\n",
       "  90: [3,\n",
       "   3,\n",
       "   5,\n",
       "   1,\n",
       "   5,\n",
       "   ['c', 'a', 'b'],\n",
       "   0.44809258493703863,\n",
       "   0.03628018651930084,\n",
       "   -0.10989448925844639,\n",
       "   -0.2551615178503112,\n",
       "   0.9245834713514316],\n",
       "  91: [5,\n",
       "   4,\n",
       "   0,\n",
       "   5,\n",
       "   3,\n",
       "   ['b', 'c', 'a'],\n",
       "   1.6903786725487338,\n",
       "   0.7890268534055087,\n",
       "   0.8845669879054742,\n",
       "   -0.009428933620598653,\n",
       "   0.02670024338441462],\n",
       "  92: [3,\n",
       "   5,\n",
       "   1,\n",
       "   4,\n",
       "   1,\n",
       "   ['a', 'c', 'b'],\n",
       "   0.26547077722326534,\n",
       "   -0.23189153424064363,\n",
       "   0.8232983922494312,\n",
       "   0.39537831924552097,\n",
       "   -0.2208015104777857],\n",
       "  93: [3,\n",
       "   3,\n",
       "   0,\n",
       "   2,\n",
       "   4,\n",
       "   ['a', 'c', 'b'],\n",
       "   1.6391095109274887,\n",
       "   -0.9249345372119703,\n",
       "   0.9223306019157185,\n",
       "   -0.1891931090669293,\n",
       "   0.5456115709634167],\n",
       "  94: [3,\n",
       "   3,\n",
       "   0,\n",
       "   2,\n",
       "   4,\n",
       "   ['a', 'c', 'b'],\n",
       "   1.6391095109274887,\n",
       "   -0.9249345372119703,\n",
       "   0.9223306019157185,\n",
       "   -0.1891931090669293,\n",
       "   0.5456115709634167],\n",
       "  95: [1,\n",
       "   3,\n",
       "   3,\n",
       "   1,\n",
       "   5,\n",
       "   ['a', 'c', 'b'],\n",
       "   -1.639893943131093,\n",
       "   0.7278930291928233,\n",
       "   -0.4000719319137612,\n",
       "   -0.08390378703116254,\n",
       "   -0.3013546798244102],\n",
       "  96: [1,\n",
       "   3,\n",
       "   3,\n",
       "   1,\n",
       "   5,\n",
       "   ['a', 'c', 'b'],\n",
       "   -1.639893943131093,\n",
       "   0.7278930291928233,\n",
       "   -0.4000719319137612,\n",
       "   -0.08390378703116254,\n",
       "   -0.3013546798244102],\n",
       "  97: [1,\n",
       "   3,\n",
       "   3,\n",
       "   1,\n",
       "   5,\n",
       "   ['a', 'c', 'b'],\n",
       "   -1.639893943131093,\n",
       "   0.7278930291928233,\n",
       "   -0.4000719319137612,\n",
       "   -0.08390378703116254,\n",
       "   -0.3013546798244102],\n",
       "  102: {0, 1, 2, 3, 4, 5, 6, 7, 8, 9, 10},\n",
       "  103: 6,\n",
       "  104: 10,\n",
       "  105: {0: 9, 1: 6, 2: 10, 3: 13, 4: 8, 5: 9, 6: 9, 7: 6, 8: 8, 9: 12, 10: 10},\n",
       "  106: {0: 90789,\n",
       "   1: 90651,\n",
       "   2: 91126,\n",
       "   3: 90359,\n",
       "   4: 91051,\n",
       "   5: 91256,\n",
       "   6: 90508,\n",
       "   7: 91190,\n",
       "   8: 90977,\n",
       "   9: 91048,\n",
       "   10: 91045},\n",
       "  108: {0: 90934,\n",
       "   1: 90927,\n",
       "   2: 90801,\n",
       "   3: 91040,\n",
       "   4: 90818,\n",
       "   5: 90753,\n",
       "   6: 91280,\n",
       "   7: 90850,\n",
       "   8: 90473,\n",
       "   9: 90894,\n",
       "   10: 91230},\n",
       "  111: 1000000,\n",
       "  112: {0: 9.0934,\n",
       "   1: 9.092699999999999,\n",
       "   2: 9.0801,\n",
       "   3: 9.104,\n",
       "   4: 9.0818,\n",
       "   5: 9.0753,\n",
       "   6: 9.128,\n",
       "   7: 9.085,\n",
       "   8: 9.0473,\n",
       "   9: 9.0894,\n",
       "   10: 9.123000000000001},\n",
       "  114: Counter({15: 9076,\n",
       "           14: 9254,\n",
       "           18: 9018,\n",
       "           10: 9028,\n",
       "           13: 9036,\n",
       "           16: 9067,\n",
       "           19: 9059,\n",
       "           12: 9061,\n",
       "           20: 9084,\n",
       "           11: 9127,\n",
       "           17: 9190}),\n",
       "  116: 40,\n",
       "  117: 20,\n",
       "  118: 30,\n",
       "  125: 633,\n",
       "  126: 206,\n",
       "  152: {'a': Fred(count=317, freq=31.7),\n",
       "   'b': Fred(count=359, freq=35.9),\n",
       "   'c': Fred(count=324, freq=32.4)},\n",
       "  153: {'a': Fred(count=33125, freq=33.125),\n",
       "   'b': Fred(count=33372, freq=33.372),\n",
       "   'c': Fred(count=33503, freq=33.503)},\n",
       "  155: {'a': Fred(count=80045, freq=80.045),\n",
       "   'b': Fred(count=10037, freq=10.037),\n",
       "   'c': Fred(count=9918, freq=9.918)},\n",
       "  157: {'a': Fred(count=33309, freq=33.309),\n",
       "   'b': Fred(count=33284, freq=33.284),\n",
       "   'c': Fred(count=33407, freq=33.407)},\n",
       "  158: {'a': Fred(count=70047, freq=70.047),\n",
       "   'b': Fred(count=9976, freq=9.976),\n",
       "   'c': Fred(count=19977, freq=19.977)},\n",
       "  164: {'a': Fred(count=70210, freq=70.21),\n",
       "   'b': Fred(count=9820, freq=9.82),\n",
       "   'c': Fred(count=19970, freq=19.97)},\n",
       "  185: ['c', 'c', 'a', 'b', 'b', 'c', 'c', 'c', 'a', 'b'],\n",
       "  187: [3, 2, 4, 5, 7],\n",
       "  188: [6, 9, 1, 4, 8],\n",
       "  189: [6, 8, 5, 1, 0],\n",
       "  190: [3, 7, 8, 6, 2],\n",
       "  192: [2, 6, 8, 7, 9, 5, 1, 4, 3, 0],\n",
       "  194: ('C', 'D', 'H', 'S'),\n",
       "  195: (2, 3, 4, 5, 6, 7, 8, 9, 10, 'J', 'Q', 'K', 'A'),\n",
       "  202: ['2C',\n",
       "   '3C',\n",
       "   '4C',\n",
       "   '5C',\n",
       "   '6C',\n",
       "   '7C',\n",
       "   '8C',\n",
       "   '9C',\n",
       "   '10C',\n",
       "   'JC',\n",
       "   'QC',\n",
       "   'KC',\n",
       "   'AC',\n",
       "   '2D',\n",
       "   '3D',\n",
       "   '4D',\n",
       "   '5D',\n",
       "   '6D',\n",
       "   '7D',\n",
       "   '8D',\n",
       "   '9D',\n",
       "   '10D',\n",
       "   'JD',\n",
       "   'QD',\n",
       "   'KD',\n",
       "   'AD',\n",
       "   '2H',\n",
       "   '3H',\n",
       "   '4H',\n",
       "   '5H',\n",
       "   '6H',\n",
       "   '7H',\n",
       "   '8H',\n",
       "   '9H',\n",
       "   '10H',\n",
       "   'JH',\n",
       "   'QH',\n",
       "   'KH',\n",
       "   'AH',\n",
       "   '2S',\n",
       "   '3S',\n",
       "   '4S',\n",
       "   '5S',\n",
       "   '6S',\n",
       "   '7S',\n",
       "   '8S',\n",
       "   '9S',\n",
       "   '10S',\n",
       "   'JS',\n",
       "   'QS',\n",
       "   'KS',\n",
       "   'AS'],\n",
       "  203: ['QS', '5H', '5H', '7S', '4C', 'QS', '7D', '7S', '9H', 'JC'],\n",
       "  204: ['5S',\n",
       "   '8H',\n",
       "   '10S',\n",
       "   '2H',\n",
       "   'KC',\n",
       "   '9D',\n",
       "   '4H',\n",
       "   'KC',\n",
       "   '5D',\n",
       "   'KD',\n",
       "   '7S',\n",
       "   'QS',\n",
       "   '7C',\n",
       "   'AC',\n",
       "   '2C',\n",
       "   '9C',\n",
       "   '7C',\n",
       "   '10H',\n",
       "   'QC',\n",
       "   '4D',\n",
       "   '5H',\n",
       "   '10S',\n",
       "   '10H',\n",
       "   '7S',\n",
       "   '10S',\n",
       "   'QD',\n",
       "   'KS',\n",
       "   'QS',\n",
       "   'JH',\n",
       "   '6H',\n",
       "   'KH',\n",
       "   '7C',\n",
       "   'JC',\n",
       "   '7C',\n",
       "   '10D',\n",
       "   '10C',\n",
       "   'QD',\n",
       "   '10C',\n",
       "   'QD',\n",
       "   '4S'],\n",
       "  205: Counter({'8S': 2,\n",
       "           '7D': 3,\n",
       "           'AS': 2,\n",
       "           '9C': 1,\n",
       "           '10H': 1,\n",
       "           '10D': 1,\n",
       "           '9D': 1,\n",
       "           '8C': 2,\n",
       "           '8H': 1,\n",
       "           '5D': 2,\n",
       "           '10C': 1,\n",
       "           '6H': 1,\n",
       "           'JH': 1,\n",
       "           '6S': 2,\n",
       "           '8D': 1,\n",
       "           '5C': 2,\n",
       "           'KD': 1,\n",
       "           'AH': 2,\n",
       "           '4S': 3,\n",
       "           'QH': 1,\n",
       "           '4D': 1,\n",
       "           '2D': 1,\n",
       "           '6D': 1,\n",
       "           'AD': 1,\n",
       "           'QC': 1,\n",
       "           'QS': 1,\n",
       "           '7C': 1,\n",
       "           '10S': 1,\n",
       "           '5S': 1}),\n",
       "  207: ['KH', '9H', '5C', '9D', '4H', '7D', '2C', '7H', '8C', '6S'],\n",
       "  208: Counter({'2D': 1,\n",
       "           'AC': 1,\n",
       "           '3C': 1,\n",
       "           'JH': 1,\n",
       "           'AD': 1,\n",
       "           '5C': 1,\n",
       "           '9D': 1,\n",
       "           '8C': 1,\n",
       "           '6D': 1,\n",
       "           '3H': 1,\n",
       "           '7H': 1,\n",
       "           '5D': 1,\n",
       "           'JC': 1,\n",
       "           '9H': 1,\n",
       "           '2H': 1,\n",
       "           'QC': 1,\n",
       "           '4S': 1,\n",
       "           '10S': 1,\n",
       "           '10C': 1,\n",
       "           '7S': 1,\n",
       "           '8S': 1,\n",
       "           '9S': 1,\n",
       "           '8D': 1,\n",
       "           'QS': 1,\n",
       "           '6H': 1,\n",
       "           'JS': 1,\n",
       "           'KS': 1,\n",
       "           '4H': 1,\n",
       "           '4D': 1,\n",
       "           'QH': 1,\n",
       "           'QD': 1,\n",
       "           '2S': 1,\n",
       "           '3S': 1,\n",
       "           '5S': 1,\n",
       "           '7D': 1,\n",
       "           '8H': 1,\n",
       "           '10D': 1,\n",
       "           'KD': 1,\n",
       "           'KH': 1,\n",
       "           'AS': 1,\n",
       "           '5H': 1,\n",
       "           'JD': 1,\n",
       "           '7C': 1,\n",
       "           '4C': 1,\n",
       "           'AH': 1,\n",
       "           '2C': 1,\n",
       "           '3D': 1,\n",
       "           '6S': 1,\n",
       "           '6C': 1,\n",
       "           'KC': 1,\n",
       "           '9C': 1,\n",
       "           '10H': 1})},\n",
       " '_dh': ['C:\\\\Users\\\\karti\\\\pycode'],\n",
       " 'In': ['',\n",
       "  'from sys import version_info',\n",
       "  'version_info',\n",
       "  \"d = {'b' = 1 , 'a' = 2}\",\n",
       "  'd.keys(), d.values(), d.items()',\n",
       "  \"d = {'b' : 1 , 'a' : 2}\",\n",
       "  'd.keys(), d.values(), d.items()',\n",
       "  \"d['x'] = 3\",\n",
       "  'd.keys(), d.values(), d.items()',\n",
       "  \"del d['a']\",\n",
       "  'd.items()',\n",
       "  \"d['a'] = 1\",\n",
       "  'd.items()',\n",
       "  'd.items()',\n",
       "  'd',\n",
       "  'print(d)',\n",
       "  'd.popitems()',\n",
       "  'd.popitem()',\n",
       "  'd',\n",
       "  \"d1 = {'a':1, 'b':200}\",\n",
       "  \"d2 = {'a':100, 'd': 300, 'c':400}\",\n",
       "  'd1.update(d2)',\n",
       "  'd1',\n",
       "  '##moved to end',\n",
       "  \"d = {'a':1, 'b':2, 'c':3}\\nprint('start',d)\\nd['a']=d.pop('a')\\nprint('moved to end', d)\",\n",
       "  '##moved to end()(last=False)',\n",
       "  \"d = {'a':1, 'b':2, 'c':3, 'x'=100, 'y'=200}\\nprint('start',d)\\nd['c'] = d.pop('c')\\nprint('moved c to end',d)\",\n",
       "  \"d = {'a':1, 'b':2, 'c':3, 'x':100, 'y':200}\\nprint('start',d)\\nd['c'] = d.pop('c')\\nprint('moved c to end',d)\",\n",
       "  \"d = {'a':1, 'b':2, 'c':3, 'x':100, 'y':200}\\nprint('start',d)\\nd['c'] = d.pop('c')\\nprint('moved c to end',d)\\nfor i in range(len(d)-1):\\n    key = next(iter(d.keys()))\\n    d[key] = d.pop(key)\\nprint('moved',d)\",\n",
       "  '##pop last item',\n",
       "  \"d = {'a':1, 'b':2, 'c':3, 'x':100, 'y':200}\\nprint('start',d)\\nd.popitem()\\nprint(d)\",\n",
       "  '##pop first item',\n",
       "  \"d = {'a':1, 'b':2, 'c':3, 'x':100, 'y':200}\\nprint('start',d)\\nkey = next(iter(d.keys()))\\nd.popkey()\\nprint('after pop', d)\",\n",
       "  \"d = {'a':1, 'b':2, 'c':3, 'x':100, 'y':200}\\nprint('start',d)\\nkey = next(iter(d.keys()))\\nd.pop(key)\\nprint('after pop', d)\",\n",
       "  'def fun(**kwargs):\\n    for item in kwargs.items():\\n        print(item)',\n",
       "  \"fun(b=100, a=100, y ='hello', p = 'python')\",\n",
       "  'from collections import namedtuple',\n",
       "  \"def def_namedtuple(class_name, **fields):\\n    Struct = namedtuple('Struct', fields.keys())\\n    Struct.__new__.__defaults__ = tuple(fields.values())\\n    return Struct\",\n",
       "  \"Vector2D = def_namedtuple('Vector2d', \\n                         x1 = None,\\n                         x2 = None,\\n                         y1 = None,\\n                         y2= None,\\n                         origin_x = 0, origin_y = 0)\",\n",
       "  'Vector2d.__fields__',\n",
       "  'Vector2d._fields',\n",
       "  \"Vector2D = def_namedtuple('Vector2d', \\n                         x1 = None,\\n                         x2 = None,\\n                         y1 = None,\\n                         y2= None,\\n                         origin_x = 0, origin_y = 0)\",\n",
       "  'Vector2d._fields',\n",
       "  'Vector2D._fields',\n",
       "  'v1 = Vector2D(10,10,20,20)',\n",
       "  'v1',\n",
       "  '10_000_000',\n",
       "  '0x_FF_FFF',\n",
       "  '0xFFFFFFF',\n",
       "  '0x_F_F_F_F_F_F_F_F',\n",
       "  '1_0_0_0_0.54321',\n",
       "  \"'{:_}'.format(10000)\",\n",
       "  \"'{:_}'.format(1000000000)\",\n",
       "  \"'{:_x}'.format(4294967295)\",\n",
       "  \"int('FF_FFFFF', 16)\",\n",
       "  \"int('0b_1_000')\",\n",
       "  \"'{}%{} = {}'.format(10,3,10%3)\",\n",
       "  '{1} %{2} = {0}.format(10%3,10,3)',\n",
       "  \"'{1} %{2} = {0}'.format(10%3,10,3)\",\n",
       "  \"'{a}%{b}= {mod}'.format(a=10, mod =10%3, b=3)\",\n",
       "  \"a = 10\\nb=3\\nf'{a} % {b}'\",\n",
       "  \"a = 10\\nb=3\\nf'{a} % {b} = {a%b}'\",\n",
       "  \"a = 10/3\\nf'{a:0.5f}\",\n",
       "  \"a = 10/3\\nf'{a:0.5f}'\",\n",
       "  \"f'{10/3:0.5f}''\",\n",
       "  \"f'{10/3:0.5f}'\",\n",
       "  \"name = 'Python'\",\n",
       "  \"''{name} rocks'\",\n",
       "  \"'{name} rocks'\",\n",
       "  \"'{name} rocks!'.format(name)\",\n",
       "  \"'{name} rocks!'.format(name=name)\",\n",
       "  \"def outer():\\n    name = 'Python'\\n    def inner():\\n        return f'{name} rocks!'\\n    return inner\",\n",
       "  'print(outer()())',\n",
       "  'sq  = lambda x:x**2',\n",
       "  'a = 10, b=1\\nprint(f\"{sq(a) if b >5 else a}\")\\nb=10\\nprint(f\"{sq(a) if b >5 else a}\")',\n",
       "  'a = 10, b=1\\nprint(f\"{sq(a) if b >5 else a}\")\\nb=10\\nprint(f\"{sq(b) if b >5 else b}\")',\n",
       "  'a = 10, b=1\\nprint(f\"{sq(a) if b >5 else a}\")',\n",
       "  'a = 10\\nb=1\\nprint(f\"{sq(a) if b >5 else a}\")',\n",
       "  'a = 10\\nb=1\\nprint(f\"{sq(a) if b >5 else a}\")\\nb=10\\nprint(f\"{sq(a) if b >5 else a}\")',\n",
       "  \"a = 10\\nb=1\\nprint(f'{(lambda x: x**2)(a) if b>5 else a}')\",\n",
       "  \"a = 10\\nb=1\\nprint(f'{(lambda x: x**2)(a) if b>5 else a}')\\nb=10\\nprint(f'{(lambda x: x**2)(a) if b>5 else a}')\",\n",
       "  'import random',\n",
       "  'for _ in range(10):\\n    print(random.randint(10,20), random.random())',\n",
       "  'for _ in range(10):\\n    print(random.randint(10,20), random.random())',\n",
       "  'random.seed(0)',\n",
       "  'for _ in range(10):\\n    print(random.randint(10,20), random.random())',\n",
       "  'for _ in range(10):\\n    print(random.randint(10,20), random.random())',\n",
       "  'random.seed(0)\\nfor _ in range(10):\\n    print(random.randint(10,20), random.random())',\n",
       "  'random.seed(0)\\nfor _ in range(10):\\n    print(random.randint(10,20), random.random())',\n",
       "  \"def generate_random_stuff(seed=None):\\n    random.seed(seed)\\n    results = []\\n    for _ in range(5):\\n        results.append(random.randint(0,5))\\n        \\n    characters = list('abc')\\n    random.shuffle(characters)\\n    results.append(characters)\\n    \\n    for _ in range(5):\\n        results.append(random.gauss(0,1))\\n        \\n    return results\",\n",
       "  'generate_random_stuff()',\n",
       "  'generate_random_stuff()',\n",
       "  'generate_random_stuff()',\n",
       "  'generate_random_stuff(0)',\n",
       "  'generate_random_stuff(0)',\n",
       "  'generate_random_stuff(100)',\n",
       "  'generate_random_stuff(100)',\n",
       "  'generate_random_stuff(100)',\n",
       "  'def freq_analysis(lst):\\n    return {k: lst.count(k) for k in lst set(lst)}',\n",
       "  'def freq_analysis(lst):\\n    return {k: lst.count(k) for k in set(lst)}',\n",
       "  'lst= [random.randint(0,10) for _ in range(100)]',\n",
       "  'print(lst)',\n",
       "  'set(lst)',\n",
       "  'lst.count(1)',\n",
       "  'lst.count(10)',\n",
       "  'freq_analysis(lst)',\n",
       "  'freq_analysis([random.randint(0,10) for _ in range(1_000_000)])',\n",
       "  'd = freq_analysis([random.randint(0,10) for _ in range(1_000_000)])',\n",
       "  'd',\n",
       "  'total = sum(d.values)',\n",
       "  'total = sum(d.values())',\n",
       "  'total',\n",
       "  '{k: v/total *100 for k, v in d.items()}',\n",
       "  'from collections import Counter',\n",
       "  'Counter([random.randint(10,20) for _ in range(100_000)])',\n",
       "  'l = [10,20,30,40,50]',\n",
       "  'random_index = random.randrange(len(l))\\nl[random_index]',\n",
       "  'random_index = random.randrange(len(l))\\nl[random_index]',\n",
       "  'random_index = random.randrange(len(l))\\nl[random_index]',\n",
       "  'l = list(range(1000))',\n",
       "  'print(l)',\n",
       "  'randoms = []\\n\\nfor _ in range(5):\\n    randoms.append(l[random.randrange(len(l))])\\n    \\nprint(randoms)',\n",
       "  'randoms = []\\n\\nfor _ in range(5):\\n    randoms.append(l[random.randrange(len(l))])\\n    \\nprint(randoms)',\n",
       "  'randoms = []\\n\\nfor _ in range(5):\\n    randoms.append(l[random.randrange(len(l))])\\n    \\nprint(randoms)',\n",
       "  'random.cjoice(l)',\n",
       "  'random.choice(l)',\n",
       "  'random.choice(l)',\n",
       "  'randoms = []\\n\\nfor _ in range(5):\\n    randoms.append(l[random.choice(len(l))])\\n    \\nprint(randoms)',\n",
       "  'randoms = []\\n\\nfor _ in range(5):\\n    randoms.append(l[random.choice(l)])\\n    \\nprint(randoms)',\n",
       "  'randoms = []\\n\\nfor _ in range(5):\\n    randoms.append(l[random.choice(l)])\\n    \\nprint(randoms)',\n",
       "  'randoms = []\\n\\nfor _ in range(5):\\n    randoms.append(l[random.choice(l)])\\n    \\nprint(randoms)',\n",
       "  'randoms = [random.choice(l) for _ in range(5)]',\n",
       "  'randoms = [random.choice(l) for _ in range(5)]\\nprint(randoms)',\n",
       "  'randoms = [random.choice(l) for _ in range(5)]\\nprint(randoms)',\n",
       "  'randoms = [random.choice(l) for _ in range(5)]\\nprint(randoms)',\n",
       "  'randoms = random.choices(l, k=5)\\nprint(randoms)',\n",
       "  'randoms = random.choices(l, k=5)\\nprint(randoms)',\n",
       "  'randoms = random.choices(l, k=5)\\nprint(randoms)',\n",
       "  'l [1,2,3,4]\\n\\nrandoms = [random.choice(l) for _ in range(10)]',\n",
       "  'l [1,2,3,4]\\n\\nrandoms = [random.choice(l) for _ in range(10)]\\nprint(randoms)',\n",
       "  'l = [1,2,3,4]\\n\\nrandoms = [random.choice(l) for _ in range(10)]\\nprint(randoms)',\n",
       "  'randoms = random.choices(l, k=10)\\nprint(randoms)',\n",
       "  \"l = ['a', 'b', 'c']\",\n",
       "  'for _ in range(10):\\n    print(random.choices(l, k=5))',\n",
       "  'weights = [10,1,1]',\n",
       "  'for _ in range(10):\\n    print(random.choices(l, k=5), weight = weights)',\n",
       "  'for _ in range(10):\\n    print(random.choices(l, k=5), weights = weights)',\n",
       "  'for _ in range(10):\\n    print(random.choices(l, k=5, weights = weights))',\n",
       "  \"from collections import namedtuple\\n\\nFred = namedtuple('Fred', 'count, freq')\",\n",
       "  'def freq_counts(lst):\\n    total = len(lst)\\n    return {k: Fred(lst.count(k),100* lst.count(k)/total for k in set(lst))}',\n",
       "  'def freq_counts(lst):\\n    total = len(lst)\\n    return {k: Fred(lst.count(k), 100 * lst.count(k)/total) for k in set(lst)}',\n",
       "  'freq_counts(random.choices(l,1000))',\n",
       "  'freq_counts(random.choices(l,k=1000))',\n",
       "  'freq_counts(random.choices(l,k=100_000))',\n",
       "  'weights = [8,1,1]',\n",
       "  'freq_counts(random.choices(l,k=100_000, weights =weights))',\n",
       "  'weights = [7,1,2]',\n",
       "  'freq_counts(random.choices(l,k=100_000))',\n",
       "  'freq_counts(random.choices(l,k=100_000, weights =weights))',\n",
       "  'cum_weights[7.8.10]',\n",
       "  'cum_weights = [7.8.10]',\n",
       "  'cum_weights = [7.8.10]',\n",
       "  'cum_weights = [7,810]',\n",
       "  'cum_weights = [7,8,10]',\n",
       "  'freq_counts(random.choices(l,k=100_000, weights =weights))',\n",
       "  'from time import perf_counter',\n",
       "  'random.seed(0)',\n",
       "  'denoms = random.choices([0,1], k = 10_000_000)',\n",
       "  \"start = perf_counter()\\nfor d in denoms:\\n    if d ==0:\\n        continue\\n    else:\\n        10/denominator\\nend = perf_counter()\\nperint(f'avg start time: {(end-start)/len(denoms):0.15f}')\",\n",
       "  \"start = perf_counter()\\nfor d in denoms:\\n    if d ==0:\\n        continue\\n    else:\\n        10/denoms\\nend = perf_counter()\\nperint(f'avg start time: {(end-start)/len(denoms):0.15f}')\",\n",
       "  \"start = perf_counter()\\nfor d in denoms:\\n    if d ==0:\\n        continue\\n    else:\\n        10/denominator\\nend = perf_counter()\\nperint(f'avg start time: {(end-start)/len(denoms):0.15f}')\",\n",
       "  \"start = perf_counter()\\nfor d in denoms:\\n    if d ==0:\\n        continue\\n    else:\\n        10/denominator\\nend = perf_counter()\\nperint(f'avg start time: {(end-start)/len(denoms):0.15f}')\",\n",
       "  \"start = perf_counter()\\nfor d in denoms:\\n    if d ==0:\\n        continue\\n    else:\\n        10 / denominator\\nend = perf_counter()\\nperint(f'avg start time: {(end-start)/len(denoms):0.15f}')\",\n",
       "  \"start = perf_counter()\\nfor d in denoms:\\n    if d ==0:\\n        continue\\n    else:\\n        10 / denoms\\nend = perf_counter()\\nperint(f'avg start time: {(end-start)/len(denoms):0.15f}')\",\n",
       "  \"start = perf_counter()\\nfor d in denoms:\\n    if d ==0:\\n        continue\\n    else:\\n        10 / denom\\nend = perf_counter()\\nprint(f'avg start time: {(end-start)/len(denoms):0.15f}')\",\n",
       "  \"start = perf_counter()\\nfor d in denoms:\\n    if d ==0:\\n        continue\\n    else:\\n        10 / denominator\\nend = perf_counter()\\nprint(f'avg start time: {(end-start)/len(denoms):0.15f}')\",\n",
       "  \"start = perf_counter()\\nfor d in denoms:\\n    if d ==0:\\n        continue\\n    else:\\n        10 / d\\nend = perf_counter()\\nprint(f'avg start time: {(end-start)/len(denoms):0.15f}')\",\n",
       "  \"start = perf_counter()\\nfor d in denoms:\\n    try:\\n        10/d\\n    except ZeroDivisionError:\\n        pass\\nend = perf_counter()\\nprint(f'avg start time: {(end-start)/len(denoms):0.15f}')\",\n",
       "  'random.seed(0)\\ndenoms = random.choices([0,1], k = 10_000_000, weights=[1,9])',\n",
       "  \"start = perf_counter()\\nfor d in denoms:\\n    if d ==0:\\n        continue\\n    else:\\n        10 / d\\nend = perf_counter()\\nprint(f'avg start time: {(end-start)/len(denoms):0.15f}')\",\n",
       "  \"start = perf_counter()\\nfor d in denoms:\\n    if d ==0:\\n        continue\\n    else:\\n        10 / d\\nend = perf_counter()\\nprint(f'avg start time: {(end-start)/len(denoms)}')\",\n",
       "  \"start = perf_counter()\\nfor d in denoms:\\n    try:\\n        10/d\\n    except ZeroDivisionError:\\n        pass\\nend = perf_counter()\\nprint(f'avg start time: {(end-start)/len(denoms)}')\",\n",
       "  'random.seed(0)\\ndenoms = random.choices([0,1], k = 10_000_000, weights=[9,1])',\n",
       "  \"start = perf_counter()\\nfor d in denoms:\\n    if d ==0:\\n        continue\\n    else:\\n        10 / d\\nend = perf_counter()\\nprint(f'avg start time: {(end-start)/len(denoms)}')\",\n",
       "  \"start = perf_counter()\\nfor d in denoms:\\n    try:\\n        10/d\\n    except ZeroDivisionError:\\n        pass\\nend = perf_counter()\\nprint(f'avg start time: {(end-start)/len(denoms)}')\",\n",
       "  \"random.choices(list('abc'), k=10)\",\n",
       "  'l = list(range(10))\\nprint(l)',\n",
       "  'random.choices(l,k=5)',\n",
       "  'random.sample(l,k=5)',\n",
       "  'random.sample(l,k=5)',\n",
       "  'random.sample(l,k=5)',\n",
       "  'random.sample(l,k=11)',\n",
       "  'random.sample(l,k=10)',\n",
       "  \"suits = 'C', 'D', 'H', 'S'\\nranks = tuple(range(2,11)) + tuple('JQKA')\",\n",
       "  'suits',\n",
       "  'ranks',\n",
       "  'deck = []\\nfor suit in suits:\\n    for rank in ranks:\\n        deck.append(str(rank) + suit)',\n",
       "  'print(deck)',\n",
       "  'deck [str(rank) + rank for suit in suits for rank in ranks]',\n",
       "  'deck [str(rank) + suit for  suit in suits for rank in ranks]',\n",
       "  'deck [str(rank) + suit for suit in suits for rank in ranks]',\n",
       "  'deck = [str(rank) + suit for suit in suits for rank in ranks]',\n",
       "  'deck',\n",
       "  'random.choices(deck,k=10)',\n",
       "  'random.choices(deck,k=40)',\n",
       "  'Counter(random.choices(deck,k=40))',\n",
       "  'random.sample(deck, k 10)',\n",
       "  'random.sample(deck, k =10)',\n",
       "  'Counter(random.sample(deck, k =52))',\n",
       "  'from timeit import timeit',\n",
       "  'help(timeit)',\n",
       "  'globals()'],\n",
       " 'Out': {2: sys.version_info(major=3, minor=9, micro=0, releaselevel='final', serial=0),\n",
       "  6: (dict_keys(['b', 'x']),\n",
       "   dict_values([1, 3]),\n",
       "   dict_items([('b', 1), ('x', 3)])),\n",
       "  8: (dict_keys(['b', 'x']),\n",
       "   dict_values([1, 3]),\n",
       "   dict_items([('b', 1), ('x', 3)])),\n",
       "  10: dict_items([('b', 1), ('x', 3)]),\n",
       "  12: dict_items([('b', 1), ('x', 3)]),\n",
       "  13: dict_items([('b', 1), ('x', 3)]),\n",
       "  14: {'b': 1, 'x': 3},\n",
       "  17: ('a', 1),\n",
       "  18: {'b': 1, 'x': 3},\n",
       "  22: {'a': 100, 'b': 200, 'd': 300, 'c': 400},\n",
       "  43: ('x1', 'x2', 'y1', 'y2', 'origin_x', 'origin_y'),\n",
       "  45: Struct(x1=10, x2=10, y1=20, y2=20, origin_x=0, origin_y=0),\n",
       "  46: 10000000,\n",
       "  47: 1048575,\n",
       "  48: 268435455,\n",
       "  49: 4294967295,\n",
       "  50: 10000.54321,\n",
       "  51: '10_000',\n",
       "  52: '1_000_000_000',\n",
       "  53: 'ffff_ffff',\n",
       "  54: 268435455,\n",
       "  56: '10%3 = 1',\n",
       "  58: '10 %3 = 1',\n",
       "  59: '10%3= 1',\n",
       "  60: '10 % 3',\n",
       "  61: '10 % 3 = 1',\n",
       "  63: '3.33333',\n",
       "  65: '3.33333',\n",
       "  68: '{name} rocks',\n",
       "  70: 'Python rocks!',\n",
       "  90: [3,\n",
       "   3,\n",
       "   5,\n",
       "   1,\n",
       "   5,\n",
       "   ['c', 'a', 'b'],\n",
       "   0.44809258493703863,\n",
       "   0.03628018651930084,\n",
       "   -0.10989448925844639,\n",
       "   -0.2551615178503112,\n",
       "   0.9245834713514316],\n",
       "  91: [5,\n",
       "   4,\n",
       "   0,\n",
       "   5,\n",
       "   3,\n",
       "   ['b', 'c', 'a'],\n",
       "   1.6903786725487338,\n",
       "   0.7890268534055087,\n",
       "   0.8845669879054742,\n",
       "   -0.009428933620598653,\n",
       "   0.02670024338441462],\n",
       "  92: [3,\n",
       "   5,\n",
       "   1,\n",
       "   4,\n",
       "   1,\n",
       "   ['a', 'c', 'b'],\n",
       "   0.26547077722326534,\n",
       "   -0.23189153424064363,\n",
       "   0.8232983922494312,\n",
       "   0.39537831924552097,\n",
       "   -0.2208015104777857],\n",
       "  93: [3,\n",
       "   3,\n",
       "   0,\n",
       "   2,\n",
       "   4,\n",
       "   ['a', 'c', 'b'],\n",
       "   1.6391095109274887,\n",
       "   -0.9249345372119703,\n",
       "   0.9223306019157185,\n",
       "   -0.1891931090669293,\n",
       "   0.5456115709634167],\n",
       "  94: [3,\n",
       "   3,\n",
       "   0,\n",
       "   2,\n",
       "   4,\n",
       "   ['a', 'c', 'b'],\n",
       "   1.6391095109274887,\n",
       "   -0.9249345372119703,\n",
       "   0.9223306019157185,\n",
       "   -0.1891931090669293,\n",
       "   0.5456115709634167],\n",
       "  95: [1,\n",
       "   3,\n",
       "   3,\n",
       "   1,\n",
       "   5,\n",
       "   ['a', 'c', 'b'],\n",
       "   -1.639893943131093,\n",
       "   0.7278930291928233,\n",
       "   -0.4000719319137612,\n",
       "   -0.08390378703116254,\n",
       "   -0.3013546798244102],\n",
       "  96: [1,\n",
       "   3,\n",
       "   3,\n",
       "   1,\n",
       "   5,\n",
       "   ['a', 'c', 'b'],\n",
       "   -1.639893943131093,\n",
       "   0.7278930291928233,\n",
       "   -0.4000719319137612,\n",
       "   -0.08390378703116254,\n",
       "   -0.3013546798244102],\n",
       "  97: [1,\n",
       "   3,\n",
       "   3,\n",
       "   1,\n",
       "   5,\n",
       "   ['a', 'c', 'b'],\n",
       "   -1.639893943131093,\n",
       "   0.7278930291928233,\n",
       "   -0.4000719319137612,\n",
       "   -0.08390378703116254,\n",
       "   -0.3013546798244102],\n",
       "  102: {0, 1, 2, 3, 4, 5, 6, 7, 8, 9, 10},\n",
       "  103: 6,\n",
       "  104: 10,\n",
       "  105: {0: 9, 1: 6, 2: 10, 3: 13, 4: 8, 5: 9, 6: 9, 7: 6, 8: 8, 9: 12, 10: 10},\n",
       "  106: {0: 90789,\n",
       "   1: 90651,\n",
       "   2: 91126,\n",
       "   3: 90359,\n",
       "   4: 91051,\n",
       "   5: 91256,\n",
       "   6: 90508,\n",
       "   7: 91190,\n",
       "   8: 90977,\n",
       "   9: 91048,\n",
       "   10: 91045},\n",
       "  108: {0: 90934,\n",
       "   1: 90927,\n",
       "   2: 90801,\n",
       "   3: 91040,\n",
       "   4: 90818,\n",
       "   5: 90753,\n",
       "   6: 91280,\n",
       "   7: 90850,\n",
       "   8: 90473,\n",
       "   9: 90894,\n",
       "   10: 91230},\n",
       "  111: 1000000,\n",
       "  112: {0: 9.0934,\n",
       "   1: 9.092699999999999,\n",
       "   2: 9.0801,\n",
       "   3: 9.104,\n",
       "   4: 9.0818,\n",
       "   5: 9.0753,\n",
       "   6: 9.128,\n",
       "   7: 9.085,\n",
       "   8: 9.0473,\n",
       "   9: 9.0894,\n",
       "   10: 9.123000000000001},\n",
       "  114: Counter({15: 9076,\n",
       "           14: 9254,\n",
       "           18: 9018,\n",
       "           10: 9028,\n",
       "           13: 9036,\n",
       "           16: 9067,\n",
       "           19: 9059,\n",
       "           12: 9061,\n",
       "           20: 9084,\n",
       "           11: 9127,\n",
       "           17: 9190}),\n",
       "  116: 40,\n",
       "  117: 20,\n",
       "  118: 30,\n",
       "  125: 633,\n",
       "  126: 206,\n",
       "  152: {'a': Fred(count=317, freq=31.7),\n",
       "   'b': Fred(count=359, freq=35.9),\n",
       "   'c': Fred(count=324, freq=32.4)},\n",
       "  153: {'a': Fred(count=33125, freq=33.125),\n",
       "   'b': Fred(count=33372, freq=33.372),\n",
       "   'c': Fred(count=33503, freq=33.503)},\n",
       "  155: {'a': Fred(count=80045, freq=80.045),\n",
       "   'b': Fred(count=10037, freq=10.037),\n",
       "   'c': Fred(count=9918, freq=9.918)},\n",
       "  157: {'a': Fred(count=33309, freq=33.309),\n",
       "   'b': Fred(count=33284, freq=33.284),\n",
       "   'c': Fred(count=33407, freq=33.407)},\n",
       "  158: {'a': Fred(count=70047, freq=70.047),\n",
       "   'b': Fred(count=9976, freq=9.976),\n",
       "   'c': Fred(count=19977, freq=19.977)},\n",
       "  164: {'a': Fred(count=70210, freq=70.21),\n",
       "   'b': Fred(count=9820, freq=9.82),\n",
       "   'c': Fred(count=19970, freq=19.97)},\n",
       "  185: ['c', 'c', 'a', 'b', 'b', 'c', 'c', 'c', 'a', 'b'],\n",
       "  187: [3, 2, 4, 5, 7],\n",
       "  188: [6, 9, 1, 4, 8],\n",
       "  189: [6, 8, 5, 1, 0],\n",
       "  190: [3, 7, 8, 6, 2],\n",
       "  192: [2, 6, 8, 7, 9, 5, 1, 4, 3, 0],\n",
       "  194: ('C', 'D', 'H', 'S'),\n",
       "  195: (2, 3, 4, 5, 6, 7, 8, 9, 10, 'J', 'Q', 'K', 'A'),\n",
       "  202: ['2C',\n",
       "   '3C',\n",
       "   '4C',\n",
       "   '5C',\n",
       "   '6C',\n",
       "   '7C',\n",
       "   '8C',\n",
       "   '9C',\n",
       "   '10C',\n",
       "   'JC',\n",
       "   'QC',\n",
       "   'KC',\n",
       "   'AC',\n",
       "   '2D',\n",
       "   '3D',\n",
       "   '4D',\n",
       "   '5D',\n",
       "   '6D',\n",
       "   '7D',\n",
       "   '8D',\n",
       "   '9D',\n",
       "   '10D',\n",
       "   'JD',\n",
       "   'QD',\n",
       "   'KD',\n",
       "   'AD',\n",
       "   '2H',\n",
       "   '3H',\n",
       "   '4H',\n",
       "   '5H',\n",
       "   '6H',\n",
       "   '7H',\n",
       "   '8H',\n",
       "   '9H',\n",
       "   '10H',\n",
       "   'JH',\n",
       "   'QH',\n",
       "   'KH',\n",
       "   'AH',\n",
       "   '2S',\n",
       "   '3S',\n",
       "   '4S',\n",
       "   '5S',\n",
       "   '6S',\n",
       "   '7S',\n",
       "   '8S',\n",
       "   '9S',\n",
       "   '10S',\n",
       "   'JS',\n",
       "   'QS',\n",
       "   'KS',\n",
       "   'AS'],\n",
       "  203: ['QS', '5H', '5H', '7S', '4C', 'QS', '7D', '7S', '9H', 'JC'],\n",
       "  204: ['5S',\n",
       "   '8H',\n",
       "   '10S',\n",
       "   '2H',\n",
       "   'KC',\n",
       "   '9D',\n",
       "   '4H',\n",
       "   'KC',\n",
       "   '5D',\n",
       "   'KD',\n",
       "   '7S',\n",
       "   'QS',\n",
       "   '7C',\n",
       "   'AC',\n",
       "   '2C',\n",
       "   '9C',\n",
       "   '7C',\n",
       "   '10H',\n",
       "   'QC',\n",
       "   '4D',\n",
       "   '5H',\n",
       "   '10S',\n",
       "   '10H',\n",
       "   '7S',\n",
       "   '10S',\n",
       "   'QD',\n",
       "   'KS',\n",
       "   'QS',\n",
       "   'JH',\n",
       "   '6H',\n",
       "   'KH',\n",
       "   '7C',\n",
       "   'JC',\n",
       "   '7C',\n",
       "   '10D',\n",
       "   '10C',\n",
       "   'QD',\n",
       "   '10C',\n",
       "   'QD',\n",
       "   '4S'],\n",
       "  205: Counter({'8S': 2,\n",
       "           '7D': 3,\n",
       "           'AS': 2,\n",
       "           '9C': 1,\n",
       "           '10H': 1,\n",
       "           '10D': 1,\n",
       "           '9D': 1,\n",
       "           '8C': 2,\n",
       "           '8H': 1,\n",
       "           '5D': 2,\n",
       "           '10C': 1,\n",
       "           '6H': 1,\n",
       "           'JH': 1,\n",
       "           '6S': 2,\n",
       "           '8D': 1,\n",
       "           '5C': 2,\n",
       "           'KD': 1,\n",
       "           'AH': 2,\n",
       "           '4S': 3,\n",
       "           'QH': 1,\n",
       "           '4D': 1,\n",
       "           '2D': 1,\n",
       "           '6D': 1,\n",
       "           'AD': 1,\n",
       "           'QC': 1,\n",
       "           'QS': 1,\n",
       "           '7C': 1,\n",
       "           '10S': 1,\n",
       "           '5S': 1}),\n",
       "  207: ['KH', '9H', '5C', '9D', '4H', '7D', '2C', '7H', '8C', '6S'],\n",
       "  208: Counter({'2D': 1,\n",
       "           'AC': 1,\n",
       "           '3C': 1,\n",
       "           'JH': 1,\n",
       "           'AD': 1,\n",
       "           '5C': 1,\n",
       "           '9D': 1,\n",
       "           '8C': 1,\n",
       "           '6D': 1,\n",
       "           '3H': 1,\n",
       "           '7H': 1,\n",
       "           '5D': 1,\n",
       "           'JC': 1,\n",
       "           '9H': 1,\n",
       "           '2H': 1,\n",
       "           'QC': 1,\n",
       "           '4S': 1,\n",
       "           '10S': 1,\n",
       "           '10C': 1,\n",
       "           '7S': 1,\n",
       "           '8S': 1,\n",
       "           '9S': 1,\n",
       "           '8D': 1,\n",
       "           'QS': 1,\n",
       "           '6H': 1,\n",
       "           'JS': 1,\n",
       "           'KS': 1,\n",
       "           '4H': 1,\n",
       "           '4D': 1,\n",
       "           'QH': 1,\n",
       "           'QD': 1,\n",
       "           '2S': 1,\n",
       "           '3S': 1,\n",
       "           '5S': 1,\n",
       "           '7D': 1,\n",
       "           '8H': 1,\n",
       "           '10D': 1,\n",
       "           'KD': 1,\n",
       "           'KH': 1,\n",
       "           'AS': 1,\n",
       "           '5H': 1,\n",
       "           'JD': 1,\n",
       "           '7C': 1,\n",
       "           '4C': 1,\n",
       "           'AH': 1,\n",
       "           '2C': 1,\n",
       "           '3D': 1,\n",
       "           '6S': 1,\n",
       "           '6C': 1,\n",
       "           'KC': 1,\n",
       "           '9C': 1,\n",
       "           '10H': 1})},\n",
       " 'get_ipython': <bound method InteractiveShell.get_ipython of <ipykernel.zmqshell.ZMQInteractiveShell object at 0x00000233417F9A60>>,\n",
       " 'exit': <IPython.core.autocall.ZMQExitAutocall at 0x233418472e0>,\n",
       " 'quit': <IPython.core.autocall.ZMQExitAutocall at 0x233418472e0>,\n",
       " '_': 9,\n",
       " '__': '{name} rocks',\n",
       " '___': '3.33333',\n",
       " '_i': 'help(timeit)',\n",
       " '_ii': 'from timeit import timeit',\n",
       " '_iii': 'Counter(random.sample(deck, k =52))',\n",
       " '_i1': 'from sys import version_info',\n",
       " 'version_info': sys.version_info(major=3, minor=9, micro=0, releaselevel='final', serial=0),\n",
       " '_i2': 'version_info',\n",
       " '_2': sys.version_info(major=3, minor=9, micro=0, releaselevel='final', serial=0),\n",
       " '_i3': \" d = {'b' = 1 , 'a' = 2}\",\n",
       " '_i4': 'd.keys(), d.values(), d.items()',\n",
       " '_i5': \" d = {'b' : 1 , 'a' : 2}\",\n",
       " 'd': 0,\n",
       " '_i6': 'd.keys(), d.values(), d.items()',\n",
       " '_6': (dict_keys(['b', 'x']),\n",
       "  dict_values([1, 3]),\n",
       "  dict_items([('b', 1), ('x', 3)])),\n",
       " '_i7': \"d['x'] = 3\",\n",
       " '_i8': 'd.keys(), d.values(), d.items()',\n",
       " '_8': (dict_keys(['b', 'x']),\n",
       "  dict_values([1, 3]),\n",
       "  dict_items([('b', 1), ('x', 3)])),\n",
       " '_i9': \"del d['a']\",\n",
       " '_i10': 'd.items()',\n",
       " '_10': dict_items([('b', 1), ('x', 3)]),\n",
       " '_i11': \"d['a'] = 1\",\n",
       " '_i12': 'd.items()',\n",
       " '_12': dict_items([('b', 1), ('x', 3)]),\n",
       " '_i13': 'd.items()',\n",
       " '_13': dict_items([('b', 1), ('x', 3)]),\n",
       " '_i14': 'd',\n",
       " '_14': {'b': 1, 'x': 3},\n",
       " '_i15': 'print(d)',\n",
       " '_i16': 'd.popitems()',\n",
       " '_i17': 'd.popitem()',\n",
       " '_17': ('a', 1),\n",
       " '_i18': 'd',\n",
       " '_18': {'b': 1, 'x': 3},\n",
       " '_i19': \"d1 = {'a':1, 'b':200}\",\n",
       " 'd1': {'a': 100, 'b': 200, 'd': 300, 'c': 400},\n",
       " '_i20': \"d2 = {'a':100, 'd': 300, 'c':400}\",\n",
       " 'd2': {'a': 100, 'd': 300, 'c': 400},\n",
       " '_i21': 'd1.update(d2)',\n",
       " '_i22': 'd1',\n",
       " '_22': {'a': 100, 'b': 200, 'd': 300, 'c': 400},\n",
       " '_i23': '##moved to end',\n",
       " '_i24': \"d = {'a':1, 'b':2, 'c':3}\\nprint('start',d)\\nd['a']=d.pop('a')\\nprint('moved to end', d)\",\n",
       " '_i25': '##moved to end()(last=False)',\n",
       " '_i26': \"d = {'a':1, 'b':2, 'c':3, 'x'=100, 'y'=200}\\nprint('start',d)\\nd['c'] = d.pop('c')\\nprint('moved c to end',d)\",\n",
       " '_i27': \"d = {'a':1, 'b':2, 'c':3, 'x':100, 'y':200}\\nprint('start',d)\\nd['c'] = d.pop('c')\\nprint('moved c to end',d)\",\n",
       " '_i28': \"d = {'a':1, 'b':2, 'c':3, 'x':100, 'y':200}\\nprint('start',d)\\nd['c'] = d.pop('c')\\nprint('moved c to end',d)\\nfor i in range(len(d)-1):\\n    key = next(iter(d.keys()))\\n    d[key] = d.pop(key)\\nprint('moved',d)\",\n",
       " 'i': 3,\n",
       " 'key': 'a',\n",
       " '_i29': '##pop last item',\n",
       " '_i30': \"d = {'a':1, 'b':2, 'c':3, 'x':100, 'y':200}\\nprint('start',d)\\nd.popitem()\\nprint(d)\",\n",
       " '_i31': '##pop first item',\n",
       " '_i32': \"d = {'a':1, 'b':2, 'c':3, 'x':100, 'y':200}\\nprint('start',d)\\nkey = next(iter(d.keys()))\\nd.popkey()\\nprint('after pop', d)\",\n",
       " '_i33': \"d = {'a':1, 'b':2, 'c':3, 'x':100, 'y':200}\\nprint('start',d)\\nkey = next(iter(d.keys()))\\nd.pop(key)\\nprint('after pop', d)\",\n",
       " '_i34': 'def fun(**kwargs):\\n    for item in kwargs.items():\\n        print(item)',\n",
       " 'fun': <function __main__.fun(**kwargs)>,\n",
       " '_i35': \"fun(b=100, a=100, y ='hello', p = 'python')\",\n",
       " '_i36': 'from collections import namedtuple',\n",
       " 'namedtuple': <function collections.namedtuple(typename, field_names, *, rename=False, defaults=None, module=None)>,\n",
       " '_i37': \"def def_namedtuple(class_name, **fields):\\n    Struct = namedtuple('Struct', fields.keys())\\n    Struct.__new__.__defaults__ = tuple(fields.values())\\n    return Struct\",\n",
       " 'def_namedtuple': <function __main__.def_namedtuple(class_name, **fields)>,\n",
       " '_i38': \"Vector2D = def_namedtuple('Vector2d', \\n                         x1 = None,\\n                         x2 = None,\\n                         y1 = None,\\n                         y2= None,\\n                         origin_x = 0, origin_y = 0)\",\n",
       " 'Vector2D': __main__.Struct,\n",
       " '_i39': 'Vector2d.__fields__',\n",
       " '_i40': 'Vector2d._fields',\n",
       " '_i41': \"Vector2D = def_namedtuple('Vector2d', \\n                         x1 = None,\\n                         x2 = None,\\n                         y1 = None,\\n                         y2= None,\\n                         origin_x = 0, origin_y = 0)\",\n",
       " '_i42': 'Vector2d._fields',\n",
       " '_i43': 'Vector2D._fields',\n",
       " '_43': ('x1', 'x2', 'y1', 'y2', 'origin_x', 'origin_y'),\n",
       " '_i44': 'v1 = Vector2D(10,10,20,20)',\n",
       " 'v1': Struct(x1=10, x2=10, y1=20, y2=20, origin_x=0, origin_y=0),\n",
       " '_i45': 'v1',\n",
       " '_45': Struct(x1=10, x2=10, y1=20, y2=20, origin_x=0, origin_y=0),\n",
       " '_i46': '10_000_000',\n",
       " '_46': 10000000,\n",
       " '_i47': '0x_FF_FFF',\n",
       " '_47': 1048575,\n",
       " '_i48': '0xFFFFFFF',\n",
       " '_48': 268435455,\n",
       " '_i49': '0x_F_F_F_F_F_F_F_F',\n",
       " '_49': 4294967295,\n",
       " '_i50': '1_0_0_0_0.54321',\n",
       " '_50': 10000.54321,\n",
       " '_i51': \"'{:_}'.format(10000)\",\n",
       " '_51': '10_000',\n",
       " '_i52': \"'{:_}'.format(1000000000)\",\n",
       " '_52': '1_000_000_000',\n",
       " '_i53': \"'{:_x}'.format(4294967295)\",\n",
       " '_53': 'ffff_ffff',\n",
       " '_i54': \"int('FF_FFFFF', 16)\",\n",
       " '_54': 268435455,\n",
       " '_i55': \"int('0b_1_000')\",\n",
       " '_i56': \"'{}%{} = {}'.format(10,3,10%3)\",\n",
       " '_56': '10%3 = 1',\n",
       " '_i57': '{1} %{2} = {0}.format(10%3,10,3)',\n",
       " '_i58': \"'{1} %{2} = {0}'.format(10%3,10,3)\",\n",
       " '_58': '10 %3 = 1',\n",
       " '_i59': \"'{a}%{b}= {mod}'.format(a=10, mod =10%3, b=3)\",\n",
       " '_59': '10%3= 1',\n",
       " '_i60': \"a = 10\\nb=3\\nf'{a} % {b}'\",\n",
       " 'a': 10,\n",
       " 'b': 10,\n",
       " '_60': '10 % 3',\n",
       " '_i61': \"a = 10\\nb=3\\nf'{a} % {b} = {a%b}'\",\n",
       " '_61': '10 % 3 = 1',\n",
       " '_i62': \"a = 10/3\\nf'{a:0.5f}\",\n",
       " '_i63': \"a = 10/3\\nf'{a:0.5f}'\",\n",
       " '_63': '3.33333',\n",
       " '_i64': \"f'{10/3:0.5f}''\",\n",
       " '_i65': \"f'{10/3:0.5f}'\",\n",
       " '_65': '3.33333',\n",
       " '_i66': \"name = 'Python'\",\n",
       " 'name': 'Python',\n",
       " '_i67': \"''{name} rocks'\",\n",
       " '_i68': \"'{name} rocks'\",\n",
       " '_68': '{name} rocks',\n",
       " '_i69': \"'{name} rocks!'.format(name)\",\n",
       " '_i70': \"'{name} rocks!'.format(name=name)\",\n",
       " '_70': 'Python rocks!',\n",
       " '_i71': \"def outer():\\n    name = 'Python'\\n    def inner():\\n        return f'{name} rocks!'\\n    return inner\",\n",
       " 'outer': <function __main__.outer()>,\n",
       " '_i72': 'print(outer()())',\n",
       " '_i73': 'sq  = lambda x:x**2',\n",
       " 'sq': <function __main__.<lambda>(x)>,\n",
       " '_i74': 'a = 10, b=1\\nprint(f\"{sq(a) if b >5 else a}\")\\nb=10\\nprint(f\"{sq(a) if b >5 else a}\")',\n",
       " '_i75': 'a = 10, b=1\\nprint(f\"{sq(a) if b >5 else a}\")\\nb=10\\nprint(f\"{sq(b) if b >5 else b}\")',\n",
       " '_i76': 'a = 10, b=1\\nprint(f\"{sq(a) if b >5 else a}\")',\n",
       " '_i77': 'a = 10\\nb=1\\nprint(f\"{sq(a) if b >5 else a}\")',\n",
       " '_i78': 'a = 10\\nb=1\\nprint(f\"{sq(a) if b >5 else a}\")\\nb=10\\nprint(f\"{sq(a) if b >5 else a}\")',\n",
       " '_i79': \"a = 10\\nb=1\\nprint(f'{(lambda x: x**2)(a) if b>5 else a}')\",\n",
       " '_i80': \"a = 10\\nb=1\\nprint(f'{(lambda x: x**2)(a) if b>5 else a}')\\nb=10\\nprint(f'{(lambda x: x**2)(a) if b>5 else a}')\",\n",
       " '_i81': 'import random',\n",
       " 'random': <module 'random' from 'c:\\\\users\\\\karti\\\\appdata\\\\local\\\\programs\\\\python\\\\python39\\\\lib\\\\random.py'>,\n",
       " '_i82': 'for _ in range(10):\\n    print(random.randint(10,20), random.random())',\n",
       " '_i83': 'for _ in range(10):\\n    print(random.randint(10,20), random.random())',\n",
       " '_i84': 'random.seed(0)',\n",
       " '_i85': 'for _ in range(10):\\n    print(random.randint(10,20), random.random())',\n",
       " '_i86': 'for _ in range(10):\\n    print(random.randint(10,20), random.random())',\n",
       " '_i87': 'random.seed(0)\\nfor _ in range(10):\\n    print(random.randint(10,20), random.random())',\n",
       " '_i88': 'random.seed(0)\\nfor _ in range(10):\\n    print(random.randint(10,20), random.random())',\n",
       " '_i89': \"def generate_random_stuff(seed=None):\\n    random.seed(seed)\\n    results = []\\n    for _ in range(5):\\n        results.append(random.randint(0,5))\\n        \\n    characters = list('abc')\\n    random.shuffle(characters)\\n    results.append(characters)\\n    \\n    for _ in range(5):\\n        results.append(random.gauss(0,1))\\n        \\n    return results\",\n",
       " 'generate_random_stuff': <function __main__.generate_random_stuff(seed=None)>,\n",
       " '_i90': 'generate_random_stuff()',\n",
       " '_90': [3,\n",
       "  3,\n",
       "  5,\n",
       "  1,\n",
       "  5,\n",
       "  ['c', 'a', 'b'],\n",
       "  0.44809258493703863,\n",
       "  0.03628018651930084,\n",
       "  -0.10989448925844639,\n",
       "  -0.2551615178503112,\n",
       "  0.9245834713514316],\n",
       " '_i91': 'generate_random_stuff()',\n",
       " '_91': [5,\n",
       "  4,\n",
       "  0,\n",
       "  5,\n",
       "  3,\n",
       "  ['b', 'c', 'a'],\n",
       "  1.6903786725487338,\n",
       "  0.7890268534055087,\n",
       "  0.8845669879054742,\n",
       "  -0.009428933620598653,\n",
       "  0.02670024338441462],\n",
       " '_i92': 'generate_random_stuff()',\n",
       " '_92': [3,\n",
       "  5,\n",
       "  1,\n",
       "  4,\n",
       "  1,\n",
       "  ['a', 'c', 'b'],\n",
       "  0.26547077722326534,\n",
       "  -0.23189153424064363,\n",
       "  0.8232983922494312,\n",
       "  0.39537831924552097,\n",
       "  -0.2208015104777857],\n",
       " '_i93': 'generate_random_stuff(0)',\n",
       " '_93': [3,\n",
       "  3,\n",
       "  0,\n",
       "  2,\n",
       "  4,\n",
       "  ['a', 'c', 'b'],\n",
       "  1.6391095109274887,\n",
       "  -0.9249345372119703,\n",
       "  0.9223306019157185,\n",
       "  -0.1891931090669293,\n",
       "  0.5456115709634167],\n",
       " '_i94': 'generate_random_stuff(0)',\n",
       " '_94': [3,\n",
       "  3,\n",
       "  0,\n",
       "  2,\n",
       "  4,\n",
       "  ['a', 'c', 'b'],\n",
       "  1.6391095109274887,\n",
       "  -0.9249345372119703,\n",
       "  0.9223306019157185,\n",
       "  -0.1891931090669293,\n",
       "  0.5456115709634167],\n",
       " '_i95': 'generate_random_stuff(100)',\n",
       " '_95': [1,\n",
       "  3,\n",
       "  3,\n",
       "  1,\n",
       "  5,\n",
       "  ['a', 'c', 'b'],\n",
       "  -1.639893943131093,\n",
       "  0.7278930291928233,\n",
       "  -0.4000719319137612,\n",
       "  -0.08390378703116254,\n",
       "  -0.3013546798244102],\n",
       " '_i96': 'generate_random_stuff(100)',\n",
       " '_96': [1,\n",
       "  3,\n",
       "  3,\n",
       "  1,\n",
       "  5,\n",
       "  ['a', 'c', 'b'],\n",
       "  -1.639893943131093,\n",
       "  0.7278930291928233,\n",
       "  -0.4000719319137612,\n",
       "  -0.08390378703116254,\n",
       "  -0.3013546798244102],\n",
       " '_i97': 'generate_random_stuff(100)',\n",
       " '_97': [1,\n",
       "  3,\n",
       "  3,\n",
       "  1,\n",
       "  5,\n",
       "  ['a', 'c', 'b'],\n",
       "  -1.639893943131093,\n",
       "  0.7278930291928233,\n",
       "  -0.4000719319137612,\n",
       "  -0.08390378703116254,\n",
       "  -0.3013546798244102],\n",
       " '_i98': 'def freq_analysis(lst):\\n    return {k: lst.count(k) for k in lst set(lst)}',\n",
       " '_i99': 'def freq_analysis(lst):\\n    return {k: lst.count(k) for k in set(lst)}',\n",
       " 'freq_analysis': <function __main__.freq_analysis(lst)>,\n",
       " '_i100': 'lst= [random.randint(0,10) for _ in range(100)]',\n",
       " 'lst': [10,\n",
       "  3,\n",
       "  5,\n",
       "  3,\n",
       "  4,\n",
       "  3,\n",
       "  2,\n",
       "  2,\n",
       "  3,\n",
       "  5,\n",
       "  5,\n",
       "  10,\n",
       "  6,\n",
       "  3,\n",
       "  6,\n",
       "  7,\n",
       "  8,\n",
       "  4,\n",
       "  6,\n",
       "  2,\n",
       "  10,\n",
       "  10,\n",
       "  1,\n",
       "  2,\n",
       "  0,\n",
       "  9,\n",
       "  6,\n",
       "  2,\n",
       "  9,\n",
       "  2,\n",
       "  3,\n",
       "  2,\n",
       "  0,\n",
       "  10,\n",
       "  3,\n",
       "  7,\n",
       "  10,\n",
       "  6,\n",
       "  2,\n",
       "  9,\n",
       "  8,\n",
       "  0,\n",
       "  9,\n",
       "  3,\n",
       "  9,\n",
       "  8,\n",
       "  4,\n",
       "  9,\n",
       "  5,\n",
       "  8,\n",
       "  10,\n",
       "  5,\n",
       "  8,\n",
       "  5,\n",
       "  7,\n",
       "  6,\n",
       "  0,\n",
       "  1,\n",
       "  4,\n",
       "  10,\n",
       "  6,\n",
       "  4,\n",
       "  3,\n",
       "  6,\n",
       "  8,\n",
       "  7,\n",
       "  9,\n",
       "  4,\n",
       "  2,\n",
       "  0,\n",
       "  10,\n",
       "  9,\n",
       "  5,\n",
       "  2,\n",
       "  0,\n",
       "  4,\n",
       "  1,\n",
       "  0,\n",
       "  9,\n",
       "  3,\n",
       "  4,\n",
       "  8,\n",
       "  9,\n",
       "  3,\n",
       "  10,\n",
       "  9,\n",
       "  5,\n",
       "  5,\n",
       "  7,\n",
       "  0,\n",
       "  1,\n",
       "  7,\n",
       "  3,\n",
       "  8,\n",
       "  1,\n",
       "  9,\n",
       "  3,\n",
       "  0,\n",
       "  6,\n",
       "  1],\n",
       " '_i101': 'print(lst)',\n",
       " '_i102': 'set(lst)',\n",
       " '_102': {0, 1, 2, 3, 4, 5, 6, 7, 8, 9, 10},\n",
       " '_i103': 'lst.count(1)',\n",
       " '_103': 6,\n",
       " '_i104': 'lst.count(10)',\n",
       " '_104': 10,\n",
       " '_i105': 'freq_analysis(lst)',\n",
       " '_105': {0: 9,\n",
       "  1: 6,\n",
       "  2: 10,\n",
       "  3: 13,\n",
       "  4: 8,\n",
       "  5: 9,\n",
       "  6: 9,\n",
       "  7: 6,\n",
       "  8: 8,\n",
       "  9: 12,\n",
       "  10: 10},\n",
       " '_i106': 'freq_analysis([random.randint(0,10) for _ in range(1_000_000)])',\n",
       " '_106': {0: 90789,\n",
       "  1: 90651,\n",
       "  2: 91126,\n",
       "  3: 90359,\n",
       "  4: 91051,\n",
       "  5: 91256,\n",
       "  6: 90508,\n",
       "  7: 91190,\n",
       "  8: 90977,\n",
       "  9: 91048,\n",
       "  10: 91045},\n",
       " '_i107': 'd = freq_analysis([random.randint(0,10) for _ in range(1_000_000)])',\n",
       " '_i108': 'd',\n",
       " '_108': {0: 90934,\n",
       "  1: 90927,\n",
       "  2: 90801,\n",
       "  3: 91040,\n",
       "  4: 90818,\n",
       "  5: 90753,\n",
       "  6: 91280,\n",
       "  7: 90850,\n",
       "  8: 90473,\n",
       "  9: 90894,\n",
       "  10: 91230},\n",
       " '_i109': 'total = sum(d.values)',\n",
       " '_i110': 'total = sum(d.values())',\n",
       " 'total': 1000000,\n",
       " '_i111': 'total',\n",
       " '_111': 1000000,\n",
       " '_i112': '{k: v/total *100 for k, v in d.items()}',\n",
       " '_112': {0: 9.0934,\n",
       "  1: 9.092699999999999,\n",
       "  2: 9.0801,\n",
       "  3: 9.104,\n",
       "  4: 9.0818,\n",
       "  5: 9.0753,\n",
       "  6: 9.128,\n",
       "  7: 9.085,\n",
       "  8: 9.0473,\n",
       "  9: 9.0894,\n",
       "  10: 9.123000000000001},\n",
       " '_i113': 'from collections import Counter',\n",
       " 'Counter': collections.Counter,\n",
       " '_i114': 'Counter([random.randint(10,20) for _ in range(100_000)])',\n",
       " '_114': Counter({15: 9076,\n",
       "          14: 9254,\n",
       "          18: 9018,\n",
       "          10: 9028,\n",
       "          13: 9036,\n",
       "          16: 9067,\n",
       "          19: 9059,\n",
       "          12: 9061,\n",
       "          20: 9084,\n",
       "          11: 9127,\n",
       "          17: 9190}),\n",
       " '_i115': 'l = [10,20,30,40,50]',\n",
       " 'l': [0, 1, 2, 3, 4, 5, 6, 7, 8, 9],\n",
       " '_i116': 'random_index = random.randrange(len(l))\\nl[random_index]',\n",
       " 'random_index': 2,\n",
       " '_116': 40,\n",
       " '_i117': 'random_index = random.randrange(len(l))\\nl[random_index]',\n",
       " '_117': 20,\n",
       " '_i118': 'random_index = random.randrange(len(l))\\nl[random_index]',\n",
       " '_118': 30,\n",
       " '_i119': 'l = list(range(1000))',\n",
       " '_i120': 'print(l)',\n",
       " '_i121': 'randoms = []\\n\\nfor _ in range(5):\\n    randoms.append(l[random.randrange(len(l))])\\n    \\nprint(randoms)',\n",
       " 'randoms': [1, 2, 2, 3, 3, 4, 4, 1, 3, 1],\n",
       " '_i122': 'randoms = []\\n\\nfor _ in range(5):\\n    randoms.append(l[random.randrange(len(l))])\\n    \\nprint(randoms)',\n",
       " '_i123': 'randoms = []\\n\\nfor _ in range(5):\\n    randoms.append(l[random.randrange(len(l))])\\n    \\nprint(randoms)',\n",
       " '_i124': 'random.cjoice(l)',\n",
       " '_i125': 'random.choice(l)',\n",
       " '_125': 633,\n",
       " '_i126': 'random.choice(l)',\n",
       " '_126': 206,\n",
       " '_i127': 'randoms = []\\n\\nfor _ in range(5):\\n    randoms.append(l[random.choice(len(l))])\\n    \\nprint(randoms)',\n",
       " '_i128': 'randoms = []\\n\\nfor _ in range(5):\\n    randoms.append(l[random.choice(l)])\\n    \\nprint(randoms)',\n",
       " '_i129': 'randoms = []\\n\\nfor _ in range(5):\\n    randoms.append(l[random.choice(l)])\\n    \\nprint(randoms)',\n",
       " '_i130': 'randoms = []\\n\\nfor _ in range(5):\\n    randoms.append(l[random.choice(l)])\\n    \\nprint(randoms)',\n",
       " '_i131': 'randoms = [random.choice(l) for _ in range(5)]',\n",
       " '_i132': 'randoms = [random.choice(l) for _ in range(5)]\\nprint(randoms)',\n",
       " '_i133': 'randoms = [random.choice(l) for _ in range(5)]\\nprint(randoms)',\n",
       " '_i134': 'randoms = [random.choice(l) for _ in range(5)]\\nprint(randoms)',\n",
       " '_i135': 'randoms = random.choices(l, k=5)\\nprint(randoms)',\n",
       " '_i136': 'randoms = random.choices(l, k=5)\\nprint(randoms)',\n",
       " '_i137': 'randoms = random.choices(l, k=5)\\nprint(randoms)',\n",
       " '_i138': 'l [1,2,3,4]\\n\\nrandoms = [random.choice(l) for _ in range(10)]',\n",
       " '_i139': 'l [1,2,3,4]\\n\\nrandoms = [random.choice(l) for _ in range(10)]\\nprint(randoms)',\n",
       " '_i140': 'l = [1,2,3,4]\\n\\nrandoms = [random.choice(l) for _ in range(10)]\\nprint(randoms)',\n",
       " '_i141': 'randoms = random.choices(l, k=10)\\nprint(randoms)',\n",
       " '_i142': \"l = ['a', 'b', 'c']\",\n",
       " '_i143': 'for _ in range(10):\\n    print(random.choices(l, k=5))',\n",
       " '_i144': 'weights = [10,1,1]',\n",
       " 'weights': [7, 1, 2],\n",
       " '_i145': 'for _ in range(10):\\n    print(random.choices(l, k=5), weight = weights)',\n",
       " '_i146': 'for _ in range(10):\\n    print(random.choices(l, k=5), weights = weights)',\n",
       " '_i147': 'for _ in range(10):\\n    print(random.choices(l, k=5, weights = weights))',\n",
       " '_i148': \"from collections import namedtuple\\n\\nFred = namedtuple('Fred', 'count, freq')\",\n",
       " 'Fred': __main__.Fred,\n",
       " '_i149': 'def freq_counts(lst):\\n    total = len(lst)\\n    return {k: Fred(lst.count(k),100* lst.count(k)/total for k in set(lst))}',\n",
       " '_i150': 'def freq_counts(lst):\\n    total = len(lst)\\n    return {k: Fred(lst.count(k), 100 * lst.count(k)/total) for k in set(lst)}',\n",
       " 'freq_counts': <function __main__.freq_counts(lst)>,\n",
       " '_i151': 'freq_counts(random.choices(l,1000))',\n",
       " '_i152': 'freq_counts(random.choices(l,k=1000))',\n",
       " '_152': {'a': Fred(count=317, freq=31.7),\n",
       "  'b': Fred(count=359, freq=35.9),\n",
       "  'c': Fred(count=324, freq=32.4)},\n",
       " '_i153': 'freq_counts(random.choices(l,k=100_000))',\n",
       " '_153': {'a': Fred(count=33125, freq=33.125),\n",
       "  'b': Fred(count=33372, freq=33.372),\n",
       "  'c': Fred(count=33503, freq=33.503)},\n",
       " '_i154': 'weights = [8,1,1]',\n",
       " '_i155': 'freq_counts(random.choices(l,k=100_000, weights =weights))',\n",
       " '_155': {'a': Fred(count=80045, freq=80.045),\n",
       "  'b': Fred(count=10037, freq=10.037),\n",
       "  'c': Fred(count=9918, freq=9.918)},\n",
       " '_i156': 'weights = [7,1,2]',\n",
       " '_i157': 'freq_counts(random.choices(l,k=100_000))',\n",
       " '_157': {'a': Fred(count=33309, freq=33.309),\n",
       "  'b': Fred(count=33284, freq=33.284),\n",
       "  'c': Fred(count=33407, freq=33.407)},\n",
       " '_i158': 'freq_counts(random.choices(l,k=100_000, weights =weights))',\n",
       " '_158': {'a': Fred(count=70047, freq=70.047),\n",
       "  'b': Fred(count=9976, freq=9.976),\n",
       "  'c': Fred(count=19977, freq=19.977)},\n",
       " '_i159': 'cum_weights[7.8.10]',\n",
       " '_i160': 'cum_weights = [7.8.10]',\n",
       " '_i161': 'cum_weights = [7.8.10]',\n",
       " '_i162': 'cum_weights = [7,810]',\n",
       " 'cum_weights': [7, 8, 10],\n",
       " '_i163': 'cum_weights = [7,8,10]',\n",
       " '_i164': 'freq_counts(random.choices(l,k=100_000, weights =weights))',\n",
       " '_164': {'a': Fred(count=70210, freq=70.21),\n",
       "  'b': Fred(count=9820, freq=9.82),\n",
       "  'c': Fred(count=19970, freq=19.97)},\n",
       " '_i165': 'from time import perf_counter',\n",
       " 'perf_counter': <function time.perf_counter>,\n",
       " '_i166': 'random.seed(0)',\n",
       " '_i167': 'denoms = random.choices([0,1], k = 10_000_000)',\n",
       " 'denoms': [0,\n",
       "  0,\n",
       "  0,\n",
       "  0,\n",
       "  0,\n",
       "  0,\n",
       "  0,\n",
       "  0,\n",
       "  0,\n",
       "  0,\n",
       "  1,\n",
       "  0,\n",
       "  0,\n",
       "  0,\n",
       "  0,\n",
       "  0,\n",
       "  1,\n",
       "  1,\n",
       "  0,\n",
       "  1,\n",
       "  0,\n",
       "  0,\n",
       "  0,\n",
       "  0,\n",
       "  0,\n",
       "  0,\n",
       "  0,\n",
       "  0,\n",
       "  1,\n",
       "  1,\n",
       "  0,\n",
       "  0,\n",
       "  0,\n",
       "  0,\n",
       "  0,\n",
       "  0,\n",
       "  0,\n",
       "  0,\n",
       "  0,\n",
       "  0,\n",
       "  0,\n",
       "  0,\n",
       "  0,\n",
       "  0,\n",
       "  0,\n",
       "  0,\n",
       "  0,\n",
       "  0,\n",
       "  0,\n",
       "  1,\n",
       "  0,\n",
       "  0,\n",
       "  0,\n",
       "  0,\n",
       "  0,\n",
       "  1,\n",
       "  0,\n",
       "  0,\n",
       "  0,\n",
       "  0,\n",
       "  0,\n",
       "  0,\n",
       "  1,\n",
       "  0,\n",
       "  0,\n",
       "  0,\n",
       "  0,\n",
       "  0,\n",
       "  0,\n",
       "  0,\n",
       "  0,\n",
       "  0,\n",
       "  0,\n",
       "  0,\n",
       "  0,\n",
       "  0,\n",
       "  0,\n",
       "  0,\n",
       "  1,\n",
       "  0,\n",
       "  0,\n",
       "  1,\n",
       "  0,\n",
       "  0,\n",
       "  0,\n",
       "  0,\n",
       "  0,\n",
       "  0,\n",
       "  0,\n",
       "  0,\n",
       "  1,\n",
       "  0,\n",
       "  0,\n",
       "  0,\n",
       "  1,\n",
       "  1,\n",
       "  0,\n",
       "  0,\n",
       "  0,\n",
       "  0,\n",
       "  0,\n",
       "  0,\n",
       "  0,\n",
       "  0,\n",
       "  0,\n",
       "  0,\n",
       "  0,\n",
       "  0,\n",
       "  0,\n",
       "  0,\n",
       "  0,\n",
       "  0,\n",
       "  0,\n",
       "  0,\n",
       "  1,\n",
       "  0,\n",
       "  0,\n",
       "  0,\n",
       "  0,\n",
       "  0,\n",
       "  0,\n",
       "  0,\n",
       "  0,\n",
       "  1,\n",
       "  0,\n",
       "  0,\n",
       "  1,\n",
       "  0,\n",
       "  0,\n",
       "  0,\n",
       "  0,\n",
       "  1,\n",
       "  0,\n",
       "  0,\n",
       "  0,\n",
       "  0,\n",
       "  0,\n",
       "  0,\n",
       "  0,\n",
       "  0,\n",
       "  0,\n",
       "  0,\n",
       "  0,\n",
       "  1,\n",
       "  0,\n",
       "  0,\n",
       "  0,\n",
       "  0,\n",
       "  1,\n",
       "  0,\n",
       "  0,\n",
       "  1,\n",
       "  0,\n",
       "  0,\n",
       "  0,\n",
       "  0,\n",
       "  0,\n",
       "  0,\n",
       "  0,\n",
       "  0,\n",
       "  0,\n",
       "  0,\n",
       "  0,\n",
       "  0,\n",
       "  0,\n",
       "  0,\n",
       "  0,\n",
       "  0,\n",
       "  0,\n",
       "  0,\n",
       "  0,\n",
       "  0,\n",
       "  0,\n",
       "  0,\n",
       "  0,\n",
       "  1,\n",
       "  0,\n",
       "  0,\n",
       "  0,\n",
       "  1,\n",
       "  0,\n",
       "  0,\n",
       "  0,\n",
       "  0,\n",
       "  0,\n",
       "  0,\n",
       "  0,\n",
       "  0,\n",
       "  0,\n",
       "  0,\n",
       "  0,\n",
       "  0,\n",
       "  0,\n",
       "  0,\n",
       "  0,\n",
       "  0,\n",
       "  0,\n",
       "  0,\n",
       "  0,\n",
       "  0,\n",
       "  0,\n",
       "  0,\n",
       "  0,\n",
       "  0,\n",
       "  0,\n",
       "  0,\n",
       "  0,\n",
       "  0,\n",
       "  0,\n",
       "  0,\n",
       "  0,\n",
       "  0,\n",
       "  0,\n",
       "  0,\n",
       "  0,\n",
       "  1,\n",
       "  0,\n",
       "  0,\n",
       "  0,\n",
       "  1,\n",
       "  0,\n",
       "  0,\n",
       "  0,\n",
       "  0,\n",
       "  0,\n",
       "  0,\n",
       "  0,\n",
       "  0,\n",
       "  0,\n",
       "  0,\n",
       "  0,\n",
       "  0,\n",
       "  0,\n",
       "  1,\n",
       "  0,\n",
       "  0,\n",
       "  0,\n",
       "  0,\n",
       "  0,\n",
       "  0,\n",
       "  0,\n",
       "  0,\n",
       "  0,\n",
       "  0,\n",
       "  0,\n",
       "  0,\n",
       "  0,\n",
       "  0,\n",
       "  0,\n",
       "  0,\n",
       "  0,\n",
       "  0,\n",
       "  1,\n",
       "  1,\n",
       "  1,\n",
       "  0,\n",
       "  0,\n",
       "  0,\n",
       "  0,\n",
       "  0,\n",
       "  1,\n",
       "  0,\n",
       "  0,\n",
       "  0,\n",
       "  0,\n",
       "  0,\n",
       "  0,\n",
       "  0,\n",
       "  0,\n",
       "  0,\n",
       "  0,\n",
       "  0,\n",
       "  0,\n",
       "  0,\n",
       "  0,\n",
       "  1,\n",
       "  0,\n",
       "  0,\n",
       "  0,\n",
       "  0,\n",
       "  0,\n",
       "  0,\n",
       "  0,\n",
       "  0,\n",
       "  0,\n",
       "  0,\n",
       "  0,\n",
       "  0,\n",
       "  0,\n",
       "  0,\n",
       "  1,\n",
       "  0,\n",
       "  0,\n",
       "  1,\n",
       "  0,\n",
       "  0,\n",
       "  0,\n",
       "  0,\n",
       "  0,\n",
       "  0,\n",
       "  0,\n",
       "  1,\n",
       "  0,\n",
       "  0,\n",
       "  1,\n",
       "  0,\n",
       "  0,\n",
       "  0,\n",
       "  0,\n",
       "  0,\n",
       "  0,\n",
       "  0,\n",
       "  0,\n",
       "  0,\n",
       "  0,\n",
       "  0,\n",
       "  0,\n",
       "  0,\n",
       "  0,\n",
       "  1,\n",
       "  0,\n",
       "  0,\n",
       "  0,\n",
       "  0,\n",
       "  0,\n",
       "  0,\n",
       "  0,\n",
       "  1,\n",
       "  0,\n",
       "  0,\n",
       "  0,\n",
       "  0,\n",
       "  0,\n",
       "  0,\n",
       "  1,\n",
       "  0,\n",
       "  0,\n",
       "  0,\n",
       "  0,\n",
       "  0,\n",
       "  0,\n",
       "  1,\n",
       "  1,\n",
       "  0,\n",
       "  0,\n",
       "  0,\n",
       "  0,\n",
       "  0,\n",
       "  1,\n",
       "  0,\n",
       "  0,\n",
       "  0,\n",
       "  0,\n",
       "  0,\n",
       "  0,\n",
       "  0,\n",
       "  0,\n",
       "  1,\n",
       "  0,\n",
       "  0,\n",
       "  0,\n",
       "  0,\n",
       "  0,\n",
       "  0,\n",
       "  0,\n",
       "  0,\n",
       "  0,\n",
       "  0,\n",
       "  0,\n",
       "  0,\n",
       "  0,\n",
       "  0,\n",
       "  0,\n",
       "  0,\n",
       "  0,\n",
       "  0,\n",
       "  0,\n",
       "  0,\n",
       "  0,\n",
       "  0,\n",
       "  1,\n",
       "  0,\n",
       "  1,\n",
       "  0,\n",
       "  0,\n",
       "  0,\n",
       "  0,\n",
       "  0,\n",
       "  1,\n",
       "  0,\n",
       "  1,\n",
       "  0,\n",
       "  0,\n",
       "  0,\n",
       "  0,\n",
       "  0,\n",
       "  0,\n",
       "  0,\n",
       "  0,\n",
       "  0,\n",
       "  0,\n",
       "  0,\n",
       "  0,\n",
       "  0,\n",
       "  0,\n",
       "  0,\n",
       "  0,\n",
       "  0,\n",
       "  1,\n",
       "  0,\n",
       "  0,\n",
       "  0,\n",
       "  0,\n",
       "  0,\n",
       "  0,\n",
       "  0,\n",
       "  0,\n",
       "  0,\n",
       "  0,\n",
       "  0,\n",
       "  0,\n",
       "  0,\n",
       "  0,\n",
       "  0,\n",
       "  0,\n",
       "  1,\n",
       "  0,\n",
       "  0,\n",
       "  0,\n",
       "  0,\n",
       "  0,\n",
       "  0,\n",
       "  0,\n",
       "  0,\n",
       "  0,\n",
       "  0,\n",
       "  0,\n",
       "  0,\n",
       "  0,\n",
       "  0,\n",
       "  0,\n",
       "  0,\n",
       "  0,\n",
       "  0,\n",
       "  0,\n",
       "  0,\n",
       "  0,\n",
       "  0,\n",
       "  0,\n",
       "  0,\n",
       "  0,\n",
       "  1,\n",
       "  0,\n",
       "  1,\n",
       "  0,\n",
       "  0,\n",
       "  0,\n",
       "  0,\n",
       "  0,\n",
       "  0,\n",
       "  0,\n",
       "  0,\n",
       "  0,\n",
       "  0,\n",
       "  0,\n",
       "  0,\n",
       "  0,\n",
       "  1,\n",
       "  0,\n",
       "  1,\n",
       "  1,\n",
       "  0,\n",
       "  0,\n",
       "  0,\n",
       "  0,\n",
       "  0,\n",
       "  0,\n",
       "  0,\n",
       "  0,\n",
       "  0,\n",
       "  0,\n",
       "  0,\n",
       "  0,\n",
       "  0,\n",
       "  1,\n",
       "  1,\n",
       "  0,\n",
       "  0,\n",
       "  0,\n",
       "  0,\n",
       "  0,\n",
       "  0,\n",
       "  0,\n",
       "  0,\n",
       "  1,\n",
       "  1,\n",
       "  0,\n",
       "  0,\n",
       "  0,\n",
       "  0,\n",
       "  0,\n",
       "  0,\n",
       "  0,\n",
       "  1,\n",
       "  0,\n",
       "  0,\n",
       "  0,\n",
       "  0,\n",
       "  0,\n",
       "  0,\n",
       "  1,\n",
       "  0,\n",
       "  0,\n",
       "  0,\n",
       "  0,\n",
       "  0,\n",
       "  0,\n",
       "  0,\n",
       "  0,\n",
       "  0,\n",
       "  1,\n",
       "  0,\n",
       "  1,\n",
       "  0,\n",
       "  0,\n",
       "  0,\n",
       "  1,\n",
       "  1,\n",
       "  0,\n",
       "  0,\n",
       "  1,\n",
       "  0,\n",
       "  0,\n",
       "  0,\n",
       "  0,\n",
       "  1,\n",
       "  0,\n",
       "  0,\n",
       "  0,\n",
       "  0,\n",
       "  0,\n",
       "  0,\n",
       "  0,\n",
       "  0,\n",
       "  0,\n",
       "  0,\n",
       "  0,\n",
       "  0,\n",
       "  0,\n",
       "  0,\n",
       "  0,\n",
       "  0,\n",
       "  0,\n",
       "  0,\n",
       "  0,\n",
       "  0,\n",
       "  1,\n",
       "  0,\n",
       "  0,\n",
       "  0,\n",
       "  0,\n",
       "  0,\n",
       "  0,\n",
       "  0,\n",
       "  0,\n",
       "  1,\n",
       "  0,\n",
       "  0,\n",
       "  0,\n",
       "  0,\n",
       "  0,\n",
       "  0,\n",
       "  0,\n",
       "  0,\n",
       "  0,\n",
       "  0,\n",
       "  0,\n",
       "  1,\n",
       "  0,\n",
       "  0,\n",
       "  0,\n",
       "  0,\n",
       "  0,\n",
       "  0,\n",
       "  0,\n",
       "  0,\n",
       "  0,\n",
       "  0,\n",
       "  0,\n",
       "  0,\n",
       "  0,\n",
       "  0,\n",
       "  0,\n",
       "  0,\n",
       "  0,\n",
       "  0,\n",
       "  0,\n",
       "  0,\n",
       "  0,\n",
       "  1,\n",
       "  0,\n",
       "  0,\n",
       "  0,\n",
       "  0,\n",
       "  0,\n",
       "  0,\n",
       "  0,\n",
       "  0,\n",
       "  0,\n",
       "  0,\n",
       "  0,\n",
       "  1,\n",
       "  0,\n",
       "  0,\n",
       "  0,\n",
       "  0,\n",
       "  0,\n",
       "  0,\n",
       "  0,\n",
       "  1,\n",
       "  0,\n",
       "  0,\n",
       "  0,\n",
       "  0,\n",
       "  0,\n",
       "  0,\n",
       "  0,\n",
       "  0,\n",
       "  0,\n",
       "  0,\n",
       "  0,\n",
       "  0,\n",
       "  0,\n",
       "  0,\n",
       "  0,\n",
       "  0,\n",
       "  0,\n",
       "  0,\n",
       "  0,\n",
       "  0,\n",
       "  0,\n",
       "  0,\n",
       "  0,\n",
       "  0,\n",
       "  0,\n",
       "  0,\n",
       "  0,\n",
       "  0,\n",
       "  0,\n",
       "  0,\n",
       "  0,\n",
       "  0,\n",
       "  0,\n",
       "  0,\n",
       "  0,\n",
       "  0,\n",
       "  0,\n",
       "  0,\n",
       "  0,\n",
       "  0,\n",
       "  0,\n",
       "  0,\n",
       "  0,\n",
       "  0,\n",
       "  0,\n",
       "  0,\n",
       "  1,\n",
       "  0,\n",
       "  0,\n",
       "  0,\n",
       "  0,\n",
       "  0,\n",
       "  0,\n",
       "  0,\n",
       "  0,\n",
       "  0,\n",
       "  0,\n",
       "  0,\n",
       "  0,\n",
       "  0,\n",
       "  0,\n",
       "  0,\n",
       "  0,\n",
       "  0,\n",
       "  1,\n",
       "  0,\n",
       "  0,\n",
       "  0,\n",
       "  0,\n",
       "  0,\n",
       "  0,\n",
       "  0,\n",
       "  1,\n",
       "  0,\n",
       "  0,\n",
       "  0,\n",
       "  0,\n",
       "  0,\n",
       "  0,\n",
       "  0,\n",
       "  0,\n",
       "  0,\n",
       "  0,\n",
       "  0,\n",
       "  0,\n",
       "  0,\n",
       "  0,\n",
       "  0,\n",
       "  0,\n",
       "  0,\n",
       "  0,\n",
       "  0,\n",
       "  1,\n",
       "  1,\n",
       "  1,\n",
       "  1,\n",
       "  0,\n",
       "  0,\n",
       "  0,\n",
       "  0,\n",
       "  0,\n",
       "  0,\n",
       "  0,\n",
       "  0,\n",
       "  0,\n",
       "  0,\n",
       "  0,\n",
       "  0,\n",
       "  1,\n",
       "  0,\n",
       "  1,\n",
       "  0,\n",
       "  0,\n",
       "  0,\n",
       "  0,\n",
       "  0,\n",
       "  0,\n",
       "  0,\n",
       "  0,\n",
       "  0,\n",
       "  0,\n",
       "  0,\n",
       "  0,\n",
       "  0,\n",
       "  0,\n",
       "  0,\n",
       "  0,\n",
       "  0,\n",
       "  0,\n",
       "  0,\n",
       "  0,\n",
       "  0,\n",
       "  0,\n",
       "  0,\n",
       "  1,\n",
       "  0,\n",
       "  0,\n",
       "  0,\n",
       "  0,\n",
       "  0,\n",
       "  1,\n",
       "  0,\n",
       "  0,\n",
       "  0,\n",
       "  0,\n",
       "  0,\n",
       "  0,\n",
       "  1,\n",
       "  0,\n",
       "  0,\n",
       "  0,\n",
       "  0,\n",
       "  0,\n",
       "  0,\n",
       "  0,\n",
       "  0,\n",
       "  0,\n",
       "  0,\n",
       "  1,\n",
       "  0,\n",
       "  0,\n",
       "  0,\n",
       "  0,\n",
       "  0,\n",
       "  0,\n",
       "  0,\n",
       "  0,\n",
       "  0,\n",
       "  0,\n",
       "  0,\n",
       "  0,\n",
       "  0,\n",
       "  0,\n",
       "  0,\n",
       "  0,\n",
       "  0,\n",
       "  0,\n",
       "  0,\n",
       "  0,\n",
       "  0,\n",
       "  0,\n",
       "  0,\n",
       "  0,\n",
       "  0,\n",
       "  0,\n",
       "  0,\n",
       "  0,\n",
       "  0,\n",
       "  0,\n",
       "  0,\n",
       "  0,\n",
       "  0,\n",
       "  0,\n",
       "  0,\n",
       "  0,\n",
       "  0,\n",
       "  0,\n",
       "  0,\n",
       "  0,\n",
       "  0,\n",
       "  0,\n",
       "  0,\n",
       "  0,\n",
       "  0,\n",
       "  0,\n",
       "  0,\n",
       "  1,\n",
       "  0,\n",
       "  0,\n",
       "  0,\n",
       "  0,\n",
       "  0,\n",
       "  0,\n",
       "  0,\n",
       "  0,\n",
       "  0,\n",
       "  0,\n",
       "  0,\n",
       "  0,\n",
       "  0,\n",
       "  0,\n",
       "  1,\n",
       "  0,\n",
       "  0,\n",
       "  0,\n",
       "  0,\n",
       "  0,\n",
       "  0,\n",
       "  0,\n",
       "  0,\n",
       "  0,\n",
       "  0,\n",
       "  1,\n",
       "  0,\n",
       "  0,\n",
       "  0,\n",
       "  0,\n",
       "  0,\n",
       "  0,\n",
       "  0,\n",
       "  0,\n",
       "  0,\n",
       "  0,\n",
       "  0,\n",
       "  0,\n",
       "  1,\n",
       "  0,\n",
       "  0,\n",
       "  0,\n",
       "  0,\n",
       "  0,\n",
       "  0,\n",
       "  0,\n",
       "  0,\n",
       "  0,\n",
       "  0,\n",
       "  0,\n",
       "  0,\n",
       "  0,\n",
       "  0,\n",
       "  0,\n",
       "  0,\n",
       "  0,\n",
       "  0,\n",
       "  0,\n",
       "  1,\n",
       "  0,\n",
       "  0,\n",
       "  0,\n",
       "  0,\n",
       "  0,\n",
       "  0,\n",
       "  0,\n",
       "  1,\n",
       "  0,\n",
       "  0,\n",
       "  0,\n",
       "  0,\n",
       "  0,\n",
       "  0,\n",
       "  0,\n",
       "  0,\n",
       "  0,\n",
       "  1,\n",
       "  0,\n",
       "  0,\n",
       "  0,\n",
       "  0,\n",
       "  0,\n",
       "  0,\n",
       "  0,\n",
       "  0,\n",
       "  0,\n",
       "  0,\n",
       "  0,\n",
       "  0,\n",
       "  0,\n",
       "  0,\n",
       "  0,\n",
       "  0,\n",
       "  0,\n",
       "  0,\n",
       "  0,\n",
       "  1,\n",
       "  0,\n",
       "  0,\n",
       "  0,\n",
       "  0,\n",
       "  0,\n",
       "  0,\n",
       "  0,\n",
       "  0,\n",
       "  0,\n",
       "  1,\n",
       "  0,\n",
       "  0,\n",
       "  0,\n",
       "  0,\n",
       "  0,\n",
       "  0,\n",
       "  0,\n",
       "  0,\n",
       "  0,\n",
       "  0,\n",
       "  0,\n",
       "  0,\n",
       "  1,\n",
       "  0,\n",
       "  1,\n",
       "  0,\n",
       "  0,\n",
       "  0,\n",
       "  0,\n",
       "  0,\n",
       "  0,\n",
       "  0,\n",
       "  0,\n",
       "  0,\n",
       "  0,\n",
       "  0,\n",
       "  0,\n",
       "  0,\n",
       "  0,\n",
       "  0,\n",
       "  0,\n",
       "  0,\n",
       "  0,\n",
       "  0,\n",
       "  1,\n",
       "  1,\n",
       "  0,\n",
       "  0,\n",
       "  0,\n",
       "  1,\n",
       "  1,\n",
       "  0,\n",
       "  0,\n",
       "  0,\n",
       "  0,\n",
       "  1,\n",
       "  0,\n",
       "  0,\n",
       "  0,\n",
       "  0,\n",
       "  0,\n",
       "  0,\n",
       "  1,\n",
       "  0,\n",
       "  0,\n",
       "  0,\n",
       "  0,\n",
       "  0,\n",
       "  1,\n",
       "  0,\n",
       "  0,\n",
       "  0,\n",
       "  0,\n",
       "  1,\n",
       "  1,\n",
       "  0,\n",
       "  ...],\n",
       " '_i168': \"start = perf_counter()\\nfor d in denoms:\\n    if d ==0:\\n        continue\\n    else:\\n        10/denominator\\nend = perf_counter()\\nperint(f'avg start time: {(end-start)/len(denoms):0.15f}')\",\n",
       " 'start': 42241.2915154,\n",
       " '_i169': \"start = perf_counter()\\nfor d in denoms:\\n    if d ==0:\\n        continue\\n    else:\\n        10/denoms\\nend = perf_counter()\\nperint(f'avg start time: {(end-start)/len(denoms):0.15f}')\",\n",
       " '_i170': \"start = perf_counter()\\nfor d in denoms:\\n    if d ==0:\\n        continue\\n    else:\\n        10/denominator\\nend = perf_counter()\\nperint(f'avg start time: {(end-start)/len(denoms):0.15f}')\",\n",
       " '_i171': \"start = perf_counter()\\nfor d in denoms:\\n    if d ==0:\\n        continue\\n    else:\\n        10/denominator\\nend = perf_counter()\\nperint(f'avg start time: {(end-start)/len(denoms):0.15f}')\",\n",
       " '_i172': \"start = perf_counter()\\nfor d in denoms:\\n    if d ==0:\\n        continue\\n    else:\\n        10 / denominator\\nend = perf_counter()\\nperint(f'avg start time: {(end-start)/len(denoms):0.15f}')\",\n",
       " '_i173': \"start = perf_counter()\\nfor d in denoms:\\n    if d ==0:\\n        continue\\n    else:\\n        10 / denoms\\nend = perf_counter()\\nperint(f'avg start time: {(end-start)/len(denoms):0.15f}')\",\n",
       " '_i174': \"start = perf_counter()\\nfor d in denoms:\\n    if d ==0:\\n        continue\\n    else:\\n        10 / denom\\nend = perf_counter()\\nprint(f'avg start time: {(end-start)/len(denoms):0.15f}')\",\n",
       " '_i175': \"start = perf_counter()\\nfor d in denoms:\\n    if d ==0:\\n        continue\\n    else:\\n        10 / denominator\\nend = perf_counter()\\nprint(f'avg start time: {(end-start)/len(denoms):0.15f}')\",\n",
       " '_i176': \"start = perf_counter()\\nfor d in denoms:\\n    if d ==0:\\n        continue\\n    else:\\n        10 / d\\nend = perf_counter()\\nprint(f'avg start time: {(end-start)/len(denoms):0.15f}')\",\n",
       " 'end': 42250.8367281,\n",
       " '_i177': \"start = perf_counter()\\nfor d in denoms:\\n    try:\\n        10/d\\n    except ZeroDivisionError:\\n        pass\\nend = perf_counter()\\nprint(f'avg start time: {(end-start)/len(denoms):0.15f}')\",\n",
       " '_i178': 'random.seed(0)\\ndenoms = random.choices([0,1], k = 10_000_000, weights=[1,9])',\n",
       " '_i179': \"start = perf_counter()\\nfor d in denoms:\\n    if d ==0:\\n        continue\\n    else:\\n        10 / d\\nend = perf_counter()\\nprint(f'avg start time: {(end-start)/len(denoms):0.15f}')\",\n",
       " '_i180': \"start = perf_counter()\\nfor d in denoms:\\n    if d ==0:\\n        continue\\n    else:\\n        10 / d\\nend = perf_counter()\\nprint(f'avg start time: {(end-start)/len(denoms)}')\",\n",
       " '_i181': \"start = perf_counter()\\nfor d in denoms:\\n    try:\\n        10/d\\n    except ZeroDivisionError:\\n        pass\\nend = perf_counter()\\nprint(f'avg start time: {(end-start)/len(denoms)}')\",\n",
       " '_i182': 'random.seed(0)\\ndenoms = random.choices([0,1], k = 10_000_000, weights=[9,1])',\n",
       " '_i183': \"start = perf_counter()\\nfor d in denoms:\\n    if d ==0:\\n        continue\\n    else:\\n        10 / d\\nend = perf_counter()\\nprint(f'avg start time: {(end-start)/len(denoms)}')\",\n",
       " '_i184': \"start = perf_counter()\\nfor d in denoms:\\n    try:\\n        10/d\\n    except ZeroDivisionError:\\n        pass\\nend = perf_counter()\\nprint(f'avg start time: {(end-start)/len(denoms)}')\",\n",
       " '_i185': \"random.choices(list('abc'), k=10)\",\n",
       " '_185': ['c', 'c', 'a', 'b', 'b', 'c', 'c', 'c', 'a', 'b'],\n",
       " '_i186': 'l = list(range(10))\\nprint(l)',\n",
       " '_i187': 'random.choices(l,k=5)',\n",
       " '_187': [3, 2, 4, 5, 7],\n",
       " '_i188': 'random.sample(l,k=5)',\n",
       " '_188': [6, 9, 1, 4, 8],\n",
       " '_i189': 'random.sample(l,k=5)',\n",
       " '_189': [6, 8, 5, 1, 0],\n",
       " '_i190': 'random.sample(l,k=5)',\n",
       " '_190': [3, 7, 8, 6, 2],\n",
       " '_i191': 'random.sample(l,k=11)',\n",
       " '_i192': 'random.sample(l,k=10)',\n",
       " '_192': [2, 6, 8, 7, 9, 5, 1, 4, 3, 0],\n",
       " '_i193': \"suits = 'C', 'D', 'H', 'S'\\nranks = tuple(range(2,11)) + tuple('JQKA')\",\n",
       " 'suits': ('C', 'D', 'H', 'S'),\n",
       " 'ranks': (2, 3, 4, 5, 6, 7, 8, 9, 10, 'J', 'Q', 'K', 'A'),\n",
       " '_i194': 'suits',\n",
       " '_194': ('C', 'D', 'H', 'S'),\n",
       " '_i195': 'ranks',\n",
       " '_195': (2, 3, 4, 5, 6, 7, 8, 9, 10, 'J', 'Q', 'K', 'A'),\n",
       " '_i196': 'deck = []\\nfor suit in suits:\\n    for rank in ranks:\\n        deck.append(str(rank) + suit)',\n",
       " 'deck': ['2C',\n",
       "  '3C',\n",
       "  '4C',\n",
       "  '5C',\n",
       "  '6C',\n",
       "  '7C',\n",
       "  '8C',\n",
       "  '9C',\n",
       "  '10C',\n",
       "  'JC',\n",
       "  'QC',\n",
       "  'KC',\n",
       "  'AC',\n",
       "  '2D',\n",
       "  '3D',\n",
       "  '4D',\n",
       "  '5D',\n",
       "  '6D',\n",
       "  '7D',\n",
       "  '8D',\n",
       "  '9D',\n",
       "  '10D',\n",
       "  'JD',\n",
       "  'QD',\n",
       "  'KD',\n",
       "  'AD',\n",
       "  '2H',\n",
       "  '3H',\n",
       "  '4H',\n",
       "  '5H',\n",
       "  '6H',\n",
       "  '7H',\n",
       "  '8H',\n",
       "  '9H',\n",
       "  '10H',\n",
       "  'JH',\n",
       "  'QH',\n",
       "  'KH',\n",
       "  'AH',\n",
       "  '2S',\n",
       "  '3S',\n",
       "  '4S',\n",
       "  '5S',\n",
       "  '6S',\n",
       "  '7S',\n",
       "  '8S',\n",
       "  '9S',\n",
       "  '10S',\n",
       "  'JS',\n",
       "  'QS',\n",
       "  'KS',\n",
       "  'AS'],\n",
       " 'suit': 'S',\n",
       " 'rank': 'A',\n",
       " '_i197': 'print(deck)',\n",
       " '_i198': 'deck [str(rank) + rank for suit in suits for rank in ranks]',\n",
       " '_i199': 'deck [str(rank) + suit for  suit in suits for rank in ranks]',\n",
       " '_i200': 'deck [str(rank) + suit for suit in suits for rank in ranks]',\n",
       " '_i201': 'deck = [str(rank) + suit for suit in suits for rank in ranks]',\n",
       " '_i202': 'deck',\n",
       " '_202': ['2C',\n",
       "  '3C',\n",
       "  '4C',\n",
       "  '5C',\n",
       "  '6C',\n",
       "  '7C',\n",
       "  '8C',\n",
       "  '9C',\n",
       "  '10C',\n",
       "  'JC',\n",
       "  'QC',\n",
       "  'KC',\n",
       "  'AC',\n",
       "  '2D',\n",
       "  '3D',\n",
       "  '4D',\n",
       "  '5D',\n",
       "  '6D',\n",
       "  '7D',\n",
       "  '8D',\n",
       "  '9D',\n",
       "  '10D',\n",
       "  'JD',\n",
       "  'QD',\n",
       "  'KD',\n",
       "  'AD',\n",
       "  '2H',\n",
       "  '3H',\n",
       "  '4H',\n",
       "  '5H',\n",
       "  '6H',\n",
       "  '7H',\n",
       "  '8H',\n",
       "  '9H',\n",
       "  '10H',\n",
       "  'JH',\n",
       "  'QH',\n",
       "  'KH',\n",
       "  'AH',\n",
       "  '2S',\n",
       "  '3S',\n",
       "  '4S',\n",
       "  '5S',\n",
       "  '6S',\n",
       "  '7S',\n",
       "  '8S',\n",
       "  '9S',\n",
       "  '10S',\n",
       "  'JS',\n",
       "  'QS',\n",
       "  'KS',\n",
       "  'AS'],\n",
       " '_i203': 'random.choices(deck,k=10)',\n",
       " '_203': ['QS', '5H', '5H', '7S', '4C', 'QS', '7D', '7S', '9H', 'JC'],\n",
       " '_i204': 'random.choices(deck,k=40)',\n",
       " '_204': ['5S',\n",
       "  '8H',\n",
       "  '10S',\n",
       "  '2H',\n",
       "  'KC',\n",
       "  '9D',\n",
       "  '4H',\n",
       "  'KC',\n",
       "  '5D',\n",
       "  'KD',\n",
       "  '7S',\n",
       "  'QS',\n",
       "  '7C',\n",
       "  'AC',\n",
       "  '2C',\n",
       "  '9C',\n",
       "  '7C',\n",
       "  '10H',\n",
       "  'QC',\n",
       "  '4D',\n",
       "  '5H',\n",
       "  '10S',\n",
       "  '10H',\n",
       "  '7S',\n",
       "  '10S',\n",
       "  'QD',\n",
       "  'KS',\n",
       "  'QS',\n",
       "  'JH',\n",
       "  '6H',\n",
       "  'KH',\n",
       "  '7C',\n",
       "  'JC',\n",
       "  '7C',\n",
       "  '10D',\n",
       "  '10C',\n",
       "  'QD',\n",
       "  '10C',\n",
       "  'QD',\n",
       "  '4S'],\n",
       " '_i205': 'Counter(random.choices(deck,k=40))',\n",
       " '_205': Counter({'8S': 2,\n",
       "          '7D': 3,\n",
       "          'AS': 2,\n",
       "          '9C': 1,\n",
       "          '10H': 1,\n",
       "          '10D': 1,\n",
       "          '9D': 1,\n",
       "          '8C': 2,\n",
       "          '8H': 1,\n",
       "          '5D': 2,\n",
       "          '10C': 1,\n",
       "          '6H': 1,\n",
       "          'JH': 1,\n",
       "          '6S': 2,\n",
       "          '8D': 1,\n",
       "          '5C': 2,\n",
       "          'KD': 1,\n",
       "          'AH': 2,\n",
       "          '4S': 3,\n",
       "          'QH': 1,\n",
       "          '4D': 1,\n",
       "          '2D': 1,\n",
       "          '6D': 1,\n",
       "          'AD': 1,\n",
       "          'QC': 1,\n",
       "          'QS': 1,\n",
       "          '7C': 1,\n",
       "          '10S': 1,\n",
       "          '5S': 1}),\n",
       " '_i206': 'random.sample(deck, k 10)',\n",
       " '_i207': 'random.sample(deck, k =10)',\n",
       " '_207': ['KH', '9H', '5C', '9D', '4H', '7D', '2C', '7H', '8C', '6S'],\n",
       " '_i208': 'Counter(random.sample(deck, k =52))',\n",
       " '_208': Counter({'2D': 1,\n",
       "          'AC': 1,\n",
       "          '3C': 1,\n",
       "          'JH': 1,\n",
       "          'AD': 1,\n",
       "          '5C': 1,\n",
       "          '9D': 1,\n",
       "          '8C': 1,\n",
       "          '6D': 1,\n",
       "          '3H': 1,\n",
       "          '7H': 1,\n",
       "          '5D': 1,\n",
       "          'JC': 1,\n",
       "          '9H': 1,\n",
       "          '2H': 1,\n",
       "          'QC': 1,\n",
       "          '4S': 1,\n",
       "          '10S': 1,\n",
       "          '10C': 1,\n",
       "          '7S': 1,\n",
       "          '8S': 1,\n",
       "          '9S': 1,\n",
       "          '8D': 1,\n",
       "          'QS': 1,\n",
       "          '6H': 1,\n",
       "          'JS': 1,\n",
       "          'KS': 1,\n",
       "          '4H': 1,\n",
       "          '4D': 1,\n",
       "          'QH': 1,\n",
       "          'QD': 1,\n",
       "          '2S': 1,\n",
       "          '3S': 1,\n",
       "          '5S': 1,\n",
       "          '7D': 1,\n",
       "          '8H': 1,\n",
       "          '10D': 1,\n",
       "          'KD': 1,\n",
       "          'KH': 1,\n",
       "          'AS': 1,\n",
       "          '5H': 1,\n",
       "          'JD': 1,\n",
       "          '7C': 1,\n",
       "          '4C': 1,\n",
       "          'AH': 1,\n",
       "          '2C': 1,\n",
       "          '3D': 1,\n",
       "          '6S': 1,\n",
       "          '6C': 1,\n",
       "          'KC': 1,\n",
       "          '9C': 1,\n",
       "          '10H': 1}),\n",
       " '_i209': 'from timeit import timeit',\n",
       " 'timeit': <function timeit.timeit(stmt='pass', setup='pass', timer=<built-in function perf_counter>, number=1000000, globals=None)>,\n",
       " '_i210': 'help(timeit)',\n",
       " '_i211': 'globals()'}"
      ]
     },
     "execution_count": 211,
     "metadata": {},
     "output_type": "execute_result"
    }
   ],
   "source": [
    "globals()"
   ]
  },
  {
   "cell_type": "code",
   "execution_count": 213,
   "metadata": {},
   "outputs": [
    {
     "data": {
      "text/plain": [
       "1.4142135623730951"
      ]
     },
     "execution_count": 213,
     "metadata": {},
     "output_type": "execute_result"
    }
   ],
   "source": [
    "import math\n",
    "math.sqrt(2)"
   ]
  },
  {
   "cell_type": "code",
   "execution_count": 214,
   "metadata": {},
   "outputs": [
    {
     "data": {
      "text/plain": [
       "1.4142135623730951"
      ]
     },
     "execution_count": 214,
     "metadata": {},
     "output_type": "execute_result"
    }
   ],
   "source": [
    "from math import sqrt\n",
    "sqrt(2)"
   ]
  },
  {
   "cell_type": "code",
   "execution_count": 215,
   "metadata": {},
   "outputs": [
    {
     "ename": "NameError",
     "evalue": "name 'math' is not defined",
     "output_type": "error",
     "traceback": [
      "\u001b[1;31m---------------------------------------------------------------------------\u001b[0m",
      "\u001b[1;31mNameError\u001b[0m                                 Traceback (most recent call last)",
      "\u001b[1;32m<ipython-input-215-5b49bebd303a>\u001b[0m in \u001b[0;36m<module>\u001b[1;34m\u001b[0m\n\u001b[1;32m----> 1\u001b[1;33m \u001b[0mtimeit\u001b[0m\u001b[1;33m(\u001b[0m\u001b[0mstmt\u001b[0m \u001b[1;33m=\u001b[0m \u001b[1;34m'math.sqrt(2)'\u001b[0m\u001b[1;33m)\u001b[0m\u001b[1;33m\u001b[0m\u001b[1;33m\u001b[0m\u001b[0m\n\u001b[0m",
      "\u001b[1;32mc:\\users\\karti\\appdata\\local\\programs\\python\\python39\\lib\\timeit.py\u001b[0m in \u001b[0;36mtimeit\u001b[1;34m(stmt, setup, timer, number, globals)\u001b[0m\n\u001b[0;32m    231\u001b[0m            number=default_number, globals=None):\n\u001b[0;32m    232\u001b[0m     \u001b[1;34m\"\"\"Convenience function to create Timer object and call timeit method.\"\"\"\u001b[0m\u001b[1;33m\u001b[0m\u001b[1;33m\u001b[0m\u001b[0m\n\u001b[1;32m--> 233\u001b[1;33m     \u001b[1;32mreturn\u001b[0m \u001b[0mTimer\u001b[0m\u001b[1;33m(\u001b[0m\u001b[0mstmt\u001b[0m\u001b[1;33m,\u001b[0m \u001b[0msetup\u001b[0m\u001b[1;33m,\u001b[0m \u001b[0mtimer\u001b[0m\u001b[1;33m,\u001b[0m \u001b[0mglobals\u001b[0m\u001b[1;33m)\u001b[0m\u001b[1;33m.\u001b[0m\u001b[0mtimeit\u001b[0m\u001b[1;33m(\u001b[0m\u001b[0mnumber\u001b[0m\u001b[1;33m)\u001b[0m\u001b[1;33m\u001b[0m\u001b[1;33m\u001b[0m\u001b[0m\n\u001b[0m\u001b[0;32m    234\u001b[0m \u001b[1;33m\u001b[0m\u001b[0m\n\u001b[0;32m    235\u001b[0m def repeat(stmt=\"pass\", setup=\"pass\", timer=default_timer,\n",
      "\u001b[1;32mc:\\users\\karti\\appdata\\local\\programs\\python\\python39\\lib\\timeit.py\u001b[0m in \u001b[0;36mtimeit\u001b[1;34m(self, number)\u001b[0m\n\u001b[0;32m    175\u001b[0m         \u001b[0mgc\u001b[0m\u001b[1;33m.\u001b[0m\u001b[0mdisable\u001b[0m\u001b[1;33m(\u001b[0m\u001b[1;33m)\u001b[0m\u001b[1;33m\u001b[0m\u001b[1;33m\u001b[0m\u001b[0m\n\u001b[0;32m    176\u001b[0m         \u001b[1;32mtry\u001b[0m\u001b[1;33m:\u001b[0m\u001b[1;33m\u001b[0m\u001b[1;33m\u001b[0m\u001b[0m\n\u001b[1;32m--> 177\u001b[1;33m             \u001b[0mtiming\u001b[0m \u001b[1;33m=\u001b[0m \u001b[0mself\u001b[0m\u001b[1;33m.\u001b[0m\u001b[0minner\u001b[0m\u001b[1;33m(\u001b[0m\u001b[0mit\u001b[0m\u001b[1;33m,\u001b[0m \u001b[0mself\u001b[0m\u001b[1;33m.\u001b[0m\u001b[0mtimer\u001b[0m\u001b[1;33m)\u001b[0m\u001b[1;33m\u001b[0m\u001b[1;33m\u001b[0m\u001b[0m\n\u001b[0m\u001b[0;32m    178\u001b[0m         \u001b[1;32mfinally\u001b[0m\u001b[1;33m:\u001b[0m\u001b[1;33m\u001b[0m\u001b[1;33m\u001b[0m\u001b[0m\n\u001b[0;32m    179\u001b[0m             \u001b[1;32mif\u001b[0m \u001b[0mgcold\u001b[0m\u001b[1;33m:\u001b[0m\u001b[1;33m\u001b[0m\u001b[1;33m\u001b[0m\u001b[0m\n",
      "\u001b[1;32mc:\\users\\karti\\appdata\\local\\programs\\python\\python39\\lib\\timeit.py\u001b[0m in \u001b[0;36minner\u001b[1;34m(_it, _timer)\u001b[0m\n",
      "\u001b[1;31mNameError\u001b[0m: name 'math' is not defined"
     ]
    }
   ],
   "source": [
    "timeit(stmt = 'math.sqrt(2)')"
   ]
  },
  {
   "cell_type": "code",
   "execution_count": 216,
   "metadata": {},
   "outputs": [
    {
     "data": {
      "text/plain": [
       "1.736752599994361"
      ]
     },
     "execution_count": 216,
     "metadata": {},
     "output_type": "execute_result"
    }
   ],
   "source": [
    "timeit(stmt = 'import math\\nmath.sqrt(2)')"
   ]
  },
  {
   "cell_type": "code",
   "execution_count": 217,
   "metadata": {},
   "outputs": [
    {
     "data": {
      "text/plain": [
       "0.6384142999959295"
      ]
     },
     "execution_count": 217,
     "metadata": {},
     "output_type": "execute_result"
    }
   ],
   "source": [
    "timeit(stmt = 'sqrt(2)', setup = 'from math import sqrt')"
   ]
  },
  {
   "cell_type": "code",
   "execution_count": 219,
   "metadata": {},
   "outputs": [
    {
     "data": {
      "text/plain": [
       "0.9723771999997552"
      ]
     },
     "execution_count": 219,
     "metadata": {},
     "output_type": "execute_result"
    }
   ],
   "source": [
    "timeit(stmt = 'math.sqrt(2)', globals = globals())"
   ]
  },
  {
   "cell_type": "code",
   "execution_count": 220,
   "metadata": {},
   "outputs": [],
   "source": [
    "import random"
   ]
  },
  {
   "cell_type": "code",
   "execution_count": 221,
   "metadata": {},
   "outputs": [],
   "source": [
    "l = random.choices(list('python'), k=500)"
   ]
  },
  {
   "cell_type": "code",
   "execution_count": 222,
   "metadata": {},
   "outputs": [
    {
     "data": {
      "text/plain": [
       "True"
      ]
     },
     "execution_count": 222,
     "metadata": {},
     "output_type": "execute_result"
    }
   ],
   "source": [
    "'l' in globals()"
   ]
  },
  {
   "cell_type": "code",
   "execution_count": 223,
   "metadata": {},
   "outputs": [
    {
     "data": {
      "text/plain": [
       "1.5750499999994645"
      ]
     },
     "execution_count": 223,
     "metadata": {},
     "output_type": "execute_result"
    }
   ],
   "source": [
    "timeit(stmt = 'random.choice(l)', setup = 'import random', globals = globals())"
   ]
  },
  {
   "cell_type": "code",
   "execution_count": 237,
   "metadata": {},
   "outputs": [],
   "source": [
    "def pic_random():\n",
    "    randoms = random.choices(list('python'), k=500)\n",
    "    return timeit(stmt = 'random.choice(randoms)', setup = 'import random', globals = locals())"
   ]
  },
  {
   "cell_type": "code",
   "execution_count": 238,
   "metadata": {},
   "outputs": [
    {
     "data": {
      "text/plain": [
       "True"
      ]
     },
     "execution_count": 238,
     "metadata": {},
     "output_type": "execute_result"
    }
   ],
   "source": [
    "'randoms' in globals()"
   ]
  },
  {
   "cell_type": "code",
   "execution_count": 239,
   "metadata": {},
   "outputs": [
    {
     "data": {
      "text/plain": [
       "1.6341481000054046"
      ]
     },
     "execution_count": 239,
     "metadata": {},
     "output_type": "execute_result"
    }
   ],
   "source": [
    "pic_random()"
   ]
  },
  {
   "cell_type": "code",
   "execution_count": 240,
   "metadata": {},
   "outputs": [
    {
     "data": {
      "text/plain": [
       "True"
      ]
     },
     "execution_count": 240,
     "metadata": {},
     "output_type": "execute_result"
    }
   ],
   "source": [
    "'randoms' in globals()"
   ]
  },
  {
   "cell_type": "code",
   "execution_count": 243,
   "metadata": {},
   "outputs": [],
   "source": [
    "def pick_randoms(lst):\n",
    "    return random.choice(lst)"
   ]
  },
  {
   "cell_type": "code",
   "execution_count": 244,
   "metadata": {},
   "outputs": [
    {
     "data": {
      "text/plain": [
       "3.5030571999959648"
      ]
     },
     "execution_count": 244,
     "metadata": {},
     "output_type": "execute_result"
    }
   ],
   "source": [
    "timeit(stmt='pick_randoms(l)', globals=globals())"
   ]
  },
  {
   "cell_type": "code",
   "execution_count": 245,
   "metadata": {},
   "outputs": [],
   "source": [
    "### DOnt use *args and **kwargs names blindly"
   ]
  },
  {
   "cell_type": "code",
   "execution_count": 247,
   "metadata": {},
   "outputs": [],
   "source": [
    "def audit(fun):\n",
    "    def inner(*args, **kwargs):\n",
    "        print(f'Called {fun.__name__}')\n",
    "        return fun(*args, **kwargs)\n",
    "    return inner"
   ]
  },
  {
   "cell_type": "code",
   "execution_count": 248,
   "metadata": {},
   "outputs": [],
   "source": [
    "@audit\n",
    "def say_hello(name):\n",
    "    return f'hello{name}'"
   ]
  },
  {
   "cell_type": "code",
   "execution_count": 249,
   "metadata": {},
   "outputs": [],
   "source": [
    "from operator import mul\n",
    "from functools import reduce\n",
    "@audit\n",
    "def product(*values):\n",
    "    return reduce(mul, values)\n",
    "    "
   ]
  },
  {
   "cell_type": "code",
   "execution_count": 250,
   "metadata": {},
   "outputs": [
    {
     "name": "stdout",
     "output_type": "stream",
     "text": [
      "Called say_hello\n"
     ]
    },
    {
     "data": {
      "text/plain": [
       "'hellopolly'"
      ]
     },
     "execution_count": 250,
     "metadata": {},
     "output_type": "execute_result"
    }
   ],
   "source": [
    "say_hello(name = 'polly')"
   ]
  },
  {
   "cell_type": "code",
   "execution_count": 251,
   "metadata": {},
   "outputs": [
    {
     "name": "stdout",
     "output_type": "stream",
     "text": [
      "Called product\n"
     ]
    },
    {
     "data": {
      "text/plain": [
       "120"
      ]
     },
     "execution_count": 251,
     "metadata": {},
     "output_type": "execute_result"
    }
   ],
   "source": [
    "product(1,2,3,4,5)"
   ]
  },
  {
   "cell_type": "code",
   "execution_count": 252,
   "metadata": {},
   "outputs": [],
   "source": [
    "class Person:\n",
    "    def __init__(self, name,age,**custom_attr):\n",
    "        self.name = name\n",
    "        self.age = age\n",
    "        for attr_name, attr_value in custom_attr.items():\n",
    "            setattr(self,attr_name,attr_value)"
   ]
  },
  {
   "cell_type": "code",
   "execution_count": 253,
   "metadata": {},
   "outputs": [],
   "source": [
    "parrot = Person('Polly', 100, status = 'stiff', vooms = False)"
   ]
  },
  {
   "cell_type": "code",
   "execution_count": 254,
   "metadata": {},
   "outputs": [
    {
     "name": "stdout",
     "output_type": "stream",
     "text": [
      "{'name': 'Polly', 'age': 100, 'status': 'stiff', 'vooms': False}\n"
     ]
    }
   ],
   "source": [
    "print(vars(parrot))"
   ]
  },
  {
   "cell_type": "code",
   "execution_count": 255,
   "metadata": {},
   "outputs": [],
   "source": [
    "mic = Person('pal', 42, role='shop', crooked=True)"
   ]
  },
  {
   "cell_type": "code",
   "execution_count": 256,
   "metadata": {},
   "outputs": [
    {
     "name": "stdout",
     "output_type": "stream",
     "text": [
      "{'name': 'pal', 'age': 42, 'role': 'shop', 'crooked': True}\n"
     ]
    }
   ],
   "source": [
    "print(vars(mic))"
   ]
  },
  {
   "cell_type": "code",
   "execution_count": null,
   "metadata": {},
   "outputs": [],
   "source": []
  }
 ],
 "metadata": {
  "kernelspec": {
   "display_name": "Python 3",
   "language": "python",
   "name": "python3"
  },
  "language_info": {
   "codemirror_mode": {
    "name": "ipython",
    "version": 3
   },
   "file_extension": ".py",
   "mimetype": "text/x-python",
   "name": "python",
   "nbconvert_exporter": "python",
   "pygments_lexer": "ipython3",
   "version": "3.9.0"
  }
 },
 "nbformat": 4,
 "nbformat_minor": 4
}
