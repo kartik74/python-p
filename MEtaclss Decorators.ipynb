{
 "cells": [
  {
   "cell_type": "code",
   "execution_count": 1,
   "metadata": {},
   "outputs": [],
   "source": [
    "def savings(cls):\n",
    "    cls.acc_type = 'savings'\n",
    "    return cls\n",
    "\n",
    "\n",
    "def checking(cls):\n",
    "    cls.acc_type = 'checking'\n",
    "    return cls"
   ]
  },
  {
   "cell_type": "code",
   "execution_count": 3,
   "metadata": {},
   "outputs": [],
   "source": [
    "class Account:\n",
    "    pass\n",
    "\n",
    "@savings\n",
    "class Bank1Savings(Account):\n",
    "    pass\n",
    "\n",
    "#Bank1Savings  = savings(Bank1Savings)\n",
    "\n",
    "@savings\n",
    "class Bank2Savings(Account):\n",
    "    pass\n",
    "\n",
    "@checking\n",
    "class Bank1Checking(Account):\n",
    "    pass\n",
    "\n",
    "@checking\n",
    "class Bank2Checking(Account):\n",
    "    pass"
   ]
  },
  {
   "cell_type": "code",
   "execution_count": 4,
   "metadata": {},
   "outputs": [
    {
     "data": {
      "text/plain": [
       "mappingproxy({'__module__': '__main__',\n",
       "              '__doc__': None,\n",
       "              'acc_type': 'savings'})"
      ]
     },
     "execution_count": 4,
     "metadata": {},
     "output_type": "execute_result"
    }
   ],
   "source": [
    "Bank1Savings.__dict__"
   ]
  },
  {
   "cell_type": "code",
   "execution_count": 5,
   "metadata": {},
   "outputs": [
    {
     "data": {
      "text/plain": [
       "mappingproxy({'__module__': '__main__',\n",
       "              '__doc__': None,\n",
       "              'acc_type': 'checking'})"
      ]
     },
     "execution_count": 5,
     "metadata": {},
     "output_type": "execute_result"
    }
   ],
   "source": [
    "Bank2Checking.__dict__"
   ]
  },
  {
   "cell_type": "code",
   "execution_count": 6,
   "metadata": {},
   "outputs": [],
   "source": [
    "def acc_type(type_):\n",
    "    def dec(cls):\n",
    "        cls.acc_type = type_\n",
    "        return cls\n",
    "    return dec"
   ]
  },
  {
   "cell_type": "code",
   "execution_count": 7,
   "metadata": {},
   "outputs": [],
   "source": [
    "@acc_type('Savings')\n",
    "class Bank1Savings:\n",
    "    pass"
   ]
  },
  {
   "cell_type": "code",
   "execution_count": 8,
   "metadata": {},
   "outputs": [],
   "source": [
    "@acc_type('Checking')\n",
    "class Bank1Checking:\n",
    "    pass"
   ]
  },
  {
   "cell_type": "code",
   "execution_count": 9,
   "metadata": {},
   "outputs": [
    {
     "data": {
      "text/plain": [
       "mappingproxy({'__module__': '__main__',\n",
       "              '__dict__': <attribute '__dict__' of 'Bank1Savings' objects>,\n",
       "              '__weakref__': <attribute '__weakref__' of 'Bank1Savings' objects>,\n",
       "              '__doc__': None,\n",
       "              'acc_type': 'Savings'})"
      ]
     },
     "execution_count": 9,
     "metadata": {},
     "output_type": "execute_result"
    }
   ],
   "source": [
    "Bank1Savings.__dict__"
   ]
  },
  {
   "cell_type": "code",
   "execution_count": 10,
   "metadata": {},
   "outputs": [
    {
     "data": {
      "text/plain": [
       "mappingproxy({'__module__': '__main__',\n",
       "              '__dict__': <attribute '__dict__' of 'Bank1Checking' objects>,\n",
       "              '__weakref__': <attribute '__weakref__' of 'Bank1Checking' objects>,\n",
       "              '__doc__': None,\n",
       "              'acc_type': 'Checking'})"
      ]
     },
     "execution_count": 10,
     "metadata": {},
     "output_type": "execute_result"
    }
   ],
   "source": [
    "Bank1Checking.__dict__"
   ]
  },
  {
   "cell_type": "code",
   "execution_count": 11,
   "metadata": {},
   "outputs": [],
   "source": [
    "def hello(cls):\n",
    "    cls.hello = lambda self:f'{self} says hello'\n",
    "    return cls"
   ]
  },
  {
   "cell_type": "code",
   "execution_count": 13,
   "metadata": {},
   "outputs": [],
   "source": [
    "@hello\n",
    "class Person:\n",
    "    def __init__(self, name):\n",
    "        self.name = name\n",
    "        \n",
    "    def __str__(self):\n",
    "        return self.name"
   ]
  },
  {
   "cell_type": "code",
   "execution_count": 14,
   "metadata": {},
   "outputs": [
    {
     "data": {
      "text/plain": [
       "mappingproxy({'__module__': '__main__',\n",
       "              '__init__': <function __main__.Person.__init__(self, name)>,\n",
       "              '__str__': <function __main__.Person.__str__(self)>,\n",
       "              '__dict__': <attribute '__dict__' of 'Person' objects>,\n",
       "              '__weakref__': <attribute '__weakref__' of 'Person' objects>,\n",
       "              '__doc__': None,\n",
       "              'hello': <function __main__.hello.<locals>.<lambda>(self)>})"
      ]
     },
     "execution_count": 14,
     "metadata": {},
     "output_type": "execute_result"
    }
   ],
   "source": [
    "vars(Person)"
   ]
  },
  {
   "cell_type": "code",
   "execution_count": 15,
   "metadata": {},
   "outputs": [],
   "source": [
    "p = Person('Guido')"
   ]
  },
  {
   "cell_type": "code",
   "execution_count": 16,
   "metadata": {},
   "outputs": [
    {
     "data": {
      "text/plain": [
       "'Guido says hello'"
      ]
     },
     "execution_count": 16,
     "metadata": {},
     "output_type": "execute_result"
    }
   ],
   "source": [
    "p.hello()"
   ]
  },
  {
   "cell_type": "code",
   "execution_count": 17,
   "metadata": {},
   "outputs": [],
   "source": [
    "from functools import wraps"
   ]
  },
  {
   "cell_type": "code",
   "execution_count": 18,
   "metadata": {},
   "outputs": [],
   "source": [
    "def func_log(fn):\n",
    "    @wraps(fn)\n",
    "    def inner(*args, **kwargs):\n",
    "        result = fn(*args, **kwargs)\n",
    "        print(f'Log:{fn.__qualname__}({args}, {kwargs}) = {result}')\n",
    "        return result\n",
    "    return inner"
   ]
  },
  {
   "cell_type": "code",
   "execution_count": 19,
   "metadata": {},
   "outputs": [],
   "source": [
    "class Person:\n",
    "    @func_log\n",
    "    def __init__(self, name, age):\n",
    "        self.name = name\n",
    "        self.age = age\n",
    "        \n",
    "    @func_log\n",
    "    def greet(self):\n",
    "        return f'hello, my name is {self.name}, and i m {self.age} old'"
   ]
  },
  {
   "cell_type": "code",
   "execution_count": 20,
   "metadata": {},
   "outputs": [
    {
     "name": "stdout",
     "output_type": "stream",
     "text": [
      "Log:Person.__init__((<__main__.Person object at 0x00000245CEA3EA60>, 'john', 78), {}) = None\n"
     ]
    }
   ],
   "source": [
    "p = Person('john', 78)"
   ]
  },
  {
   "cell_type": "code",
   "execution_count": 21,
   "metadata": {},
   "outputs": [
    {
     "name": "stdout",
     "output_type": "stream",
     "text": [
      "Log:Person.greet((<__main__.Person object at 0x00000245CEA3EA60>,), {}) = hello, my name is john, and i m 78 old\n"
     ]
    },
    {
     "data": {
      "text/plain": [
       "'hello, my name is john, and i m 78 old'"
      ]
     },
     "execution_count": 21,
     "metadata": {},
     "output_type": "execute_result"
    }
   ],
   "source": [
    "p.greet()"
   ]
  },
  {
   "cell_type": "code",
   "execution_count": 23,
   "metadata": {},
   "outputs": [],
   "source": [
    "def class_log(cls):\n",
    "    for name, obj in vars(cls).items():\n",
    "        if callable(obj):\n",
    "            print('dec', cls, name)\n",
    "            setattr(cls, name, func_log(obj))\n",
    "    return cls"
   ]
  },
  {
   "cell_type": "code",
   "execution_count": 24,
   "metadata": {},
   "outputs": [
    {
     "name": "stdout",
     "output_type": "stream",
     "text": [
      "dec <class '__main__.Person'> __init__\n",
      "dec <class '__main__.Person'> greet\n"
     ]
    }
   ],
   "source": [
    "@class_log\n",
    "class Person:\n",
    "    def __init__(self, name, age):\n",
    "        self.name = name\n",
    "        self.age = age\n",
    "        \n",
    "    def greet(self):\n",
    "        return f'hello, my name is {self.name}, and i m {self.age} old'"
   ]
  },
  {
   "cell_type": "code",
   "execution_count": 25,
   "metadata": {},
   "outputs": [
    {
     "name": "stdout",
     "output_type": "stream",
     "text": [
      "Log:Person.__init__((<__main__.Person object at 0x00000245CE6D7D60>, 'john', 78), {}) = None\n"
     ]
    }
   ],
   "source": [
    "p = Person('john', 78)"
   ]
  },
  {
   "cell_type": "code",
   "execution_count": 26,
   "metadata": {},
   "outputs": [
    {
     "name": "stdout",
     "output_type": "stream",
     "text": [
      "Log:Person.greet((<__main__.Person object at 0x00000245CE6D7D60>,), {}) = hello, my name is john, and i m 78 old\n"
     ]
    },
    {
     "data": {
      "text/plain": [
       "'hello, my name is john, and i m 78 old'"
      ]
     },
     "execution_count": 26,
     "metadata": {},
     "output_type": "execute_result"
    }
   ],
   "source": [
    "p.greet()"
   ]
  },
  {
   "cell_type": "code",
   "execution_count": 27,
   "metadata": {},
   "outputs": [
    {
     "name": "stdout",
     "output_type": "stream",
     "text": [
      "dec <class '__main__.Person'> Inst_method\n"
     ]
    }
   ],
   "source": [
    "@class_log\n",
    "class Person:\n",
    "    @staticmethod\n",
    "    def static_method():\n",
    "        print('static method invoked')\n",
    "        \n",
    "    @classmethod\n",
    "    def cls_method(cls):\n",
    "        print(f'cls_method invoked for {cls}')\n",
    "        \n",
    "    def Inst_method(self):\n",
    "        print(f'inst method for {self}')"
   ]
  },
  {
   "cell_type": "code",
   "execution_count": 28,
   "metadata": {},
   "outputs": [
    {
     "data": {
      "text/plain": [
       "mappingproxy({'__module__': '__main__',\n",
       "              'static_method': <staticmethod at 0x245ce0ebd60>,\n",
       "              'cls_method': <classmethod at 0x245ce0fd8b0>,\n",
       "              'Inst_method': <function __main__.Person.Inst_method(self)>,\n",
       "              '__dict__': <attribute '__dict__' of 'Person' objects>,\n",
       "              '__weakref__': <attribute '__weakref__' of 'Person' objects>,\n",
       "              '__doc__': None})"
      ]
     },
     "execution_count": 28,
     "metadata": {},
     "output_type": "execute_result"
    }
   ],
   "source": [
    "Person.__dict__"
   ]
  },
  {
   "cell_type": "code",
   "execution_count": 32,
   "metadata": {},
   "outputs": [
    {
     "data": {
      "text/plain": [
       "False"
      ]
     },
     "execution_count": 32,
     "metadata": {},
     "output_type": "execute_result"
    }
   ],
   "source": [
    "callable(Person.__dict__['static_method'])"
   ]
  },
  {
   "cell_type": "code",
   "execution_count": 33,
   "metadata": {},
   "outputs": [],
   "source": [
    "class Person:\n",
    "    @staticmethod\n",
    "    @func_log\n",
    "    def static_mthod():\n",
    "        pass"
   ]
  },
  {
   "cell_type": "code",
   "execution_count": 34,
   "metadata": {},
   "outputs": [
    {
     "name": "stdout",
     "output_type": "stream",
     "text": [
      "Log:Person.static_mthod((), {}) = None\n"
     ]
    }
   ],
   "source": [
    "Person.static_mthod()"
   ]
  },
  {
   "cell_type": "code",
   "execution_count": 35,
   "metadata": {},
   "outputs": [],
   "source": [
    "class Person:\n",
    "    @func_log\n",
    "    @staticmethod\n",
    "    def static_mthod():\n",
    "        pass"
   ]
  },
  {
   "cell_type": "code",
   "execution_count": 36,
   "metadata": {},
   "outputs": [
    {
     "ename": "TypeError",
     "evalue": "'staticmethod' object is not callable",
     "output_type": "error",
     "traceback": [
      "\u001b[1;31m---------------------------------------------------------------------------\u001b[0m",
      "\u001b[1;31mTypeError\u001b[0m                                 Traceback (most recent call last)",
      "\u001b[1;32m<ipython-input-36-5b97358d6a5e>\u001b[0m in \u001b[0;36m<module>\u001b[1;34m\u001b[0m\n\u001b[1;32m----> 1\u001b[1;33m \u001b[0mPerson\u001b[0m\u001b[1;33m.\u001b[0m\u001b[0mstatic_mthod\u001b[0m\u001b[1;33m(\u001b[0m\u001b[1;33m)\u001b[0m\u001b[1;33m\u001b[0m\u001b[1;33m\u001b[0m\u001b[0m\n\u001b[0m",
      "\u001b[1;32m<ipython-input-18-68577b1be8cb>\u001b[0m in \u001b[0;36minner\u001b[1;34m(*args, **kwargs)\u001b[0m\n\u001b[0;32m      2\u001b[0m     \u001b[1;33m@\u001b[0m\u001b[0mwraps\u001b[0m\u001b[1;33m(\u001b[0m\u001b[0mfn\u001b[0m\u001b[1;33m)\u001b[0m\u001b[1;33m\u001b[0m\u001b[1;33m\u001b[0m\u001b[0m\n\u001b[0;32m      3\u001b[0m     \u001b[1;32mdef\u001b[0m \u001b[0minner\u001b[0m\u001b[1;33m(\u001b[0m\u001b[1;33m*\u001b[0m\u001b[0margs\u001b[0m\u001b[1;33m,\u001b[0m \u001b[1;33m**\u001b[0m\u001b[0mkwargs\u001b[0m\u001b[1;33m)\u001b[0m\u001b[1;33m:\u001b[0m\u001b[1;33m\u001b[0m\u001b[1;33m\u001b[0m\u001b[0m\n\u001b[1;32m----> 4\u001b[1;33m         \u001b[0mresult\u001b[0m \u001b[1;33m=\u001b[0m \u001b[0mfn\u001b[0m\u001b[1;33m(\u001b[0m\u001b[1;33m*\u001b[0m\u001b[0margs\u001b[0m\u001b[1;33m,\u001b[0m \u001b[1;33m**\u001b[0m\u001b[0mkwargs\u001b[0m\u001b[1;33m)\u001b[0m\u001b[1;33m\u001b[0m\u001b[1;33m\u001b[0m\u001b[0m\n\u001b[0m\u001b[0;32m      5\u001b[0m         \u001b[0mprint\u001b[0m\u001b[1;33m(\u001b[0m\u001b[1;34mf'Log:{fn.__qualname__}({args}, {kwargs}) = {result}'\u001b[0m\u001b[1;33m)\u001b[0m\u001b[1;33m\u001b[0m\u001b[1;33m\u001b[0m\u001b[0m\n\u001b[0;32m      6\u001b[0m         \u001b[1;32mreturn\u001b[0m \u001b[0mresult\u001b[0m\u001b[1;33m\u001b[0m\u001b[1;33m\u001b[0m\u001b[0m\n",
      "\u001b[1;31mTypeError\u001b[0m: 'staticmethod' object is not callable"
     ]
    }
   ],
   "source": [
    "Person.static_mthod()"
   ]
  },
  {
   "cell_type": "code",
   "execution_count": 37,
   "metadata": {},
   "outputs": [],
   "source": [
    "class Person:\n",
    "    @staticmethod\n",
    "    def static_method():\n",
    "        pass\n",
    "    \n",
    "    @classmethod\n",
    "    def class_method(cls):\n",
    "        pass"
   ]
  },
  {
   "cell_type": "code",
   "execution_count": 38,
   "metadata": {},
   "outputs": [
    {
     "data": {
      "text/plain": [
       "staticmethod"
      ]
     },
     "execution_count": 38,
     "metadata": {},
     "output_type": "execute_result"
    }
   ],
   "source": [
    "type(Person.__dict__['static_method'])"
   ]
  },
  {
   "cell_type": "code",
   "execution_count": 39,
   "metadata": {},
   "outputs": [
    {
     "data": {
      "text/plain": [
       "classmethod"
      ]
     },
     "execution_count": 39,
     "metadata": {},
     "output_type": "execute_result"
    }
   ],
   "source": [
    "type(Person.__dict__['class_method'])"
   ]
  },
  {
   "cell_type": "code",
   "execution_count": 40,
   "metadata": {},
   "outputs": [
    {
     "data": {
      "text/plain": [
       "<function __main__.Person.static_method()>"
      ]
     },
     "execution_count": 40,
     "metadata": {},
     "output_type": "execute_result"
    }
   ],
   "source": [
    "Person.__dict__['static_method'].__func__"
   ]
  },
  {
   "cell_type": "code",
   "execution_count": 46,
   "metadata": {},
   "outputs": [],
   "source": [
    "def cls_log(cls):\n",
    "    for name, obj in vars(cls).items():\n",
    "        if callable(obj):\n",
    "            print('dec callable', cls, name)\n",
    "            original_fn = obj\n",
    "            dec_fn = func_log(original_fn)\n",
    "            setattr(cls, name, dec_fn)\n",
    "        elif isinstance(obj, staticmethod):\n",
    "            print('dec static method', cls, name)\n",
    "            original_fn = obj.__func__\n",
    "            dec_fn = func_log(original_fn)\n",
    "            method = staticmethod(dec_fn)\n",
    "            setattr(cls, name, method)\n",
    "            \n",
    "        elif isinstance(obj, classmethod):\n",
    "            print('dec class method', cls, name)\n",
    "            original_fn = obj.__func__\n",
    "            dec_fn = func_log(original_fn)\n",
    "            method = classmethod(dec_fn)\n",
    "            setattr(cls, name, method)\n",
    "            \n",
    "    return cls"
   ]
  },
  {
   "cell_type": "code",
   "execution_count": 48,
   "metadata": {},
   "outputs": [
    {
     "name": "stdout",
     "output_type": "stream",
     "text": [
      "dec static method <class '__main__.Person'> static_method\n",
      "dec class method <class '__main__.Person'> class_method\n",
      "dec callable <class '__main__.Person'> inst_method\n"
     ]
    }
   ],
   "source": [
    "@cls_log\n",
    "class Person:\n",
    "    @staticmethod\n",
    "    def static_method(a,b):\n",
    "        print('static_method called', a,b)\n",
    "        \n",
    "    @classmethod\n",
    "    def class_method(cls,a,b):\n",
    "        print('class_method called', a,b)\n",
    "        \n",
    "    def inst_method(self,a,b):\n",
    "        print('insta method called', a,b)"
   ]
  },
  {
   "cell_type": "code",
   "execution_count": 49,
   "metadata": {},
   "outputs": [
    {
     "name": "stdout",
     "output_type": "stream",
     "text": [
      "static_method called 10 20\n",
      "Log:Person.static_method((10, 20), {}) = None\n"
     ]
    }
   ],
   "source": [
    "Person.static_method(10,20)"
   ]
  },
  {
   "cell_type": "code",
   "execution_count": 50,
   "metadata": {},
   "outputs": [
    {
     "name": "stdout",
     "output_type": "stream",
     "text": [
      "class_method called 10 20\n",
      "Log:Person.class_method((<class '__main__.Person'>, 10, 20), {}) = None\n"
     ]
    }
   ],
   "source": [
    "Person.class_method(10,20)"
   ]
  },
  {
   "cell_type": "code",
   "execution_count": 51,
   "metadata": {},
   "outputs": [],
   "source": [
    "p = Person()"
   ]
  },
  {
   "cell_type": "code",
   "execution_count": 53,
   "metadata": {},
   "outputs": [
    {
     "name": "stdout",
     "output_type": "stream",
     "text": [
      "insta method called 10 20\n",
      "Log:Person.inst_method((<__main__.Person object at 0x00000245CE0FD0D0>, 10, 20), {}) = None\n"
     ]
    }
   ],
   "source": [
    "p.inst_method(10,20)"
   ]
  },
  {
   "cell_type": "code",
   "execution_count": 54,
   "metadata": {},
   "outputs": [
    {
     "name": "stdout",
     "output_type": "stream",
     "text": [
      "dec <class '__main__.Person'> __init__\n"
     ]
    }
   ],
   "source": [
    "@class_log\n",
    "class Person:\n",
    "    def __init__(self, name):\n",
    "        self._name = name\n",
    "        \n",
    "    @property\n",
    "    def name(self):\n",
    "        return self._name"
   ]
  },
  {
   "cell_type": "code",
   "execution_count": 55,
   "metadata": {},
   "outputs": [
    {
     "data": {
      "text/plain": [
       "property"
      ]
     },
     "execution_count": 55,
     "metadata": {},
     "output_type": "execute_result"
    }
   ],
   "source": [
    "type(Person.__dict__['name'])"
   ]
  },
  {
   "cell_type": "code",
   "execution_count": 56,
   "metadata": {},
   "outputs": [
    {
     "data": {
      "text/plain": [
       "True"
      ]
     },
     "execution_count": 56,
     "metadata": {},
     "output_type": "execute_result"
    }
   ],
   "source": [
    "isinstance(Person.__dict__['name'], property)"
   ]
  },
  {
   "cell_type": "code",
   "execution_count": 57,
   "metadata": {},
   "outputs": [],
   "source": [
    "prop= Person.__dict__['name']"
   ]
  },
  {
   "cell_type": "code",
   "execution_count": 58,
   "metadata": {},
   "outputs": [
    {
     "data": {
      "text/plain": [
       "<function __main__.Person.name(self)>"
      ]
     },
     "execution_count": 58,
     "metadata": {},
     "output_type": "execute_result"
    }
   ],
   "source": [
    "prop.fget"
   ]
  },
  {
   "cell_type": "code",
   "execution_count": 59,
   "metadata": {},
   "outputs": [
    {
     "data": {
      "text/plain": [
       "(None, None)"
      ]
     },
     "execution_count": 59,
     "metadata": {},
     "output_type": "execute_result"
    }
   ],
   "source": [
    "prop.fset, prop.fdel"
   ]
  },
  {
   "cell_type": "code",
   "execution_count": null,
   "metadata": {},
   "outputs": [],
   "source": []
  },
  {
   "cell_type": "code",
   "execution_count": 60,
   "metadata": {},
   "outputs": [],
   "source": [
    "def cls_log(cls):\n",
    "    for name, obj in vars(cls).items():\n",
    "        if callable(obj):\n",
    "            print('dec callable', cls, name)\n",
    "            original_fn = obj\n",
    "            dec_fn = func_log(original_fn)\n",
    "            setattr(cls, name, dec_fn)\n",
    "        elif isinstance(obj, staticmethod):\n",
    "            print('dec static method', cls, name)\n",
    "            original_fn = obj.__func__\n",
    "            dec_fn = func_log(original_fn)\n",
    "            method = staticmethod(dec_fn)\n",
    "            setattr(cls, name, method)\n",
    "            \n",
    "        elif isinstance(obj, classmethod):\n",
    "            print('dec class method', cls, name)\n",
    "            original_fn = obj.__func__\n",
    "            dec_fn = func_log(original_fn)\n",
    "            method = classmethod(dec_fn)\n",
    "            setattr(cls, name, method)\n",
    "        \n",
    "        elif isinstance(obj, property):\n",
    "            print('dec prop', cls, name)\n",
    "            if obj.fget:\n",
    "                obj = obj.getter(func_log(obj.fget))\n",
    "            if obj.fset:\n",
    "                obj = obj.setter(func_log(obj.fset))\n",
    "            if obj.fdel:\n",
    "                obj = obj.deleter(func_log(obj.fdel))\n",
    "            setattr(cls, name, obj)\n",
    "            \n",
    "                \n",
    "            \n",
    "    return cls\n",
    "\n",
    "\n"
   ]
  },
  {
   "cell_type": "code",
   "execution_count": 62,
   "metadata": {},
   "outputs": [
    {
     "name": "stdout",
     "output_type": "stream",
     "text": [
      "dec callable <class '__main__.Person'> __init__\n",
      "dec prop <class '__main__.Person'> name\n"
     ]
    }
   ],
   "source": [
    "@cls_log\n",
    "class Person:\n",
    "    def __init__(self, name):\n",
    "        self._name = name\n",
    "        \n",
    "    @property\n",
    "    def name(self):\n",
    "        return self._name"
   ]
  },
  {
   "cell_type": "code",
   "execution_count": 63,
   "metadata": {},
   "outputs": [
    {
     "name": "stdout",
     "output_type": "stream",
     "text": [
      "Log:Person.__init__((<__main__.Person object at 0x00000245CFFC3E80>, 'david'), {}) = None\n"
     ]
    }
   ],
   "source": [
    "p = Person('david')"
   ]
  },
  {
   "cell_type": "code",
   "execution_count": 64,
   "metadata": {},
   "outputs": [
    {
     "name": "stdout",
     "output_type": "stream",
     "text": [
      "Log:Person.name((<__main__.Person object at 0x00000245CFFC3E80>,), {}) = david\n"
     ]
    },
    {
     "data": {
      "text/plain": [
       "'david'"
      ]
     },
     "execution_count": 64,
     "metadata": {},
     "output_type": "execute_result"
    }
   ],
   "source": [
    "p.name"
   ]
  },
  {
   "cell_type": "code",
   "execution_count": 65,
   "metadata": {},
   "outputs": [
    {
     "name": "stdout",
     "output_type": "stream",
     "text": [
      "dec callable <class '__main__.Person'> Other\n",
      "dec callable <class '__main__.Person'> other\n"
     ]
    }
   ],
   "source": [
    "@cls_log\n",
    "class Person:\n",
    "    class Other:\n",
    "        def __call__(self):\n",
    "            print('called inst of other')\n",
    "    other = Other()"
   ]
  },
  {
   "cell_type": "code",
   "execution_count": 66,
   "metadata": {},
   "outputs": [
    {
     "data": {
      "text/plain": [
       "<function __main__.Person.Other()>"
      ]
     },
     "execution_count": 66,
     "metadata": {},
     "output_type": "execute_result"
    }
   ],
   "source": [
    "Person.Other"
   ]
  },
  {
   "cell_type": "code",
   "execution_count": 67,
   "metadata": {},
   "outputs": [
    {
     "data": {
      "text/plain": [
       "<function __main__.func_log.<locals>.inner()>"
      ]
     },
     "execution_count": 67,
     "metadata": {},
     "output_type": "execute_result"
    }
   ],
   "source": [
    "Person.other"
   ]
  },
  {
   "cell_type": "code",
   "execution_count": 68,
   "metadata": {},
   "outputs": [],
   "source": [
    "import inspect"
   ]
  },
  {
   "cell_type": "code",
   "execution_count": 70,
   "metadata": {},
   "outputs": [],
   "source": [
    "class MyClass:\n",
    "    @staticmethod\n",
    "    def static_method():\n",
    "        pass\n",
    "    \n",
    "    @classmethod\n",
    "    def cls_method(cls):\n",
    "        pass\n",
    "    def ins_method(self):\n",
    "        pass\n",
    "    \n",
    "    @property\n",
    "    def name(self):\n",
    "        pass\n",
    "    \n",
    "    def __add__(self, other):\n",
    "        pass\n",
    "    \n",
    "    class Other:\n",
    "        def __call__(self):\n",
    "            pass\n",
    "        \n",
    "    other = Other() "
   ]
  },
  {
   "cell_type": "code",
   "execution_count": 71,
   "metadata": {},
   "outputs": [],
   "source": [
    "keys = ('static_method', 'cls_method', 'ins_method', 'name', '__add__', 'Other', 'other')\n",
    "inspect_fns = ('isroutine', 'ismethod', 'isfunction', 'isbuiltin', 'ismethoddescriptor')"
   ]
  },
  {
   "cell_type": "code",
   "execution_count": 75,
   "metadata": {},
   "outputs": [
    {
     "name": "stdout",
     "output_type": "stream",
     "text": [
      "                   static_method\tcls_method   \tins_method   \tname         \t__add__      \tOther        \tother        \n",
      "isroutine          True         \tTrue         \tTrue         \tFalse        \tTrue         \tFalse        \tFalse        \n",
      "ismethod           False        \tFalse        \tFalse        \tFalse        \tFalse        \tFalse        \tFalse        \n",
      "isfunction         False        \tFalse        \tTrue         \tFalse        \tTrue         \tFalse        \tFalse        \n",
      "isbuiltin          False        \tFalse        \tFalse        \tFalse        \tFalse        \tFalse        \tFalse        \n",
      "ismethoddescriptor True         \tTrue         \tFalse        \tFalse        \tFalse        \tFalse        \tFalse        \n"
     ]
    }
   ],
   "source": [
    "max_header_length = max(len(key) for key in keys)\n",
    "max_fname_length = max(len(func) for func in inspect_fns)\n",
    "print(format('', f'{max_fname_length}s'), '\\t'.join(format(key, f'{max_header_length}s') for key in keys))\n",
    "for inspect_func in inspect_fns:\n",
    "    fn = getattr(inspect, inspect_func)\n",
    "    inspect_results = (format(str(fn(MyClass.__dict__[key])), f'{max_header_length}s') for key in keys)\n",
    "    print(format(inspect_func, f'{max_fname_length}s'), '\\t'.join(inspect_results))"
   ]
  },
  {
   "cell_type": "code",
   "execution_count": 76,
   "metadata": {},
   "outputs": [],
   "source": [
    "def cls_log(cls):\n",
    "    for name, obj in vars(cls).items():\n",
    "        if isinstance(obj, staticmethod):\n",
    "            print('dec static method', cls, name)\n",
    "            original_fn = obj.__func__\n",
    "            dec_fn = func_log(original_fn)\n",
    "            method = staticmethod(dec_fn)\n",
    "            setattr(cls, name, method)\n",
    "            \n",
    "        elif isinstance(obj, classmethod):\n",
    "            print('dec class method', cls, name)\n",
    "            original_fn = obj.__func__\n",
    "            dec_fn = func_log(original_fn)\n",
    "            method = classmethod(dec_fn)\n",
    "            setattr(cls, name, method)\n",
    "        \n",
    "        elif isinstance(obj, property):\n",
    "            print('dec prop', cls, name)\n",
    "            if obj.fget:\n",
    "                obj = obj.getter(func_log(obj.fget))\n",
    "            if obj.fset:\n",
    "                obj = obj.setter(func_log(obj.fset))\n",
    "            if obj.fdel:\n",
    "                obj = obj.deleter(func_log(obj.fdel))\n",
    "            setattr(cls, name, obj)\n",
    "            \n",
    "        elif  inspect.isroutine(obj):\n",
    "            print('dec callable', cls, name)\n",
    "            original_fn = obj\n",
    "            dec_fn = func_log(original_fn)\n",
    "            setattr(cls, name, dec_fn)\n",
    "            \n",
    "                \n",
    "            \n",
    "    return cls\n",
    "\n",
    "\n"
   ]
  },
  {
   "cell_type": "code",
   "execution_count": 78,
   "metadata": {},
   "outputs": [
    {
     "name": "stdout",
     "output_type": "stream",
     "text": [
      "dec callable <class '__main__.MyClass.Other'> __call__\n",
      "dec static method <class '__main__.MyClass'> static_method\n",
      "dec class method <class '__main__.MyClass'> cls_method\n",
      "dec callable <class '__main__.MyClass'> ins_method\n",
      "dec prop <class '__main__.MyClass'> name\n",
      "dec callable <class '__main__.MyClass'> __add__\n"
     ]
    }
   ],
   "source": [
    "@cls_log\n",
    "class MyClass:\n",
    "    @staticmethod\n",
    "    def static_method():\n",
    "        pass\n",
    "    \n",
    "    @classmethod\n",
    "    def cls_method(cls):\n",
    "        pass\n",
    "    def ins_method(self):\n",
    "        pass\n",
    "    \n",
    "    @property\n",
    "    def name(self):\n",
    "        pass\n",
    "    \n",
    "    def __add__(self, other):\n",
    "        pass\n",
    "    @cls_log\n",
    "    class Other:\n",
    "        def __call__(self):\n",
    "            pass\n",
    "        \n",
    "    other = Other() "
   ]
  },
  {
   "cell_type": "code",
   "execution_count": 83,
   "metadata": {},
   "outputs": [],
   "source": [
    "def cls_log(cls):\n",
    "    for name, obj in vars(cls).items():\n",
    "        if isinstance(obj, classmethod) or isinstance(obj, staticmethod):\n",
    "            print(f'decorating: {name}')\n",
    "            type_ = type(obj)\n",
    "            original_fn = obj.__func__\n",
    "            dec_fn = func_log(original_fn)\n",
    "            method = type_(dec_fn)\n",
    "            setattr(cls, name, method)\n",
    "            \n",
    "        \n",
    "       \n",
    "        \n",
    "        elif isinstance(obj, property):\n",
    "            print('dec prop', cls, name)\n",
    "            if obj.fget:\n",
    "                obj = obj.getter(func_log(obj.fget))\n",
    "            if obj.fset:\n",
    "                obj = obj.setter(func_log(obj.fset))\n",
    "            if obj.fdel:\n",
    "                obj = obj.deleter(func_log(obj.fdel))\n",
    "            setattr(cls, name, obj)\n",
    "            \n",
    "        elif  inspect.isroutine(obj):\n",
    "            print('dec callable', cls, name)\n",
    "            original_fn = obj\n",
    "            dec_fn = func_log(original_fn)\n",
    "            setattr(cls, name, dec_fn)\n",
    "    return cls"
   ]
  },
  {
   "cell_type": "code",
   "execution_count": 84,
   "metadata": {},
   "outputs": [
    {
     "name": "stdout",
     "output_type": "stream",
     "text": [
      "dec callable <class '__main__.MyClass.Other'> __call__\n",
      "decorating: static_method\n",
      "decorating: cls_method\n",
      "dec callable <class '__main__.MyClass'> ins_method\n",
      "dec prop <class '__main__.MyClass'> name\n",
      "dec callable <class '__main__.MyClass'> __add__\n"
     ]
    }
   ],
   "source": [
    "@cls_log\n",
    "class MyClass:\n",
    "    @staticmethod\n",
    "    def static_method():\n",
    "        pass\n",
    "    \n",
    "    @classmethod\n",
    "    def cls_method(cls):\n",
    "        pass\n",
    "    def ins_method(self):\n",
    "        pass\n",
    "    \n",
    "    @property\n",
    "    def name(self):\n",
    "        pass\n",
    "    \n",
    "    def __add__(self, other):\n",
    "        pass\n",
    "    @cls_log\n",
    "    class Other:\n",
    "        def __call__(self):\n",
    "            pass\n",
    "        \n",
    "    other = Other() "
   ]
  },
  {
   "cell_type": "code",
   "execution_count": 85,
   "metadata": {},
   "outputs": [],
   "source": [
    "def cls_log(cls):\n",
    "    for name, obj in vars(cls).items():\n",
    "        if isinstance(obj, classmethod) or isinstance(obj, staticmethod):\n",
    "            print(f'decorating: {name}')\n",
    "            type_ = type(obj)\n",
    "            original_fn = obj.__func__\n",
    "            dec_fn = func_log(original_fn)\n",
    "            method = type_(dec_fn)\n",
    "            setattr(cls, name, method)\n",
    "\n",
    "        elif isinstance(obj, property):\n",
    "            print('dec prop', cls, name)\n",
    "            methods = (('fget', 'getter'), ('fset', 'setter'), ('fdel', 'deleter'))\n",
    "            for prop, method in methods:\n",
    "                if getattr(obj, prop):\n",
    "                    obj = getattr(obj, method)(func_log(getattr(obj, prop)))\n",
    "                    setattr(cls, name, obj)\n",
    "        elif  inspect.isroutine(obj):\n",
    "            print('dec callable', cls, name)\n",
    "            original_fn = obj\n",
    "            dec_fn = func_log(original_fn)\n",
    "            setattr(cls, name, dec_fn)\n",
    "    return cls"
   ]
  },
  {
   "cell_type": "code",
   "execution_count": 86,
   "metadata": {},
   "outputs": [
    {
     "name": "stdout",
     "output_type": "stream",
     "text": [
      "dec callable <class '__main__.MyClass.Other'> __call__\n",
      "decorating: static_method\n",
      "decorating: cls_method\n",
      "dec callable <class '__main__.MyClass'> ins_method\n",
      "dec prop <class '__main__.MyClass'> name\n",
      "dec callable <class '__main__.MyClass'> __add__\n"
     ]
    }
   ],
   "source": [
    "@cls_log\n",
    "class MyClass:\n",
    "    @staticmethod\n",
    "    def static_method():\n",
    "        pass\n",
    "    \n",
    "    @classmethod\n",
    "    def cls_method(cls):\n",
    "        pass\n",
    "    def ins_method(self):\n",
    "        pass\n",
    "    \n",
    "    @property\n",
    "    def name(self):\n",
    "        pass\n",
    "    \n",
    "    def __add__(self, other):\n",
    "        pass\n",
    "    @cls_log\n",
    "    class Other:\n",
    "        def __call__(self):\n",
    "            pass\n",
    "        \n",
    "    other = Other() "
   ]
  },
  {
   "cell_type": "code",
   "execution_count": null,
   "metadata": {},
   "outputs": [],
   "source": []
  }
 ],
 "metadata": {
  "kernelspec": {
   "display_name": "Python 3",
   "language": "python",
   "name": "python3"
  },
  "language_info": {
   "codemirror_mode": {
    "name": "ipython",
    "version": 3
   },
   "file_extension": ".py",
   "mimetype": "text/x-python",
   "name": "python",
   "nbconvert_exporter": "python",
   "pygments_lexer": "ipython3",
   "version": "3.9.0"
  }
 },
 "nbformat": 4,
 "nbformat_minor": 4
}
