{
 "cells": [
  {
   "cell_type": "code",
   "execution_count": 1,
   "metadata": {},
   "outputs": [],
   "source": [
    "with open('prod.ini', 'w') as prod, open('dev.ini', 'w') as dev:\n",
    "    prod.write('[Database]\\n')\n",
    "    prod.write('db_host=prod.mynetwork.com\\n')\n",
    "    prod.write('db_name=my_database\\n')\n",
    "    prod.write('\\n[Server]\\n')\n",
    "    prod.write('port=8080\\n')\n",
    "    \n",
    "    dev.write('[Database]\\n')\n",
    "    dev.write('db_host=dev.mynetwork.com\\n')\n",
    "    dev.write('db_name=my_database\\n')\n",
    "    dev.write('\\n[Server]\\n')\n",
    "    dev.write('port=3000\\n')"
   ]
  },
  {
   "cell_type": "code",
   "execution_count": 2,
   "metadata": {},
   "outputs": [],
   "source": [
    "import configparser"
   ]
  },
  {
   "cell_type": "code",
   "execution_count": 3,
   "metadata": {},
   "outputs": [],
   "source": [
    "class Config:\n",
    "    def __init__(self, env = 'dev'):\n",
    "        print(f'loading config from {env} file')\n",
    "        config = configparser.ConfigParser()\n",
    "        file_name = f'{env}.ini'\n",
    "        config.read(file_name)\n",
    "        self.db_host = config['Database']['db_host']\n",
    "        self.db_name = config['Database']['db_name']\n",
    "        self.port = config['Server']['port']\n",
    "        "
   ]
  },
  {
   "cell_type": "code",
   "execution_count": 4,
   "metadata": {},
   "outputs": [
    {
     "name": "stdout",
     "output_type": "stream",
     "text": [
      "loading config from dev file\n"
     ]
    }
   ],
   "source": [
    "config = Config('dev')"
   ]
  },
  {
   "cell_type": "code",
   "execution_count": 5,
   "metadata": {},
   "outputs": [
    {
     "data": {
      "text/plain": [
       "{'db_host': 'dev.mynetwork.com', 'db_name': 'my_database', 'port': '3000'}"
      ]
     },
     "execution_count": 5,
     "metadata": {},
     "output_type": "execute_result"
    }
   ],
   "source": [
    "config.__dict__"
   ]
  },
  {
   "cell_type": "code",
   "execution_count": 6,
   "metadata": {},
   "outputs": [],
   "source": [
    "class Config:\n",
    "    def __init__(self, env = 'dev'):\n",
    "        print(f'loading config from {env} file')\n",
    "        config = configparser.ConfigParser()\n",
    "        file_name = f'{env}.ini'\n",
    "        config.read(file_name)\n",
    "        for section_name in config.sections():\n",
    "            for k, v in config[section_name].items():\n",
    "                setattr(self, k, v)"
   ]
  },
  {
   "cell_type": "code",
   "execution_count": 7,
   "metadata": {},
   "outputs": [
    {
     "name": "stdout",
     "output_type": "stream",
     "text": [
      "loading config from prod file\n"
     ]
    }
   ],
   "source": [
    "config = Config('prod')"
   ]
  },
  {
   "cell_type": "code",
   "execution_count": 8,
   "metadata": {},
   "outputs": [
    {
     "data": {
      "text/plain": [
       "{'db_host': 'prod.mynetwork.com', 'db_name': 'my_database', 'port': '8080'}"
      ]
     },
     "execution_count": 8,
     "metadata": {},
     "output_type": "execute_result"
    }
   ],
   "source": [
    "vars(config)"
   ]
  },
  {
   "cell_type": "code",
   "execution_count": 10,
   "metadata": {},
   "outputs": [],
   "source": [
    "class Section:\n",
    "    def __init__(self, name, item_dict):\n",
    "        \"\"\"\n",
    "        name: str\n",
    "            name of the section\n",
    "        item_dict: dict\n",
    "            dictionary of named config values\n",
    "        \"\"\"\n",
    "        self.name = name\n",
    "        for k, v in item_dict.items():\n",
    "            setattr(self, k, v)\n",
    "        "
   ]
  },
  {
   "cell_type": "code",
   "execution_count": 11,
   "metadata": {},
   "outputs": [],
   "source": [
    "class Config:\n",
    "    def __init__(self, env = 'dev'):\n",
    "        print(f'loading config from {env} file')\n",
    "        config = configparser.ConfigParser()\n",
    "        file_name = f'{env}.ini'\n",
    "        config.read(file_name)\n",
    "        for section_name in config.sections():\n",
    "            section = Section(section_name, config[section_name])\n",
    "            setattr(self, section_name.casefold(), section)"
   ]
  },
  {
   "cell_type": "code",
   "execution_count": 12,
   "metadata": {},
   "outputs": [
    {
     "name": "stdout",
     "output_type": "stream",
     "text": [
      "loading config from dev file\n"
     ]
    }
   ],
   "source": [
    "config = Config()"
   ]
  },
  {
   "cell_type": "code",
   "execution_count": 13,
   "metadata": {},
   "outputs": [
    {
     "data": {
      "text/plain": [
       "{'database': <__main__.Section at 0x261f323a940>,\n",
       " 'server': <__main__.Section at 0x261f3ec2340>}"
      ]
     },
     "execution_count": 13,
     "metadata": {},
     "output_type": "execute_result"
    }
   ],
   "source": [
    "vars(config)"
   ]
  },
  {
   "cell_type": "code",
   "execution_count": 14,
   "metadata": {},
   "outputs": [],
   "source": [
    "class SectionType(type):\n",
    "    def __new__(cls, name, bases, cls_dict, section_name, item_dict):\n",
    "        cls_dict['__doc__'] = f'config for {section_name} section'\n",
    "        cls_dict['section_name'] = section_name\n",
    "        for k , v in item_dict.items():\n",
    "            cls_dict[k] = v\n",
    "        return super().__new__(cls,name, bases, cls_dict)"
   ]
  },
  {
   "cell_type": "code",
   "execution_count": 16,
   "metadata": {},
   "outputs": [],
   "source": [
    "class DatabaseSection(metaclass = SectionType, \n",
    "                      section_name = 'database', \n",
    "                      item_dict = {'db_host': 'db_host', 'db_name': 'db_name'}):\n",
    "    pass"
   ]
  },
  {
   "cell_type": "code",
   "execution_count": 17,
   "metadata": {},
   "outputs": [
    {
     "data": {
      "text/plain": [
       "mappingproxy({'__module__': '__main__',\n",
       "              '__doc__': 'config for database section',\n",
       "              'section_name': 'database',\n",
       "              'db_host': 'db_host',\n",
       "              'db_name': 'db_name',\n",
       "              '__dict__': <attribute '__dict__' of 'DatabaseSection' objects>,\n",
       "              '__weakref__': <attribute '__weakref__' of 'DatabaseSection' objects>})"
      ]
     },
     "execution_count": 17,
     "metadata": {},
     "output_type": "execute_result"
    }
   ],
   "source": [
    "vars(DatabaseSection)"
   ]
  },
  {
   "cell_type": "code",
   "execution_count": 18,
   "metadata": {},
   "outputs": [
    {
     "name": "stdout",
     "output_type": "stream",
     "text": [
      "Help on class DatabaseSection in module __main__:\n",
      "\n",
      "class DatabaseSection(builtins.object)\n",
      " |  config for database section\n",
      " |  \n",
      " |  Data descriptors defined here:\n",
      " |  \n",
      " |  __dict__\n",
      " |      dictionary for instance variables (if defined)\n",
      " |  \n",
      " |  __weakref__\n",
      " |      list of weak references to the object (if defined)\n",
      " |  \n",
      " |  ----------------------------------------------------------------------\n",
      " |  Data and other attributes defined here:\n",
      " |  \n",
      " |  db_host = 'db_host'\n",
      " |  \n",
      " |  db_name = 'db_name'\n",
      " |  \n",
      " |  section_name = 'database'\n",
      "\n"
     ]
    }
   ],
   "source": [
    "help(DatabaseSection)"
   ]
  },
  {
   "cell_type": "code",
   "execution_count": 19,
   "metadata": {},
   "outputs": [],
   "source": [
    "MyClass = type('MyClass', (object,), {})"
   ]
  },
  {
   "cell_type": "code",
   "execution_count": 20,
   "metadata": {},
   "outputs": [
    {
     "data": {
      "text/plain": [
       "__main__.MyClass"
      ]
     },
     "execution_count": 20,
     "metadata": {},
     "output_type": "execute_result"
    }
   ],
   "source": [
    "MyClass"
   ]
  },
  {
   "cell_type": "code",
   "execution_count": 21,
   "metadata": {},
   "outputs": [
    {
     "data": {
      "text/plain": [
       "type"
      ]
     },
     "execution_count": 21,
     "metadata": {},
     "output_type": "execute_result"
    }
   ],
   "source": [
    "type(MyClass)"
   ]
  },
  {
   "cell_type": "code",
   "execution_count": 24,
   "metadata": {},
   "outputs": [],
   "source": [
    "MySection = SectionType('DBSection', (object,), {}, section_name = 'database',\n",
    "                        item_dict = {'db_host': 'db_host', 'db_name': 'db_name'})"
   ]
  },
  {
   "cell_type": "code",
   "execution_count": 25,
   "metadata": {},
   "outputs": [
    {
     "data": {
      "text/plain": [
       "__main__.DBSection"
      ]
     },
     "execution_count": 25,
     "metadata": {},
     "output_type": "execute_result"
    }
   ],
   "source": [
    "MySection"
   ]
  },
  {
   "cell_type": "code",
   "execution_count": 26,
   "metadata": {},
   "outputs": [
    {
     "data": {
      "text/plain": [
       "mappingproxy({'__doc__': 'config for database section',\n",
       "              'section_name': 'database',\n",
       "              'db_host': 'db_host',\n",
       "              'db_name': 'db_name',\n",
       "              '__module__': '__main__',\n",
       "              '__dict__': <attribute '__dict__' of 'DBSection' objects>,\n",
       "              '__weakref__': <attribute '__weakref__' of 'DBSection' objects>})"
      ]
     },
     "execution_count": 26,
     "metadata": {},
     "output_type": "execute_result"
    }
   ],
   "source": [
    "vars(MySection)"
   ]
  },
  {
   "cell_type": "code",
   "execution_count": 27,
   "metadata": {},
   "outputs": [
    {
     "name": "stdout",
     "output_type": "stream",
     "text": [
      "Help on class DBSection in module __main__:\n",
      "\n",
      "class DBSection(builtins.object)\n",
      " |  config for database section\n",
      " |  \n",
      " |  Data descriptors defined here:\n",
      " |  \n",
      " |  __dict__\n",
      " |      dictionary for instance variables (if defined)\n",
      " |  \n",
      " |  __weakref__\n",
      " |      list of weak references to the object (if defined)\n",
      " |  \n",
      " |  ----------------------------------------------------------------------\n",
      " |  Data and other attributes defined here:\n",
      " |  \n",
      " |  db_host = 'db_host'\n",
      " |  \n",
      " |  db_name = 'db_name'\n",
      " |  \n",
      " |  section_name = 'database'\n",
      "\n"
     ]
    }
   ],
   "source": [
    "help(MySection)"
   ]
  },
  {
   "cell_type": "code",
   "execution_count": 28,
   "metadata": {},
   "outputs": [],
   "source": [
    "class ConfigType(type):\n",
    "    def __new__(cls, name, bases, cls_dict, env):\n",
    "        \"\"\"\n",
    "        env: str\n",
    "            the en we are loading for config like prod or dev\n",
    "        \"\"\"\n",
    "        \n",
    "        cls_dict['__doc__'] = f'Config for {env}'\n",
    "        cls_dict['env'] = env\n",
    "        config = configparser.ConfigParser()\n",
    "        file_name = f'{env}.ini'\n",
    "        config.read(file_name)\n",
    "        for section_name in config.sections():\n",
    "            class_name = section_name.capitalize()\n",
    "            class_attr_name = section_name.casefold()\n",
    "            section_items = config[section_name]\n",
    "            bases = (object,)\n",
    "            section_cls_dict = {}\n",
    "            Section = SectionType(\n",
    "            class_name, bases, section_cls_dict, section_name=section_name,item_dict=section_items)\n",
    "            cls_dict[class_attr_name] = Section\n",
    "        return super().__new__(cls, name, bases, cls_dict)\n",
    "            "
   ]
  },
  {
   "cell_type": "code",
   "execution_count": 29,
   "metadata": {},
   "outputs": [],
   "source": [
    "class DevConfig(metaclass = ConfigType, env = 'dev'):\n",
    "    pass\n",
    "\n",
    "class ProdConfig(metaclass = ConfigType, env = 'prod'):\n",
    "    pass"
   ]
  },
  {
   "cell_type": "code",
   "execution_count": 30,
   "metadata": {},
   "outputs": [
    {
     "data": {
      "text/plain": [
       "'my_database'"
      ]
     },
     "execution_count": 30,
     "metadata": {},
     "output_type": "execute_result"
    }
   ],
   "source": [
    "DevConfig.database.db_name"
   ]
  },
  {
   "cell_type": "code",
   "execution_count": 31,
   "metadata": {},
   "outputs": [
    {
     "data": {
      "text/plain": [
       "'8080'"
      ]
     },
     "execution_count": 31,
     "metadata": {},
     "output_type": "execute_result"
    }
   ],
   "source": [
    "ProdConfig.server.port"
   ]
  },
  {
   "cell_type": "code",
   "execution_count": 32,
   "metadata": {},
   "outputs": [
    {
     "name": "stdout",
     "output_type": "stream",
     "text": [
      "Help on class DevConfig in module __main__:\n",
      "\n",
      "class DevConfig(builtins.object)\n",
      " |  Config for dev\n",
      " |  \n",
      " |  Data descriptors defined here:\n",
      " |  \n",
      " |  __dict__\n",
      " |      dictionary for instance variables (if defined)\n",
      " |  \n",
      " |  __weakref__\n",
      " |      list of weak references to the object (if defined)\n",
      " |  \n",
      " |  ----------------------------------------------------------------------\n",
      " |  Data and other attributes defined here:\n",
      " |  \n",
      " |  database = <class '__main__.Database'>\n",
      " |      config for Database section\n",
      " |  \n",
      " |  \n",
      " |  env = 'dev'\n",
      " |  \n",
      " |  server = <class '__main__.Server'>\n",
      " |      config for Server section\n",
      "\n"
     ]
    }
   ],
   "source": [
    "help(DevConfig)"
   ]
  },
  {
   "cell_type": "code",
   "execution_count": 33,
   "metadata": {},
   "outputs": [
    {
     "name": "stdout",
     "output_type": "stream",
     "text": [
      "Help on class Database in module __main__:\n",
      "\n",
      "class Database(builtins.object)\n",
      " |  config for Database section\n",
      " |  \n",
      " |  Data descriptors defined here:\n",
      " |  \n",
      " |  __dict__\n",
      " |      dictionary for instance variables (if defined)\n",
      " |  \n",
      " |  __weakref__\n",
      " |      list of weak references to the object (if defined)\n",
      " |  \n",
      " |  ----------------------------------------------------------------------\n",
      " |  Data and other attributes defined here:\n",
      " |  \n",
      " |  db_host = 'dev.mynetwork.com'\n",
      " |  \n",
      " |  db_name = 'my_database'\n",
      " |  \n",
      " |  section_name = 'Database'\n",
      "\n"
     ]
    }
   ],
   "source": [
    "help(DevConfig.database)"
   ]
  },
  {
   "cell_type": "code",
   "execution_count": null,
   "metadata": {},
   "outputs": [],
   "source": []
  }
 ],
 "metadata": {
  "kernelspec": {
   "display_name": "Python 3",
   "language": "python",
   "name": "python3"
  },
  "language_info": {
   "codemirror_mode": {
    "name": "ipython",
    "version": 3
   },
   "file_extension": ".py",
   "mimetype": "text/x-python",
   "name": "python",
   "nbconvert_exporter": "python",
   "pygments_lexer": "ipython3",
   "version": "3.9.0"
  }
 },
 "nbformat": 4,
 "nbformat_minor": 4
}
