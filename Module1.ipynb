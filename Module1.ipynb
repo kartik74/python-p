{
 "cells": [
  {
   "cell_type": "code",
   "execution_count": 1,
   "metadata": {},
   "outputs": [],
   "source": [
    "import sys"
   ]
  },
  {
   "cell_type": "code",
   "execution_count": 2,
   "metadata": {},
   "outputs": [
    {
     "data": {
      "text/plain": [
       "<module 'sys' (built-in)>"
      ]
     },
     "execution_count": 2,
     "metadata": {},
     "output_type": "execute_result"
    }
   ],
   "source": [
    "sys"
   ]
  },
  {
   "cell_type": "code",
   "execution_count": 3,
   "metadata": {},
   "outputs": [],
   "source": [
    "import collections"
   ]
  },
  {
   "cell_type": "code",
   "execution_count": 4,
   "metadata": {},
   "outputs": [
    {
     "data": {
      "text/plain": [
       "<module 'collections' from 'c:\\\\users\\\\karti\\\\appdata\\\\local\\\\programs\\\\python\\\\python39\\\\lib\\\\collections\\\\__init__.py'>"
      ]
     },
     "execution_count": 4,
     "metadata": {},
     "output_type": "execute_result"
    }
   ],
   "source": [
    "collections"
   ]
  },
  {
   "cell_type": "code",
   "execution_count": 5,
   "metadata": {},
   "outputs": [],
   "source": [
    "mod_name = 'math'"
   ]
  },
  {
   "cell_type": "code",
   "execution_count": 7,
   "metadata": {},
   "outputs": [],
   "source": [
    "import importlib"
   ]
  },
  {
   "cell_type": "code",
   "execution_count": 8,
   "metadata": {},
   "outputs": [
    {
     "data": {
      "text/plain": [
       "<module 'importlib' from 'c:\\\\users\\\\karti\\\\appdata\\\\local\\\\programs\\\\python\\\\python39\\\\lib\\\\importlib\\\\__init__.py'>"
      ]
     },
     "execution_count": 8,
     "metadata": {},
     "output_type": "execute_result"
    }
   ],
   "source": [
    "importlib"
   ]
  },
  {
   "cell_type": "code",
   "execution_count": 9,
   "metadata": {},
   "outputs": [
    {
     "data": {
      "text/plain": [
       "<module 'math' (built-in)>"
      ]
     },
     "execution_count": 9,
     "metadata": {},
     "output_type": "execute_result"
    }
   ],
   "source": [
    "importlib.import_module(mod_name)"
   ]
  },
  {
   "cell_type": "code",
   "execution_count": 10,
   "metadata": {},
   "outputs": [
    {
     "data": {
      "text/plain": [
       "True"
      ]
     },
     "execution_count": 10,
     "metadata": {},
     "output_type": "execute_result"
    }
   ],
   "source": [
    "'math' in sys.modules"
   ]
  },
  {
   "cell_type": "code",
   "execution_count": 11,
   "metadata": {},
   "outputs": [
    {
     "data": {
      "text/plain": [
       "False"
      ]
     },
     "execution_count": 11,
     "metadata": {},
     "output_type": "execute_result"
    }
   ],
   "source": [
    "'fractions' in sys.modules"
   ]
  },
  {
   "cell_type": "code",
   "execution_count": 12,
   "metadata": {},
   "outputs": [
    {
     "ename": "NameError",
     "evalue": "name 'math' is not defined",
     "output_type": "error",
     "traceback": [
      "\u001b[1;31m---------------------------------------------------------------------------\u001b[0m",
      "\u001b[1;31mNameError\u001b[0m                                 Traceback (most recent call last)",
      "\u001b[1;32m<ipython-input-12-b1a01eea6359>\u001b[0m in \u001b[0;36m<module>\u001b[1;34m\u001b[0m\n\u001b[1;32m----> 1\u001b[1;33m \u001b[0mmath\u001b[0m\u001b[1;33m.\u001b[0m\u001b[0msqrt\u001b[0m\u001b[1;33m(\u001b[0m\u001b[1;36m2\u001b[0m\u001b[1;33m)\u001b[0m\u001b[1;33m\u001b[0m\u001b[1;33m\u001b[0m\u001b[0m\n\u001b[0m",
      "\u001b[1;31mNameError\u001b[0m: name 'math' is not defined"
     ]
    }
   ],
   "source": [
    "math.sqrt(2)"
   ]
  },
  {
   "cell_type": "code",
   "execution_count": 13,
   "metadata": {},
   "outputs": [
    {
     "data": {
      "text/plain": [
       "False"
      ]
     },
     "execution_count": 13,
     "metadata": {},
     "output_type": "execute_result"
    }
   ],
   "source": [
    "'math' in globals()"
   ]
  },
  {
   "cell_type": "code",
   "execution_count": 14,
   "metadata": {},
   "outputs": [],
   "source": [
    "# import math as math2\n",
    "#math2 = sys.modules['math']\n",
    "math2 = importlib.import_module(mod_name)"
   ]
  },
  {
   "cell_type": "code",
   "execution_count": 15,
   "metadata": {},
   "outputs": [
    {
     "data": {
      "text/plain": [
       "True"
      ]
     },
     "execution_count": 15,
     "metadata": {},
     "output_type": "execute_result"
    }
   ],
   "source": [
    "'math2' in globals()"
   ]
  },
  {
   "cell_type": "code",
   "execution_count": 16,
   "metadata": {},
   "outputs": [
    {
     "data": {
      "text/plain": [
       "2118843868400"
      ]
     },
     "execution_count": 16,
     "metadata": {},
     "output_type": "execute_result"
    }
   ],
   "source": [
    "id(math2)"
   ]
  },
  {
   "cell_type": "code",
   "execution_count": 17,
   "metadata": {},
   "outputs": [
    {
     "data": {
      "text/plain": [
       "2118843868400"
      ]
     },
     "execution_count": 17,
     "metadata": {},
     "output_type": "execute_result"
    }
   ],
   "source": [
    "id(sys.modules['math'])"
   ]
  },
  {
   "cell_type": "code",
   "execution_count": 18,
   "metadata": {},
   "outputs": [
    {
     "data": {
      "text/plain": [
       "1.4142135623730951"
      ]
     },
     "execution_count": 18,
     "metadata": {},
     "output_type": "execute_result"
    }
   ],
   "source": [
    "math2.sqrt(2)"
   ]
  },
  {
   "cell_type": "code",
   "execution_count": 19,
   "metadata": {},
   "outputs": [
    {
     "data": {
      "text/plain": [
       "<module 'math' (built-in)>"
      ]
     },
     "execution_count": 19,
     "metadata": {},
     "output_type": "execute_result"
    }
   ],
   "source": [
    "math2"
   ]
  },
  {
   "cell_type": "code",
   "execution_count": 20,
   "metadata": {},
   "outputs": [
    {
     "data": {
      "text/plain": [
       "<module 'importlib' from 'c:\\\\users\\\\karti\\\\appdata\\\\local\\\\programs\\\\python\\\\python39\\\\lib\\\\importlib\\\\__init__.py'>"
      ]
     },
     "execution_count": 20,
     "metadata": {},
     "output_type": "execute_result"
    }
   ],
   "source": [
    "importlib"
   ]
  },
  {
   "cell_type": "code",
   "execution_count": 21,
   "metadata": {},
   "outputs": [],
   "source": [
    "fractions = importlib.import_module('fractions')"
   ]
  },
  {
   "cell_type": "code",
   "execution_count": 22,
   "metadata": {},
   "outputs": [
    {
     "data": {
      "text/plain": [
       "<module 'fractions' from 'c:\\\\users\\\\karti\\\\appdata\\\\local\\\\programs\\\\python\\\\python39\\\\lib\\\\fractions.py'>"
      ]
     },
     "execution_count": 22,
     "metadata": {},
     "output_type": "execute_result"
    }
   ],
   "source": [
    "fractions"
   ]
  },
  {
   "cell_type": "code",
   "execution_count": 23,
   "metadata": {},
   "outputs": [
    {
     "data": {
      "text/plain": [
       "[_frozen_importlib.BuiltinImporter,\n",
       " _frozen_importlib.FrozenImporter,\n",
       " _frozen_importlib_external.PathFinder,\n",
       " <six._SixMetaPathImporter at 0x1ed585b05b0>]"
      ]
     },
     "execution_count": 23,
     "metadata": {},
     "output_type": "execute_result"
    }
   ],
   "source": [
    "sys.meta_path"
   ]
  },
  {
   "cell_type": "code",
   "execution_count": 24,
   "metadata": {},
   "outputs": [],
   "source": [
    "import math"
   ]
  },
  {
   "cell_type": "code",
   "execution_count": 25,
   "metadata": {},
   "outputs": [
    {
     "data": {
      "text/plain": [
       "ModuleSpec(name='math', loader=<class '_frozen_importlib.BuiltinImporter'>, origin='built-in')"
      ]
     },
     "execution_count": 25,
     "metadata": {},
     "output_type": "execute_result"
    }
   ],
   "source": [
    "math.__spec__"
   ]
  },
  {
   "cell_type": "code",
   "execution_count": 26,
   "metadata": {},
   "outputs": [],
   "source": [
    "importlib.util.find_spec('decimal')"
   ]
  },
  {
   "cell_type": "code",
   "execution_count": 28,
   "metadata": {},
   "outputs": [],
   "source": [
    "with open('module1.py', 'w') as code_file:\n",
    "    code_file.write(\"print('running module1.py...')\\n\")\n",
    "    code_file.write('a = 100\\n')"
   ]
  },
  {
   "cell_type": "code",
   "execution_count": 30,
   "metadata": {},
   "outputs": [
    {
     "data": {
      "text/plain": [
       "ModuleSpec(name='module1', loader=<_frozen_importlib_external.SourceFileLoader object at 0x000001ED5878ABB0>, origin='C:\\\\Users\\\\karti\\\\pycode\\\\module1.py')"
      ]
     },
     "execution_count": 30,
     "metadata": {},
     "output_type": "execute_result"
    }
   ],
   "source": [
    "importlib.util.find_spec('module1')"
   ]
  },
  {
   "cell_type": "code",
   "execution_count": 31,
   "metadata": {},
   "outputs": [
    {
     "name": "stdout",
     "output_type": "stream",
     "text": [
      "running module1.py...\n"
     ]
    }
   ],
   "source": [
    "import module1"
   ]
  },
  {
   "cell_type": "code",
   "execution_count": 32,
   "metadata": {},
   "outputs": [
    {
     "data": {
      "text/plain": [
       "100"
      ]
     },
     "execution_count": 32,
     "metadata": {},
     "output_type": "execute_result"
    }
   ],
   "source": [
    "module1.a"
   ]
  },
  {
   "cell_type": "code",
   "execution_count": 33,
   "metadata": {},
   "outputs": [],
   "source": [
    "import os"
   ]
  },
  {
   "cell_type": "code",
   "execution_count": 34,
   "metadata": {},
   "outputs": [],
   "source": [
    "ext_module_path = os.environ['HOMEPATH']"
   ]
  },
  {
   "cell_type": "code",
   "execution_count": 35,
   "metadata": {},
   "outputs": [
    {
     "data": {
      "text/plain": [
       "'\\\\Users\\\\karti'"
      ]
     },
     "execution_count": 35,
     "metadata": {},
     "output_type": "execute_result"
    }
   ],
   "source": [
    "ext_module_path"
   ]
  },
  {
   "cell_type": "code",
   "execution_count": 48,
   "metadata": {},
   "outputs": [],
   "source": [
    "file_abs_path = os.path.join(ext_module_path, 'module2.py')\n",
    "with open(file_abs_path, 'w') as code_file:\n",
    "    code_file.write(\"print('running module2.py...')\\n\")\n",
    "    code_file.write(\"x = 'python'\\n\")"
   ]
  },
  {
   "cell_type": "code",
   "execution_count": 49,
   "metadata": {},
   "outputs": [
    {
     "data": {
      "text/plain": [
       "ModuleSpec(name='module2', loader=<_frozen_importlib_external.SourceFileLoader object at 0x000001ED58899E80>, origin='\\\\Users\\\\karti\\\\module2.py')"
      ]
     },
     "execution_count": 49,
     "metadata": {},
     "output_type": "execute_result"
    }
   ],
   "source": [
    "importlib.util.find_spec('module2')"
   ]
  },
  {
   "cell_type": "code",
   "execution_count": 50,
   "metadata": {},
   "outputs": [
    {
     "data": {
      "text/plain": [
       "['C:\\\\Users\\\\karti\\\\pycode',\n",
       " 'c:\\\\users\\\\karti\\\\appdata\\\\local\\\\programs\\\\python\\\\python39\\\\python39.zip',\n",
       " 'c:\\\\users\\\\karti\\\\appdata\\\\local\\\\programs\\\\python\\\\python39\\\\DLLs',\n",
       " 'c:\\\\users\\\\karti\\\\appdata\\\\local\\\\programs\\\\python\\\\python39\\\\lib',\n",
       " 'c:\\\\users\\\\karti\\\\appdata\\\\local\\\\programs\\\\python\\\\python39',\n",
       " '',\n",
       " 'C:\\\\Users\\\\karti\\\\AppData\\\\Roaming\\\\Python\\\\Python39\\\\site-packages',\n",
       " 'c:\\\\users\\\\karti\\\\appdata\\\\local\\\\programs\\\\python\\\\python39\\\\lib\\\\site-packages',\n",
       " 'c:\\\\users\\\\karti\\\\appdata\\\\local\\\\programs\\\\python\\\\python39\\\\lib\\\\site-packages\\\\win32',\n",
       " 'c:\\\\users\\\\karti\\\\appdata\\\\local\\\\programs\\\\python\\\\python39\\\\lib\\\\site-packages\\\\win32\\\\lib',\n",
       " 'c:\\\\users\\\\karti\\\\appdata\\\\local\\\\programs\\\\python\\\\python39\\\\lib\\\\site-packages\\\\Pythonwin',\n",
       " 'c:\\\\users\\\\karti\\\\appdata\\\\local\\\\programs\\\\python\\\\python39\\\\lib\\\\site-packages\\\\IPython\\\\extensions',\n",
       " 'C:\\\\Users\\\\karti\\\\.ipython',\n",
       " '\\\\Users\\\\karti',\n",
       " '\\\\Users\\\\karti']"
      ]
     },
     "execution_count": 50,
     "metadata": {},
     "output_type": "execute_result"
    }
   ],
   "source": [
    "sys.path"
   ]
  },
  {
   "cell_type": "code",
   "execution_count": 51,
   "metadata": {},
   "outputs": [],
   "source": [
    "sys.path.append(ext_module_path)"
   ]
  },
  {
   "cell_type": "code",
   "execution_count": 52,
   "metadata": {},
   "outputs": [
    {
     "data": {
      "text/plain": [
       "['C:\\\\Users\\\\karti\\\\pycode',\n",
       " 'c:\\\\users\\\\karti\\\\appdata\\\\local\\\\programs\\\\python\\\\python39\\\\python39.zip',\n",
       " 'c:\\\\users\\\\karti\\\\appdata\\\\local\\\\programs\\\\python\\\\python39\\\\DLLs',\n",
       " 'c:\\\\users\\\\karti\\\\appdata\\\\local\\\\programs\\\\python\\\\python39\\\\lib',\n",
       " 'c:\\\\users\\\\karti\\\\appdata\\\\local\\\\programs\\\\python\\\\python39',\n",
       " '',\n",
       " 'C:\\\\Users\\\\karti\\\\AppData\\\\Roaming\\\\Python\\\\Python39\\\\site-packages',\n",
       " 'c:\\\\users\\\\karti\\\\appdata\\\\local\\\\programs\\\\python\\\\python39\\\\lib\\\\site-packages',\n",
       " 'c:\\\\users\\\\karti\\\\appdata\\\\local\\\\programs\\\\python\\\\python39\\\\lib\\\\site-packages\\\\win32',\n",
       " 'c:\\\\users\\\\karti\\\\appdata\\\\local\\\\programs\\\\python\\\\python39\\\\lib\\\\site-packages\\\\win32\\\\lib',\n",
       " 'c:\\\\users\\\\karti\\\\appdata\\\\local\\\\programs\\\\python\\\\python39\\\\lib\\\\site-packages\\\\Pythonwin',\n",
       " 'c:\\\\users\\\\karti\\\\appdata\\\\local\\\\programs\\\\python\\\\python39\\\\lib\\\\site-packages\\\\IPython\\\\extensions',\n",
       " 'C:\\\\Users\\\\karti\\\\.ipython',\n",
       " '\\\\Users\\\\karti',\n",
       " '\\\\Users\\\\karti',\n",
       " '\\\\Users\\\\karti']"
      ]
     },
     "execution_count": 52,
     "metadata": {},
     "output_type": "execute_result"
    }
   ],
   "source": [
    "sys.path"
   ]
  },
  {
   "cell_type": "code",
   "execution_count": 53,
   "metadata": {},
   "outputs": [
    {
     "data": {
      "text/plain": [
       "ModuleSpec(name='module2', loader=<_frozen_importlib_external.SourceFileLoader object at 0x000001ED588999A0>, origin='\\\\Users\\\\karti\\\\module2.py')"
      ]
     },
     "execution_count": 53,
     "metadata": {},
     "output_type": "execute_result"
    }
   ],
   "source": [
    "importlib.util.find_spec('module2')"
   ]
  },
  {
   "cell_type": "code",
   "execution_count": 54,
   "metadata": {},
   "outputs": [
    {
     "name": "stdout",
     "output_type": "stream",
     "text": [
      "running module2.py...\n"
     ]
    }
   ],
   "source": [
    "import module2"
   ]
  },
  {
   "cell_type": "code",
   "execution_count": 55,
   "metadata": {},
   "outputs": [
    {
     "data": {
      "text/plain": [
       "'python'"
      ]
     },
     "execution_count": 55,
     "metadata": {},
     "output_type": "execute_result"
    }
   ],
   "source": [
    "module2.x"
   ]
  },
  {
   "cell_type": "code",
   "execution_count": 56,
   "metadata": {},
   "outputs": [],
   "source": [
    "import sys"
   ]
  },
  {
   "cell_type": "code",
   "execution_count": 58,
   "metadata": {},
   "outputs": [
    {
     "name": "stdout",
     "output_type": "stream",
     "text": [
      "IPython\n",
      "IPython.core\n",
      "IPython.core.alias\n",
      "IPython.core.application\n",
      "IPython.core.async_helpers\n",
      "IPython.core.autocall\n",
      "IPython.core.builtin_trap\n",
      "IPython.core.compilerop\n",
      "IPython.core.completer\n",
      "IPython.core.completerlib\n",
      "IPython.core.crashhandler\n",
      "IPython.core.debugger\n",
      "IPython.core.display\n",
      "IPython.core.display_trap\n",
      "IPython.core.displayhook\n",
      "IPython.core.displaypub\n",
      "IPython.core.error\n",
      "IPython.core.events\n",
      "IPython.core.excolors\n",
      "IPython.core.extensions\n",
      "IPython.core.formatters\n",
      "IPython.core.getipython\n",
      "IPython.core.history\n",
      "IPython.core.hooks\n",
      "IPython.core.inputtransformer2\n",
      "IPython.core.interactiveshell\n",
      "IPython.core.latex_symbols\n",
      "IPython.core.logger\n",
      "IPython.core.macro\n",
      "IPython.core.magic\n",
      "IPython.core.magic_arguments\n",
      "IPython.core.magics\n",
      "IPython.core.magics.auto\n",
      "IPython.core.magics.basic\n",
      "IPython.core.magics.code\n",
      "IPython.core.magics.config\n",
      "IPython.core.magics.display\n",
      "IPython.core.magics.execution\n",
      "IPython.core.magics.extension\n",
      "IPython.core.magics.history\n",
      "IPython.core.magics.logging\n",
      "IPython.core.magics.namespace\n",
      "IPython.core.magics.osm\n",
      "IPython.core.magics.packaging\n",
      "IPython.core.magics.pylab\n",
      "IPython.core.magics.script\n",
      "IPython.core.oinspect\n",
      "IPython.core.page\n",
      "IPython.core.payload\n",
      "IPython.core.payloadpage\n",
      "IPython.core.prefilter\n",
      "IPython.core.profiledir\n",
      "IPython.core.pylabtools\n",
      "IPython.core.release\n",
      "IPython.core.shellapp\n",
      "IPython.core.splitinput\n",
      "IPython.core.ultratb\n",
      "IPython.core.usage\n",
      "IPython.display\n",
      "IPython.extensions\n",
      "IPython.extensions.storemagic\n",
      "IPython.lib\n",
      "IPython.lib.backgroundjobs\n",
      "IPython.lib.clipboard\n",
      "IPython.lib.display\n",
      "IPython.lib.pretty\n",
      "IPython.lib.security\n",
      "IPython.paths\n",
      "IPython.terminal\n",
      "IPython.terminal.debugger\n",
      "IPython.terminal.embed\n",
      "IPython.terminal.interactiveshell\n",
      "IPython.terminal.ipapp\n",
      "IPython.terminal.magics\n",
      "IPython.terminal.prompts\n",
      "IPython.terminal.pt_inputhooks\n",
      "IPython.terminal.ptutils\n",
      "IPython.terminal.shortcuts\n",
      "IPython.testing\n",
      "IPython.testing.skipdoctest\n",
      "IPython.utils\n",
      "IPython.utils.PyColorize\n",
      "IPython.utils._process_common\n",
      "IPython.utils._process_win32\n",
      "IPython.utils._sysinfo\n",
      "IPython.utils.capture\n",
      "IPython.utils.colorable\n",
      "IPython.utils.coloransi\n",
      "IPython.utils.contexts\n",
      "IPython.utils.data\n",
      "IPython.utils.decorators\n",
      "IPython.utils.dir2\n",
      "IPython.utils.encoding\n",
      "IPython.utils.frame\n",
      "IPython.utils.generics\n",
      "IPython.utils.importstring\n",
      "IPython.utils.io\n",
      "IPython.utils.ipstruct\n",
      "IPython.utils.module_paths\n",
      "IPython.utils.openpy\n",
      "IPython.utils.path\n",
      "IPython.utils.process\n",
      "IPython.utils.py3compat\n",
      "IPython.utils.sentinel\n",
      "IPython.utils.strdispatch\n",
      "IPython.utils.sysinfo\n",
      "IPython.utils.syspathcontext\n",
      "IPython.utils.tempdir\n",
      "IPython.utils.terminal\n",
      "IPython.utils.text\n",
      "IPython.utils.timing\n",
      "IPython.utils.tokenutil\n",
      "IPython.utils.wildcard\n",
      "__future__\n",
      "__main__\n",
      "_abc\n",
      "_ast\n",
      "_asyncio\n",
      "_bisect\n",
      "_blake2\n",
      "_bootlocale\n",
      "_bz2\n",
      "_codecs\n",
      "_collections\n",
      "_collections_abc\n",
      "_compat_pickle\n",
      "_compression\n",
      "_contextvars\n",
      "_ctypes\n",
      "_cython_0_29_21\n",
      "_datetime\n",
      "_decimal\n",
      "_frozen_importlib\n",
      "_frozen_importlib_external\n",
      "_functools\n",
      "_hashlib\n",
      "_heapq\n",
      "_imp\n",
      "_io\n",
      "_json\n",
      "_locale\n",
      "_lsprof\n",
      "_lzma\n",
      "_opcode\n",
      "_operator\n",
      "_overlapped\n",
      "_pickle\n",
      "_queue\n",
      "_random\n",
      "_sha512\n",
      "_signal\n",
      "_sitebuiltins\n",
      "_socket\n",
      "_sqlite3\n",
      "_sre\n",
      "_ssl\n",
      "_stat\n",
      "_string\n",
      "_strptime\n",
      "_struct\n",
      "_thread\n",
      "_uuid\n",
      "_warnings\n",
      "_weakref\n",
      "_weakrefset\n",
      "_winapi\n",
      "abc\n",
      "argparse\n",
      "array\n",
      "ast\n",
      "asyncio\n",
      "asyncio.base_events\n",
      "asyncio.base_futures\n",
      "asyncio.base_subprocess\n",
      "asyncio.base_tasks\n",
      "asyncio.constants\n",
      "asyncio.coroutines\n",
      "asyncio.events\n",
      "asyncio.exceptions\n",
      "asyncio.format_helpers\n",
      "asyncio.futures\n",
      "asyncio.locks\n",
      "asyncio.log\n",
      "asyncio.proactor_events\n",
      "asyncio.protocols\n",
      "asyncio.queues\n",
      "asyncio.runners\n",
      "asyncio.selector_events\n",
      "asyncio.sslproto\n",
      "asyncio.staggered\n",
      "asyncio.streams\n",
      "asyncio.subprocess\n",
      "asyncio.tasks\n",
      "asyncio.threads\n",
      "asyncio.transports\n",
      "asyncio.trsock\n",
      "asyncio.windows_events\n",
      "asyncio.windows_utils\n",
      "atexit\n",
      "backcall\n",
      "backcall.backcall\n",
      "base64\n",
      "bdb\n",
      "binascii\n",
      "bisect\n",
      "builtins\n",
      "bz2\n",
      "cProfile\n",
      "calendar\n",
      "cmd\n",
      "code\n",
      "codecs\n",
      "codeop\n",
      "collections\n",
      "collections.abc\n",
      "colorama\n",
      "colorama.ansi\n",
      "colorama.ansitowin32\n",
      "colorama.initialise\n",
      "colorama.win32\n",
      "colorama.winterm\n",
      "colorsys\n",
      "concurrent\n",
      "concurrent.futures\n",
      "concurrent.futures._base\n",
      "contextlib\n",
      "contextvars\n",
      "copy\n",
      "copyreg\n",
      "ctypes\n",
      "ctypes._endian\n",
      "ctypes.wintypes\n",
      "cython_runtime\n",
      "dataclasses\n",
      "datetime\n",
      "dateutil\n",
      "dateutil._common\n",
      "dateutil._version\n",
      "dateutil.parser\n",
      "dateutil.parser._parser\n",
      "dateutil.parser.isoparser\n",
      "dateutil.relativedelta\n",
      "dateutil.tz\n",
      "dateutil.tz._common\n",
      "dateutil.tz._factories\n",
      "dateutil.tz.tz\n",
      "dateutil.tz.win\n",
      "decimal\n",
      "decorator\n",
      "difflib\n",
      "dis\n",
      "distutils\n",
      "distutils.version\n",
      "email\n",
      "email._encoded_words\n",
      "email._parseaddr\n",
      "email._policybase\n",
      "email.base64mime\n",
      "email.charset\n",
      "email.encoders\n",
      "email.errors\n",
      "email.feedparser\n",
      "email.header\n",
      "email.iterators\n",
      "email.message\n",
      "email.parser\n",
      "email.quoprimime\n",
      "email.utils\n",
      "encodings\n",
      "encodings.aliases\n",
      "encodings.cp1252\n",
      "encodings.latin_1\n",
      "encodings.utf_8\n",
      "enum\n",
      "errno\n",
      "faulthandler\n",
      "filecmp\n",
      "fnmatch\n",
      "fractions\n",
      "functools\n",
      "gc\n",
      "genericpath\n",
      "getopt\n",
      "getpass\n",
      "gettext\n",
      "glob\n",
      "google\n",
      "hashlib\n",
      "heapq\n",
      "hmac\n",
      "html\n",
      "html.entities\n",
      "http\n",
      "http.client\n",
      "imp\n",
      "importlib\n",
      "importlib._bootstrap\n",
      "importlib._bootstrap_external\n",
      "importlib.abc\n",
      "importlib.machinery\n",
      "importlib.util\n",
      "inspect\n",
      "io\n",
      "ipykernel\n",
      "ipykernel._version\n",
      "ipykernel.codeutil\n",
      "ipykernel.comm\n",
      "ipykernel.comm.comm\n",
      "ipykernel.comm.manager\n",
      "ipykernel.connect\n",
      "ipykernel.datapub\n",
      "ipykernel.displayhook\n",
      "ipykernel.eventloops\n",
      "ipykernel.heartbeat\n",
      "ipykernel.iostream\n",
      "ipykernel.ipkernel\n",
      "ipykernel.jsonutil\n",
      "ipykernel.kernelapp\n",
      "ipykernel.kernelbase\n",
      "ipykernel.parentpoller\n",
      "ipykernel.pickleutil\n",
      "ipykernel.serialize\n",
      "ipykernel.zmqshell\n",
      "ipython_genutils\n",
      "ipython_genutils._version\n",
      "ipython_genutils.encoding\n",
      "ipython_genutils.importstring\n",
      "ipython_genutils.path\n",
      "ipython_genutils.py3compat\n",
      "ipython_genutils.text\n",
      "itertools\n",
      "jedi\n",
      "jedi._compatibility\n",
      "jedi.api\n",
      "jedi.api.classes\n",
      "jedi.api.completion\n",
      "jedi.api.completion_cache\n",
      "jedi.api.environment\n",
      "jedi.api.errors\n",
      "jedi.api.exceptions\n",
      "jedi.api.file_name\n",
      "jedi.api.helpers\n",
      "jedi.api.interpreter\n",
      "jedi.api.keywords\n",
      "jedi.api.project\n",
      "jedi.api.refactoring\n",
      "jedi.api.refactoring.extract\n",
      "jedi.api.strings\n",
      "jedi.cache\n",
      "jedi.common\n",
      "jedi.debug\n",
      "jedi.file_io\n",
      "jedi.inference\n",
      "jedi.inference.analysis\n",
      "jedi.inference.arguments\n",
      "jedi.inference.base_value\n",
      "jedi.inference.cache\n",
      "jedi.inference.compiled\n",
      "jedi.inference.compiled.access\n",
      "jedi.inference.compiled.getattr_static\n",
      "jedi.inference.compiled.mixed\n",
      "jedi.inference.compiled.subprocess\n",
      "jedi.inference.compiled.subprocess.functions\n",
      "jedi.inference.compiled.value\n",
      "jedi.inference.context\n",
      "jedi.inference.docstrings\n",
      "jedi.inference.filters\n",
      "jedi.inference.flow_analysis\n",
      "jedi.inference.gradual\n",
      "jedi.inference.gradual.annotation\n",
      "jedi.inference.gradual.base\n",
      "jedi.inference.gradual.conversion\n",
      "jedi.inference.gradual.generics\n",
      "jedi.inference.gradual.stub_value\n",
      "jedi.inference.gradual.type_var\n",
      "jedi.inference.gradual.typeshed\n",
      "jedi.inference.gradual.typing\n",
      "jedi.inference.gradual.utils\n",
      "jedi.inference.helpers\n",
      "jedi.inference.imports\n",
      "jedi.inference.lazy_value\n",
      "jedi.inference.names\n",
      "jedi.inference.param\n",
      "jedi.inference.parser_cache\n",
      "jedi.inference.recursion\n",
      "jedi.inference.references\n",
      "jedi.inference.signature\n",
      "jedi.inference.syntax_tree\n",
      "jedi.inference.sys_path\n",
      "jedi.inference.utils\n",
      "jedi.inference.value\n",
      "jedi.inference.value.decorator\n",
      "jedi.inference.value.dynamic_arrays\n",
      "jedi.inference.value.function\n",
      "jedi.inference.value.instance\n",
      "jedi.inference.value.iterable\n",
      "jedi.inference.value.klass\n",
      "jedi.inference.value.module\n",
      "jedi.parser_utils\n",
      "jedi.plugins\n",
      "jedi.plugins.django\n",
      "jedi.plugins.flask\n",
      "jedi.plugins.pytest\n",
      "jedi.plugins.registry\n",
      "jedi.plugins.stdlib\n",
      "jedi.settings\n",
      "json\n",
      "json.decoder\n",
      "json.encoder\n",
      "json.scanner\n",
      "jupyter_client\n",
      "jupyter_client._version\n",
      "jupyter_client.adapter\n",
      "jupyter_client.asynchronous\n",
      "jupyter_client.asynchronous.channels\n",
      "jupyter_client.asynchronous.client\n",
      "jupyter_client.blocking\n",
      "jupyter_client.blocking.channels\n",
      "jupyter_client.blocking.client\n",
      "jupyter_client.channels\n",
      "jupyter_client.channelsabc\n",
      "jupyter_client.client\n",
      "jupyter_client.clientabc\n",
      "jupyter_client.connect\n",
      "jupyter_client.jsonutil\n",
      "jupyter_client.kernelspec\n",
      "jupyter_client.launcher\n",
      "jupyter_client.localinterfaces\n",
      "jupyter_client.manager\n",
      "jupyter_client.managerabc\n",
      "jupyter_client.multikernelmanager\n",
      "jupyter_client.session\n",
      "jupyter_core\n",
      "jupyter_core.paths\n",
      "jupyter_core.version\n",
      "keyword\n",
      "linecache\n",
      "locale\n",
      "logging\n",
      "logging.handlers\n",
      "lzma\n",
      "marshal\n",
      "math\n",
      "mimetypes\n",
      "module1\n",
      "module2\n",
      "msvcrt\n",
      "nt\n",
      "ntpath\n",
      "ntsecuritycon\n",
      "nturl2path\n",
      "numbers\n",
      "opcode\n",
      "operator\n",
      "os\n",
      "os.path\n",
      "parso\n",
      "parso._compatibility\n",
      "parso.cache\n",
      "parso.file_io\n",
      "parso.grammar\n",
      "parso.normalizer\n",
      "parso.parser\n",
      "parso.pgen2\n",
      "parso.pgen2.generator\n",
      "parso.pgen2.grammar_parser\n",
      "parso.python\n",
      "parso.python.diff\n",
      "parso.python.errors\n",
      "parso.python.parser\n",
      "parso.python.pep8\n",
      "parso.python.prefix\n",
      "parso.python.token\n",
      "parso.python.tokenize\n",
      "parso.python.tree\n",
      "parso.tree\n",
      "parso.utils\n",
      "pathlib\n",
      "pdb\n",
      "pickle\n",
      "pickleshare\n",
      "pkgutil\n",
      "platform\n",
      "posixpath\n",
      "pprint\n",
      "profile\n",
      "prompt_toolkit\n",
      "prompt_toolkit.application\n",
      "prompt_toolkit.application.application\n",
      "prompt_toolkit.application.current\n",
      "prompt_toolkit.application.dummy\n",
      "prompt_toolkit.application.run_in_terminal\n",
      "prompt_toolkit.auto_suggest\n",
      "prompt_toolkit.buffer\n",
      "prompt_toolkit.cache\n",
      "prompt_toolkit.clipboard\n",
      "prompt_toolkit.clipboard.base\n",
      "prompt_toolkit.clipboard.in_memory\n",
      "prompt_toolkit.completion\n",
      "prompt_toolkit.completion.base\n",
      "prompt_toolkit.completion.filesystem\n",
      "prompt_toolkit.completion.fuzzy_completer\n",
      "prompt_toolkit.completion.nested\n",
      "prompt_toolkit.completion.word_completer\n",
      "prompt_toolkit.data_structures\n",
      "prompt_toolkit.document\n",
      "prompt_toolkit.enums\n",
      "prompt_toolkit.eventloop\n",
      "prompt_toolkit.eventloop.async_generator\n",
      "prompt_toolkit.eventloop.inputhook\n",
      "prompt_toolkit.eventloop.utils\n",
      "prompt_toolkit.filters\n",
      "prompt_toolkit.filters.app\n",
      "prompt_toolkit.filters.base\n",
      "prompt_toolkit.filters.cli\n",
      "prompt_toolkit.filters.utils\n",
      "prompt_toolkit.formatted_text\n",
      "prompt_toolkit.formatted_text.ansi\n",
      "prompt_toolkit.formatted_text.base\n",
      "prompt_toolkit.formatted_text.html\n",
      "prompt_toolkit.formatted_text.pygments\n",
      "prompt_toolkit.formatted_text.utils\n",
      "prompt_toolkit.history\n",
      "prompt_toolkit.input\n",
      "prompt_toolkit.input.ansi_escape_sequences\n",
      "prompt_toolkit.input.base\n",
      "prompt_toolkit.input.defaults\n",
      "prompt_toolkit.input.typeahead\n",
      "prompt_toolkit.input.vt100_parser\n",
      "prompt_toolkit.key_binding\n",
      "prompt_toolkit.key_binding.bindings\n",
      "prompt_toolkit.key_binding.bindings.auto_suggest\n",
      "prompt_toolkit.key_binding.bindings.basic\n",
      "prompt_toolkit.key_binding.bindings.completion\n",
      "prompt_toolkit.key_binding.bindings.cpr\n",
      "prompt_toolkit.key_binding.bindings.emacs\n",
      "prompt_toolkit.key_binding.bindings.focus\n",
      "prompt_toolkit.key_binding.bindings.mouse\n",
      "prompt_toolkit.key_binding.bindings.named_commands\n",
      "prompt_toolkit.key_binding.bindings.open_in_editor\n",
      "prompt_toolkit.key_binding.bindings.page_navigation\n",
      "prompt_toolkit.key_binding.bindings.scroll\n",
      "prompt_toolkit.key_binding.bindings.vi\n",
      "prompt_toolkit.key_binding.defaults\n",
      "prompt_toolkit.key_binding.digraphs\n",
      "prompt_toolkit.key_binding.emacs_state\n",
      "prompt_toolkit.key_binding.key_bindings\n",
      "prompt_toolkit.key_binding.key_processor\n",
      "prompt_toolkit.key_binding.vi_state\n",
      "prompt_toolkit.keys\n",
      "prompt_toolkit.layout\n",
      "prompt_toolkit.layout.containers\n",
      "prompt_toolkit.layout.controls\n",
      "prompt_toolkit.layout.dimension\n",
      "prompt_toolkit.layout.dummy\n",
      "prompt_toolkit.layout.layout\n",
      "prompt_toolkit.layout.margins\n",
      "prompt_toolkit.layout.menus\n",
      "prompt_toolkit.layout.mouse_handlers\n",
      "prompt_toolkit.layout.processors\n",
      "prompt_toolkit.layout.screen\n",
      "prompt_toolkit.layout.utils\n",
      "prompt_toolkit.lexers\n",
      "prompt_toolkit.lexers.base\n",
      "prompt_toolkit.lexers.pygments\n",
      "prompt_toolkit.mouse_events\n",
      "prompt_toolkit.output\n",
      "prompt_toolkit.output.base\n",
      "prompt_toolkit.output.color_depth\n",
      "prompt_toolkit.output.defaults\n",
      "prompt_toolkit.output.vt100\n",
      "prompt_toolkit.patch_stdout\n",
      "prompt_toolkit.renderer\n",
      "prompt_toolkit.search\n",
      "prompt_toolkit.selection\n",
      "prompt_toolkit.shortcuts\n",
      "prompt_toolkit.shortcuts.dialogs\n",
      "prompt_toolkit.shortcuts.progress_bar\n",
      "prompt_toolkit.shortcuts.progress_bar.base\n",
      "prompt_toolkit.shortcuts.progress_bar.formatters\n",
      "prompt_toolkit.shortcuts.prompt\n",
      "prompt_toolkit.shortcuts.utils\n",
      "prompt_toolkit.styles\n",
      "prompt_toolkit.styles.base\n",
      "prompt_toolkit.styles.defaults\n",
      "prompt_toolkit.styles.named_colors\n",
      "prompt_toolkit.styles.pygments\n",
      "prompt_toolkit.styles.style\n",
      "prompt_toolkit.styles.style_transformation\n",
      "prompt_toolkit.utils\n",
      "prompt_toolkit.validation\n",
      "prompt_toolkit.widgets\n",
      "prompt_toolkit.widgets.base\n",
      "prompt_toolkit.widgets.dialogs\n",
      "prompt_toolkit.widgets.menus\n",
      "prompt_toolkit.widgets.toolbars\n",
      "pstats\n",
      "pydoc\n",
      "pydoc_data\n",
      "pydoc_data.topics\n",
      "pygments\n",
      "pygments.filter\n",
      "pygments.filters\n",
      "pygments.formatter\n",
      "pygments.formatters\n",
      "pygments.formatters._mapping\n",
      "pygments.formatters.html\n",
      "pygments.lexer\n",
      "pygments.lexers\n",
      "pygments.lexers._mapping\n",
      "pygments.lexers.python\n",
      "pygments.modeline\n",
      "pygments.plugin\n",
      "pygments.regexopt\n",
      "pygments.style\n",
      "pygments.styles\n",
      "pygments.token\n",
      "pygments.unistring\n",
      "pygments.util\n",
      "pywin32_bootstrap\n",
      "queue\n",
      "quopri\n",
      "random\n",
      "re\n",
      "reprlib\n",
      "runpy\n",
      "select\n",
      "selectors\n",
      "shlex\n",
      "shutil\n",
      "signal\n",
      "site\n",
      "six\n",
      "six.moves\n",
      "socket\n",
      "sqlite3\n",
      "sqlite3.dbapi2\n",
      "sre_compile\n",
      "sre_constants\n",
      "sre_parse\n",
      "ssl\n",
      "stat\n",
      "storemagic\n",
      "string\n",
      "struct\n",
      "subprocess\n",
      "sys\n",
      "sysconfig\n",
      "tempfile\n",
      "textwrap\n",
      "threading\n",
      "time\n",
      "timeit\n",
      "token\n",
      "tokenize\n",
      "tornado\n",
      "tornado.concurrent\n",
      "tornado.escape\n",
      "tornado.gen\n",
      "tornado.ioloop\n",
      "tornado.locks\n",
      "tornado.log\n",
      "tornado.platform\n",
      "tornado.platform.asyncio\n",
      "tornado.queues\n",
      "tornado.speedups\n",
      "tornado.util\n",
      "traceback\n",
      "traitlets\n",
      "traitlets._version\n",
      "traitlets.config\n",
      "traitlets.config.application\n",
      "traitlets.config.configurable\n",
      "traitlets.config.loader\n",
      "traitlets.log\n",
      "traitlets.traitlets\n",
      "traitlets.utils\n",
      "traitlets.utils.bunch\n",
      "traitlets.utils.decorators\n",
      "traitlets.utils.descriptions\n",
      "traitlets.utils.getargspec\n",
      "traitlets.utils.importstring\n",
      "traitlets.utils.sentinel\n",
      "types\n",
      "typing\n",
      "typing.io\n",
      "typing.re\n",
      "unicodedata\n",
      "urllib\n",
      "urllib.error\n",
      "urllib.parse\n",
      "urllib.request\n",
      "urllib.response\n",
      "uu\n",
      "uuid\n",
      "warnings\n",
      "wcwidth\n",
      "wcwidth.table_wide\n",
      "wcwidth.table_zero\n",
      "wcwidth.unicode_versions\n",
      "wcwidth.wcwidth\n",
      "weakref\n",
      "win32api\n",
      "win32security\n",
      "winreg\n",
      "xml\n",
      "xml.dom\n",
      "xml.dom.NodeFilter\n",
      "xml.dom.domreg\n",
      "xml.dom.minicompat\n",
      "xml.dom.minidom\n",
      "xml.dom.xmlbuilder\n",
      "zipimport\n",
      "zlib\n",
      "zmq\n",
      "zmq._future\n",
      "zmq.asyncio\n",
      "zmq.backend\n",
      "zmq.backend.cython\n",
      "zmq.backend.cython._device\n",
      "zmq.backend.cython._poll\n",
      "zmq.backend.cython._proxy_steerable\n",
      "zmq.backend.cython._version\n",
      "zmq.backend.cython.constants\n",
      "zmq.backend.cython.context\n",
      "zmq.backend.cython.error\n",
      "zmq.backend.cython.message\n",
      "zmq.backend.cython.socket\n",
      "zmq.backend.cython.utils\n",
      "zmq.backend.select\n",
      "zmq.error\n",
      "zmq.eventloop\n",
      "zmq.eventloop.ioloop\n",
      "zmq.eventloop.zmqstream\n",
      "zmq.libzmq\n",
      "zmq.sugar\n",
      "zmq.sugar.attrsettr\n",
      "zmq.sugar.constants\n",
      "zmq.sugar.context\n",
      "zmq.sugar.frame\n",
      "zmq.sugar.poll\n",
      "zmq.sugar.socket\n",
      "zmq.sugar.stopwatch\n",
      "zmq.sugar.tracker\n",
      "zmq.sugar.version\n",
      "zmq.utils\n",
      "zmq.utils.constant_names\n",
      "zmq.utils.jsonapi\n",
      "zmq.utils.strtypes\n"
     ]
    }
   ],
   "source": [
    "for key in sorted(sys.modules.keys()):\n",
    "    print(key)"
   ]
  },
  {
   "cell_type": "code",
   "execution_count": 59,
   "metadata": {},
   "outputs": [
    {
     "data": {
      "text/plain": [
       "False"
      ]
     },
     "execution_count": 59,
     "metadata": {},
     "output_type": "execute_result"
    }
   ],
   "source": [
    "'cmath' in sys.modules"
   ]
  },
  {
   "cell_type": "code",
   "execution_count": 60,
   "metadata": {},
   "outputs": [
    {
     "data": {
      "text/plain": [
       "False"
      ]
     },
     "execution_count": 60,
     "metadata": {},
     "output_type": "execute_result"
    }
   ],
   "source": [
    "'cmath' in globals()"
   ]
  },
  {
   "cell_type": "code",
   "execution_count": 61,
   "metadata": {},
   "outputs": [],
   "source": [
    "from cmath import exp"
   ]
  },
  {
   "cell_type": "code",
   "execution_count": 62,
   "metadata": {},
   "outputs": [
    {
     "data": {
      "text/plain": [
       "False"
      ]
     },
     "execution_count": 62,
     "metadata": {},
     "output_type": "execute_result"
    }
   ],
   "source": [
    "'cmath' in globals()"
   ]
  },
  {
   "cell_type": "code",
   "execution_count": 63,
   "metadata": {},
   "outputs": [
    {
     "data": {
      "text/plain": [
       "True"
      ]
     },
     "execution_count": 63,
     "metadata": {},
     "output_type": "execute_result"
    }
   ],
   "source": [
    "'exp' in globals()"
   ]
  },
  {
   "cell_type": "code",
   "execution_count": 64,
   "metadata": {},
   "outputs": [
    {
     "data": {
      "text/plain": [
       "<function cmath.exp(z, /)>"
      ]
     },
     "execution_count": 64,
     "metadata": {},
     "output_type": "execute_result"
    }
   ],
   "source": [
    "exp"
   ]
  },
  {
   "cell_type": "code",
   "execution_count": 65,
   "metadata": {},
   "outputs": [
    {
     "data": {
      "text/plain": [
       "2118903378064"
      ]
     },
     "execution_count": 65,
     "metadata": {},
     "output_type": "execute_result"
    }
   ],
   "source": [
    "id(exp)"
   ]
  },
  {
   "cell_type": "code",
   "execution_count": 66,
   "metadata": {},
   "outputs": [
    {
     "data": {
      "text/plain": [
       "True"
      ]
     },
     "execution_count": 66,
     "metadata": {},
     "output_type": "execute_result"
    }
   ],
   "source": [
    "'cmath' in sys.modules"
   ]
  },
  {
   "cell_type": "code",
   "execution_count": 67,
   "metadata": {},
   "outputs": [
    {
     "data": {
      "text/plain": [
       "(-3.074932320639359+6.71884969742825j)"
      ]
     },
     "execution_count": 67,
     "metadata": {},
     "output_type": "execute_result"
    }
   ],
   "source": [
    "exp(2+2j)"
   ]
  },
  {
   "cell_type": "code",
   "execution_count": 71,
   "metadata": {},
   "outputs": [],
   "source": [
    "cmath = sys.modules['cmath']"
   ]
  },
  {
   "cell_type": "code",
   "execution_count": 72,
   "metadata": {},
   "outputs": [
    {
     "data": {
      "text/plain": [
       "True"
      ]
     },
     "execution_count": 72,
     "metadata": {},
     "output_type": "execute_result"
    }
   ],
   "source": [
    "'cmath' in globals()"
   ]
  },
  {
   "cell_type": "code",
   "execution_count": 73,
   "metadata": {},
   "outputs": [
    {
     "data": {
      "text/plain": [
       "(-3.074932320639359+6.71884969742825j)"
      ]
     },
     "execution_count": 73,
     "metadata": {},
     "output_type": "execute_result"
    }
   ],
   "source": [
    "cmath.exp(2+2j)"
   ]
  },
  {
   "cell_type": "code",
   "execution_count": 74,
   "metadata": {},
   "outputs": [
    {
     "data": {
      "text/plain": [
       "(3.4209548611170133-1.5093064853236156j)"
      ]
     },
     "execution_count": 74,
     "metadata": {},
     "output_type": "execute_result"
    }
   ],
   "source": [
    "cmath.sin(2+2j)"
   ]
  },
  {
   "cell_type": "code",
   "execution_count": 75,
   "metadata": {},
   "outputs": [
    {
     "data": {
      "text/plain": [
       "3.141592653589793"
      ]
     },
     "execution_count": 75,
     "metadata": {},
     "output_type": "execute_result"
    }
   ],
   "source": [
    "cmath.pi"
   ]
  },
  {
   "cell_type": "code",
   "execution_count": 76,
   "metadata": {},
   "outputs": [
    {
     "data": {
      "text/plain": [
       "(-1.5656258353157435-3.2978948363112366j)"
      ]
     },
     "execution_count": 76,
     "metadata": {},
     "output_type": "execute_result"
    }
   ],
   "source": [
    "cmath.cos(2+2j)"
   ]
  },
  {
   "cell_type": "code",
   "execution_count": 77,
   "metadata": {},
   "outputs": [],
   "source": [
    "from cmath import exp"
   ]
  },
  {
   "cell_type": "code",
   "execution_count": 78,
   "metadata": {},
   "outputs": [],
   "source": [
    "from cmath import *"
   ]
  },
  {
   "cell_type": "code",
   "execution_count": 79,
   "metadata": {},
   "outputs": [
    {
     "data": {
      "text/plain": [
       "{'__name__': '__main__',\n",
       " '__doc__': 'Automatically created module for IPython interactive environment',\n",
       " '__package__': None,\n",
       " '__loader__': None,\n",
       " '__spec__': None,\n",
       " '__builtin__': <module 'builtins' (built-in)>,\n",
       " '__builtins__': <module 'builtins' (built-in)>,\n",
       " '_ih': ['',\n",
       "  'import sys',\n",
       "  'sys',\n",
       "  'import collections',\n",
       "  'collections',\n",
       "  \"mod_name = 'math'\",\n",
       "  'import mode_name',\n",
       "  'import importlib',\n",
       "  'importlib',\n",
       "  'importlib.import_module(mod_name)',\n",
       "  \"'math' in sys.modules\",\n",
       "  \"'fractions' in sys.modules\",\n",
       "  'math.sqrt(2)',\n",
       "  \"'math' in globals()\",\n",
       "  \"# import math as math2\\n#math2 = sys.modules['math']\\nmath2 = importlib.import_module(mod_name)\",\n",
       "  \"'math2' in globals()\",\n",
       "  'id(math2)',\n",
       "  \"id(sys.modules['math'])\",\n",
       "  'math2.sqrt(2)',\n",
       "  'math2',\n",
       "  'importlib',\n",
       "  \"fractions = importlib.import_module('fractions')\",\n",
       "  'fractions',\n",
       "  'sys.meta_path',\n",
       "  'import math',\n",
       "  'math.__spec__',\n",
       "  \"importlib.util.find_spec('Decimal')\",\n",
       "  \"with open('module1.py', 'w') as code_file:\\n    code_file.write('print('running module1.py...')\\\\n')\\n    code_file.write('a = 100\\\\n')\",\n",
       "  'with open(\\'module1.py\\', \\'w\\') as code_file:\\n    code_file.write(\"print(\\'running module1.py...\\')\\\\n\")\\n    code_file.write(\\'a = 100\\\\n\\')',\n",
       "  \"importlib.util,find_spec('module1')\",\n",
       "  \"importlib.util.find_spec('module1')\",\n",
       "  'import module1',\n",
       "  'module1.a',\n",
       "  'import os',\n",
       "  \"ext_module_path = os.environ['HOMEPATH']\",\n",
       "  'ext_module_path',\n",
       "  'file_abs_path = os.path.join(ext_module_path, \\' module2.py\\')\\nwith open(file_abs_path, \\'w\\') as code_file:\\n    code_file.write(\"print(\\'running module2.py...\\')\\\\n\")\\n    code_file.write(\"x = \\'python\\'\\\\n\")',\n",
       "  'importlib.util.find_spec(module2)',\n",
       "  \"importlib.util.find_spec('module2')\",\n",
       "  'sys.path',\n",
       "  'sys.apth.append(ext_module_path)',\n",
       "  'sys.path.append(ext_module_path)',\n",
       "  'sys.path',\n",
       "  \"importlib.util.find_spec('module2')\",\n",
       "  'sys.path.append(ext_module_path)',\n",
       "  'sys.path',\n",
       "  \"importlib.util.find_spec('module2')\",\n",
       "  'import module2',\n",
       "  'file_abs_path = os.path.join(ext_module_path, \\'module2.py\\')\\nwith open(file_abs_path, \\'w\\') as code_file:\\n    code_file.write(\"print(\\'running module2.py...\\')\\\\n\")\\n    code_file.write(\"x = \\'python\\'\\\\n\")',\n",
       "  \"importlib.util.find_spec('module2')\",\n",
       "  'sys.path',\n",
       "  'sys.path.append(ext_module_path)',\n",
       "  'sys.path',\n",
       "  \"importlib.util.find_spec('module2')\",\n",
       "  'import module2',\n",
       "  'module2.x',\n",
       "  'import sys',\n",
       "  'for key in sorted(sys.modules.key()):\\n    print(key)',\n",
       "  'for key in sorted(sys.modules.keys()):\\n    print(key)',\n",
       "  \"'cmath' in sys.modules\",\n",
       "  \"'cmath' in globals()\",\n",
       "  'from cmath import exp',\n",
       "  \"'cmath' in globals()\",\n",
       "  \"'exp' in globals()\",\n",
       "  'exp',\n",
       "  'id(exp)',\n",
       "  \"'cmath' in sys.modules\",\n",
       "  'exp(2+2j)',\n",
       "  'cmath.exp()',\n",
       "  'cmath.sin()',\n",
       "  \"cmath = sys.modules('cmath')\",\n",
       "  \"cmath = sys.modules['cmath']\",\n",
       "  \"'cmath' in globals()\",\n",
       "  'cmath.exp(2+2j)',\n",
       "  'cmath.sin(2+2j)',\n",
       "  'cmath.pi',\n",
       "  'cmath.cos(2+2j)',\n",
       "  'from cmath import exp',\n",
       "  'from cmath import *',\n",
       "  'globals()'],\n",
       " '_oh': {2: <module 'sys' (built-in)>,\n",
       "  4: <module 'collections' from 'c:\\\\users\\\\karti\\\\appdata\\\\local\\\\programs\\\\python\\\\python39\\\\lib\\\\collections\\\\__init__.py'>,\n",
       "  8: <module 'importlib' from 'c:\\\\users\\\\karti\\\\appdata\\\\local\\\\programs\\\\python\\\\python39\\\\lib\\\\importlib\\\\__init__.py'>,\n",
       "  9: <module 'math' (built-in)>,\n",
       "  10: True,\n",
       "  11: False,\n",
       "  13: False,\n",
       "  15: True,\n",
       "  16: 2118843868400,\n",
       "  17: 2118843868400,\n",
       "  18: 1.4142135623730951,\n",
       "  19: <module 'math' (built-in)>,\n",
       "  20: <module 'importlib' from 'c:\\\\users\\\\karti\\\\appdata\\\\local\\\\programs\\\\python\\\\python39\\\\lib\\\\importlib\\\\__init__.py'>,\n",
       "  22: <module 'fractions' from 'c:\\\\users\\\\karti\\\\appdata\\\\local\\\\programs\\\\python\\\\python39\\\\lib\\\\fractions.py'>,\n",
       "  23: [_frozen_importlib.BuiltinImporter,\n",
       "   _frozen_importlib.FrozenImporter,\n",
       "   _frozen_importlib_external.PathFinder,\n",
       "   <six._SixMetaPathImporter at 0x1ed585b05b0>],\n",
       "  25: ModuleSpec(name='math', loader=<class '_frozen_importlib.BuiltinImporter'>, origin='built-in'),\n",
       "  30: ModuleSpec(name='module1', loader=<_frozen_importlib_external.SourceFileLoader object at 0x000001ED5878ABB0>, origin='C:\\\\Users\\\\karti\\\\pycode\\\\module1.py'),\n",
       "  32: 100,\n",
       "  35: '\\\\Users\\\\karti',\n",
       "  39: ['C:\\\\Users\\\\karti\\\\pycode',\n",
       "   'c:\\\\users\\\\karti\\\\appdata\\\\local\\\\programs\\\\python\\\\python39\\\\python39.zip',\n",
       "   'c:\\\\users\\\\karti\\\\appdata\\\\local\\\\programs\\\\python\\\\python39\\\\DLLs',\n",
       "   'c:\\\\users\\\\karti\\\\appdata\\\\local\\\\programs\\\\python\\\\python39\\\\lib',\n",
       "   'c:\\\\users\\\\karti\\\\appdata\\\\local\\\\programs\\\\python\\\\python39',\n",
       "   '',\n",
       "   'C:\\\\Users\\\\karti\\\\AppData\\\\Roaming\\\\Python\\\\Python39\\\\site-packages',\n",
       "   'c:\\\\users\\\\karti\\\\appdata\\\\local\\\\programs\\\\python\\\\python39\\\\lib\\\\site-packages',\n",
       "   'c:\\\\users\\\\karti\\\\appdata\\\\local\\\\programs\\\\python\\\\python39\\\\lib\\\\site-packages\\\\win32',\n",
       "   'c:\\\\users\\\\karti\\\\appdata\\\\local\\\\programs\\\\python\\\\python39\\\\lib\\\\site-packages\\\\win32\\\\lib',\n",
       "   'c:\\\\users\\\\karti\\\\appdata\\\\local\\\\programs\\\\python\\\\python39\\\\lib\\\\site-packages\\\\Pythonwin',\n",
       "   'c:\\\\users\\\\karti\\\\appdata\\\\local\\\\programs\\\\python\\\\python39\\\\lib\\\\site-packages\\\\IPython\\\\extensions',\n",
       "   'C:\\\\Users\\\\karti\\\\.ipython',\n",
       "   '\\\\Users\\\\karti',\n",
       "   '\\\\Users\\\\karti',\n",
       "   '\\\\Users\\\\karti'],\n",
       "  42: ['C:\\\\Users\\\\karti\\\\pycode',\n",
       "   'c:\\\\users\\\\karti\\\\appdata\\\\local\\\\programs\\\\python\\\\python39\\\\python39.zip',\n",
       "   'c:\\\\users\\\\karti\\\\appdata\\\\local\\\\programs\\\\python\\\\python39\\\\DLLs',\n",
       "   'c:\\\\users\\\\karti\\\\appdata\\\\local\\\\programs\\\\python\\\\python39\\\\lib',\n",
       "   'c:\\\\users\\\\karti\\\\appdata\\\\local\\\\programs\\\\python\\\\python39',\n",
       "   '',\n",
       "   'C:\\\\Users\\\\karti\\\\AppData\\\\Roaming\\\\Python\\\\Python39\\\\site-packages',\n",
       "   'c:\\\\users\\\\karti\\\\appdata\\\\local\\\\programs\\\\python\\\\python39\\\\lib\\\\site-packages',\n",
       "   'c:\\\\users\\\\karti\\\\appdata\\\\local\\\\programs\\\\python\\\\python39\\\\lib\\\\site-packages\\\\win32',\n",
       "   'c:\\\\users\\\\karti\\\\appdata\\\\local\\\\programs\\\\python\\\\python39\\\\lib\\\\site-packages\\\\win32\\\\lib',\n",
       "   'c:\\\\users\\\\karti\\\\appdata\\\\local\\\\programs\\\\python\\\\python39\\\\lib\\\\site-packages\\\\Pythonwin',\n",
       "   'c:\\\\users\\\\karti\\\\appdata\\\\local\\\\programs\\\\python\\\\python39\\\\lib\\\\site-packages\\\\IPython\\\\extensions',\n",
       "   'C:\\\\Users\\\\karti\\\\.ipython',\n",
       "   '\\\\Users\\\\karti',\n",
       "   '\\\\Users\\\\karti',\n",
       "   '\\\\Users\\\\karti'],\n",
       "  45: ['C:\\\\Users\\\\karti\\\\pycode',\n",
       "   'c:\\\\users\\\\karti\\\\appdata\\\\local\\\\programs\\\\python\\\\python39\\\\python39.zip',\n",
       "   'c:\\\\users\\\\karti\\\\appdata\\\\local\\\\programs\\\\python\\\\python39\\\\DLLs',\n",
       "   'c:\\\\users\\\\karti\\\\appdata\\\\local\\\\programs\\\\python\\\\python39\\\\lib',\n",
       "   'c:\\\\users\\\\karti\\\\appdata\\\\local\\\\programs\\\\python\\\\python39',\n",
       "   '',\n",
       "   'C:\\\\Users\\\\karti\\\\AppData\\\\Roaming\\\\Python\\\\Python39\\\\site-packages',\n",
       "   'c:\\\\users\\\\karti\\\\appdata\\\\local\\\\programs\\\\python\\\\python39\\\\lib\\\\site-packages',\n",
       "   'c:\\\\users\\\\karti\\\\appdata\\\\local\\\\programs\\\\python\\\\python39\\\\lib\\\\site-packages\\\\win32',\n",
       "   'c:\\\\users\\\\karti\\\\appdata\\\\local\\\\programs\\\\python\\\\python39\\\\lib\\\\site-packages\\\\win32\\\\lib',\n",
       "   'c:\\\\users\\\\karti\\\\appdata\\\\local\\\\programs\\\\python\\\\python39\\\\lib\\\\site-packages\\\\Pythonwin',\n",
       "   'c:\\\\users\\\\karti\\\\appdata\\\\local\\\\programs\\\\python\\\\python39\\\\lib\\\\site-packages\\\\IPython\\\\extensions',\n",
       "   'C:\\\\Users\\\\karti\\\\.ipython',\n",
       "   '\\\\Users\\\\karti',\n",
       "   '\\\\Users\\\\karti',\n",
       "   '\\\\Users\\\\karti'],\n",
       "  49: ModuleSpec(name='module2', loader=<_frozen_importlib_external.SourceFileLoader object at 0x000001ED58899E80>, origin='\\\\Users\\\\karti\\\\module2.py'),\n",
       "  50: ['C:\\\\Users\\\\karti\\\\pycode',\n",
       "   'c:\\\\users\\\\karti\\\\appdata\\\\local\\\\programs\\\\python\\\\python39\\\\python39.zip',\n",
       "   'c:\\\\users\\\\karti\\\\appdata\\\\local\\\\programs\\\\python\\\\python39\\\\DLLs',\n",
       "   'c:\\\\users\\\\karti\\\\appdata\\\\local\\\\programs\\\\python\\\\python39\\\\lib',\n",
       "   'c:\\\\users\\\\karti\\\\appdata\\\\local\\\\programs\\\\python\\\\python39',\n",
       "   '',\n",
       "   'C:\\\\Users\\\\karti\\\\AppData\\\\Roaming\\\\Python\\\\Python39\\\\site-packages',\n",
       "   'c:\\\\users\\\\karti\\\\appdata\\\\local\\\\programs\\\\python\\\\python39\\\\lib\\\\site-packages',\n",
       "   'c:\\\\users\\\\karti\\\\appdata\\\\local\\\\programs\\\\python\\\\python39\\\\lib\\\\site-packages\\\\win32',\n",
       "   'c:\\\\users\\\\karti\\\\appdata\\\\local\\\\programs\\\\python\\\\python39\\\\lib\\\\site-packages\\\\win32\\\\lib',\n",
       "   'c:\\\\users\\\\karti\\\\appdata\\\\local\\\\programs\\\\python\\\\python39\\\\lib\\\\site-packages\\\\Pythonwin',\n",
       "   'c:\\\\users\\\\karti\\\\appdata\\\\local\\\\programs\\\\python\\\\python39\\\\lib\\\\site-packages\\\\IPython\\\\extensions',\n",
       "   'C:\\\\Users\\\\karti\\\\.ipython',\n",
       "   '\\\\Users\\\\karti',\n",
       "   '\\\\Users\\\\karti',\n",
       "   '\\\\Users\\\\karti'],\n",
       "  52: ['C:\\\\Users\\\\karti\\\\pycode',\n",
       "   'c:\\\\users\\\\karti\\\\appdata\\\\local\\\\programs\\\\python\\\\python39\\\\python39.zip',\n",
       "   'c:\\\\users\\\\karti\\\\appdata\\\\local\\\\programs\\\\python\\\\python39\\\\DLLs',\n",
       "   'c:\\\\users\\\\karti\\\\appdata\\\\local\\\\programs\\\\python\\\\python39\\\\lib',\n",
       "   'c:\\\\users\\\\karti\\\\appdata\\\\local\\\\programs\\\\python\\\\python39',\n",
       "   '',\n",
       "   'C:\\\\Users\\\\karti\\\\AppData\\\\Roaming\\\\Python\\\\Python39\\\\site-packages',\n",
       "   'c:\\\\users\\\\karti\\\\appdata\\\\local\\\\programs\\\\python\\\\python39\\\\lib\\\\site-packages',\n",
       "   'c:\\\\users\\\\karti\\\\appdata\\\\local\\\\programs\\\\python\\\\python39\\\\lib\\\\site-packages\\\\win32',\n",
       "   'c:\\\\users\\\\karti\\\\appdata\\\\local\\\\programs\\\\python\\\\python39\\\\lib\\\\site-packages\\\\win32\\\\lib',\n",
       "   'c:\\\\users\\\\karti\\\\appdata\\\\local\\\\programs\\\\python\\\\python39\\\\lib\\\\site-packages\\\\Pythonwin',\n",
       "   'c:\\\\users\\\\karti\\\\appdata\\\\local\\\\programs\\\\python\\\\python39\\\\lib\\\\site-packages\\\\IPython\\\\extensions',\n",
       "   'C:\\\\Users\\\\karti\\\\.ipython',\n",
       "   '\\\\Users\\\\karti',\n",
       "   '\\\\Users\\\\karti',\n",
       "   '\\\\Users\\\\karti'],\n",
       "  53: ModuleSpec(name='module2', loader=<_frozen_importlib_external.SourceFileLoader object at 0x000001ED588999A0>, origin='\\\\Users\\\\karti\\\\module2.py'),\n",
       "  55: 'python',\n",
       "  59: False,\n",
       "  60: False,\n",
       "  62: False,\n",
       "  63: True,\n",
       "  64: <function cmath.exp(z, /)>,\n",
       "  65: 2118903378064,\n",
       "  66: True,\n",
       "  67: (-3.074932320639359+6.71884969742825j),\n",
       "  72: True,\n",
       "  73: (-3.074932320639359+6.71884969742825j),\n",
       "  74: (3.4209548611170133-1.5093064853236156j),\n",
       "  75: 3.141592653589793,\n",
       "  76: (-1.5656258353157435-3.2978948363112366j)},\n",
       " '_dh': ['C:\\\\Users\\\\karti\\\\pycode'],\n",
       " 'In': ['',\n",
       "  'import sys',\n",
       "  'sys',\n",
       "  'import collections',\n",
       "  'collections',\n",
       "  \"mod_name = 'math'\",\n",
       "  'import mode_name',\n",
       "  'import importlib',\n",
       "  'importlib',\n",
       "  'importlib.import_module(mod_name)',\n",
       "  \"'math' in sys.modules\",\n",
       "  \"'fractions' in sys.modules\",\n",
       "  'math.sqrt(2)',\n",
       "  \"'math' in globals()\",\n",
       "  \"# import math as math2\\n#math2 = sys.modules['math']\\nmath2 = importlib.import_module(mod_name)\",\n",
       "  \"'math2' in globals()\",\n",
       "  'id(math2)',\n",
       "  \"id(sys.modules['math'])\",\n",
       "  'math2.sqrt(2)',\n",
       "  'math2',\n",
       "  'importlib',\n",
       "  \"fractions = importlib.import_module('fractions')\",\n",
       "  'fractions',\n",
       "  'sys.meta_path',\n",
       "  'import math',\n",
       "  'math.__spec__',\n",
       "  \"importlib.util.find_spec('Decimal')\",\n",
       "  \"with open('module1.py', 'w') as code_file:\\n    code_file.write('print('running module1.py...')\\\\n')\\n    code_file.write('a = 100\\\\n')\",\n",
       "  'with open(\\'module1.py\\', \\'w\\') as code_file:\\n    code_file.write(\"print(\\'running module1.py...\\')\\\\n\")\\n    code_file.write(\\'a = 100\\\\n\\')',\n",
       "  \"importlib.util,find_spec('module1')\",\n",
       "  \"importlib.util.find_spec('module1')\",\n",
       "  'import module1',\n",
       "  'module1.a',\n",
       "  'import os',\n",
       "  \"ext_module_path = os.environ['HOMEPATH']\",\n",
       "  'ext_module_path',\n",
       "  'file_abs_path = os.path.join(ext_module_path, \\' module2.py\\')\\nwith open(file_abs_path, \\'w\\') as code_file:\\n    code_file.write(\"print(\\'running module2.py...\\')\\\\n\")\\n    code_file.write(\"x = \\'python\\'\\\\n\")',\n",
       "  'importlib.util.find_spec(module2)',\n",
       "  \"importlib.util.find_spec('module2')\",\n",
       "  'sys.path',\n",
       "  'sys.apth.append(ext_module_path)',\n",
       "  'sys.path.append(ext_module_path)',\n",
       "  'sys.path',\n",
       "  \"importlib.util.find_spec('module2')\",\n",
       "  'sys.path.append(ext_module_path)',\n",
       "  'sys.path',\n",
       "  \"importlib.util.find_spec('module2')\",\n",
       "  'import module2',\n",
       "  'file_abs_path = os.path.join(ext_module_path, \\'module2.py\\')\\nwith open(file_abs_path, \\'w\\') as code_file:\\n    code_file.write(\"print(\\'running module2.py...\\')\\\\n\")\\n    code_file.write(\"x = \\'python\\'\\\\n\")',\n",
       "  \"importlib.util.find_spec('module2')\",\n",
       "  'sys.path',\n",
       "  'sys.path.append(ext_module_path)',\n",
       "  'sys.path',\n",
       "  \"importlib.util.find_spec('module2')\",\n",
       "  'import module2',\n",
       "  'module2.x',\n",
       "  'import sys',\n",
       "  'for key in sorted(sys.modules.key()):\\n    print(key)',\n",
       "  'for key in sorted(sys.modules.keys()):\\n    print(key)',\n",
       "  \"'cmath' in sys.modules\",\n",
       "  \"'cmath' in globals()\",\n",
       "  'from cmath import exp',\n",
       "  \"'cmath' in globals()\",\n",
       "  \"'exp' in globals()\",\n",
       "  'exp',\n",
       "  'id(exp)',\n",
       "  \"'cmath' in sys.modules\",\n",
       "  'exp(2+2j)',\n",
       "  'cmath.exp()',\n",
       "  'cmath.sin()',\n",
       "  \"cmath = sys.modules('cmath')\",\n",
       "  \"cmath = sys.modules['cmath']\",\n",
       "  \"'cmath' in globals()\",\n",
       "  'cmath.exp(2+2j)',\n",
       "  'cmath.sin(2+2j)',\n",
       "  'cmath.pi',\n",
       "  'cmath.cos(2+2j)',\n",
       "  'from cmath import exp',\n",
       "  'from cmath import *',\n",
       "  'globals()'],\n",
       " 'Out': {2: <module 'sys' (built-in)>,\n",
       "  4: <module 'collections' from 'c:\\\\users\\\\karti\\\\appdata\\\\local\\\\programs\\\\python\\\\python39\\\\lib\\\\collections\\\\__init__.py'>,\n",
       "  8: <module 'importlib' from 'c:\\\\users\\\\karti\\\\appdata\\\\local\\\\programs\\\\python\\\\python39\\\\lib\\\\importlib\\\\__init__.py'>,\n",
       "  9: <module 'math' (built-in)>,\n",
       "  10: True,\n",
       "  11: False,\n",
       "  13: False,\n",
       "  15: True,\n",
       "  16: 2118843868400,\n",
       "  17: 2118843868400,\n",
       "  18: 1.4142135623730951,\n",
       "  19: <module 'math' (built-in)>,\n",
       "  20: <module 'importlib' from 'c:\\\\users\\\\karti\\\\appdata\\\\local\\\\programs\\\\python\\\\python39\\\\lib\\\\importlib\\\\__init__.py'>,\n",
       "  22: <module 'fractions' from 'c:\\\\users\\\\karti\\\\appdata\\\\local\\\\programs\\\\python\\\\python39\\\\lib\\\\fractions.py'>,\n",
       "  23: [_frozen_importlib.BuiltinImporter,\n",
       "   _frozen_importlib.FrozenImporter,\n",
       "   _frozen_importlib_external.PathFinder,\n",
       "   <six._SixMetaPathImporter at 0x1ed585b05b0>],\n",
       "  25: ModuleSpec(name='math', loader=<class '_frozen_importlib.BuiltinImporter'>, origin='built-in'),\n",
       "  30: ModuleSpec(name='module1', loader=<_frozen_importlib_external.SourceFileLoader object at 0x000001ED5878ABB0>, origin='C:\\\\Users\\\\karti\\\\pycode\\\\module1.py'),\n",
       "  32: 100,\n",
       "  35: '\\\\Users\\\\karti',\n",
       "  39: ['C:\\\\Users\\\\karti\\\\pycode',\n",
       "   'c:\\\\users\\\\karti\\\\appdata\\\\local\\\\programs\\\\python\\\\python39\\\\python39.zip',\n",
       "   'c:\\\\users\\\\karti\\\\appdata\\\\local\\\\programs\\\\python\\\\python39\\\\DLLs',\n",
       "   'c:\\\\users\\\\karti\\\\appdata\\\\local\\\\programs\\\\python\\\\python39\\\\lib',\n",
       "   'c:\\\\users\\\\karti\\\\appdata\\\\local\\\\programs\\\\python\\\\python39',\n",
       "   '',\n",
       "   'C:\\\\Users\\\\karti\\\\AppData\\\\Roaming\\\\Python\\\\Python39\\\\site-packages',\n",
       "   'c:\\\\users\\\\karti\\\\appdata\\\\local\\\\programs\\\\python\\\\python39\\\\lib\\\\site-packages',\n",
       "   'c:\\\\users\\\\karti\\\\appdata\\\\local\\\\programs\\\\python\\\\python39\\\\lib\\\\site-packages\\\\win32',\n",
       "   'c:\\\\users\\\\karti\\\\appdata\\\\local\\\\programs\\\\python\\\\python39\\\\lib\\\\site-packages\\\\win32\\\\lib',\n",
       "   'c:\\\\users\\\\karti\\\\appdata\\\\local\\\\programs\\\\python\\\\python39\\\\lib\\\\site-packages\\\\Pythonwin',\n",
       "   'c:\\\\users\\\\karti\\\\appdata\\\\local\\\\programs\\\\python\\\\python39\\\\lib\\\\site-packages\\\\IPython\\\\extensions',\n",
       "   'C:\\\\Users\\\\karti\\\\.ipython',\n",
       "   '\\\\Users\\\\karti',\n",
       "   '\\\\Users\\\\karti',\n",
       "   '\\\\Users\\\\karti'],\n",
       "  42: ['C:\\\\Users\\\\karti\\\\pycode',\n",
       "   'c:\\\\users\\\\karti\\\\appdata\\\\local\\\\programs\\\\python\\\\python39\\\\python39.zip',\n",
       "   'c:\\\\users\\\\karti\\\\appdata\\\\local\\\\programs\\\\python\\\\python39\\\\DLLs',\n",
       "   'c:\\\\users\\\\karti\\\\appdata\\\\local\\\\programs\\\\python\\\\python39\\\\lib',\n",
       "   'c:\\\\users\\\\karti\\\\appdata\\\\local\\\\programs\\\\python\\\\python39',\n",
       "   '',\n",
       "   'C:\\\\Users\\\\karti\\\\AppData\\\\Roaming\\\\Python\\\\Python39\\\\site-packages',\n",
       "   'c:\\\\users\\\\karti\\\\appdata\\\\local\\\\programs\\\\python\\\\python39\\\\lib\\\\site-packages',\n",
       "   'c:\\\\users\\\\karti\\\\appdata\\\\local\\\\programs\\\\python\\\\python39\\\\lib\\\\site-packages\\\\win32',\n",
       "   'c:\\\\users\\\\karti\\\\appdata\\\\local\\\\programs\\\\python\\\\python39\\\\lib\\\\site-packages\\\\win32\\\\lib',\n",
       "   'c:\\\\users\\\\karti\\\\appdata\\\\local\\\\programs\\\\python\\\\python39\\\\lib\\\\site-packages\\\\Pythonwin',\n",
       "   'c:\\\\users\\\\karti\\\\appdata\\\\local\\\\programs\\\\python\\\\python39\\\\lib\\\\site-packages\\\\IPython\\\\extensions',\n",
       "   'C:\\\\Users\\\\karti\\\\.ipython',\n",
       "   '\\\\Users\\\\karti',\n",
       "   '\\\\Users\\\\karti',\n",
       "   '\\\\Users\\\\karti'],\n",
       "  45: ['C:\\\\Users\\\\karti\\\\pycode',\n",
       "   'c:\\\\users\\\\karti\\\\appdata\\\\local\\\\programs\\\\python\\\\python39\\\\python39.zip',\n",
       "   'c:\\\\users\\\\karti\\\\appdata\\\\local\\\\programs\\\\python\\\\python39\\\\DLLs',\n",
       "   'c:\\\\users\\\\karti\\\\appdata\\\\local\\\\programs\\\\python\\\\python39\\\\lib',\n",
       "   'c:\\\\users\\\\karti\\\\appdata\\\\local\\\\programs\\\\python\\\\python39',\n",
       "   '',\n",
       "   'C:\\\\Users\\\\karti\\\\AppData\\\\Roaming\\\\Python\\\\Python39\\\\site-packages',\n",
       "   'c:\\\\users\\\\karti\\\\appdata\\\\local\\\\programs\\\\python\\\\python39\\\\lib\\\\site-packages',\n",
       "   'c:\\\\users\\\\karti\\\\appdata\\\\local\\\\programs\\\\python\\\\python39\\\\lib\\\\site-packages\\\\win32',\n",
       "   'c:\\\\users\\\\karti\\\\appdata\\\\local\\\\programs\\\\python\\\\python39\\\\lib\\\\site-packages\\\\win32\\\\lib',\n",
       "   'c:\\\\users\\\\karti\\\\appdata\\\\local\\\\programs\\\\python\\\\python39\\\\lib\\\\site-packages\\\\Pythonwin',\n",
       "   'c:\\\\users\\\\karti\\\\appdata\\\\local\\\\programs\\\\python\\\\python39\\\\lib\\\\site-packages\\\\IPython\\\\extensions',\n",
       "   'C:\\\\Users\\\\karti\\\\.ipython',\n",
       "   '\\\\Users\\\\karti',\n",
       "   '\\\\Users\\\\karti',\n",
       "   '\\\\Users\\\\karti'],\n",
       "  49: ModuleSpec(name='module2', loader=<_frozen_importlib_external.SourceFileLoader object at 0x000001ED58899E80>, origin='\\\\Users\\\\karti\\\\module2.py'),\n",
       "  50: ['C:\\\\Users\\\\karti\\\\pycode',\n",
       "   'c:\\\\users\\\\karti\\\\appdata\\\\local\\\\programs\\\\python\\\\python39\\\\python39.zip',\n",
       "   'c:\\\\users\\\\karti\\\\appdata\\\\local\\\\programs\\\\python\\\\python39\\\\DLLs',\n",
       "   'c:\\\\users\\\\karti\\\\appdata\\\\local\\\\programs\\\\python\\\\python39\\\\lib',\n",
       "   'c:\\\\users\\\\karti\\\\appdata\\\\local\\\\programs\\\\python\\\\python39',\n",
       "   '',\n",
       "   'C:\\\\Users\\\\karti\\\\AppData\\\\Roaming\\\\Python\\\\Python39\\\\site-packages',\n",
       "   'c:\\\\users\\\\karti\\\\appdata\\\\local\\\\programs\\\\python\\\\python39\\\\lib\\\\site-packages',\n",
       "   'c:\\\\users\\\\karti\\\\appdata\\\\local\\\\programs\\\\python\\\\python39\\\\lib\\\\site-packages\\\\win32',\n",
       "   'c:\\\\users\\\\karti\\\\appdata\\\\local\\\\programs\\\\python\\\\python39\\\\lib\\\\site-packages\\\\win32\\\\lib',\n",
       "   'c:\\\\users\\\\karti\\\\appdata\\\\local\\\\programs\\\\python\\\\python39\\\\lib\\\\site-packages\\\\Pythonwin',\n",
       "   'c:\\\\users\\\\karti\\\\appdata\\\\local\\\\programs\\\\python\\\\python39\\\\lib\\\\site-packages\\\\IPython\\\\extensions',\n",
       "   'C:\\\\Users\\\\karti\\\\.ipython',\n",
       "   '\\\\Users\\\\karti',\n",
       "   '\\\\Users\\\\karti',\n",
       "   '\\\\Users\\\\karti'],\n",
       "  52: ['C:\\\\Users\\\\karti\\\\pycode',\n",
       "   'c:\\\\users\\\\karti\\\\appdata\\\\local\\\\programs\\\\python\\\\python39\\\\python39.zip',\n",
       "   'c:\\\\users\\\\karti\\\\appdata\\\\local\\\\programs\\\\python\\\\python39\\\\DLLs',\n",
       "   'c:\\\\users\\\\karti\\\\appdata\\\\local\\\\programs\\\\python\\\\python39\\\\lib',\n",
       "   'c:\\\\users\\\\karti\\\\appdata\\\\local\\\\programs\\\\python\\\\python39',\n",
       "   '',\n",
       "   'C:\\\\Users\\\\karti\\\\AppData\\\\Roaming\\\\Python\\\\Python39\\\\site-packages',\n",
       "   'c:\\\\users\\\\karti\\\\appdata\\\\local\\\\programs\\\\python\\\\python39\\\\lib\\\\site-packages',\n",
       "   'c:\\\\users\\\\karti\\\\appdata\\\\local\\\\programs\\\\python\\\\python39\\\\lib\\\\site-packages\\\\win32',\n",
       "   'c:\\\\users\\\\karti\\\\appdata\\\\local\\\\programs\\\\python\\\\python39\\\\lib\\\\site-packages\\\\win32\\\\lib',\n",
       "   'c:\\\\users\\\\karti\\\\appdata\\\\local\\\\programs\\\\python\\\\python39\\\\lib\\\\site-packages\\\\Pythonwin',\n",
       "   'c:\\\\users\\\\karti\\\\appdata\\\\local\\\\programs\\\\python\\\\python39\\\\lib\\\\site-packages\\\\IPython\\\\extensions',\n",
       "   'C:\\\\Users\\\\karti\\\\.ipython',\n",
       "   '\\\\Users\\\\karti',\n",
       "   '\\\\Users\\\\karti',\n",
       "   '\\\\Users\\\\karti'],\n",
       "  53: ModuleSpec(name='module2', loader=<_frozen_importlib_external.SourceFileLoader object at 0x000001ED588999A0>, origin='\\\\Users\\\\karti\\\\module2.py'),\n",
       "  55: 'python',\n",
       "  59: False,\n",
       "  60: False,\n",
       "  62: False,\n",
       "  63: True,\n",
       "  64: <function cmath.exp(z, /)>,\n",
       "  65: 2118903378064,\n",
       "  66: True,\n",
       "  67: (-3.074932320639359+6.71884969742825j),\n",
       "  72: True,\n",
       "  73: (-3.074932320639359+6.71884969742825j),\n",
       "  74: (3.4209548611170133-1.5093064853236156j),\n",
       "  75: 3.141592653589793,\n",
       "  76: (-1.5656258353157435-3.2978948363112366j)},\n",
       " 'get_ipython': <bound method InteractiveShell.get_ipython of <ipykernel.zmqshell.ZMQInteractiveShell object at 0x000001ED586E8A60>>,\n",
       " 'exit': <IPython.core.autocall.ZMQExitAutocall at 0x1ed587372e0>,\n",
       " 'quit': <IPython.core.autocall.ZMQExitAutocall at 0x1ed587372e0>,\n",
       " '_': (-1.5656258353157435-3.2978948363112366j),\n",
       " '__': 3.141592653589793,\n",
       " '___': (3.4209548611170133-1.5093064853236156j),\n",
       " '_i': 'from cmath import *',\n",
       " '_ii': 'from cmath import exp',\n",
       " '_iii': 'cmath.cos(2+2j)',\n",
       " '_i1': 'import sys',\n",
       " 'sys': <module 'sys' (built-in)>,\n",
       " '_i2': 'sys',\n",
       " '_2': <module 'sys' (built-in)>,\n",
       " '_i3': 'import collections',\n",
       " 'collections': <module 'collections' from 'c:\\\\users\\\\karti\\\\appdata\\\\local\\\\programs\\\\python\\\\python39\\\\lib\\\\collections\\\\__init__.py'>,\n",
       " '_i4': 'collections',\n",
       " '_4': <module 'collections' from 'c:\\\\users\\\\karti\\\\appdata\\\\local\\\\programs\\\\python\\\\python39\\\\lib\\\\collections\\\\__init__.py'>,\n",
       " '_i5': \"mod_name = 'math'\",\n",
       " 'mod_name': 'math',\n",
       " '_i6': 'import mode_name',\n",
       " '_i7': 'import importlib',\n",
       " 'importlib': <module 'importlib' from 'c:\\\\users\\\\karti\\\\appdata\\\\local\\\\programs\\\\python\\\\python39\\\\lib\\\\importlib\\\\__init__.py'>,\n",
       " '_i8': 'importlib',\n",
       " '_8': <module 'importlib' from 'c:\\\\users\\\\karti\\\\appdata\\\\local\\\\programs\\\\python\\\\python39\\\\lib\\\\importlib\\\\__init__.py'>,\n",
       " '_i9': 'importlib.import_module(mod_name)',\n",
       " '_9': <module 'math' (built-in)>,\n",
       " '_i10': \"'math' in sys.modules\",\n",
       " '_10': True,\n",
       " '_i11': \"'fractions' in sys.modules\",\n",
       " '_11': False,\n",
       " '_i12': 'math.sqrt(2)',\n",
       " '_i13': \"'math' in globals()\",\n",
       " '_13': False,\n",
       " '_i14': \"# import math as math2\\n#math2 = sys.modules['math']\\nmath2 = importlib.import_module(mod_name)\",\n",
       " 'math2': <module 'math' (built-in)>,\n",
       " '_i15': \"'math2' in globals()\",\n",
       " '_15': True,\n",
       " '_i16': 'id(math2)',\n",
       " '_16': 2118843868400,\n",
       " '_i17': \"id(sys.modules['math'])\",\n",
       " '_17': 2118843868400,\n",
       " '_i18': 'math2.sqrt(2)',\n",
       " '_18': 1.4142135623730951,\n",
       " '_i19': 'math2',\n",
       " '_19': <module 'math' (built-in)>,\n",
       " '_i20': 'importlib',\n",
       " '_20': <module 'importlib' from 'c:\\\\users\\\\karti\\\\appdata\\\\local\\\\programs\\\\python\\\\python39\\\\lib\\\\importlib\\\\__init__.py'>,\n",
       " '_i21': \"fractions = importlib.import_module('fractions')\",\n",
       " 'fractions': <module 'fractions' from 'c:\\\\users\\\\karti\\\\appdata\\\\local\\\\programs\\\\python\\\\python39\\\\lib\\\\fractions.py'>,\n",
       " '_i22': 'fractions',\n",
       " '_22': <module 'fractions' from 'c:\\\\users\\\\karti\\\\appdata\\\\local\\\\programs\\\\python\\\\python39\\\\lib\\\\fractions.py'>,\n",
       " '_i23': 'sys.meta_path',\n",
       " '_23': [_frozen_importlib.BuiltinImporter,\n",
       "  _frozen_importlib.FrozenImporter,\n",
       "  _frozen_importlib_external.PathFinder,\n",
       "  <six._SixMetaPathImporter at 0x1ed585b05b0>],\n",
       " '_i24': 'import math',\n",
       " 'math': <module 'math' (built-in)>,\n",
       " '_i25': 'math.__spec__',\n",
       " '_25': ModuleSpec(name='math', loader=<class '_frozen_importlib.BuiltinImporter'>, origin='built-in'),\n",
       " '_i26': \"importlib.util.find_spec('Decimal')\",\n",
       " '_i27': \"with open('module1.py', 'w') as code_file:\\n    code_file.write('print('running module1.py...')\\\\n')\\n    code_file.write('a = 100\\\\n')\",\n",
       " '_i28': 'with open(\\'module1.py\\', \\'w\\') as code_file:\\n    code_file.write(\"print(\\'running module1.py...\\')\\\\n\")\\n    code_file.write(\\'a = 100\\\\n\\')',\n",
       " 'code_file': <_io.TextIOWrapper name='\\\\Users\\\\karti\\\\module2.py' mode='w' encoding='cp1252'>,\n",
       " '_i29': \"importlib.util,find_spec('module1')\",\n",
       " '_i30': \"importlib.util.find_spec('module1')\",\n",
       " '_30': ModuleSpec(name='module1', loader=<_frozen_importlib_external.SourceFileLoader object at 0x000001ED5878ABB0>, origin='C:\\\\Users\\\\karti\\\\pycode\\\\module1.py'),\n",
       " '_i31': 'import module1',\n",
       " 'module1': <module 'module1' from 'C:\\\\Users\\\\karti\\\\pycode\\\\module1.py'>,\n",
       " '_i32': 'module1.a',\n",
       " '_32': 100,\n",
       " '_i33': 'import os',\n",
       " 'os': <module 'os' from 'c:\\\\users\\\\karti\\\\appdata\\\\local\\\\programs\\\\python\\\\python39\\\\lib\\\\os.py'>,\n",
       " '_i34': \"ext_module_path = os.environ['HOMEPATH']\",\n",
       " 'ext_module_path': '\\\\Users\\\\karti',\n",
       " '_i35': 'ext_module_path',\n",
       " '_35': '\\\\Users\\\\karti',\n",
       " '_i36': 'file_abs_path = os.path.join(ext_module_path, \\' module2.py\\')\\nwith open(file_abs_path, \\'w\\') as code_file:\\n    code_file.write(\"print(\\'running module2.py...\\')\\\\n\")\\n    code_file.write(\"x = \\'python\\'\\\\n\")',\n",
       " 'file_abs_path': '\\\\Users\\\\karti\\\\module2.py',\n",
       " '_i37': 'importlib.util.find_spec(module2)',\n",
       " '_i38': \"importlib.util.find_spec('module2')\",\n",
       " '_i39': 'sys.path',\n",
       " '_39': ['C:\\\\Users\\\\karti\\\\pycode',\n",
       "  'c:\\\\users\\\\karti\\\\appdata\\\\local\\\\programs\\\\python\\\\python39\\\\python39.zip',\n",
       "  'c:\\\\users\\\\karti\\\\appdata\\\\local\\\\programs\\\\python\\\\python39\\\\DLLs',\n",
       "  'c:\\\\users\\\\karti\\\\appdata\\\\local\\\\programs\\\\python\\\\python39\\\\lib',\n",
       "  'c:\\\\users\\\\karti\\\\appdata\\\\local\\\\programs\\\\python\\\\python39',\n",
       "  '',\n",
       "  'C:\\\\Users\\\\karti\\\\AppData\\\\Roaming\\\\Python\\\\Python39\\\\site-packages',\n",
       "  'c:\\\\users\\\\karti\\\\appdata\\\\local\\\\programs\\\\python\\\\python39\\\\lib\\\\site-packages',\n",
       "  'c:\\\\users\\\\karti\\\\appdata\\\\local\\\\programs\\\\python\\\\python39\\\\lib\\\\site-packages\\\\win32',\n",
       "  'c:\\\\users\\\\karti\\\\appdata\\\\local\\\\programs\\\\python\\\\python39\\\\lib\\\\site-packages\\\\win32\\\\lib',\n",
       "  'c:\\\\users\\\\karti\\\\appdata\\\\local\\\\programs\\\\python\\\\python39\\\\lib\\\\site-packages\\\\Pythonwin',\n",
       "  'c:\\\\users\\\\karti\\\\appdata\\\\local\\\\programs\\\\python\\\\python39\\\\lib\\\\site-packages\\\\IPython\\\\extensions',\n",
       "  'C:\\\\Users\\\\karti\\\\.ipython',\n",
       "  '\\\\Users\\\\karti',\n",
       "  '\\\\Users\\\\karti',\n",
       "  '\\\\Users\\\\karti'],\n",
       " '_i40': 'sys.apth.append(ext_module_path)',\n",
       " '_i41': 'sys.path.append(ext_module_path)',\n",
       " '_i42': 'sys.path',\n",
       " '_42': ['C:\\\\Users\\\\karti\\\\pycode',\n",
       "  'c:\\\\users\\\\karti\\\\appdata\\\\local\\\\programs\\\\python\\\\python39\\\\python39.zip',\n",
       "  'c:\\\\users\\\\karti\\\\appdata\\\\local\\\\programs\\\\python\\\\python39\\\\DLLs',\n",
       "  'c:\\\\users\\\\karti\\\\appdata\\\\local\\\\programs\\\\python\\\\python39\\\\lib',\n",
       "  'c:\\\\users\\\\karti\\\\appdata\\\\local\\\\programs\\\\python\\\\python39',\n",
       "  '',\n",
       "  'C:\\\\Users\\\\karti\\\\AppData\\\\Roaming\\\\Python\\\\Python39\\\\site-packages',\n",
       "  'c:\\\\users\\\\karti\\\\appdata\\\\local\\\\programs\\\\python\\\\python39\\\\lib\\\\site-packages',\n",
       "  'c:\\\\users\\\\karti\\\\appdata\\\\local\\\\programs\\\\python\\\\python39\\\\lib\\\\site-packages\\\\win32',\n",
       "  'c:\\\\users\\\\karti\\\\appdata\\\\local\\\\programs\\\\python\\\\python39\\\\lib\\\\site-packages\\\\win32\\\\lib',\n",
       "  'c:\\\\users\\\\karti\\\\appdata\\\\local\\\\programs\\\\python\\\\python39\\\\lib\\\\site-packages\\\\Pythonwin',\n",
       "  'c:\\\\users\\\\karti\\\\appdata\\\\local\\\\programs\\\\python\\\\python39\\\\lib\\\\site-packages\\\\IPython\\\\extensions',\n",
       "  'C:\\\\Users\\\\karti\\\\.ipython',\n",
       "  '\\\\Users\\\\karti',\n",
       "  '\\\\Users\\\\karti',\n",
       "  '\\\\Users\\\\karti'],\n",
       " '_i43': \"importlib.util.find_spec('module2')\",\n",
       " '_i44': 'sys.path.append(ext_module_path)',\n",
       " '_i45': 'sys.path',\n",
       " '_45': ['C:\\\\Users\\\\karti\\\\pycode',\n",
       "  'c:\\\\users\\\\karti\\\\appdata\\\\local\\\\programs\\\\python\\\\python39\\\\python39.zip',\n",
       "  'c:\\\\users\\\\karti\\\\appdata\\\\local\\\\programs\\\\python\\\\python39\\\\DLLs',\n",
       "  'c:\\\\users\\\\karti\\\\appdata\\\\local\\\\programs\\\\python\\\\python39\\\\lib',\n",
       "  'c:\\\\users\\\\karti\\\\appdata\\\\local\\\\programs\\\\python\\\\python39',\n",
       "  '',\n",
       "  'C:\\\\Users\\\\karti\\\\AppData\\\\Roaming\\\\Python\\\\Python39\\\\site-packages',\n",
       "  'c:\\\\users\\\\karti\\\\appdata\\\\local\\\\programs\\\\python\\\\python39\\\\lib\\\\site-packages',\n",
       "  'c:\\\\users\\\\karti\\\\appdata\\\\local\\\\programs\\\\python\\\\python39\\\\lib\\\\site-packages\\\\win32',\n",
       "  'c:\\\\users\\\\karti\\\\appdata\\\\local\\\\programs\\\\python\\\\python39\\\\lib\\\\site-packages\\\\win32\\\\lib',\n",
       "  'c:\\\\users\\\\karti\\\\appdata\\\\local\\\\programs\\\\python\\\\python39\\\\lib\\\\site-packages\\\\Pythonwin',\n",
       "  'c:\\\\users\\\\karti\\\\appdata\\\\local\\\\programs\\\\python\\\\python39\\\\lib\\\\site-packages\\\\IPython\\\\extensions',\n",
       "  'C:\\\\Users\\\\karti\\\\.ipython',\n",
       "  '\\\\Users\\\\karti',\n",
       "  '\\\\Users\\\\karti',\n",
       "  '\\\\Users\\\\karti'],\n",
       " '_i46': \"importlib.util.find_spec('module2')\",\n",
       " '_i47': 'import module2',\n",
       " '_i48': 'file_abs_path = os.path.join(ext_module_path, \\'module2.py\\')\\nwith open(file_abs_path, \\'w\\') as code_file:\\n    code_file.write(\"print(\\'running module2.py...\\')\\\\n\")\\n    code_file.write(\"x = \\'python\\'\\\\n\")',\n",
       " '_i49': \"importlib.util.find_spec('module2')\",\n",
       " '_49': ModuleSpec(name='module2', loader=<_frozen_importlib_external.SourceFileLoader object at 0x000001ED58899E80>, origin='\\\\Users\\\\karti\\\\module2.py'),\n",
       " '_i50': 'sys.path',\n",
       " '_50': ['C:\\\\Users\\\\karti\\\\pycode',\n",
       "  'c:\\\\users\\\\karti\\\\appdata\\\\local\\\\programs\\\\python\\\\python39\\\\python39.zip',\n",
       "  'c:\\\\users\\\\karti\\\\appdata\\\\local\\\\programs\\\\python\\\\python39\\\\DLLs',\n",
       "  'c:\\\\users\\\\karti\\\\appdata\\\\local\\\\programs\\\\python\\\\python39\\\\lib',\n",
       "  'c:\\\\users\\\\karti\\\\appdata\\\\local\\\\programs\\\\python\\\\python39',\n",
       "  '',\n",
       "  'C:\\\\Users\\\\karti\\\\AppData\\\\Roaming\\\\Python\\\\Python39\\\\site-packages',\n",
       "  'c:\\\\users\\\\karti\\\\appdata\\\\local\\\\programs\\\\python\\\\python39\\\\lib\\\\site-packages',\n",
       "  'c:\\\\users\\\\karti\\\\appdata\\\\local\\\\programs\\\\python\\\\python39\\\\lib\\\\site-packages\\\\win32',\n",
       "  'c:\\\\users\\\\karti\\\\appdata\\\\local\\\\programs\\\\python\\\\python39\\\\lib\\\\site-packages\\\\win32\\\\lib',\n",
       "  'c:\\\\users\\\\karti\\\\appdata\\\\local\\\\programs\\\\python\\\\python39\\\\lib\\\\site-packages\\\\Pythonwin',\n",
       "  'c:\\\\users\\\\karti\\\\appdata\\\\local\\\\programs\\\\python\\\\python39\\\\lib\\\\site-packages\\\\IPython\\\\extensions',\n",
       "  'C:\\\\Users\\\\karti\\\\.ipython',\n",
       "  '\\\\Users\\\\karti',\n",
       "  '\\\\Users\\\\karti',\n",
       "  '\\\\Users\\\\karti'],\n",
       " '_i51': 'sys.path.append(ext_module_path)',\n",
       " '_i52': 'sys.path',\n",
       " '_52': ['C:\\\\Users\\\\karti\\\\pycode',\n",
       "  'c:\\\\users\\\\karti\\\\appdata\\\\local\\\\programs\\\\python\\\\python39\\\\python39.zip',\n",
       "  'c:\\\\users\\\\karti\\\\appdata\\\\local\\\\programs\\\\python\\\\python39\\\\DLLs',\n",
       "  'c:\\\\users\\\\karti\\\\appdata\\\\local\\\\programs\\\\python\\\\python39\\\\lib',\n",
       "  'c:\\\\users\\\\karti\\\\appdata\\\\local\\\\programs\\\\python\\\\python39',\n",
       "  '',\n",
       "  'C:\\\\Users\\\\karti\\\\AppData\\\\Roaming\\\\Python\\\\Python39\\\\site-packages',\n",
       "  'c:\\\\users\\\\karti\\\\appdata\\\\local\\\\programs\\\\python\\\\python39\\\\lib\\\\site-packages',\n",
       "  'c:\\\\users\\\\karti\\\\appdata\\\\local\\\\programs\\\\python\\\\python39\\\\lib\\\\site-packages\\\\win32',\n",
       "  'c:\\\\users\\\\karti\\\\appdata\\\\local\\\\programs\\\\python\\\\python39\\\\lib\\\\site-packages\\\\win32\\\\lib',\n",
       "  'c:\\\\users\\\\karti\\\\appdata\\\\local\\\\programs\\\\python\\\\python39\\\\lib\\\\site-packages\\\\Pythonwin',\n",
       "  'c:\\\\users\\\\karti\\\\appdata\\\\local\\\\programs\\\\python\\\\python39\\\\lib\\\\site-packages\\\\IPython\\\\extensions',\n",
       "  'C:\\\\Users\\\\karti\\\\.ipython',\n",
       "  '\\\\Users\\\\karti',\n",
       "  '\\\\Users\\\\karti',\n",
       "  '\\\\Users\\\\karti'],\n",
       " '_i53': \"importlib.util.find_spec('module2')\",\n",
       " '_53': ModuleSpec(name='module2', loader=<_frozen_importlib_external.SourceFileLoader object at 0x000001ED588999A0>, origin='\\\\Users\\\\karti\\\\module2.py'),\n",
       " '_i54': 'import module2',\n",
       " 'module2': <module 'module2' from '\\\\Users\\\\karti\\\\module2.py'>,\n",
       " '_i55': 'module2.x',\n",
       " '_55': 'python',\n",
       " '_i56': 'import sys',\n",
       " '_i57': 'for key in sorted(sys.modules.key()):\\n    print(key)',\n",
       " '_i58': 'for key in sorted(sys.modules.keys()):\\n    print(key)',\n",
       " 'key': 'zmq.utils.strtypes',\n",
       " '_i59': \"'cmath' in sys.modules\",\n",
       " '_59': False,\n",
       " '_i60': \"'cmath' in globals()\",\n",
       " '_60': False,\n",
       " '_i61': 'from cmath import exp',\n",
       " 'exp': <function cmath.exp(z, /)>,\n",
       " '_i62': \"'cmath' in globals()\",\n",
       " '_62': False,\n",
       " '_i63': \"'exp' in globals()\",\n",
       " '_63': True,\n",
       " '_i64': 'exp',\n",
       " '_64': <function cmath.exp(z, /)>,\n",
       " '_i65': 'id(exp)',\n",
       " '_65': 2118903378064,\n",
       " '_i66': \"'cmath' in sys.modules\",\n",
       " '_66': True,\n",
       " '_i67': 'exp(2+2j)',\n",
       " '_67': (-3.074932320639359+6.71884969742825j),\n",
       " '_i68': 'cmath.exp()',\n",
       " '_i69': 'cmath.sin()',\n",
       " '_i70': \"cmath = sys.modules('cmath')\",\n",
       " '_i71': \"cmath = sys.modules['cmath']\",\n",
       " 'cmath': <module 'cmath' (built-in)>,\n",
       " '_i72': \"'cmath' in globals()\",\n",
       " '_72': True,\n",
       " '_i73': 'cmath.exp(2+2j)',\n",
       " '_73': (-3.074932320639359+6.71884969742825j),\n",
       " '_i74': 'cmath.sin(2+2j)',\n",
       " '_74': (3.4209548611170133-1.5093064853236156j),\n",
       " '_i75': 'cmath.pi',\n",
       " '_75': 3.141592653589793,\n",
       " '_i76': 'cmath.cos(2+2j)',\n",
       " '_76': (-1.5656258353157435-3.2978948363112366j),\n",
       " '_i77': 'from cmath import exp',\n",
       " '_i78': 'from cmath import *',\n",
       " 'acos': <function cmath.acos(z, /)>,\n",
       " 'acosh': <function cmath.acosh(z, /)>,\n",
       " 'asin': <function cmath.asin(z, /)>,\n",
       " 'asinh': <function cmath.asinh(z, /)>,\n",
       " 'atan': <function cmath.atan(z, /)>,\n",
       " 'atanh': <function cmath.atanh(z, /)>,\n",
       " 'cos': <function cmath.cos(z, /)>,\n",
       " 'cosh': <function cmath.cosh(z, /)>,\n",
       " 'isclose': <function cmath.isclose(a, b, *, rel_tol=1e-09, abs_tol=0.0)>,\n",
       " 'isfinite': <function cmath.isfinite(z, /)>,\n",
       " 'isinf': <function cmath.isinf(z, /)>,\n",
       " 'isnan': <function cmath.isnan(z, /)>,\n",
       " 'log': <function cmath.log>,\n",
       " 'log10': <function cmath.log10(z, /)>,\n",
       " 'phase': <function cmath.phase(z, /)>,\n",
       " 'polar': <function cmath.polar(z, /)>,\n",
       " 'rect': <function cmath.rect(r, phi, /)>,\n",
       " 'sin': <function cmath.sin(z, /)>,\n",
       " 'sinh': <function cmath.sinh(z, /)>,\n",
       " 'sqrt': <function cmath.sqrt(z, /)>,\n",
       " 'tan': <function cmath.tan(z, /)>,\n",
       " 'tanh': <function cmath.tanh(z, /)>,\n",
       " 'pi': 3.141592653589793,\n",
       " 'e': 2.718281828459045,\n",
       " 'tau': 6.283185307179586,\n",
       " 'inf': inf,\n",
       " 'infj': infj,\n",
       " 'nan': nan,\n",
       " 'nanj': nanj,\n",
       " '_i79': 'globals()'}"
      ]
     },
     "execution_count": 79,
     "metadata": {},
     "output_type": "execute_result"
    }
   ],
   "source": [
    "globals()"
   ]
  },
  {
   "cell_type": "code",
   "execution_count": 80,
   "metadata": {},
   "outputs": [
    {
     "data": {
      "text/plain": [
       "(3.4209548611170133-1.5093064853236156j)"
      ]
     },
     "execution_count": 80,
     "metadata": {},
     "output_type": "execute_result"
    }
   ],
   "source": [
    "sin(2+2j)"
   ]
  },
  {
   "cell_type": "code",
   "execution_count": 81,
   "metadata": {},
   "outputs": [],
   "source": [
    "from math import *"
   ]
  },
  {
   "cell_type": "code",
   "execution_count": 82,
   "metadata": {},
   "outputs": [
    {
     "data": {
      "text/plain": [
       "{'__name__': '__main__',\n",
       " '__doc__': 'Automatically created module for IPython interactive environment',\n",
       " '__package__': None,\n",
       " '__loader__': None,\n",
       " '__spec__': None,\n",
       " '__builtin__': <module 'builtins' (built-in)>,\n",
       " '__builtins__': <module 'builtins' (built-in)>,\n",
       " '_ih': ['',\n",
       "  'import sys',\n",
       "  'sys',\n",
       "  'import collections',\n",
       "  'collections',\n",
       "  \"mod_name = 'math'\",\n",
       "  'import mode_name',\n",
       "  'import importlib',\n",
       "  'importlib',\n",
       "  'importlib.import_module(mod_name)',\n",
       "  \"'math' in sys.modules\",\n",
       "  \"'fractions' in sys.modules\",\n",
       "  'math.sqrt(2)',\n",
       "  \"'math' in globals()\",\n",
       "  \"# import math as math2\\n#math2 = sys.modules['math']\\nmath2 = importlib.import_module(mod_name)\",\n",
       "  \"'math2' in globals()\",\n",
       "  'id(math2)',\n",
       "  \"id(sys.modules['math'])\",\n",
       "  'math2.sqrt(2)',\n",
       "  'math2',\n",
       "  'importlib',\n",
       "  \"fractions = importlib.import_module('fractions')\",\n",
       "  'fractions',\n",
       "  'sys.meta_path',\n",
       "  'import math',\n",
       "  'math.__spec__',\n",
       "  \"importlib.util.find_spec('Decimal')\",\n",
       "  \"with open('module1.py', 'w') as code_file:\\n    code_file.write('print('running module1.py...')\\\\n')\\n    code_file.write('a = 100\\\\n')\",\n",
       "  'with open(\\'module1.py\\', \\'w\\') as code_file:\\n    code_file.write(\"print(\\'running module1.py...\\')\\\\n\")\\n    code_file.write(\\'a = 100\\\\n\\')',\n",
       "  \"importlib.util,find_spec('module1')\",\n",
       "  \"importlib.util.find_spec('module1')\",\n",
       "  'import module1',\n",
       "  'module1.a',\n",
       "  'import os',\n",
       "  \"ext_module_path = os.environ['HOMEPATH']\",\n",
       "  'ext_module_path',\n",
       "  'file_abs_path = os.path.join(ext_module_path, \\' module2.py\\')\\nwith open(file_abs_path, \\'w\\') as code_file:\\n    code_file.write(\"print(\\'running module2.py...\\')\\\\n\")\\n    code_file.write(\"x = \\'python\\'\\\\n\")',\n",
       "  'importlib.util.find_spec(module2)',\n",
       "  \"importlib.util.find_spec('module2')\",\n",
       "  'sys.path',\n",
       "  'sys.apth.append(ext_module_path)',\n",
       "  'sys.path.append(ext_module_path)',\n",
       "  'sys.path',\n",
       "  \"importlib.util.find_spec('module2')\",\n",
       "  'sys.path.append(ext_module_path)',\n",
       "  'sys.path',\n",
       "  \"importlib.util.find_spec('module2')\",\n",
       "  'import module2',\n",
       "  'file_abs_path = os.path.join(ext_module_path, \\'module2.py\\')\\nwith open(file_abs_path, \\'w\\') as code_file:\\n    code_file.write(\"print(\\'running module2.py...\\')\\\\n\")\\n    code_file.write(\"x = \\'python\\'\\\\n\")',\n",
       "  \"importlib.util.find_spec('module2')\",\n",
       "  'sys.path',\n",
       "  'sys.path.append(ext_module_path)',\n",
       "  'sys.path',\n",
       "  \"importlib.util.find_spec('module2')\",\n",
       "  'import module2',\n",
       "  'module2.x',\n",
       "  'import sys',\n",
       "  'for key in sorted(sys.modules.key()):\\n    print(key)',\n",
       "  'for key in sorted(sys.modules.keys()):\\n    print(key)',\n",
       "  \"'cmath' in sys.modules\",\n",
       "  \"'cmath' in globals()\",\n",
       "  'from cmath import exp',\n",
       "  \"'cmath' in globals()\",\n",
       "  \"'exp' in globals()\",\n",
       "  'exp',\n",
       "  'id(exp)',\n",
       "  \"'cmath' in sys.modules\",\n",
       "  'exp(2+2j)',\n",
       "  'cmath.exp()',\n",
       "  'cmath.sin()',\n",
       "  \"cmath = sys.modules('cmath')\",\n",
       "  \"cmath = sys.modules['cmath']\",\n",
       "  \"'cmath' in globals()\",\n",
       "  'cmath.exp(2+2j)',\n",
       "  'cmath.sin(2+2j)',\n",
       "  'cmath.pi',\n",
       "  'cmath.cos(2+2j)',\n",
       "  'from cmath import exp',\n",
       "  'from cmath import *',\n",
       "  'globals()',\n",
       "  'sin(2+2j)',\n",
       "  'from math import *',\n",
       "  'globals()'],\n",
       " '_oh': {2: <module 'sys' (built-in)>,\n",
       "  4: <module 'collections' from 'c:\\\\users\\\\karti\\\\appdata\\\\local\\\\programs\\\\python\\\\python39\\\\lib\\\\collections\\\\__init__.py'>,\n",
       "  8: <module 'importlib' from 'c:\\\\users\\\\karti\\\\appdata\\\\local\\\\programs\\\\python\\\\python39\\\\lib\\\\importlib\\\\__init__.py'>,\n",
       "  9: <module 'math' (built-in)>,\n",
       "  10: True,\n",
       "  11: False,\n",
       "  13: False,\n",
       "  15: True,\n",
       "  16: 2118843868400,\n",
       "  17: 2118843868400,\n",
       "  18: 1.4142135623730951,\n",
       "  19: <module 'math' (built-in)>,\n",
       "  20: <module 'importlib' from 'c:\\\\users\\\\karti\\\\appdata\\\\local\\\\programs\\\\python\\\\python39\\\\lib\\\\importlib\\\\__init__.py'>,\n",
       "  22: <module 'fractions' from 'c:\\\\users\\\\karti\\\\appdata\\\\local\\\\programs\\\\python\\\\python39\\\\lib\\\\fractions.py'>,\n",
       "  23: [_frozen_importlib.BuiltinImporter,\n",
       "   _frozen_importlib.FrozenImporter,\n",
       "   _frozen_importlib_external.PathFinder,\n",
       "   <six._SixMetaPathImporter at 0x1ed585b05b0>],\n",
       "  25: ModuleSpec(name='math', loader=<class '_frozen_importlib.BuiltinImporter'>, origin='built-in'),\n",
       "  30: ModuleSpec(name='module1', loader=<_frozen_importlib_external.SourceFileLoader object at 0x000001ED5878ABB0>, origin='C:\\\\Users\\\\karti\\\\pycode\\\\module1.py'),\n",
       "  32: 100,\n",
       "  35: '\\\\Users\\\\karti',\n",
       "  39: ['C:\\\\Users\\\\karti\\\\pycode',\n",
       "   'c:\\\\users\\\\karti\\\\appdata\\\\local\\\\programs\\\\python\\\\python39\\\\python39.zip',\n",
       "   'c:\\\\users\\\\karti\\\\appdata\\\\local\\\\programs\\\\python\\\\python39\\\\DLLs',\n",
       "   'c:\\\\users\\\\karti\\\\appdata\\\\local\\\\programs\\\\python\\\\python39\\\\lib',\n",
       "   'c:\\\\users\\\\karti\\\\appdata\\\\local\\\\programs\\\\python\\\\python39',\n",
       "   '',\n",
       "   'C:\\\\Users\\\\karti\\\\AppData\\\\Roaming\\\\Python\\\\Python39\\\\site-packages',\n",
       "   'c:\\\\users\\\\karti\\\\appdata\\\\local\\\\programs\\\\python\\\\python39\\\\lib\\\\site-packages',\n",
       "   'c:\\\\users\\\\karti\\\\appdata\\\\local\\\\programs\\\\python\\\\python39\\\\lib\\\\site-packages\\\\win32',\n",
       "   'c:\\\\users\\\\karti\\\\appdata\\\\local\\\\programs\\\\python\\\\python39\\\\lib\\\\site-packages\\\\win32\\\\lib',\n",
       "   'c:\\\\users\\\\karti\\\\appdata\\\\local\\\\programs\\\\python\\\\python39\\\\lib\\\\site-packages\\\\Pythonwin',\n",
       "   'c:\\\\users\\\\karti\\\\appdata\\\\local\\\\programs\\\\python\\\\python39\\\\lib\\\\site-packages\\\\IPython\\\\extensions',\n",
       "   'C:\\\\Users\\\\karti\\\\.ipython',\n",
       "   '\\\\Users\\\\karti',\n",
       "   '\\\\Users\\\\karti',\n",
       "   '\\\\Users\\\\karti'],\n",
       "  42: ['C:\\\\Users\\\\karti\\\\pycode',\n",
       "   'c:\\\\users\\\\karti\\\\appdata\\\\local\\\\programs\\\\python\\\\python39\\\\python39.zip',\n",
       "   'c:\\\\users\\\\karti\\\\appdata\\\\local\\\\programs\\\\python\\\\python39\\\\DLLs',\n",
       "   'c:\\\\users\\\\karti\\\\appdata\\\\local\\\\programs\\\\python\\\\python39\\\\lib',\n",
       "   'c:\\\\users\\\\karti\\\\appdata\\\\local\\\\programs\\\\python\\\\python39',\n",
       "   '',\n",
       "   'C:\\\\Users\\\\karti\\\\AppData\\\\Roaming\\\\Python\\\\Python39\\\\site-packages',\n",
       "   'c:\\\\users\\\\karti\\\\appdata\\\\local\\\\programs\\\\python\\\\python39\\\\lib\\\\site-packages',\n",
       "   'c:\\\\users\\\\karti\\\\appdata\\\\local\\\\programs\\\\python\\\\python39\\\\lib\\\\site-packages\\\\win32',\n",
       "   'c:\\\\users\\\\karti\\\\appdata\\\\local\\\\programs\\\\python\\\\python39\\\\lib\\\\site-packages\\\\win32\\\\lib',\n",
       "   'c:\\\\users\\\\karti\\\\appdata\\\\local\\\\programs\\\\python\\\\python39\\\\lib\\\\site-packages\\\\Pythonwin',\n",
       "   'c:\\\\users\\\\karti\\\\appdata\\\\local\\\\programs\\\\python\\\\python39\\\\lib\\\\site-packages\\\\IPython\\\\extensions',\n",
       "   'C:\\\\Users\\\\karti\\\\.ipython',\n",
       "   '\\\\Users\\\\karti',\n",
       "   '\\\\Users\\\\karti',\n",
       "   '\\\\Users\\\\karti'],\n",
       "  45: ['C:\\\\Users\\\\karti\\\\pycode',\n",
       "   'c:\\\\users\\\\karti\\\\appdata\\\\local\\\\programs\\\\python\\\\python39\\\\python39.zip',\n",
       "   'c:\\\\users\\\\karti\\\\appdata\\\\local\\\\programs\\\\python\\\\python39\\\\DLLs',\n",
       "   'c:\\\\users\\\\karti\\\\appdata\\\\local\\\\programs\\\\python\\\\python39\\\\lib',\n",
       "   'c:\\\\users\\\\karti\\\\appdata\\\\local\\\\programs\\\\python\\\\python39',\n",
       "   '',\n",
       "   'C:\\\\Users\\\\karti\\\\AppData\\\\Roaming\\\\Python\\\\Python39\\\\site-packages',\n",
       "   'c:\\\\users\\\\karti\\\\appdata\\\\local\\\\programs\\\\python\\\\python39\\\\lib\\\\site-packages',\n",
       "   'c:\\\\users\\\\karti\\\\appdata\\\\local\\\\programs\\\\python\\\\python39\\\\lib\\\\site-packages\\\\win32',\n",
       "   'c:\\\\users\\\\karti\\\\appdata\\\\local\\\\programs\\\\python\\\\python39\\\\lib\\\\site-packages\\\\win32\\\\lib',\n",
       "   'c:\\\\users\\\\karti\\\\appdata\\\\local\\\\programs\\\\python\\\\python39\\\\lib\\\\site-packages\\\\Pythonwin',\n",
       "   'c:\\\\users\\\\karti\\\\appdata\\\\local\\\\programs\\\\python\\\\python39\\\\lib\\\\site-packages\\\\IPython\\\\extensions',\n",
       "   'C:\\\\Users\\\\karti\\\\.ipython',\n",
       "   '\\\\Users\\\\karti',\n",
       "   '\\\\Users\\\\karti',\n",
       "   '\\\\Users\\\\karti'],\n",
       "  49: ModuleSpec(name='module2', loader=<_frozen_importlib_external.SourceFileLoader object at 0x000001ED58899E80>, origin='\\\\Users\\\\karti\\\\module2.py'),\n",
       "  50: ['C:\\\\Users\\\\karti\\\\pycode',\n",
       "   'c:\\\\users\\\\karti\\\\appdata\\\\local\\\\programs\\\\python\\\\python39\\\\python39.zip',\n",
       "   'c:\\\\users\\\\karti\\\\appdata\\\\local\\\\programs\\\\python\\\\python39\\\\DLLs',\n",
       "   'c:\\\\users\\\\karti\\\\appdata\\\\local\\\\programs\\\\python\\\\python39\\\\lib',\n",
       "   'c:\\\\users\\\\karti\\\\appdata\\\\local\\\\programs\\\\python\\\\python39',\n",
       "   '',\n",
       "   'C:\\\\Users\\\\karti\\\\AppData\\\\Roaming\\\\Python\\\\Python39\\\\site-packages',\n",
       "   'c:\\\\users\\\\karti\\\\appdata\\\\local\\\\programs\\\\python\\\\python39\\\\lib\\\\site-packages',\n",
       "   'c:\\\\users\\\\karti\\\\appdata\\\\local\\\\programs\\\\python\\\\python39\\\\lib\\\\site-packages\\\\win32',\n",
       "   'c:\\\\users\\\\karti\\\\appdata\\\\local\\\\programs\\\\python\\\\python39\\\\lib\\\\site-packages\\\\win32\\\\lib',\n",
       "   'c:\\\\users\\\\karti\\\\appdata\\\\local\\\\programs\\\\python\\\\python39\\\\lib\\\\site-packages\\\\Pythonwin',\n",
       "   'c:\\\\users\\\\karti\\\\appdata\\\\local\\\\programs\\\\python\\\\python39\\\\lib\\\\site-packages\\\\IPython\\\\extensions',\n",
       "   'C:\\\\Users\\\\karti\\\\.ipython',\n",
       "   '\\\\Users\\\\karti',\n",
       "   '\\\\Users\\\\karti',\n",
       "   '\\\\Users\\\\karti'],\n",
       "  52: ['C:\\\\Users\\\\karti\\\\pycode',\n",
       "   'c:\\\\users\\\\karti\\\\appdata\\\\local\\\\programs\\\\python\\\\python39\\\\python39.zip',\n",
       "   'c:\\\\users\\\\karti\\\\appdata\\\\local\\\\programs\\\\python\\\\python39\\\\DLLs',\n",
       "   'c:\\\\users\\\\karti\\\\appdata\\\\local\\\\programs\\\\python\\\\python39\\\\lib',\n",
       "   'c:\\\\users\\\\karti\\\\appdata\\\\local\\\\programs\\\\python\\\\python39',\n",
       "   '',\n",
       "   'C:\\\\Users\\\\karti\\\\AppData\\\\Roaming\\\\Python\\\\Python39\\\\site-packages',\n",
       "   'c:\\\\users\\\\karti\\\\appdata\\\\local\\\\programs\\\\python\\\\python39\\\\lib\\\\site-packages',\n",
       "   'c:\\\\users\\\\karti\\\\appdata\\\\local\\\\programs\\\\python\\\\python39\\\\lib\\\\site-packages\\\\win32',\n",
       "   'c:\\\\users\\\\karti\\\\appdata\\\\local\\\\programs\\\\python\\\\python39\\\\lib\\\\site-packages\\\\win32\\\\lib',\n",
       "   'c:\\\\users\\\\karti\\\\appdata\\\\local\\\\programs\\\\python\\\\python39\\\\lib\\\\site-packages\\\\Pythonwin',\n",
       "   'c:\\\\users\\\\karti\\\\appdata\\\\local\\\\programs\\\\python\\\\python39\\\\lib\\\\site-packages\\\\IPython\\\\extensions',\n",
       "   'C:\\\\Users\\\\karti\\\\.ipython',\n",
       "   '\\\\Users\\\\karti',\n",
       "   '\\\\Users\\\\karti',\n",
       "   '\\\\Users\\\\karti'],\n",
       "  53: ModuleSpec(name='module2', loader=<_frozen_importlib_external.SourceFileLoader object at 0x000001ED588999A0>, origin='\\\\Users\\\\karti\\\\module2.py'),\n",
       "  55: 'python',\n",
       "  59: False,\n",
       "  60: False,\n",
       "  62: False,\n",
       "  63: True,\n",
       "  64: <function cmath.exp(z, /)>,\n",
       "  65: 2118903378064,\n",
       "  66: True,\n",
       "  67: (-3.074932320639359+6.71884969742825j),\n",
       "  72: True,\n",
       "  73: (-3.074932320639359+6.71884969742825j),\n",
       "  74: (3.4209548611170133-1.5093064853236156j),\n",
       "  75: 3.141592653589793,\n",
       "  76: (-1.5656258353157435-3.2978948363112366j),\n",
       "  79: {...},\n",
       "  80: (3.4209548611170133-1.5093064853236156j)},\n",
       " '_dh': ['C:\\\\Users\\\\karti\\\\pycode'],\n",
       " 'In': ['',\n",
       "  'import sys',\n",
       "  'sys',\n",
       "  'import collections',\n",
       "  'collections',\n",
       "  \"mod_name = 'math'\",\n",
       "  'import mode_name',\n",
       "  'import importlib',\n",
       "  'importlib',\n",
       "  'importlib.import_module(mod_name)',\n",
       "  \"'math' in sys.modules\",\n",
       "  \"'fractions' in sys.modules\",\n",
       "  'math.sqrt(2)',\n",
       "  \"'math' in globals()\",\n",
       "  \"# import math as math2\\n#math2 = sys.modules['math']\\nmath2 = importlib.import_module(mod_name)\",\n",
       "  \"'math2' in globals()\",\n",
       "  'id(math2)',\n",
       "  \"id(sys.modules['math'])\",\n",
       "  'math2.sqrt(2)',\n",
       "  'math2',\n",
       "  'importlib',\n",
       "  \"fractions = importlib.import_module('fractions')\",\n",
       "  'fractions',\n",
       "  'sys.meta_path',\n",
       "  'import math',\n",
       "  'math.__spec__',\n",
       "  \"importlib.util.find_spec('Decimal')\",\n",
       "  \"with open('module1.py', 'w') as code_file:\\n    code_file.write('print('running module1.py...')\\\\n')\\n    code_file.write('a = 100\\\\n')\",\n",
       "  'with open(\\'module1.py\\', \\'w\\') as code_file:\\n    code_file.write(\"print(\\'running module1.py...\\')\\\\n\")\\n    code_file.write(\\'a = 100\\\\n\\')',\n",
       "  \"importlib.util,find_spec('module1')\",\n",
       "  \"importlib.util.find_spec('module1')\",\n",
       "  'import module1',\n",
       "  'module1.a',\n",
       "  'import os',\n",
       "  \"ext_module_path = os.environ['HOMEPATH']\",\n",
       "  'ext_module_path',\n",
       "  'file_abs_path = os.path.join(ext_module_path, \\' module2.py\\')\\nwith open(file_abs_path, \\'w\\') as code_file:\\n    code_file.write(\"print(\\'running module2.py...\\')\\\\n\")\\n    code_file.write(\"x = \\'python\\'\\\\n\")',\n",
       "  'importlib.util.find_spec(module2)',\n",
       "  \"importlib.util.find_spec('module2')\",\n",
       "  'sys.path',\n",
       "  'sys.apth.append(ext_module_path)',\n",
       "  'sys.path.append(ext_module_path)',\n",
       "  'sys.path',\n",
       "  \"importlib.util.find_spec('module2')\",\n",
       "  'sys.path.append(ext_module_path)',\n",
       "  'sys.path',\n",
       "  \"importlib.util.find_spec('module2')\",\n",
       "  'import module2',\n",
       "  'file_abs_path = os.path.join(ext_module_path, \\'module2.py\\')\\nwith open(file_abs_path, \\'w\\') as code_file:\\n    code_file.write(\"print(\\'running module2.py...\\')\\\\n\")\\n    code_file.write(\"x = \\'python\\'\\\\n\")',\n",
       "  \"importlib.util.find_spec('module2')\",\n",
       "  'sys.path',\n",
       "  'sys.path.append(ext_module_path)',\n",
       "  'sys.path',\n",
       "  \"importlib.util.find_spec('module2')\",\n",
       "  'import module2',\n",
       "  'module2.x',\n",
       "  'import sys',\n",
       "  'for key in sorted(sys.modules.key()):\\n    print(key)',\n",
       "  'for key in sorted(sys.modules.keys()):\\n    print(key)',\n",
       "  \"'cmath' in sys.modules\",\n",
       "  \"'cmath' in globals()\",\n",
       "  'from cmath import exp',\n",
       "  \"'cmath' in globals()\",\n",
       "  \"'exp' in globals()\",\n",
       "  'exp',\n",
       "  'id(exp)',\n",
       "  \"'cmath' in sys.modules\",\n",
       "  'exp(2+2j)',\n",
       "  'cmath.exp()',\n",
       "  'cmath.sin()',\n",
       "  \"cmath = sys.modules('cmath')\",\n",
       "  \"cmath = sys.modules['cmath']\",\n",
       "  \"'cmath' in globals()\",\n",
       "  'cmath.exp(2+2j)',\n",
       "  'cmath.sin(2+2j)',\n",
       "  'cmath.pi',\n",
       "  'cmath.cos(2+2j)',\n",
       "  'from cmath import exp',\n",
       "  'from cmath import *',\n",
       "  'globals()',\n",
       "  'sin(2+2j)',\n",
       "  'from math import *',\n",
       "  'globals()'],\n",
       " 'Out': {2: <module 'sys' (built-in)>,\n",
       "  4: <module 'collections' from 'c:\\\\users\\\\karti\\\\appdata\\\\local\\\\programs\\\\python\\\\python39\\\\lib\\\\collections\\\\__init__.py'>,\n",
       "  8: <module 'importlib' from 'c:\\\\users\\\\karti\\\\appdata\\\\local\\\\programs\\\\python\\\\python39\\\\lib\\\\importlib\\\\__init__.py'>,\n",
       "  9: <module 'math' (built-in)>,\n",
       "  10: True,\n",
       "  11: False,\n",
       "  13: False,\n",
       "  15: True,\n",
       "  16: 2118843868400,\n",
       "  17: 2118843868400,\n",
       "  18: 1.4142135623730951,\n",
       "  19: <module 'math' (built-in)>,\n",
       "  20: <module 'importlib' from 'c:\\\\users\\\\karti\\\\appdata\\\\local\\\\programs\\\\python\\\\python39\\\\lib\\\\importlib\\\\__init__.py'>,\n",
       "  22: <module 'fractions' from 'c:\\\\users\\\\karti\\\\appdata\\\\local\\\\programs\\\\python\\\\python39\\\\lib\\\\fractions.py'>,\n",
       "  23: [_frozen_importlib.BuiltinImporter,\n",
       "   _frozen_importlib.FrozenImporter,\n",
       "   _frozen_importlib_external.PathFinder,\n",
       "   <six._SixMetaPathImporter at 0x1ed585b05b0>],\n",
       "  25: ModuleSpec(name='math', loader=<class '_frozen_importlib.BuiltinImporter'>, origin='built-in'),\n",
       "  30: ModuleSpec(name='module1', loader=<_frozen_importlib_external.SourceFileLoader object at 0x000001ED5878ABB0>, origin='C:\\\\Users\\\\karti\\\\pycode\\\\module1.py'),\n",
       "  32: 100,\n",
       "  35: '\\\\Users\\\\karti',\n",
       "  39: ['C:\\\\Users\\\\karti\\\\pycode',\n",
       "   'c:\\\\users\\\\karti\\\\appdata\\\\local\\\\programs\\\\python\\\\python39\\\\python39.zip',\n",
       "   'c:\\\\users\\\\karti\\\\appdata\\\\local\\\\programs\\\\python\\\\python39\\\\DLLs',\n",
       "   'c:\\\\users\\\\karti\\\\appdata\\\\local\\\\programs\\\\python\\\\python39\\\\lib',\n",
       "   'c:\\\\users\\\\karti\\\\appdata\\\\local\\\\programs\\\\python\\\\python39',\n",
       "   '',\n",
       "   'C:\\\\Users\\\\karti\\\\AppData\\\\Roaming\\\\Python\\\\Python39\\\\site-packages',\n",
       "   'c:\\\\users\\\\karti\\\\appdata\\\\local\\\\programs\\\\python\\\\python39\\\\lib\\\\site-packages',\n",
       "   'c:\\\\users\\\\karti\\\\appdata\\\\local\\\\programs\\\\python\\\\python39\\\\lib\\\\site-packages\\\\win32',\n",
       "   'c:\\\\users\\\\karti\\\\appdata\\\\local\\\\programs\\\\python\\\\python39\\\\lib\\\\site-packages\\\\win32\\\\lib',\n",
       "   'c:\\\\users\\\\karti\\\\appdata\\\\local\\\\programs\\\\python\\\\python39\\\\lib\\\\site-packages\\\\Pythonwin',\n",
       "   'c:\\\\users\\\\karti\\\\appdata\\\\local\\\\programs\\\\python\\\\python39\\\\lib\\\\site-packages\\\\IPython\\\\extensions',\n",
       "   'C:\\\\Users\\\\karti\\\\.ipython',\n",
       "   '\\\\Users\\\\karti',\n",
       "   '\\\\Users\\\\karti',\n",
       "   '\\\\Users\\\\karti'],\n",
       "  42: ['C:\\\\Users\\\\karti\\\\pycode',\n",
       "   'c:\\\\users\\\\karti\\\\appdata\\\\local\\\\programs\\\\python\\\\python39\\\\python39.zip',\n",
       "   'c:\\\\users\\\\karti\\\\appdata\\\\local\\\\programs\\\\python\\\\python39\\\\DLLs',\n",
       "   'c:\\\\users\\\\karti\\\\appdata\\\\local\\\\programs\\\\python\\\\python39\\\\lib',\n",
       "   'c:\\\\users\\\\karti\\\\appdata\\\\local\\\\programs\\\\python\\\\python39',\n",
       "   '',\n",
       "   'C:\\\\Users\\\\karti\\\\AppData\\\\Roaming\\\\Python\\\\Python39\\\\site-packages',\n",
       "   'c:\\\\users\\\\karti\\\\appdata\\\\local\\\\programs\\\\python\\\\python39\\\\lib\\\\site-packages',\n",
       "   'c:\\\\users\\\\karti\\\\appdata\\\\local\\\\programs\\\\python\\\\python39\\\\lib\\\\site-packages\\\\win32',\n",
       "   'c:\\\\users\\\\karti\\\\appdata\\\\local\\\\programs\\\\python\\\\python39\\\\lib\\\\site-packages\\\\win32\\\\lib',\n",
       "   'c:\\\\users\\\\karti\\\\appdata\\\\local\\\\programs\\\\python\\\\python39\\\\lib\\\\site-packages\\\\Pythonwin',\n",
       "   'c:\\\\users\\\\karti\\\\appdata\\\\local\\\\programs\\\\python\\\\python39\\\\lib\\\\site-packages\\\\IPython\\\\extensions',\n",
       "   'C:\\\\Users\\\\karti\\\\.ipython',\n",
       "   '\\\\Users\\\\karti',\n",
       "   '\\\\Users\\\\karti',\n",
       "   '\\\\Users\\\\karti'],\n",
       "  45: ['C:\\\\Users\\\\karti\\\\pycode',\n",
       "   'c:\\\\users\\\\karti\\\\appdata\\\\local\\\\programs\\\\python\\\\python39\\\\python39.zip',\n",
       "   'c:\\\\users\\\\karti\\\\appdata\\\\local\\\\programs\\\\python\\\\python39\\\\DLLs',\n",
       "   'c:\\\\users\\\\karti\\\\appdata\\\\local\\\\programs\\\\python\\\\python39\\\\lib',\n",
       "   'c:\\\\users\\\\karti\\\\appdata\\\\local\\\\programs\\\\python\\\\python39',\n",
       "   '',\n",
       "   'C:\\\\Users\\\\karti\\\\AppData\\\\Roaming\\\\Python\\\\Python39\\\\site-packages',\n",
       "   'c:\\\\users\\\\karti\\\\appdata\\\\local\\\\programs\\\\python\\\\python39\\\\lib\\\\site-packages',\n",
       "   'c:\\\\users\\\\karti\\\\appdata\\\\local\\\\programs\\\\python\\\\python39\\\\lib\\\\site-packages\\\\win32',\n",
       "   'c:\\\\users\\\\karti\\\\appdata\\\\local\\\\programs\\\\python\\\\python39\\\\lib\\\\site-packages\\\\win32\\\\lib',\n",
       "   'c:\\\\users\\\\karti\\\\appdata\\\\local\\\\programs\\\\python\\\\python39\\\\lib\\\\site-packages\\\\Pythonwin',\n",
       "   'c:\\\\users\\\\karti\\\\appdata\\\\local\\\\programs\\\\python\\\\python39\\\\lib\\\\site-packages\\\\IPython\\\\extensions',\n",
       "   'C:\\\\Users\\\\karti\\\\.ipython',\n",
       "   '\\\\Users\\\\karti',\n",
       "   '\\\\Users\\\\karti',\n",
       "   '\\\\Users\\\\karti'],\n",
       "  49: ModuleSpec(name='module2', loader=<_frozen_importlib_external.SourceFileLoader object at 0x000001ED58899E80>, origin='\\\\Users\\\\karti\\\\module2.py'),\n",
       "  50: ['C:\\\\Users\\\\karti\\\\pycode',\n",
       "   'c:\\\\users\\\\karti\\\\appdata\\\\local\\\\programs\\\\python\\\\python39\\\\python39.zip',\n",
       "   'c:\\\\users\\\\karti\\\\appdata\\\\local\\\\programs\\\\python\\\\python39\\\\DLLs',\n",
       "   'c:\\\\users\\\\karti\\\\appdata\\\\local\\\\programs\\\\python\\\\python39\\\\lib',\n",
       "   'c:\\\\users\\\\karti\\\\appdata\\\\local\\\\programs\\\\python\\\\python39',\n",
       "   '',\n",
       "   'C:\\\\Users\\\\karti\\\\AppData\\\\Roaming\\\\Python\\\\Python39\\\\site-packages',\n",
       "   'c:\\\\users\\\\karti\\\\appdata\\\\local\\\\programs\\\\python\\\\python39\\\\lib\\\\site-packages',\n",
       "   'c:\\\\users\\\\karti\\\\appdata\\\\local\\\\programs\\\\python\\\\python39\\\\lib\\\\site-packages\\\\win32',\n",
       "   'c:\\\\users\\\\karti\\\\appdata\\\\local\\\\programs\\\\python\\\\python39\\\\lib\\\\site-packages\\\\win32\\\\lib',\n",
       "   'c:\\\\users\\\\karti\\\\appdata\\\\local\\\\programs\\\\python\\\\python39\\\\lib\\\\site-packages\\\\Pythonwin',\n",
       "   'c:\\\\users\\\\karti\\\\appdata\\\\local\\\\programs\\\\python\\\\python39\\\\lib\\\\site-packages\\\\IPython\\\\extensions',\n",
       "   'C:\\\\Users\\\\karti\\\\.ipython',\n",
       "   '\\\\Users\\\\karti',\n",
       "   '\\\\Users\\\\karti',\n",
       "   '\\\\Users\\\\karti'],\n",
       "  52: ['C:\\\\Users\\\\karti\\\\pycode',\n",
       "   'c:\\\\users\\\\karti\\\\appdata\\\\local\\\\programs\\\\python\\\\python39\\\\python39.zip',\n",
       "   'c:\\\\users\\\\karti\\\\appdata\\\\local\\\\programs\\\\python\\\\python39\\\\DLLs',\n",
       "   'c:\\\\users\\\\karti\\\\appdata\\\\local\\\\programs\\\\python\\\\python39\\\\lib',\n",
       "   'c:\\\\users\\\\karti\\\\appdata\\\\local\\\\programs\\\\python\\\\python39',\n",
       "   '',\n",
       "   'C:\\\\Users\\\\karti\\\\AppData\\\\Roaming\\\\Python\\\\Python39\\\\site-packages',\n",
       "   'c:\\\\users\\\\karti\\\\appdata\\\\local\\\\programs\\\\python\\\\python39\\\\lib\\\\site-packages',\n",
       "   'c:\\\\users\\\\karti\\\\appdata\\\\local\\\\programs\\\\python\\\\python39\\\\lib\\\\site-packages\\\\win32',\n",
       "   'c:\\\\users\\\\karti\\\\appdata\\\\local\\\\programs\\\\python\\\\python39\\\\lib\\\\site-packages\\\\win32\\\\lib',\n",
       "   'c:\\\\users\\\\karti\\\\appdata\\\\local\\\\programs\\\\python\\\\python39\\\\lib\\\\site-packages\\\\Pythonwin',\n",
       "   'c:\\\\users\\\\karti\\\\appdata\\\\local\\\\programs\\\\python\\\\python39\\\\lib\\\\site-packages\\\\IPython\\\\extensions',\n",
       "   'C:\\\\Users\\\\karti\\\\.ipython',\n",
       "   '\\\\Users\\\\karti',\n",
       "   '\\\\Users\\\\karti',\n",
       "   '\\\\Users\\\\karti'],\n",
       "  53: ModuleSpec(name='module2', loader=<_frozen_importlib_external.SourceFileLoader object at 0x000001ED588999A0>, origin='\\\\Users\\\\karti\\\\module2.py'),\n",
       "  55: 'python',\n",
       "  59: False,\n",
       "  60: False,\n",
       "  62: False,\n",
       "  63: True,\n",
       "  64: <function cmath.exp(z, /)>,\n",
       "  65: 2118903378064,\n",
       "  66: True,\n",
       "  67: (-3.074932320639359+6.71884969742825j),\n",
       "  72: True,\n",
       "  73: (-3.074932320639359+6.71884969742825j),\n",
       "  74: (3.4209548611170133-1.5093064853236156j),\n",
       "  75: 3.141592653589793,\n",
       "  76: (-1.5656258353157435-3.2978948363112366j),\n",
       "  79: {...},\n",
       "  80: (3.4209548611170133-1.5093064853236156j)},\n",
       " 'get_ipython': <bound method InteractiveShell.get_ipython of <ipykernel.zmqshell.ZMQInteractiveShell object at 0x000001ED586E8A60>>,\n",
       " 'exit': <IPython.core.autocall.ZMQExitAutocall at 0x1ed587372e0>,\n",
       " 'quit': <IPython.core.autocall.ZMQExitAutocall at 0x1ed587372e0>,\n",
       " '_': (3.4209548611170133-1.5093064853236156j),\n",
       " '__': {...},\n",
       " '___': (-1.5656258353157435-3.2978948363112366j),\n",
       " '_i': 'from math import *',\n",
       " '_ii': 'sin(2+2j)',\n",
       " '_iii': 'globals()',\n",
       " '_i1': 'import sys',\n",
       " 'sys': <module 'sys' (built-in)>,\n",
       " '_i2': 'sys',\n",
       " '_2': <module 'sys' (built-in)>,\n",
       " '_i3': 'import collections',\n",
       " 'collections': <module 'collections' from 'c:\\\\users\\\\karti\\\\appdata\\\\local\\\\programs\\\\python\\\\python39\\\\lib\\\\collections\\\\__init__.py'>,\n",
       " '_i4': 'collections',\n",
       " '_4': <module 'collections' from 'c:\\\\users\\\\karti\\\\appdata\\\\local\\\\programs\\\\python\\\\python39\\\\lib\\\\collections\\\\__init__.py'>,\n",
       " '_i5': \"mod_name = 'math'\",\n",
       " 'mod_name': 'math',\n",
       " '_i6': 'import mode_name',\n",
       " '_i7': 'import importlib',\n",
       " 'importlib': <module 'importlib' from 'c:\\\\users\\\\karti\\\\appdata\\\\local\\\\programs\\\\python\\\\python39\\\\lib\\\\importlib\\\\__init__.py'>,\n",
       " '_i8': 'importlib',\n",
       " '_8': <module 'importlib' from 'c:\\\\users\\\\karti\\\\appdata\\\\local\\\\programs\\\\python\\\\python39\\\\lib\\\\importlib\\\\__init__.py'>,\n",
       " '_i9': 'importlib.import_module(mod_name)',\n",
       " '_9': <module 'math' (built-in)>,\n",
       " '_i10': \"'math' in sys.modules\",\n",
       " '_10': True,\n",
       " '_i11': \"'fractions' in sys.modules\",\n",
       " '_11': False,\n",
       " '_i12': 'math.sqrt(2)',\n",
       " '_i13': \"'math' in globals()\",\n",
       " '_13': False,\n",
       " '_i14': \"# import math as math2\\n#math2 = sys.modules['math']\\nmath2 = importlib.import_module(mod_name)\",\n",
       " 'math2': <module 'math' (built-in)>,\n",
       " '_i15': \"'math2' in globals()\",\n",
       " '_15': True,\n",
       " '_i16': 'id(math2)',\n",
       " '_16': 2118843868400,\n",
       " '_i17': \"id(sys.modules['math'])\",\n",
       " '_17': 2118843868400,\n",
       " '_i18': 'math2.sqrt(2)',\n",
       " '_18': 1.4142135623730951,\n",
       " '_i19': 'math2',\n",
       " '_19': <module 'math' (built-in)>,\n",
       " '_i20': 'importlib',\n",
       " '_20': <module 'importlib' from 'c:\\\\users\\\\karti\\\\appdata\\\\local\\\\programs\\\\python\\\\python39\\\\lib\\\\importlib\\\\__init__.py'>,\n",
       " '_i21': \"fractions = importlib.import_module('fractions')\",\n",
       " 'fractions': <module 'fractions' from 'c:\\\\users\\\\karti\\\\appdata\\\\local\\\\programs\\\\python\\\\python39\\\\lib\\\\fractions.py'>,\n",
       " '_i22': 'fractions',\n",
       " '_22': <module 'fractions' from 'c:\\\\users\\\\karti\\\\appdata\\\\local\\\\programs\\\\python\\\\python39\\\\lib\\\\fractions.py'>,\n",
       " '_i23': 'sys.meta_path',\n",
       " '_23': [_frozen_importlib.BuiltinImporter,\n",
       "  _frozen_importlib.FrozenImporter,\n",
       "  _frozen_importlib_external.PathFinder,\n",
       "  <six._SixMetaPathImporter at 0x1ed585b05b0>],\n",
       " '_i24': 'import math',\n",
       " 'math': <module 'math' (built-in)>,\n",
       " '_i25': 'math.__spec__',\n",
       " '_25': ModuleSpec(name='math', loader=<class '_frozen_importlib.BuiltinImporter'>, origin='built-in'),\n",
       " '_i26': \"importlib.util.find_spec('Decimal')\",\n",
       " '_i27': \"with open('module1.py', 'w') as code_file:\\n    code_file.write('print('running module1.py...')\\\\n')\\n    code_file.write('a = 100\\\\n')\",\n",
       " '_i28': 'with open(\\'module1.py\\', \\'w\\') as code_file:\\n    code_file.write(\"print(\\'running module1.py...\\')\\\\n\")\\n    code_file.write(\\'a = 100\\\\n\\')',\n",
       " 'code_file': <_io.TextIOWrapper name='\\\\Users\\\\karti\\\\module2.py' mode='w' encoding='cp1252'>,\n",
       " '_i29': \"importlib.util,find_spec('module1')\",\n",
       " '_i30': \"importlib.util.find_spec('module1')\",\n",
       " '_30': ModuleSpec(name='module1', loader=<_frozen_importlib_external.SourceFileLoader object at 0x000001ED5878ABB0>, origin='C:\\\\Users\\\\karti\\\\pycode\\\\module1.py'),\n",
       " '_i31': 'import module1',\n",
       " 'module1': <module 'module1' from 'C:\\\\Users\\\\karti\\\\pycode\\\\module1.py'>,\n",
       " '_i32': 'module1.a',\n",
       " '_32': 100,\n",
       " '_i33': 'import os',\n",
       " 'os': <module 'os' from 'c:\\\\users\\\\karti\\\\appdata\\\\local\\\\programs\\\\python\\\\python39\\\\lib\\\\os.py'>,\n",
       " '_i34': \"ext_module_path = os.environ['HOMEPATH']\",\n",
       " 'ext_module_path': '\\\\Users\\\\karti',\n",
       " '_i35': 'ext_module_path',\n",
       " '_35': '\\\\Users\\\\karti',\n",
       " '_i36': 'file_abs_path = os.path.join(ext_module_path, \\' module2.py\\')\\nwith open(file_abs_path, \\'w\\') as code_file:\\n    code_file.write(\"print(\\'running module2.py...\\')\\\\n\")\\n    code_file.write(\"x = \\'python\\'\\\\n\")',\n",
       " 'file_abs_path': '\\\\Users\\\\karti\\\\module2.py',\n",
       " '_i37': 'importlib.util.find_spec(module2)',\n",
       " '_i38': \"importlib.util.find_spec('module2')\",\n",
       " '_i39': 'sys.path',\n",
       " '_39': ['C:\\\\Users\\\\karti\\\\pycode',\n",
       "  'c:\\\\users\\\\karti\\\\appdata\\\\local\\\\programs\\\\python\\\\python39\\\\python39.zip',\n",
       "  'c:\\\\users\\\\karti\\\\appdata\\\\local\\\\programs\\\\python\\\\python39\\\\DLLs',\n",
       "  'c:\\\\users\\\\karti\\\\appdata\\\\local\\\\programs\\\\python\\\\python39\\\\lib',\n",
       "  'c:\\\\users\\\\karti\\\\appdata\\\\local\\\\programs\\\\python\\\\python39',\n",
       "  '',\n",
       "  'C:\\\\Users\\\\karti\\\\AppData\\\\Roaming\\\\Python\\\\Python39\\\\site-packages',\n",
       "  'c:\\\\users\\\\karti\\\\appdata\\\\local\\\\programs\\\\python\\\\python39\\\\lib\\\\site-packages',\n",
       "  'c:\\\\users\\\\karti\\\\appdata\\\\local\\\\programs\\\\python\\\\python39\\\\lib\\\\site-packages\\\\win32',\n",
       "  'c:\\\\users\\\\karti\\\\appdata\\\\local\\\\programs\\\\python\\\\python39\\\\lib\\\\site-packages\\\\win32\\\\lib',\n",
       "  'c:\\\\users\\\\karti\\\\appdata\\\\local\\\\programs\\\\python\\\\python39\\\\lib\\\\site-packages\\\\Pythonwin',\n",
       "  'c:\\\\users\\\\karti\\\\appdata\\\\local\\\\programs\\\\python\\\\python39\\\\lib\\\\site-packages\\\\IPython\\\\extensions',\n",
       "  'C:\\\\Users\\\\karti\\\\.ipython',\n",
       "  '\\\\Users\\\\karti',\n",
       "  '\\\\Users\\\\karti',\n",
       "  '\\\\Users\\\\karti'],\n",
       " '_i40': 'sys.apth.append(ext_module_path)',\n",
       " '_i41': 'sys.path.append(ext_module_path)',\n",
       " '_i42': 'sys.path',\n",
       " '_42': ['C:\\\\Users\\\\karti\\\\pycode',\n",
       "  'c:\\\\users\\\\karti\\\\appdata\\\\local\\\\programs\\\\python\\\\python39\\\\python39.zip',\n",
       "  'c:\\\\users\\\\karti\\\\appdata\\\\local\\\\programs\\\\python\\\\python39\\\\DLLs',\n",
       "  'c:\\\\users\\\\karti\\\\appdata\\\\local\\\\programs\\\\python\\\\python39\\\\lib',\n",
       "  'c:\\\\users\\\\karti\\\\appdata\\\\local\\\\programs\\\\python\\\\python39',\n",
       "  '',\n",
       "  'C:\\\\Users\\\\karti\\\\AppData\\\\Roaming\\\\Python\\\\Python39\\\\site-packages',\n",
       "  'c:\\\\users\\\\karti\\\\appdata\\\\local\\\\programs\\\\python\\\\python39\\\\lib\\\\site-packages',\n",
       "  'c:\\\\users\\\\karti\\\\appdata\\\\local\\\\programs\\\\python\\\\python39\\\\lib\\\\site-packages\\\\win32',\n",
       "  'c:\\\\users\\\\karti\\\\appdata\\\\local\\\\programs\\\\python\\\\python39\\\\lib\\\\site-packages\\\\win32\\\\lib',\n",
       "  'c:\\\\users\\\\karti\\\\appdata\\\\local\\\\programs\\\\python\\\\python39\\\\lib\\\\site-packages\\\\Pythonwin',\n",
       "  'c:\\\\users\\\\karti\\\\appdata\\\\local\\\\programs\\\\python\\\\python39\\\\lib\\\\site-packages\\\\IPython\\\\extensions',\n",
       "  'C:\\\\Users\\\\karti\\\\.ipython',\n",
       "  '\\\\Users\\\\karti',\n",
       "  '\\\\Users\\\\karti',\n",
       "  '\\\\Users\\\\karti'],\n",
       " '_i43': \"importlib.util.find_spec('module2')\",\n",
       " '_i44': 'sys.path.append(ext_module_path)',\n",
       " '_i45': 'sys.path',\n",
       " '_45': ['C:\\\\Users\\\\karti\\\\pycode',\n",
       "  'c:\\\\users\\\\karti\\\\appdata\\\\local\\\\programs\\\\python\\\\python39\\\\python39.zip',\n",
       "  'c:\\\\users\\\\karti\\\\appdata\\\\local\\\\programs\\\\python\\\\python39\\\\DLLs',\n",
       "  'c:\\\\users\\\\karti\\\\appdata\\\\local\\\\programs\\\\python\\\\python39\\\\lib',\n",
       "  'c:\\\\users\\\\karti\\\\appdata\\\\local\\\\programs\\\\python\\\\python39',\n",
       "  '',\n",
       "  'C:\\\\Users\\\\karti\\\\AppData\\\\Roaming\\\\Python\\\\Python39\\\\site-packages',\n",
       "  'c:\\\\users\\\\karti\\\\appdata\\\\local\\\\programs\\\\python\\\\python39\\\\lib\\\\site-packages',\n",
       "  'c:\\\\users\\\\karti\\\\appdata\\\\local\\\\programs\\\\python\\\\python39\\\\lib\\\\site-packages\\\\win32',\n",
       "  'c:\\\\users\\\\karti\\\\appdata\\\\local\\\\programs\\\\python\\\\python39\\\\lib\\\\site-packages\\\\win32\\\\lib',\n",
       "  'c:\\\\users\\\\karti\\\\appdata\\\\local\\\\programs\\\\python\\\\python39\\\\lib\\\\site-packages\\\\Pythonwin',\n",
       "  'c:\\\\users\\\\karti\\\\appdata\\\\local\\\\programs\\\\python\\\\python39\\\\lib\\\\site-packages\\\\IPython\\\\extensions',\n",
       "  'C:\\\\Users\\\\karti\\\\.ipython',\n",
       "  '\\\\Users\\\\karti',\n",
       "  '\\\\Users\\\\karti',\n",
       "  '\\\\Users\\\\karti'],\n",
       " '_i46': \"importlib.util.find_spec('module2')\",\n",
       " '_i47': 'import module2',\n",
       " '_i48': 'file_abs_path = os.path.join(ext_module_path, \\'module2.py\\')\\nwith open(file_abs_path, \\'w\\') as code_file:\\n    code_file.write(\"print(\\'running module2.py...\\')\\\\n\")\\n    code_file.write(\"x = \\'python\\'\\\\n\")',\n",
       " '_i49': \"importlib.util.find_spec('module2')\",\n",
       " '_49': ModuleSpec(name='module2', loader=<_frozen_importlib_external.SourceFileLoader object at 0x000001ED58899E80>, origin='\\\\Users\\\\karti\\\\module2.py'),\n",
       " '_i50': 'sys.path',\n",
       " '_50': ['C:\\\\Users\\\\karti\\\\pycode',\n",
       "  'c:\\\\users\\\\karti\\\\appdata\\\\local\\\\programs\\\\python\\\\python39\\\\python39.zip',\n",
       "  'c:\\\\users\\\\karti\\\\appdata\\\\local\\\\programs\\\\python\\\\python39\\\\DLLs',\n",
       "  'c:\\\\users\\\\karti\\\\appdata\\\\local\\\\programs\\\\python\\\\python39\\\\lib',\n",
       "  'c:\\\\users\\\\karti\\\\appdata\\\\local\\\\programs\\\\python\\\\python39',\n",
       "  '',\n",
       "  'C:\\\\Users\\\\karti\\\\AppData\\\\Roaming\\\\Python\\\\Python39\\\\site-packages',\n",
       "  'c:\\\\users\\\\karti\\\\appdata\\\\local\\\\programs\\\\python\\\\python39\\\\lib\\\\site-packages',\n",
       "  'c:\\\\users\\\\karti\\\\appdata\\\\local\\\\programs\\\\python\\\\python39\\\\lib\\\\site-packages\\\\win32',\n",
       "  'c:\\\\users\\\\karti\\\\appdata\\\\local\\\\programs\\\\python\\\\python39\\\\lib\\\\site-packages\\\\win32\\\\lib',\n",
       "  'c:\\\\users\\\\karti\\\\appdata\\\\local\\\\programs\\\\python\\\\python39\\\\lib\\\\site-packages\\\\Pythonwin',\n",
       "  'c:\\\\users\\\\karti\\\\appdata\\\\local\\\\programs\\\\python\\\\python39\\\\lib\\\\site-packages\\\\IPython\\\\extensions',\n",
       "  'C:\\\\Users\\\\karti\\\\.ipython',\n",
       "  '\\\\Users\\\\karti',\n",
       "  '\\\\Users\\\\karti',\n",
       "  '\\\\Users\\\\karti'],\n",
       " '_i51': 'sys.path.append(ext_module_path)',\n",
       " '_i52': 'sys.path',\n",
       " '_52': ['C:\\\\Users\\\\karti\\\\pycode',\n",
       "  'c:\\\\users\\\\karti\\\\appdata\\\\local\\\\programs\\\\python\\\\python39\\\\python39.zip',\n",
       "  'c:\\\\users\\\\karti\\\\appdata\\\\local\\\\programs\\\\python\\\\python39\\\\DLLs',\n",
       "  'c:\\\\users\\\\karti\\\\appdata\\\\local\\\\programs\\\\python\\\\python39\\\\lib',\n",
       "  'c:\\\\users\\\\karti\\\\appdata\\\\local\\\\programs\\\\python\\\\python39',\n",
       "  '',\n",
       "  'C:\\\\Users\\\\karti\\\\AppData\\\\Roaming\\\\Python\\\\Python39\\\\site-packages',\n",
       "  'c:\\\\users\\\\karti\\\\appdata\\\\local\\\\programs\\\\python\\\\python39\\\\lib\\\\site-packages',\n",
       "  'c:\\\\users\\\\karti\\\\appdata\\\\local\\\\programs\\\\python\\\\python39\\\\lib\\\\site-packages\\\\win32',\n",
       "  'c:\\\\users\\\\karti\\\\appdata\\\\local\\\\programs\\\\python\\\\python39\\\\lib\\\\site-packages\\\\win32\\\\lib',\n",
       "  'c:\\\\users\\\\karti\\\\appdata\\\\local\\\\programs\\\\python\\\\python39\\\\lib\\\\site-packages\\\\Pythonwin',\n",
       "  'c:\\\\users\\\\karti\\\\appdata\\\\local\\\\programs\\\\python\\\\python39\\\\lib\\\\site-packages\\\\IPython\\\\extensions',\n",
       "  'C:\\\\Users\\\\karti\\\\.ipython',\n",
       "  '\\\\Users\\\\karti',\n",
       "  '\\\\Users\\\\karti',\n",
       "  '\\\\Users\\\\karti'],\n",
       " '_i53': \"importlib.util.find_spec('module2')\",\n",
       " '_53': ModuleSpec(name='module2', loader=<_frozen_importlib_external.SourceFileLoader object at 0x000001ED588999A0>, origin='\\\\Users\\\\karti\\\\module2.py'),\n",
       " '_i54': 'import module2',\n",
       " 'module2': <module 'module2' from '\\\\Users\\\\karti\\\\module2.py'>,\n",
       " '_i55': 'module2.x',\n",
       " '_55': 'python',\n",
       " '_i56': 'import sys',\n",
       " '_i57': 'for key in sorted(sys.modules.key()):\\n    print(key)',\n",
       " '_i58': 'for key in sorted(sys.modules.keys()):\\n    print(key)',\n",
       " 'key': 'zmq.utils.strtypes',\n",
       " '_i59': \"'cmath' in sys.modules\",\n",
       " '_59': False,\n",
       " '_i60': \"'cmath' in globals()\",\n",
       " '_60': False,\n",
       " '_i61': 'from cmath import exp',\n",
       " 'exp': <function math.exp(x, /)>,\n",
       " '_i62': \"'cmath' in globals()\",\n",
       " '_62': False,\n",
       " '_i63': \"'exp' in globals()\",\n",
       " '_63': True,\n",
       " '_i64': 'exp',\n",
       " '_64': <function cmath.exp(z, /)>,\n",
       " '_i65': 'id(exp)',\n",
       " '_65': 2118903378064,\n",
       " '_i66': \"'cmath' in sys.modules\",\n",
       " '_66': True,\n",
       " '_i67': 'exp(2+2j)',\n",
       " '_67': (-3.074932320639359+6.71884969742825j),\n",
       " '_i68': 'cmath.exp()',\n",
       " '_i69': 'cmath.sin()',\n",
       " '_i70': \"cmath = sys.modules('cmath')\",\n",
       " '_i71': \"cmath = sys.modules['cmath']\",\n",
       " 'cmath': <module 'cmath' (built-in)>,\n",
       " '_i72': \"'cmath' in globals()\",\n",
       " '_72': True,\n",
       " '_i73': 'cmath.exp(2+2j)',\n",
       " '_73': (-3.074932320639359+6.71884969742825j),\n",
       " '_i74': 'cmath.sin(2+2j)',\n",
       " '_74': (3.4209548611170133-1.5093064853236156j),\n",
       " '_i75': 'cmath.pi',\n",
       " '_75': 3.141592653589793,\n",
       " '_i76': 'cmath.cos(2+2j)',\n",
       " '_76': (-1.5656258353157435-3.2978948363112366j),\n",
       " '_i77': 'from cmath import exp',\n",
       " '_i78': 'from cmath import *',\n",
       " 'acos': <function math.acos(x, /)>,\n",
       " 'acosh': <function math.acosh(x, /)>,\n",
       " 'asin': <function math.asin(x, /)>,\n",
       " 'asinh': <function math.asinh(x, /)>,\n",
       " 'atan': <function math.atan(x, /)>,\n",
       " 'atanh': <function math.atanh(x, /)>,\n",
       " 'cos': <function math.cos(x, /)>,\n",
       " 'cosh': <function math.cosh(x, /)>,\n",
       " 'isclose': <function math.isclose(a, b, *, rel_tol=1e-09, abs_tol=0.0)>,\n",
       " 'isfinite': <function math.isfinite(x, /)>,\n",
       " 'isinf': <function math.isinf(x, /)>,\n",
       " 'isnan': <function math.isnan(x, /)>,\n",
       " 'log': <function math.log>,\n",
       " 'log10': <function math.log10(x, /)>,\n",
       " 'phase': <function cmath.phase(z, /)>,\n",
       " 'polar': <function cmath.polar(z, /)>,\n",
       " 'rect': <function cmath.rect(r, phi, /)>,\n",
       " 'sin': <function math.sin(x, /)>,\n",
       " 'sinh': <function math.sinh(x, /)>,\n",
       " 'sqrt': <function math.sqrt(x, /)>,\n",
       " 'tan': <function math.tan(x, /)>,\n",
       " 'tanh': <function math.tanh(x, /)>,\n",
       " 'pi': 3.141592653589793,\n",
       " 'e': 2.718281828459045,\n",
       " 'tau': 6.283185307179586,\n",
       " 'inf': inf,\n",
       " 'infj': infj,\n",
       " 'nan': nan,\n",
       " 'nanj': nanj,\n",
       " '_i79': 'globals()',\n",
       " '_79': {...},\n",
       " '_i80': 'sin(2+2j)',\n",
       " '_80': (3.4209548611170133-1.5093064853236156j),\n",
       " '_i81': 'from math import *',\n",
       " 'atan2': <function math.atan2(y, x, /)>,\n",
       " 'ceil': <function math.ceil(x, /)>,\n",
       " 'copysign': <function math.copysign(x, y, /)>,\n",
       " 'degrees': <function math.degrees(x, /)>,\n",
       " 'dist': <function math.dist(p, q, /)>,\n",
       " 'erf': <function math.erf(x, /)>,\n",
       " 'erfc': <function math.erfc(x, /)>,\n",
       " 'expm1': <function math.expm1(x, /)>,\n",
       " 'fabs': <function math.fabs(x, /)>,\n",
       " 'factorial': <function math.factorial(x, /)>,\n",
       " 'floor': <function math.floor(x, /)>,\n",
       " 'fmod': <function math.fmod(x, y, /)>,\n",
       " 'frexp': <function math.frexp(x, /)>,\n",
       " 'fsum': <function math.fsum(seq, /)>,\n",
       " 'gamma': <function math.gamma(x, /)>,\n",
       " 'gcd': <function math.gcd(*integers)>,\n",
       " 'hypot': <function math.hypot>,\n",
       " 'isqrt': <function math.isqrt(n, /)>,\n",
       " 'lcm': <function math.lcm(*integers)>,\n",
       " 'ldexp': <function math.ldexp(x, i, /)>,\n",
       " 'lgamma': <function math.lgamma(x, /)>,\n",
       " 'log1p': <function math.log1p(x, /)>,\n",
       " 'log2': <function math.log2(x, /)>,\n",
       " 'modf': <function math.modf(x, /)>,\n",
       " 'pow': <function math.pow(x, y, /)>,\n",
       " 'radians': <function math.radians(x, /)>,\n",
       " 'remainder': <function math.remainder(x, y, /)>,\n",
       " 'trunc': <function math.trunc(x, /)>,\n",
       " 'prod': <function math.prod(iterable, /, *, start=1)>,\n",
       " 'perm': <function math.perm(n, k=None, /)>,\n",
       " 'comb': <function math.comb(n, k, /)>,\n",
       " 'nextafter': <function math.nextafter(x, y, /)>,\n",
       " 'ulp': <function math.ulp(x, /)>,\n",
       " '_i82': 'globals()'}"
      ]
     },
     "execution_count": 82,
     "metadata": {},
     "output_type": "execute_result"
    }
   ],
   "source": [
    "globals()"
   ]
  },
  {
   "cell_type": "code",
   "execution_count": 83,
   "metadata": {},
   "outputs": [
    {
     "ename": "TypeError",
     "evalue": "can't convert complex to float",
     "output_type": "error",
     "traceback": [
      "\u001b[1;31m---------------------------------------------------------------------------\u001b[0m",
      "\u001b[1;31mTypeError\u001b[0m                                 Traceback (most recent call last)",
      "\u001b[1;32m<ipython-input-83-bf68684de58d>\u001b[0m in \u001b[0;36m<module>\u001b[1;34m\u001b[0m\n\u001b[1;32m----> 1\u001b[1;33m \u001b[0msin\u001b[0m\u001b[1;33m(\u001b[0m\u001b[1;36m2\u001b[0m\u001b[1;33m+\u001b[0m\u001b[1;36m2j\u001b[0m\u001b[1;33m)\u001b[0m\u001b[1;33m\u001b[0m\u001b[1;33m\u001b[0m\u001b[0m\n\u001b[0m",
      "\u001b[1;31mTypeError\u001b[0m: can't convert complex to float"
     ]
    }
   ],
   "source": [
    "sin(2+2j)"
   ]
  },
  {
   "cell_type": "code",
   "execution_count": 84,
   "metadata": {},
   "outputs": [],
   "source": [
    "from cmath import sin"
   ]
  },
  {
   "cell_type": "code",
   "execution_count": 85,
   "metadata": {},
   "outputs": [
    {
     "data": {
      "text/plain": [
       "<function cmath.sin(z, /)>"
      ]
     },
     "execution_count": 85,
     "metadata": {},
     "output_type": "execute_result"
    }
   ],
   "source": [
    "sin"
   ]
  },
  {
   "cell_type": "code",
   "execution_count": 86,
   "metadata": {},
   "outputs": [],
   "source": [
    "from math import sin"
   ]
  },
  {
   "cell_type": "code",
   "execution_count": 87,
   "metadata": {},
   "outputs": [
    {
     "data": {
      "text/plain": [
       "<function math.sin(x, /)>"
      ]
     },
     "execution_count": 87,
     "metadata": {},
     "output_type": "execute_result"
    }
   ],
   "source": [
    "sin"
   ]
  },
  {
   "cell_type": "code",
   "execution_count": 88,
   "metadata": {},
   "outputs": [],
   "source": [
    "from cmath import sin as c_sin"
   ]
  },
  {
   "cell_type": "code",
   "execution_count": 89,
   "metadata": {},
   "outputs": [
    {
     "data": {
      "text/plain": [
       "<function cmath.sin(z, /)>"
      ]
     },
     "execution_count": 89,
     "metadata": {},
     "output_type": "execute_result"
    }
   ],
   "source": [
    "c_sin"
   ]
  },
  {
   "cell_type": "code",
   "execution_count": 90,
   "metadata": {},
   "outputs": [],
   "source": [
    "from math import sin as r_sin"
   ]
  },
  {
   "cell_type": "code",
   "execution_count": 91,
   "metadata": {},
   "outputs": [
    {
     "data": {
      "text/plain": [
       "<function math.sin(x, /)>"
      ]
     },
     "execution_count": 91,
     "metadata": {},
     "output_type": "execute_result"
    }
   ],
   "source": [
    "r_sin"
   ]
  },
  {
   "cell_type": "code",
   "execution_count": 92,
   "metadata": {},
   "outputs": [],
   "source": [
    "#efficiency"
   ]
  },
  {
   "cell_type": "code",
   "execution_count": 93,
   "metadata": {},
   "outputs": [],
   "source": [
    "def my_fun(a):\n",
    "    import math\n",
    "    return math.sqrt(a)"
   ]
  },
  {
   "cell_type": "code",
   "execution_count": 94,
   "metadata": {},
   "outputs": [],
   "source": [
    "from time import perf_counter"
   ]
  },
  {
   "cell_type": "code",
   "execution_count": 95,
   "metadata": {},
   "outputs": [],
   "source": [
    "from collections import namedtuple"
   ]
  },
  {
   "cell_type": "code",
   "execution_count": 100,
   "metadata": {},
   "outputs": [],
   "source": [
    "Timings = namedtuple('Timings', 'timing_1 timing_2 abs_diff rel_diff')"
   ]
  },
  {
   "cell_type": "code",
   "execution_count": 103,
   "metadata": {},
   "outputs": [],
   "source": [
    "def compare_timings(timing1, timing2):\n",
    "    rel_diff = (timing2-timing1)/timing1 *100\n",
    "    \n",
    "    timings = Timings(round(timing1,1),\n",
    "                     round(timing2, 1),\n",
    "                     round(timing2-timing1,1),\n",
    "                     round(rel_diff,2))\n",
    "    return timings"
   ]
  },
  {
   "cell_type": "code",
   "execution_count": 104,
   "metadata": {},
   "outputs": [
    {
     "data": {
      "text/plain": [
       "Timings(timing_1=1, timing_2=2, abs_diff=1, rel_diff=100.0)"
      ]
     },
     "execution_count": 104,
     "metadata": {},
     "output_type": "execute_result"
    }
   ],
   "source": [
    "compare_timings(1,2)"
   ]
  },
  {
   "cell_type": "code",
   "execution_count": 118,
   "metadata": {},
   "outputs": [],
   "source": [
    "test_repeats = 10_000_000"
   ]
  },
  {
   "cell_type": "code",
   "execution_count": 119,
   "metadata": {},
   "outputs": [],
   "source": [
    "#####timing using fully qualified module.symbol"
   ]
  },
  {
   "cell_type": "code",
   "execution_count": 120,
   "metadata": {},
   "outputs": [
    {
     "name": "stdout",
     "output_type": "stream",
     "text": [
      "Elapsed: 3.796668299997691\n"
     ]
    }
   ],
   "source": [
    "import math\n",
    "\n",
    "start = perf_counter()\n",
    "for _ in range(test_repeats):\n",
    "    math.sqrt(2)\n",
    "end = perf_counter()\n",
    "elapsed_fully_qualified = end-start\n",
    "print(f'Elapsed: {elapsed_fully_qualified}')"
   ]
  },
  {
   "cell_type": "code",
   "execution_count": 121,
   "metadata": {},
   "outputs": [],
   "source": [
    "##### Timing using a directly imported single name"
   ]
  },
  {
   "cell_type": "code",
   "execution_count": 122,
   "metadata": {},
   "outputs": [
    {
     "name": "stdout",
     "output_type": "stream",
     "text": [
      "Elapsed: 3.789418199998181\n"
     ]
    }
   ],
   "source": [
    "from math import sqrt\n",
    "\n",
    "start = perf_counter()\n",
    "for _ in range(test_repeats):\n",
    "    math.sqrt(2)\n",
    "end = perf_counter()\n",
    "elapsed_direct_symbol = end-start\n",
    "print(f'Elapsed: {elapsed_direct_symbol}')"
   ]
  },
  {
   "cell_type": "code",
   "execution_count": 123,
   "metadata": {},
   "outputs": [
    {
     "data": {
      "text/plain": [
       "Timings(timing_1=3.8, timing_2=3.8, abs_diff=-0.0, rel_diff=-0.19)"
      ]
     },
     "execution_count": 123,
     "metadata": {},
     "output_type": "execute_result"
    }
   ],
   "source": [
    "compare_timings(elapsed_fully_qualified, elapsed_direct_symbol)"
   ]
  },
  {
   "cell_type": "code",
   "execution_count": 124,
   "metadata": {},
   "outputs": [],
   "source": [
    "##### timing using a function wrapper(fully qualified symbol)"
   ]
  },
  {
   "cell_type": "code",
   "execution_count": 125,
   "metadata": {},
   "outputs": [
    {
     "name": "stdout",
     "output_type": "stream",
     "text": [
      "Elapsed: 3.796668299997691\n"
     ]
    }
   ],
   "source": [
    "import math\n",
    "\n",
    "def fun():\n",
    "    math.sqrt(2)\n",
    "    \n",
    "start = perf_counter()\n",
    "for _ in range(test_repeats):\n",
    "    fun()\n",
    "end = perf_counter()\n",
    "elapsed_direct_symbol = end-start\n",
    "print(f'Elapsed: {elapsed_fully_qualified}')"
   ]
  },
  {
   "cell_type": "code",
   "execution_count": 128,
   "metadata": {},
   "outputs": [
    {
     "name": "stdout",
     "output_type": "stream",
     "text": [
      "Elapsed: 4.8645278999974835\n"
     ]
    }
   ],
   "source": [
    "from math import sqrt\n",
    "\n",
    "def fun():\n",
    "    sqrt(2)\n",
    "    \n",
    "start = perf_counter()\n",
    "for _ in range(test_repeats):\n",
    "    fun()\n",
    "end = perf_counter()\n",
    "elapsed_direct_symbol = end-start\n",
    "print(f'Elapsed: {elapsed_direct_symbol}')"
   ]
  },
  {
   "cell_type": "code",
   "execution_count": 129,
   "metadata": {},
   "outputs": [
    {
     "data": {
      "text/plain": [
       "Timings(timing_1=3.8, timing_2=4.9, abs_diff=1.1, rel_diff=28.13)"
      ]
     },
     "execution_count": 129,
     "metadata": {},
     "output_type": "execute_result"
    }
   ],
   "source": [
    "compare_timings(elapsed_fully_qualified,elapsed_direct_symbol )"
   ]
  },
  {
   "cell_type": "code",
   "execution_count": 130,
   "metadata": {},
   "outputs": [],
   "source": [
    "####Nested IMPORT"
   ]
  },
  {
   "cell_type": "code",
   "execution_count": 131,
   "metadata": {},
   "outputs": [
    {
     "name": "stdout",
     "output_type": "stream",
     "text": [
      "Elapsed: 8.322313399999985\n"
     ]
    }
   ],
   "source": [
    "def fun():\n",
    "    import math\n",
    "    math.sqrt(2)\n",
    "    \n",
    "start = perf_counter()\n",
    "for _ in range(test_repeats):\n",
    "    fun()\n",
    "end = perf_counter()\n",
    "elapsed_nested_fully_qualified = end-start\n",
    "print(f'Elapsed: {elapsed_nested_fully_qualified}')"
   ]
  },
  {
   "cell_type": "code",
   "execution_count": 132,
   "metadata": {},
   "outputs": [
    {
     "data": {
      "text/plain": [
       "Timings(timing_1=3.8, timing_2=8.3, abs_diff=4.5, rel_diff=119.2)"
      ]
     },
     "execution_count": 132,
     "metadata": {},
     "output_type": "execute_result"
    }
   ],
   "source": [
    "compare_timings(elapsed_fully_qualified, elapsed_nested_fully_qualified)"
   ]
  },
  {
   "cell_type": "code",
   "execution_count": 133,
   "metadata": {},
   "outputs": [
    {
     "name": "stdout",
     "output_type": "stream",
     "text": [
      "Elapsed: 23.149359200000617\n"
     ]
    }
   ],
   "source": [
    "def fun():\n",
    "    from math import sqrt\n",
    "    sqrt(2)\n",
    "    \n",
    "start = perf_counter()\n",
    "for _ in range(test_repeats):\n",
    "    fun()\n",
    "end = perf_counter()\n",
    "elapsed_nested_direct_symbol = end-start\n",
    "print(f'Elapsed: {elapsed_nested_direct_symbol}')"
   ]
  },
  {
   "cell_type": "code",
   "execution_count": 135,
   "metadata": {},
   "outputs": [
    {
     "data": {
      "text/plain": [
       "Timings(timing_1=8.3, timing_2=23.1, abs_diff=14.8, rel_diff=178.16)"
      ]
     },
     "execution_count": 135,
     "metadata": {},
     "output_type": "execute_result"
    }
   ],
   "source": [
    "compare_timings(elapsed_nested_fully_qualified,elapsed_nested_direct_symbol )"
   ]
  },
  {
   "cell_type": "code",
   "execution_count": 168,
   "metadata": {},
   "outputs": [],
   "source": [
    "import os\n",
    "\n",
    "def create_module_file(module_name, **kwargs):\n",
    "    '''create a module file named <module_name>.py\n",
    "    module has a single function(print_values) that will \n",
    "    print out the supplied kwargs\n",
    "    '''\n",
    "    \n",
    "    module_file_name = f'{module_name}.py'\n",
    "    #module_file_name = '{0}.py'.format(module_name)\n",
    "    module_rel_file_path = module_file_name\n",
    "    module_abs_file_path = os.path.abspath(module_rel_file_path)\n",
    "    \n",
    "    with open(module_abs_file_path, 'w') as f:\n",
    "        f.write(f\"#{module_name}.py\\n\\n\")\n",
    "        f.write(f\"print('running {module_file_name}...')\\n\\n\")\n",
    "        f.write(f\"def print_values():\\n\")\n",
    "        for k,v in kwargs.items():\n",
    "            f.write(f\"\\tprint('{str(k)}', '{str(v)}')\\n\")"
   ]
  },
  {
   "cell_type": "code",
   "execution_count": 169,
   "metadata": {},
   "outputs": [],
   "source": [
    "create_module_file('test', k1 = 10, k3 = 'python')"
   ]
  },
  {
   "cell_type": "code",
   "execution_count": 170,
   "metadata": {},
   "outputs": [
    {
     "name": "stdout",
     "output_type": "stream",
     "text": [
      "running test.py...\n"
     ]
    }
   ],
   "source": [
    "import test"
   ]
  },
  {
   "cell_type": "code",
   "execution_count": 171,
   "metadata": {},
   "outputs": [
    {
     "data": {
      "text/plain": [
       "<module 'test' from 'C:\\\\Users\\\\karti\\\\pycode\\\\test.py'>"
      ]
     },
     "execution_count": 171,
     "metadata": {},
     "output_type": "execute_result"
    }
   ],
   "source": [
    "test"
   ]
  },
  {
   "cell_type": "code",
   "execution_count": 172,
   "metadata": {},
   "outputs": [
    {
     "name": "stdout",
     "output_type": "stream",
     "text": [
      "k1 10\n",
      "k3 python\n"
     ]
    }
   ],
   "source": [
    "test.print_values()"
   ]
  },
  {
   "cell_type": "markdown",
   "metadata": {},
   "source": []
  },
  {
   "cell_type": "raw",
   "metadata": {},
   "source": []
  },
  {
   "cell_type": "code",
   "execution_count": 173,
   "metadata": {},
   "outputs": [],
   "source": [
    "create_module_file('test', k1 = 10, k2 = 'python', k3 = 'cheese')"
   ]
  },
  {
   "cell_type": "code",
   "execution_count": 174,
   "metadata": {},
   "outputs": [],
   "source": [
    "import test"
   ]
  },
  {
   "cell_type": "code",
   "execution_count": 175,
   "metadata": {},
   "outputs": [
    {
     "name": "stdout",
     "output_type": "stream",
     "text": [
      "k1 10\n",
      "k3 python\n"
     ]
    }
   ],
   "source": [
    "test.print_values()"
   ]
  },
  {
   "cell_type": "code",
   "execution_count": 176,
   "metadata": {},
   "outputs": [
    {
     "data": {
      "text/plain": [
       "2118942679264"
      ]
     },
     "execution_count": 176,
     "metadata": {},
     "output_type": "execute_result"
    }
   ],
   "source": [
    "id(test)"
   ]
  },
  {
   "cell_type": "code",
   "execution_count": 177,
   "metadata": {},
   "outputs": [],
   "source": [
    "import sys\n"
   ]
  },
  {
   "cell_type": "code",
   "execution_count": 178,
   "metadata": {},
   "outputs": [
    {
     "data": {
      "text/plain": [
       "True"
      ]
     },
     "execution_count": 178,
     "metadata": {},
     "output_type": "execute_result"
    }
   ],
   "source": [
    "'test' in sys.modules"
   ]
  },
  {
   "cell_type": "code",
   "execution_count": 180,
   "metadata": {},
   "outputs": [],
   "source": [
    "del sys.modules['test']"
   ]
  },
  {
   "cell_type": "code",
   "execution_count": 181,
   "metadata": {},
   "outputs": [
    {
     "data": {
      "text/plain": [
       "False"
      ]
     },
     "execution_count": 181,
     "metadata": {},
     "output_type": "execute_result"
    }
   ],
   "source": [
    "'test' in sys.modules"
   ]
  },
  {
   "cell_type": "code",
   "execution_count": 182,
   "metadata": {},
   "outputs": [
    {
     "name": "stdout",
     "output_type": "stream",
     "text": [
      "running test.py...\n"
     ]
    }
   ],
   "source": [
    "import test"
   ]
  },
  {
   "cell_type": "code",
   "execution_count": 183,
   "metadata": {},
   "outputs": [
    {
     "data": {
      "text/plain": [
       "2118948108464"
      ]
     },
     "execution_count": 183,
     "metadata": {},
     "output_type": "execute_result"
    }
   ],
   "source": [
    "id(sys.modules['test'])"
   ]
  },
  {
   "cell_type": "code",
   "execution_count": 184,
   "metadata": {},
   "outputs": [
    {
     "data": {
      "text/plain": [
       "True"
      ]
     },
     "execution_count": 184,
     "metadata": {},
     "output_type": "execute_result"
    }
   ],
   "source": [
    "'test' in globals()"
   ]
  },
  {
   "cell_type": "code",
   "execution_count": 185,
   "metadata": {},
   "outputs": [
    {
     "data": {
      "text/plain": [
       "2118948108464"
      ]
     },
     "execution_count": 185,
     "metadata": {},
     "output_type": "execute_result"
    }
   ],
   "source": [
    "id(test)"
   ]
  },
  {
   "cell_type": "code",
   "execution_count": 186,
   "metadata": {},
   "outputs": [
    {
     "name": "stdout",
     "output_type": "stream",
     "text": [
      "k1 10\n",
      "k2 python\n",
      "k3 cheese\n"
     ]
    }
   ],
   "source": [
    "test.print_values()"
   ]
  },
  {
   "cell_type": "code",
   "execution_count": 188,
   "metadata": {},
   "outputs": [
    {
     "data": {
      "text/plain": [
       "(2118948108464, 2118948108464)"
      ]
     },
     "execution_count": 188,
     "metadata": {},
     "output_type": "execute_result"
    }
   ],
   "source": [
    "id(test), id(sys.modules['test'])"
   ]
  },
  {
   "cell_type": "code",
   "execution_count": 190,
   "metadata": {},
   "outputs": [],
   "source": [
    "create_module_file('test', k1 = 10, k2 = 'python', \n",
    "                  k3 = 'cheese', k4 = 'parrot')"
   ]
  },
  {
   "cell_type": "code",
   "execution_count": 191,
   "metadata": {},
   "outputs": [],
   "source": [
    "import importlib"
   ]
  },
  {
   "cell_type": "code",
   "execution_count": 192,
   "metadata": {},
   "outputs": [
    {
     "name": "stdout",
     "output_type": "stream",
     "text": [
      "running test.py...\n"
     ]
    },
    {
     "data": {
      "text/plain": [
       "<module 'test' from 'C:\\\\Users\\\\karti\\\\pycode\\\\test.py'>"
      ]
     },
     "execution_count": 192,
     "metadata": {},
     "output_type": "execute_result"
    }
   ],
   "source": [
    "importlib.reload(test)"
   ]
  },
  {
   "cell_type": "code",
   "execution_count": 193,
   "metadata": {},
   "outputs": [
    {
     "data": {
      "text/plain": [
       "2118948108464"
      ]
     },
     "execution_count": 193,
     "metadata": {},
     "output_type": "execute_result"
    }
   ],
   "source": [
    "id(test)"
   ]
  },
  {
   "cell_type": "code",
   "execution_count": 194,
   "metadata": {},
   "outputs": [
    {
     "data": {
      "text/plain": [
       "2118948108464"
      ]
     },
     "execution_count": 194,
     "metadata": {},
     "output_type": "execute_result"
    }
   ],
   "source": [
    "id(sys.modules['test'])"
   ]
  },
  {
   "cell_type": "code",
   "execution_count": 195,
   "metadata": {},
   "outputs": [
    {
     "name": "stdout",
     "output_type": "stream",
     "text": [
      "k1 10\n",
      "k2 python\n",
      "k3 cheese\n",
      "k4 parrot\n"
     ]
    }
   ],
   "source": [
    "test.print_values()"
   ]
  },
  {
   "cell_type": "code",
   "execution_count": 196,
   "metadata": {},
   "outputs": [],
   "source": [
    "create_module_file('test2', k1 = 'python')"
   ]
  },
  {
   "cell_type": "code",
   "execution_count": 198,
   "metadata": {},
   "outputs": [],
   "source": [
    "from test2 import print_values"
   ]
  },
  {
   "cell_type": "code",
   "execution_count": 200,
   "metadata": {},
   "outputs": [
    {
     "data": {
      "text/plain": [
       "False"
      ]
     },
     "execution_count": 200,
     "metadata": {},
     "output_type": "execute_result"
    }
   ],
   "source": [
    "'test2' in globals()"
   ]
  },
  {
   "cell_type": "code",
   "execution_count": 201,
   "metadata": {},
   "outputs": [
    {
     "data": {
      "text/plain": [
       "True"
      ]
     },
     "execution_count": 201,
     "metadata": {},
     "output_type": "execute_result"
    }
   ],
   "source": [
    "'test2' in sys.modules"
   ]
  },
  {
   "cell_type": "code",
   "execution_count": 202,
   "metadata": {},
   "outputs": [
    {
     "data": {
      "text/plain": [
       "<function test2.print_values()>"
      ]
     },
     "execution_count": 202,
     "metadata": {},
     "output_type": "execute_result"
    }
   ],
   "source": [
    "print_values"
   ]
  },
  {
   "cell_type": "code",
   "execution_count": 203,
   "metadata": {},
   "outputs": [
    {
     "name": "stdout",
     "output_type": "stream",
     "text": [
      "k1 python\n"
     ]
    }
   ],
   "source": [
    "print_values()"
   ]
  },
  {
   "cell_type": "code",
   "execution_count": 204,
   "metadata": {},
   "outputs": [],
   "source": [
    "create_module_file('test2', k1 = 'python', k2 = 'cheese')"
   ]
  },
  {
   "cell_type": "code",
   "execution_count": 205,
   "metadata": {},
   "outputs": [
    {
     "name": "stdout",
     "output_type": "stream",
     "text": [
      "running test2.py...\n"
     ]
    },
    {
     "data": {
      "text/plain": [
       "<module 'test2' from 'C:\\\\Users\\\\karti\\\\pycode\\\\test2.py'>"
      ]
     },
     "execution_count": 205,
     "metadata": {},
     "output_type": "execute_result"
    }
   ],
   "source": [
    "importlib.reload(sys.modules['test2'])"
   ]
  },
  {
   "cell_type": "code",
   "execution_count": 206,
   "metadata": {},
   "outputs": [
    {
     "name": "stdout",
     "output_type": "stream",
     "text": [
      "k1 python\n"
     ]
    }
   ],
   "source": [
    "print_values()"
   ]
  },
  {
   "cell_type": "code",
   "execution_count": 207,
   "metadata": {},
   "outputs": [],
   "source": [
    "print_values = sys.modules['test2'].print_values"
   ]
  },
  {
   "cell_type": "code",
   "execution_count": 208,
   "metadata": {},
   "outputs": [
    {
     "name": "stdout",
     "output_type": "stream",
     "text": [
      "k1 python\n",
      "k2 cheese\n"
     ]
    }
   ],
   "source": [
    "print_values()"
   ]
  },
  {
   "cell_type": "code",
   "execution_count": null,
   "metadata": {},
   "outputs": [],
   "source": []
  }
 ],
 "metadata": {
  "kernelspec": {
   "display_name": "Python 3",
   "language": "python",
   "name": "python3"
  },
  "language_info": {
   "codemirror_mode": {
    "name": "ipython",
    "version": 3
   },
   "file_extension": ".py",
   "mimetype": "text/x-python",
   "name": "python",
   "nbconvert_exporter": "python",
   "pygments_lexer": "ipython3",
   "version": "3.9.0"
  }
 },
 "nbformat": 4,
 "nbformat_minor": 4
}
