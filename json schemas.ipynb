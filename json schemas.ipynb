{
 "cells": [
  {
   "cell_type": "code",
   "execution_count": 1,
   "metadata": {},
   "outputs": [],
   "source": [
    "person_schema= {\n",
    "    \"type\": \"object\",\n",
    "    \"properties\": {\n",
    "        \"f_name\":{\"type\":\"string\"},\n",
    "        \"m_name\":{\"type\":\"string\"},\n",
    "        \"l_name\":{\"type\":\"string\"},\n",
    "        \"age\":{\"type\":\"number\"}\n",
    "    }\n",
    "}"
   ]
  },
  {
   "cell_type": "code",
   "execution_count": 2,
   "metadata": {},
   "outputs": [],
   "source": [
    "p1 = '''\n",
    "{\n",
    "\"f_name\": \"john\",\n",
    "\"m_name\": \"M\",\n",
    "\"l_name\": \"cheese\",\n",
    "\"age\":79\n",
    "\n",
    "}\n",
    "\n",
    "'''"
   ]
  },
  {
   "cell_type": "code",
   "execution_count": 3,
   "metadata": {},
   "outputs": [],
   "source": [
    "p2 = '''\n",
    "{\n",
    "\"f_name\":\"john\",\n",
    "\"m_name\": 100,\n",
    "\"l_name\": \"cheese\",\n",
    "\"age\":\"Unknown\"\n",
    "}\n",
    "'''"
   ]
  },
  {
   "cell_type": "code",
   "execution_count": 4,
   "metadata": {},
   "outputs": [],
   "source": [
    "p3 = '''\n",
    "\n",
    "{\n",
    "\"f_name\":\"john\",\n",
    "\"age\":-10.5\n",
    "}\n",
    "'''"
   ]
  },
  {
   "cell_type": "code",
   "execution_count": 10,
   "metadata": {},
   "outputs": [],
   "source": [
    "person_schema= {\n",
    "    \"type\": \"object\",\n",
    "    \"properties\": {\n",
    "        \"f_name\":{\n",
    "            \"type\":\"string\",\n",
    "            \"min_l\":1\n",
    "        },\n",
    "        \"m_name\":{\n",
    "            \"type\":\"string\",\n",
    "            \"min_l\":1,\n",
    "            \"max_l\":1\n",
    "        },\n",
    "        \"l_name\":{\n",
    "            \"type\":\"string\",\n",
    "            \"min_l\":1,\n",
    "        },\n",
    "        \"age\":{\n",
    "            \"type\":\"integer\",\n",
    "              \"min\":0},\n",
    "        \"eyecolor\": {\n",
    "            \"type\":\"string\",\n",
    "            \"enum\": [\"amber\", \"blue\", \"brown\", \"gray\",\n",
    "                    \"green\", \"hazel\", \"red\", \"violet\"]\n",
    "        }\n",
    "    },\n",
    "    \"required\": [\"f_name\", \"l_name\"]\n",
    "}"
   ]
  },
  {
   "cell_type": "code",
   "execution_count": 11,
   "metadata": {},
   "outputs": [],
   "source": [
    "from jsonschema import validate"
   ]
  },
  {
   "cell_type": "code",
   "execution_count": 13,
   "metadata": {},
   "outputs": [],
   "source": [
    "from jsonschema.exceptions import ValidationError\n",
    "from json import loads, dumps, JSONDecodeError"
   ]
  },
  {
   "cell_type": "code",
   "execution_count": 17,
   "metadata": {},
   "outputs": [
    {
     "name": "stdout",
     "output_type": "stream",
     "text": [
      "\n",
      "{\n",
      "\"f_name\":\"john\",\n",
      "\"m_name\": 100,\n",
      "\"l_name\": \"cheese\",\n",
      "\"age\":\"Unknown\"\n",
      "}\n",
      "\n",
      "Validation error: 100 is not of type 'string'\n",
      "\n",
      "Failed validating 'type' in schema['properties']['m_name']:\n",
      "    {'max_l': 1, 'min_l': 1, 'type': 'string'}\n",
      "\n",
      "On instance['m_name']:\n",
      "    100\n"
     ]
    }
   ],
   "source": [
    "json_doc=p2\n",
    "print(json_doc)\n",
    "\n",
    "try:\n",
    "    validate(loads(json_doc), person_schema)\n",
    "except JSONDecodeError as ex:\n",
    "    print(f'Invalid json: {ex}')\n",
    "except ValidationError as ex:\n",
    "    print(f'Validation error: {ex}')\n",
    "else:\n",
    "    print('json is valid')"
   ]
  },
  {
   "cell_type": "code",
   "execution_count": 18,
   "metadata": {},
   "outputs": [],
   "source": [
    "from jsonschema import Draft4Validator\n",
    "validator = Draft4Validator(person_schema)"
   ]
  },
  {
   "cell_type": "code",
   "execution_count": 22,
   "metadata": {},
   "outputs": [
    {
     "name": "stdout",
     "output_type": "stream",
     "text": [
      "-10.5 is not of type 'integer'\n",
      "\n",
      "Failed validating 'type' in schema['properties']['age']:\n",
      "    {'min': 0, 'type': 'integer'}\n",
      "\n",
      "On instance['age']:\n",
      "    -10.5\n",
      "--------------\n",
      "'l_name' is a required property\n",
      "\n",
      "Failed validating 'required' in schema:\n",
      "    {'properties': {'age': {'min': 0, 'type': 'integer'},\n",
      "                    'eyecolor': {'enum': ['amber',\n",
      "                                          'blue',\n",
      "                                          'brown',\n",
      "                                          'gray',\n",
      "                                          'green',\n",
      "                                          'hazel',\n",
      "                                          'red',\n",
      "                                          'violet'],\n",
      "                                 'type': 'string'},\n",
      "                    'f_name': {'min_l': 1, 'type': 'string'},\n",
      "                    'l_name': {'min_l': 1, 'type': 'string'},\n",
      "                    'm_name': {'max_l': 1, 'min_l': 1, 'type': 'string'}},\n",
      "     'required': ['f_name', 'l_name'],\n",
      "     'type': 'object'}\n",
      "\n",
      "On instance:\n",
      "    {'age': -10.5, 'f_name': 'john'}\n",
      "--------------\n"
     ]
    }
   ],
   "source": [
    "json_doc = p3\n",
    "for error in validator.iter_errors(loads(json_doc)):\n",
    "    print( error, end = '\\n--------------\\n')"
   ]
  },
  {
   "cell_type": "code",
   "execution_count": 25,
   "metadata": {},
   "outputs": [],
   "source": [
    "p4 = '''\n",
    "{\n",
    "\"f_name\":\"john\",\n",
    "\"l_name\": \"cheese\",\n",
    "\"eyecolor\": \"blue\"\n",
    "}\n",
    "'''"
   ]
  },
  {
   "cell_type": "code",
   "execution_count": 26,
   "metadata": {},
   "outputs": [],
   "source": [
    "json_doc = p4\n",
    "for error in validator.iter_errors(loads(json_doc)):\n",
    "    print( error, end = '\\n--------------\\n')"
   ]
  },
  {
   "cell_type": "code",
   "execution_count": null,
   "metadata": {},
   "outputs": [],
   "source": []
  }
 ],
 "metadata": {
  "kernelspec": {
   "display_name": "Python 3",
   "language": "python",
   "name": "python3"
  },
  "language_info": {
   "codemirror_mode": {
    "name": "ipython",
    "version": 3
   },
   "file_extension": ".py",
   "mimetype": "text/x-python",
   "name": "python",
   "nbconvert_exporter": "python",
   "pygments_lexer": "ipython3",
   "version": "3.9.0"
  }
 },
 "nbformat": 4,
 "nbformat_minor": 4
}
