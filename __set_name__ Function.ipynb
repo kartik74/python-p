{
 "cells": [
  {
   "cell_type": "code",
   "execution_count": 2,
   "metadata": {},
   "outputs": [],
   "source": [
    "class ValidStr:\n",
    "    def __set_name__(self,owner_class, property_name):\n",
    "        print(f'__set_name__: owner: {owner_class}, property_name = {property_name}')"
   ]
  },
  {
   "cell_type": "code",
   "execution_count": 3,
   "metadata": {},
   "outputs": [
    {
     "name": "stdout",
     "output_type": "stream",
     "text": [
      "__set_name__: owner: <class '__main__.Person'>, property_name = name\n"
     ]
    }
   ],
   "source": [
    "class Person:\n",
    "    name = ValidStr()"
   ]
  },
  {
   "cell_type": "code",
   "execution_count": 4,
   "metadata": {},
   "outputs": [],
   "source": [
    "class ValidStr:\n",
    "    def __set_name__(self,owner_class, property_name):\n",
    "        print(f'__set_name__: owner: {owner_class}, property_name = {property_name}')\n",
    "        self.property_name = property_name\n",
    "        \n",
    "    def __get__(self, instance, owner_class):\n",
    "        if instance is None:\n",
    "            return self\n",
    "        print(f'__get__ called for property {self.property_name} of instance {instance}')"
   ]
  },
  {
   "cell_type": "code",
   "execution_count": 5,
   "metadata": {},
   "outputs": [
    {
     "name": "stdout",
     "output_type": "stream",
     "text": [
      "__set_name__: owner: <class '__main__.Person'>, property_name = f_name\n",
      "__set_name__: owner: <class '__main__.Person'>, property_name = l_name\n"
     ]
    }
   ],
   "source": [
    "class Person:\n",
    "    f_name = ValidStr()\n",
    "    l_name = ValidStr()"
   ]
  },
  {
   "cell_type": "code",
   "execution_count": 6,
   "metadata": {},
   "outputs": [],
   "source": [
    "p = Person()\n"
   ]
  },
  {
   "cell_type": "code",
   "execution_count": 7,
   "metadata": {},
   "outputs": [
    {
     "name": "stdout",
     "output_type": "stream",
     "text": [
      "__get__ called for property f_name of instance <__main__.Person object at 0x0000025FC8AB4910>\n"
     ]
    }
   ],
   "source": [
    "p.f_name"
   ]
  },
  {
   "cell_type": "code",
   "execution_count": 13,
   "metadata": {},
   "outputs": [],
   "source": [
    "class ValidStr:\n",
    "    \n",
    "    def __init__(self, min_l= None):\n",
    "        self.min_l = min_l\n",
    "        \n",
    "    def __set_name__(self,owner_class, property_name):\n",
    "        self.property_name = property_name\n",
    "        \n",
    "    def __set__(self, instance, value):\n",
    "        if not isinstance(value, str):\n",
    "            raise ValueError(f'{self.property_name} must be a str')\n",
    "        if self.min_l is not None and len(value) < self.min_l:\n",
    "            raise ValueError(\n",
    "            f'{self.property_name} must be atleast {self.min_l} char')\n",
    "        key = '_' + self.property_name\n",
    "        setattr(instance, key, value)\n",
    "        \n",
    "    def __get__(self, instance, owner_class):\n",
    "        if instance is None:\n",
    "            return self\n",
    "        key = '_' + self.property_name\n",
    "        return getattr(instance, key, None)\n",
    "        \n",
    "        \n",
    "        \n",
    "        "
   ]
  },
  {
   "cell_type": "code",
   "execution_count": 14,
   "metadata": {},
   "outputs": [],
   "source": [
    "class Person:\n",
    "    f_name = ValidStr(1)\n",
    "    l_name = ValidStr(2)"
   ]
  },
  {
   "cell_type": "code",
   "execution_count": 15,
   "metadata": {},
   "outputs": [],
   "source": [
    "p = Person()"
   ]
  },
  {
   "cell_type": "code",
   "execution_count": 18,
   "metadata": {},
   "outputs": [],
   "source": [
    "try:\n",
    "    p.f_name = 'lil'\n",
    "    p.l_name = 'lol'\n",
    "except ValueError as ex:\n",
    "    print(ex)"
   ]
  },
  {
   "cell_type": "code",
   "execution_count": 19,
   "metadata": {},
   "outputs": [],
   "source": [
    "p.f_name = 'alw'\n",
    "p.l_name = 'lol'"
   ]
  },
  {
   "cell_type": "code",
   "execution_count": 20,
   "metadata": {},
   "outputs": [
    {
     "data": {
      "text/plain": [
       "('alw', 'lol')"
      ]
     },
     "execution_count": 20,
     "metadata": {},
     "output_type": "execute_result"
    }
   ],
   "source": [
    "p.f_name, p.l_name"
   ]
  },
  {
   "cell_type": "code",
   "execution_count": 21,
   "metadata": {},
   "outputs": [
    {
     "data": {
      "text/plain": [
       "{'_f_name': 'alw', '_l_name': 'lol'}"
      ]
     },
     "execution_count": 21,
     "metadata": {},
     "output_type": "execute_result"
    }
   ],
   "source": [
    "p.__dict__"
   ]
  },
  {
   "cell_type": "code",
   "execution_count": 22,
   "metadata": {},
   "outputs": [],
   "source": [
    "p = Person()"
   ]
  },
  {
   "cell_type": "code",
   "execution_count": 23,
   "metadata": {},
   "outputs": [],
   "source": [
    "p.f_name = 'lololo'\n"
   ]
  },
  {
   "cell_type": "code",
   "execution_count": 25,
   "metadata": {},
   "outputs": [
    {
     "data": {
      "text/plain": [
       "{'_f_name': 'lololo'}"
      ]
     },
     "execution_count": 25,
     "metadata": {},
     "output_type": "execute_result"
    }
   ],
   "source": [
    "p.__dict__"
   ]
  },
  {
   "cell_type": "code",
   "execution_count": 26,
   "metadata": {},
   "outputs": [],
   "source": [
    "p.f_name = 'koko'"
   ]
  },
  {
   "cell_type": "code",
   "execution_count": 27,
   "metadata": {},
   "outputs": [
    {
     "data": {
      "text/plain": [
       "{'_f_name': 'koko'}"
      ]
     },
     "execution_count": 27,
     "metadata": {},
     "output_type": "execute_result"
    }
   ],
   "source": [
    "p.__dict__"
   ]
  },
  {
   "cell_type": "code",
   "execution_count": 28,
   "metadata": {},
   "outputs": [],
   "source": [
    "class BankAcc:\n",
    "    apr =10"
   ]
  },
  {
   "cell_type": "code",
   "execution_count": 30,
   "metadata": {},
   "outputs": [],
   "source": [
    "b = BankAcc()"
   ]
  },
  {
   "cell_type": "code",
   "execution_count": 31,
   "metadata": {},
   "outputs": [
    {
     "data": {
      "text/plain": [
       "10"
      ]
     },
     "execution_count": 31,
     "metadata": {},
     "output_type": "execute_result"
    }
   ],
   "source": [
    "b.apr"
   ]
  },
  {
   "cell_type": "code",
   "execution_count": 32,
   "metadata": {},
   "outputs": [
    {
     "data": {
      "text/plain": [
       "{}"
      ]
     },
     "execution_count": 32,
     "metadata": {},
     "output_type": "execute_result"
    }
   ],
   "source": [
    "b.__dict__"
   ]
  },
  {
   "cell_type": "code",
   "execution_count": 33,
   "metadata": {},
   "outputs": [],
   "source": [
    "b.apr = 100"
   ]
  },
  {
   "cell_type": "code",
   "execution_count": 34,
   "metadata": {},
   "outputs": [
    {
     "data": {
      "text/plain": [
       "{'apr': 100}"
      ]
     },
     "execution_count": 34,
     "metadata": {},
     "output_type": "execute_result"
    }
   ],
   "source": [
    "b.__dict__"
   ]
  },
  {
   "cell_type": "code",
   "execution_count": 35,
   "metadata": {},
   "outputs": [
    {
     "data": {
      "text/plain": [
       "100"
      ]
     },
     "execution_count": 35,
     "metadata": {},
     "output_type": "execute_result"
    }
   ],
   "source": [
    "b.apr"
   ]
  },
  {
   "cell_type": "code",
   "execution_count": 44,
   "metadata": {},
   "outputs": [],
   "source": [
    "class ValidStr:\n",
    "    \n",
    "    def __init__(self, min_l= None):\n",
    "        self.min_l = min_l\n",
    "        \n",
    "    def __set_name__(self,owner_class, property_name):\n",
    "        self.property_name = property_name\n",
    "        \n",
    "    def __set__(self, instance, value):\n",
    "        if not isinstance(value, str):\n",
    "            raise ValueError(f'{self.property_name} must be a str')\n",
    "        if self.min_l is not None and len(value) < self.min_l:\n",
    "            raise ValueError(\n",
    "            f'{self.property_name} must be atleast {self.min_l} char')\n",
    "        instance.__dict__[self.property_name] = value\n",
    "        \n",
    "        \n",
    "    def __get__(self, instance, owner_class):\n",
    "        if instance is None:\n",
    "            return self\n",
    "        print('__get__ called')\n",
    "        return instance.__dict__.get(self.property_name, None)\n",
    "        \n",
    "        \n",
    "        \n",
    "        "
   ]
  },
  {
   "cell_type": "code",
   "execution_count": 45,
   "metadata": {},
   "outputs": [],
   "source": [
    "class Person:\n",
    "    f_name = ValidStr(1)\n",
    "    l_name = ValidStr(2)"
   ]
  },
  {
   "cell_type": "code",
   "execution_count": 46,
   "metadata": {},
   "outputs": [],
   "source": [
    "p = Person()"
   ]
  },
  {
   "cell_type": "code",
   "execution_count": 47,
   "metadata": {},
   "outputs": [
    {
     "data": {
      "text/plain": [
       "{}"
      ]
     },
     "execution_count": 47,
     "metadata": {},
     "output_type": "execute_result"
    }
   ],
   "source": [
    "p.__dict__"
   ]
  },
  {
   "cell_type": "code",
   "execution_count": 48,
   "metadata": {},
   "outputs": [],
   "source": [
    "p.f_name = 'lol'"
   ]
  },
  {
   "cell_type": "code",
   "execution_count": 49,
   "metadata": {},
   "outputs": [
    {
     "data": {
      "text/plain": [
       "{'f_name': 'lol'}"
      ]
     },
     "execution_count": 49,
     "metadata": {},
     "output_type": "execute_result"
    }
   ],
   "source": [
    "p.__dict__"
   ]
  },
  {
   "cell_type": "code",
   "execution_count": 50,
   "metadata": {},
   "outputs": [
    {
     "name": "stdout",
     "output_type": "stream",
     "text": [
      "__get__ called\n"
     ]
    },
    {
     "data": {
      "text/plain": [
       "'lol'"
      ]
     },
     "execution_count": 50,
     "metadata": {},
     "output_type": "execute_result"
    }
   ],
   "source": [
    "p.f_name"
   ]
  },
  {
   "cell_type": "code",
   "execution_count": null,
   "metadata": {},
   "outputs": [],
   "source": []
  },
  {
   "cell_type": "code",
   "execution_count": 51,
   "metadata": {},
   "outputs": [],
   "source": [
    "#property lookup Resolution\n"
   ]
  },
  {
   "cell_type": "code",
   "execution_count": 53,
   "metadata": {},
   "outputs": [],
   "source": [
    "class IntVal:\n",
    "    def __set__(self, instance, value):\n",
    "        print('__set__')\n",
    "    def __get__(self, instance, owner_class):\n",
    "        print('__get__')"
   ]
  },
  {
   "cell_type": "code",
   "execution_count": 54,
   "metadata": {},
   "outputs": [],
   "source": [
    "class Point:\n",
    "    x = IntVal()"
   ]
  },
  {
   "cell_type": "code",
   "execution_count": 55,
   "metadata": {},
   "outputs": [],
   "source": [
    "p = Point()"
   ]
  },
  {
   "cell_type": "code",
   "execution_count": 56,
   "metadata": {},
   "outputs": [
    {
     "name": "stdout",
     "output_type": "stream",
     "text": [
      "__set__\n"
     ]
    }
   ],
   "source": [
    "p.x = 100"
   ]
  },
  {
   "cell_type": "code",
   "execution_count": 57,
   "metadata": {},
   "outputs": [
    {
     "name": "stdout",
     "output_type": "stream",
     "text": [
      "__get__\n"
     ]
    }
   ],
   "source": [
    "p.x"
   ]
  },
  {
   "cell_type": "code",
   "execution_count": 58,
   "metadata": {},
   "outputs": [
    {
     "data": {
      "text/plain": [
       "{}"
      ]
     },
     "execution_count": 58,
     "metadata": {},
     "output_type": "execute_result"
    }
   ],
   "source": [
    "p.__dict__"
   ]
  },
  {
   "cell_type": "code",
   "execution_count": 59,
   "metadata": {},
   "outputs": [],
   "source": [
    "p.__dict__['x'] = 'hekk'"
   ]
  },
  {
   "cell_type": "code",
   "execution_count": 60,
   "metadata": {},
   "outputs": [
    {
     "data": {
      "text/plain": [
       "{'x': 'hekk'}"
      ]
     },
     "execution_count": 60,
     "metadata": {},
     "output_type": "execute_result"
    }
   ],
   "source": [
    "p.__dict__"
   ]
  },
  {
   "cell_type": "code",
   "execution_count": 61,
   "metadata": {},
   "outputs": [
    {
     "name": "stdout",
     "output_type": "stream",
     "text": [
      "__get__\n"
     ]
    }
   ],
   "source": [
    "p.x"
   ]
  },
  {
   "cell_type": "code",
   "execution_count": 1,
   "metadata": {},
   "outputs": [],
   "source": [
    "class TimeUTC:\n",
    "    def __get__(self, instance, owner_class):\n",
    "        print('__get__ called')"
   ]
  },
  {
   "cell_type": "code",
   "execution_count": 2,
   "metadata": {},
   "outputs": [],
   "source": [
    "class Logger:\n",
    "    ct = TimeUTC()"
   ]
  },
  {
   "cell_type": "code",
   "execution_count": 3,
   "metadata": {},
   "outputs": [],
   "source": [
    "l = Logger()"
   ]
  },
  {
   "cell_type": "code",
   "execution_count": 4,
   "metadata": {},
   "outputs": [
    {
     "name": "stdout",
     "output_type": "stream",
     "text": [
      "__get__ called\n"
     ]
    }
   ],
   "source": [
    "l.ct"
   ]
  },
  {
   "cell_type": "code",
   "execution_count": 5,
   "metadata": {},
   "outputs": [
    {
     "data": {
      "text/plain": [
       "{}"
      ]
     },
     "execution_count": 5,
     "metadata": {},
     "output_type": "execute_result"
    }
   ],
   "source": [
    "l.__dict__"
   ]
  },
  {
   "cell_type": "code",
   "execution_count": 6,
   "metadata": {},
   "outputs": [],
   "source": [
    "l.__dict__['ctu'] = 'kioko'"
   ]
  },
  {
   "cell_type": "code",
   "execution_count": 7,
   "metadata": {},
   "outputs": [
    {
     "data": {
      "text/plain": [
       "{'ctu': 'kioko'}"
      ]
     },
     "execution_count": 7,
     "metadata": {},
     "output_type": "execute_result"
    }
   ],
   "source": [
    "l.__dict__"
   ]
  },
  {
   "cell_type": "code",
   "execution_count": 8,
   "metadata": {},
   "outputs": [
    {
     "name": "stdout",
     "output_type": "stream",
     "text": [
      "__get__ called\n"
     ]
    }
   ],
   "source": [
    "l.ct"
   ]
  },
  {
   "cell_type": "code",
   "execution_count": 9,
   "metadata": {},
   "outputs": [],
   "source": [
    "del l.__dict__['ctu']"
   ]
  },
  {
   "cell_type": "code",
   "execution_count": 10,
   "metadata": {},
   "outputs": [
    {
     "name": "stdout",
     "output_type": "stream",
     "text": [
      "__get__ called\n"
     ]
    }
   ],
   "source": [
    "l.ct"
   ]
  },
  {
   "cell_type": "code",
   "execution_count": 11,
   "metadata": {},
   "outputs": [
    {
     "data": {
      "text/plain": [
       "{}"
      ]
     },
     "execution_count": 11,
     "metadata": {},
     "output_type": "execute_result"
    }
   ],
   "source": [
    "l.__dict__"
   ]
  },
  {
   "cell_type": "code",
   "execution_count": 12,
   "metadata": {},
   "outputs": [],
   "source": [
    "class ValidStr:\n",
    "    def __init__(self, min_l=None):\n",
    "        self.min_l = min_l\n",
    "        \n",
    "    def __set_name__(self, owner_class, property_name):\n",
    "        self.property_name = property_name\n",
    "        \n",
    "    def __set__(self, instance, value):\n",
    "        if not isinstance(value, str):\n",
    "            raise ValueError(f'{self.property_name} must be str')\n",
    "        if self.min_l is not None and len(value) < self.min_l:\n",
    "            raise ValueError(f'{self.property_name} not long eno')\n",
    "        instance.__dict__[self.property_name] = value\n",
    "        \n",
    "    def __get__(self, instance, owner_class):\n",
    "        if instance is None:\n",
    "            return self\n",
    "        print(f'calling __get__ for {self.property_name}')\n",
    "        return instance.__dict__.get(self.property_name, None)"
   ]
  },
  {
   "cell_type": "code",
   "execution_count": 14,
   "metadata": {},
   "outputs": [],
   "source": [
    "class Person:\n",
    "    f_name = ValidStr(1)\n",
    "    l_name = ValidStr(2)"
   ]
  },
  {
   "cell_type": "code",
   "execution_count": 15,
   "metadata": {},
   "outputs": [],
   "source": [
    "p = Person()"
   ]
  },
  {
   "cell_type": "code",
   "execution_count": 16,
   "metadata": {},
   "outputs": [
    {
     "data": {
      "text/plain": [
       "{}"
      ]
     },
     "execution_count": 16,
     "metadata": {},
     "output_type": "execute_result"
    }
   ],
   "source": [
    "p.__dict__"
   ]
  },
  {
   "cell_type": "code",
   "execution_count": 18,
   "metadata": {},
   "outputs": [],
   "source": [
    "p.f_name = 'lol'"
   ]
  },
  {
   "cell_type": "code",
   "execution_count": 19,
   "metadata": {},
   "outputs": [
    {
     "data": {
      "text/plain": [
       "{'f_name': 'lol'}"
      ]
     },
     "execution_count": 19,
     "metadata": {},
     "output_type": "execute_result"
    }
   ],
   "source": [
    "p.__dict__"
   ]
  },
  {
   "cell_type": "code",
   "execution_count": 20,
   "metadata": {},
   "outputs": [
    {
     "name": "stdout",
     "output_type": "stream",
     "text": [
      "calling __get__ for f_name\n"
     ]
    },
    {
     "data": {
      "text/plain": [
       "'lol'"
      ]
     },
     "execution_count": 20,
     "metadata": {},
     "output_type": "execute_result"
    }
   ],
   "source": [
    "p.f_name"
   ]
  },
  {
   "cell_type": "code",
   "execution_count": 21,
   "metadata": {},
   "outputs": [],
   "source": [
    "class ValidStr:\n",
    "    def __init__(self, min_l=None):\n",
    "        self.min_l = min_l\n",
    "        \n",
    "    def __set_name__(self, owner_class, property_name):\n",
    "        self.property_name = property_name\n",
    "        \n",
    "    def __set__(self, instance, value):\n",
    "        print('set_called')\n",
    "        if not isinstance(value, str):\n",
    "            raise ValueError(f'{self.property_name} must be str')\n",
    "        if self.min_l is not None and len(value) < self.min_l:\n",
    "            raise ValueError(f'{self.property_name} not long eno')\n",
    "        \n",
    "        setattr(instance, self.property_name, value)\n",
    "        \n",
    "        \n",
    "    def __get__(self, instance, owner_class):\n",
    "        if instance is None:\n",
    "            return self\n",
    "        print(f'calling __get__ for {self.property_name}')\n",
    "        return getattr(instance, self.property_name, None)\n"
   ]
  },
  {
   "cell_type": "code",
   "execution_count": 22,
   "metadata": {},
   "outputs": [],
   "source": [
    "class Person:\n",
    "    name = ValidStr(1)"
   ]
  },
  {
   "cell_type": "code",
   "execution_count": 23,
   "metadata": {},
   "outputs": [],
   "source": [
    "p = Person()"
   ]
  },
  {
   "cell_type": "code",
   "execution_count": null,
   "metadata": {},
   "outputs": [
    {
     "name": "stdout",
     "output_type": "stream",
     "text": [
      "set_called\n",
      "set_called\n",
      "set_called\n",
      "set_called\n",
      "set_called\n",
      "set_called\n",
      "set_called\n",
      "set_called\n",
      "set_called\n",
      "set_called\n",
      "set_called\n",
      "set_called\n",
      "set_called\n",
      "set_called\n",
      "set_called\n",
      "set_called\n",
      "set_called\n",
      "set_called\n",
      "set_called\n",
      "set_called\n",
      "set_called\n",
      "set_called\n",
      "set_called\n",
      "set_called\n",
      "set_called\n",
      "set_called\n",
      "set_called\n",
      "set_called\n",
      "set_called\n",
      "set_called\n",
      "set_called\n",
      "set_called\n",
      "set_called\n",
      "set_called\n",
      "set_called\n",
      "set_called\n",
      "set_called\n",
      "set_called\n",
      "set_called\n",
      "set_called\n",
      "set_called\n",
      "set_called\n",
      "set_called\n",
      "set_called\n",
      "set_called\n",
      "set_called\n",
      "set_called\n",
      "set_called\n",
      "set_called\n",
      "set_called\n",
      "set_called\n",
      "set_called\n",
      "set_called\n",
      "set_called\n",
      "set_called\n",
      "set_called\n",
      "set_called\n",
      "set_called\n",
      "set_called\n",
      "set_called\n",
      "set_called\n",
      "set_called\n",
      "set_called\n",
      "set_called\n",
      "set_called\n",
      "set_called\n",
      "set_called\n",
      "set_called\n",
      "set_called\n",
      "set_called\n",
      "set_called\n",
      "set_called\n",
      "set_called\n",
      "set_called\n",
      "set_called\n",
      "set_called\n",
      "set_called\n",
      "set_called\n",
      "set_called\n",
      "set_called\n",
      "set_called\n",
      "set_called\n",
      "set_called\n",
      "set_called\n",
      "set_called\n",
      "set_called\n",
      "set_called\n",
      "set_called\n",
      "set_called\n",
      "set_called\n",
      "set_called\n",
      "set_called\n",
      "set_called\n",
      "set_called\n",
      "set_called\n",
      "set_called\n",
      "set_called\n",
      "set_called\n",
      "set_called\n",
      "set_called\n",
      "set_called\n",
      "set_called\n",
      "set_called\n",
      "set_called\n",
      "set_called\n",
      "set_called\n",
      "set_called\n",
      "set_called\n",
      "set_called\n",
      "set_called\n",
      "set_called\n",
      "set_called\n",
      "set_called\n",
      "set_called\n",
      "set_called\n",
      "set_called\n",
      "set_called\n",
      "set_called\n",
      "set_called\n",
      "set_called\n",
      "set_called\n",
      "set_called\n",
      "set_called\n",
      "set_called\n",
      "set_called\n",
      "set_called\n",
      "set_called\n",
      "set_called\n",
      "set_called\n",
      "set_called\n",
      "set_called\n",
      "set_called\n",
      "set_called\n",
      "set_called\n",
      "set_called\n",
      "set_called\n",
      "set_called\n",
      "set_called\n",
      "set_called\n",
      "set_called\n",
      "set_called\n",
      "set_called\n",
      "set_called\n",
      "set_called\n",
      "set_called\n",
      "set_called\n",
      "set_called\n",
      "set_called\n",
      "set_called\n",
      "set_called\n",
      "set_called\n",
      "set_called\n",
      "set_called\n",
      "set_called\n",
      "set_called\n",
      "set_called\n",
      "set_called\n",
      "set_called\n",
      "set_called\n",
      "set_called\n",
      "set_called\n",
      "set_called\n",
      "set_called\n",
      "set_called\n",
      "set_called\n",
      "set_called\n",
      "set_called\n",
      "set_called\n",
      "set_called\n",
      "set_called\n",
      "set_called\n",
      "set_called\n",
      "set_called\n",
      "set_called\n",
      "set_called\n",
      "set_called\n",
      "set_called\n",
      "set_called\n",
      "set_called\n",
      "set_called\n",
      "set_called\n",
      "set_called\n",
      "set_called\n",
      "set_called\n",
      "set_called\n",
      "set_called\n",
      "set_called\n",
      "set_called\n",
      "set_called\n",
      "set_called\n",
      "set_called\n",
      "set_called\n",
      "set_called\n",
      "set_called\n",
      "set_called\n",
      "set_called\n",
      "set_called\n",
      "set_called\n",
      "set_called\n",
      "set_called\n",
      "set_called\n",
      "set_called\n",
      "set_called\n",
      "set_called\n",
      "set_called\n",
      "set_called\n",
      "set_called\n",
      "set_called\n",
      "set_called\n",
      "set_called\n",
      "set_called\n",
      "set_called\n",
      "set_called\n",
      "set_called\n",
      "set_called\n",
      "set_called\n",
      "set_called\n",
      "set_called\n",
      "set_called\n",
      "set_called\n",
      "set_called\n",
      "set_called\n",
      "set_called\n",
      "set_called\n",
      "set_called\n",
      "set_called\n",
      "set_called\n",
      "set_called\n",
      "set_called\n",
      "set_called\n",
      "set_called\n",
      "set_called\n",
      "set_called\n",
      "set_called\n",
      "set_called\n",
      "set_called\n",
      "set_called\n",
      "set_called\n",
      "set_called\n",
      "set_called\n",
      "set_called\n",
      "set_called\n",
      "set_called\n",
      "set_called\n",
      "set_called\n",
      "set_called\n",
      "set_called\n",
      "set_called\n",
      "set_called\n",
      "set_called\n",
      "set_called\n",
      "set_called\n",
      "set_called\n",
      "set_called\n",
      "set_called\n",
      "set_called\n",
      "set_called\n",
      "set_called\n",
      "set_called\n",
      "set_called\n",
      "set_called\n",
      "set_called\n",
      "set_called\n",
      "set_called\n",
      "set_called\n",
      "set_called\n",
      "set_called\n",
      "set_called\n",
      "set_called\n",
      "set_called\n",
      "set_called\n",
      "set_called\n",
      "set_called\n",
      "set_called\n",
      "set_called\n",
      "set_called\n",
      "set_called\n",
      "set_called\n",
      "set_called\n",
      "set_called\n",
      "set_called\n",
      "set_called\n",
      "set_called\n",
      "set_called\n",
      "set_called\n",
      "set_called\n",
      "set_called\n",
      "set_called\n",
      "set_called\n",
      "set_called\n",
      "set_called\n",
      "set_called\n",
      "set_called\n",
      "set_called\n",
      "set_called\n",
      "set_called\n",
      "set_called\n",
      "set_called\n",
      "set_called\n",
      "set_called\n",
      "set_called\n",
      "set_called\n",
      "set_called\n",
      "set_called\n",
      "set_called\n",
      "set_called\n",
      "set_called\n",
      "set_called\n",
      "set_called\n",
      "set_called\n",
      "set_called\n",
      "set_called\n",
      "set_called\n",
      "set_called\n",
      "set_called\n",
      "set_called\n",
      "set_called\n",
      "set_called\n",
      "set_called\n",
      "set_called\n",
      "set_called\n",
      "set_called\n",
      "set_called\n",
      "set_called\n",
      "set_called\n",
      "set_called\n",
      "set_called\n",
      "set_called\n",
      "set_called\n",
      "set_called\n",
      "set_called\n",
      "set_called\n",
      "set_called\n",
      "set_called\n",
      "set_called\n",
      "set_called\n",
      "set_called\n",
      "set_called\n",
      "set_called\n",
      "set_called\n",
      "set_called\n",
      "set_called\n",
      "set_called\n",
      "set_called\n",
      "set_called\n",
      "set_called\n",
      "set_called\n",
      "set_called\n",
      "set_called\n",
      "set_called\n",
      "set_called\n",
      "set_called\n",
      "set_called\n",
      "set_called\n",
      "set_called\n",
      "set_called\n",
      "set_called\n",
      "set_called\n",
      "set_called\n",
      "set_called\n",
      "set_called\n",
      "set_called\n",
      "set_called\n",
      "set_called\n",
      "set_called\n",
      "set_called\n",
      "set_called\n",
      "set_called\n",
      "set_called\n",
      "set_called\n",
      "set_called\n",
      "set_called\n",
      "set_called\n",
      "set_called\n",
      "set_called\n",
      "set_called\n",
      "set_called\n",
      "set_called\n",
      "set_called\n",
      "set_called\n",
      "set_called\n",
      "set_called\n",
      "set_called\n",
      "set_called\n",
      "set_called\n",
      "set_called\n",
      "set_called\n",
      "set_called\n",
      "set_called\n",
      "set_called\n",
      "set_called\n",
      "set_called\n",
      "set_called\n",
      "set_called\n",
      "set_called\n",
      "set_called\n",
      "set_called\n",
      "set_called\n",
      "set_called\n",
      "set_called\n",
      "set_called\n",
      "set_called\n",
      "set_called\n",
      "set_called\n",
      "set_called\n",
      "set_called\n",
      "set_called\n",
      "set_called\n",
      "set_called\n",
      "set_called\n",
      "set_called\n",
      "set_called\n",
      "set_called\n",
      "set_called\n",
      "set_called\n",
      "set_called\n",
      "set_called\n",
      "set_called\n",
      "set_called\n",
      "set_called\n",
      "set_called\n",
      "set_called\n",
      "set_called\n",
      "set_called\n",
      "set_called\n",
      "set_called\n",
      "set_called\n",
      "set_called\n",
      "set_called\n",
      "set_called\n",
      "set_called\n",
      "set_called\n",
      "set_called\n",
      "set_called\n",
      "set_called\n",
      "set_called\n",
      "set_called\n",
      "set_called\n",
      "set_called\n",
      "set_called\n",
      "set_called\n",
      "set_called\n",
      "set_called\n",
      "set_called\n",
      "set_called\n",
      "set_called\n",
      "set_called\n",
      "set_called\n",
      "set_called\n",
      "set_called\n",
      "set_called\n",
      "set_called\n",
      "set_called\n",
      "set_called\n",
      "set_called\n",
      "set_called\n",
      "set_called\n",
      "set_called\n",
      "set_called\n",
      "set_called\n",
      "set_called\n",
      "set_called\n",
      "set_called\n",
      "set_called\n",
      "set_called\n",
      "set_called\n",
      "set_called\n",
      "set_called\n",
      "set_called\n",
      "set_called\n",
      "set_called\n",
      "set_called\n",
      "set_called\n",
      "set_called\n",
      "set_called\n",
      "set_called\n",
      "set_called\n",
      "set_called\n",
      "set_called\n",
      "set_called\n",
      "set_called\n",
      "set_called\n",
      "set_called\n",
      "set_called\n",
      "set_called\n",
      "set_called\n",
      "set_called\n",
      "set_called\n",
      "set_called\n",
      "set_called\n",
      "set_called\n",
      "set_called\n",
      "set_called\n",
      "set_called\n",
      "set_called\n",
      "set_called\n",
      "set_called\n",
      "set_called\n",
      "set_called\n",
      "set_called\n",
      "set_called\n",
      "set_called\n",
      "set_called\n",
      "set_called\n",
      "set_called\n",
      "set_called\n",
      "set_called\n",
      "set_called\n",
      "set_called\n",
      "set_called\n",
      "set_called\n",
      "set_called\n",
      "set_called\n",
      "set_called\n",
      "set_called\n",
      "set_called\n",
      "set_called\n",
      "set_called\n",
      "set_called\n",
      "set_called\n",
      "set_called\n",
      "set_called\n",
      "set_called\n",
      "set_called\n",
      "set_called\n",
      "set_called\n",
      "set_called\n",
      "set_called\n",
      "set_called\n",
      "set_called\n",
      "set_called\n",
      "set_called\n",
      "set_called\n",
      "set_called\n",
      "set_called\n",
      "set_called\n",
      "set_called\n",
      "set_called\n",
      "set_called\n",
      "set_called\n",
      "set_called\n",
      "set_called\n",
      "set_called\n",
      "set_called\n",
      "set_called\n",
      "set_called\n",
      "set_called\n",
      "set_called\n",
      "set_called\n",
      "set_called\n",
      "set_called\n",
      "set_called\n",
      "set_called\n",
      "set_called\n",
      "set_called\n",
      "set_called\n",
      "set_called\n",
      "set_called\n",
      "set_called\n",
      "set_called\n",
      "set_called\n",
      "set_called\n",
      "set_called\n",
      "set_called\n",
      "set_called\n",
      "set_called\n",
      "set_called\n",
      "set_called\n",
      "set_called\n",
      "set_called\n",
      "set_called\n",
      "set_called\n",
      "set_called\n",
      "set_called\n",
      "set_called\n",
      "set_called\n",
      "set_called\n",
      "set_called\n",
      "set_called\n",
      "set_called\n",
      "set_called\n",
      "set_called\n",
      "set_called\n",
      "set_called\n",
      "set_called\n",
      "set_called\n",
      "set_called\n",
      "set_called\n",
      "set_called\n",
      "set_called\n",
      "set_called\n",
      "set_called\n",
      "set_called\n",
      "set_called\n",
      "set_called\n",
      "set_called\n",
      "set_called\n",
      "set_called\n",
      "set_called\n",
      "set_called\n",
      "set_called\n",
      "set_called\n",
      "set_called\n",
      "set_called\n",
      "set_called\n",
      "set_called\n",
      "set_called\n",
      "set_called\n",
      "set_called\n",
      "set_called\n",
      "set_called\n",
      "set_called\n",
      "set_called\n",
      "set_called\n",
      "set_called\n",
      "set_called\n",
      "set_called\n",
      "set_called\n",
      "set_called\n",
      "set_called\n",
      "set_called\n",
      "set_called\n",
      "set_called\n",
      "set_called\n",
      "set_called\n",
      "set_called\n",
      "set_called\n",
      "set_called\n",
      "set_called\n",
      "set_called\n",
      "set_called\n",
      "set_called\n",
      "set_called\n",
      "set_called\n",
      "set_called\n",
      "set_called\n",
      "set_called\n",
      "set_called\n",
      "set_called\n",
      "set_called\n",
      "set_called\n",
      "set_called\n",
      "set_called\n",
      "set_called\n",
      "set_called\n",
      "set_called\n",
      "set_called\n",
      "set_called\n",
      "set_called\n",
      "set_called\n",
      "set_called\n",
      "set_called\n",
      "set_called\n",
      "set_called\n",
      "set_called\n",
      "set_called\n",
      "set_called\n",
      "set_called\n",
      "set_called\n",
      "set_called\n",
      "set_called\n",
      "set_called\n",
      "set_called\n",
      "set_called\n",
      "set_called\n",
      "set_called\n",
      "set_called\n",
      "set_called\n",
      "set_called\n",
      "set_called\n",
      "set_called\n",
      "set_called\n",
      "set_called\n",
      "set_called\n",
      "set_called\n",
      "set_called\n",
      "set_called\n",
      "set_called\n",
      "set_called\n",
      "set_called\n",
      "set_called\n",
      "set_called\n",
      "set_called\n",
      "set_called\n",
      "set_called\n",
      "set_called\n",
      "set_called\n",
      "set_called\n",
      "set_called\n",
      "set_called\n",
      "set_called\n",
      "set_called\n",
      "set_called\n",
      "set_called\n",
      "set_called\n",
      "set_called\n",
      "set_called\n",
      "set_called\n",
      "set_called\n",
      "set_called\n",
      "set_called\n",
      "set_called\n",
      "set_called\n",
      "set_called\n",
      "set_called\n",
      "set_called\n",
      "set_called\n",
      "set_called\n",
      "set_called\n",
      "set_called\n",
      "set_called\n",
      "set_called\n",
      "set_called\n",
      "set_called\n",
      "set_called\n",
      "set_called\n",
      "set_called\n",
      "set_called\n",
      "set_called\n",
      "set_called\n",
      "set_called\n",
      "set_called\n",
      "set_called\n",
      "set_called\n",
      "set_called\n",
      "set_called\n",
      "set_called\n",
      "set_called\n",
      "set_called\n",
      "set_called\n",
      "set_called\n",
      "set_called\n",
      "set_called\n",
      "set_called\n",
      "set_called\n",
      "set_called\n",
      "set_called\n",
      "set_called\n",
      "set_called\n",
      "set_called\n",
      "set_called\n",
      "set_called\n",
      "set_called\n",
      "set_called\n",
      "set_called\n",
      "set_called\n",
      "set_called\n",
      "set_called\n",
      "set_called\n",
      "set_called\n",
      "set_called\n",
      "set_called\n",
      "set_called\n",
      "set_called\n",
      "set_called\n",
      "set_called\n",
      "set_called\n",
      "set_called\n",
      "set_called\n",
      "set_called\n",
      "set_called\n",
      "set_called\n",
      "set_called\n",
      "set_called\n",
      "set_called\n",
      "set_called\n",
      "set_called\n",
      "set_called\n",
      "set_called\n",
      "set_called\n",
      "set_called\n",
      "set_called\n",
      "set_called\n",
      "set_called\n",
      "set_called\n",
      "set_called\n",
      "set_called\n",
      "set_called\n",
      "set_called\n",
      "set_called\n",
      "set_called\n",
      "set_called\n",
      "set_called\n",
      "set_called\n",
      "set_called\n",
      "set_called\n",
      "set_called\n",
      "set_called\n",
      "set_called\n",
      "set_called\n",
      "set_called\n",
      "set_called\n",
      "set_called\n",
      "set_called\n",
      "set_called\n",
      "set_called\n",
      "set_called\n",
      "set_called\n",
      "set_called\n",
      "set_called\n",
      "set_called\n",
      "set_called\n",
      "set_called\n",
      "set_called\n",
      "set_called\n",
      "set_called\n",
      "set_called\n",
      "set_called\n",
      "set_called\n",
      "set_called\n",
      "set_called\n",
      "set_called\n",
      "set_called\n",
      "set_called\n",
      "set_called\n",
      "set_called\n",
      "set_called\n",
      "set_called\n",
      "set_called\n",
      "set_called\n",
      "set_called\n",
      "set_called\n",
      "set_called\n",
      "set_called\n",
      "set_called\n",
      "set_called\n",
      "set_called\n",
      "set_called\n",
      "set_called\n",
      "set_called\n",
      "set_called\n",
      "set_called\n",
      "set_called\n",
      "set_called\n",
      "set_called\n",
      "set_called\n",
      "set_called\n",
      "set_called\n",
      "set_called\n",
      "set_called\n",
      "set_called\n",
      "set_called\n",
      "set_called\n",
      "set_called\n",
      "set_called\n",
      "set_called\n",
      "set_called\n",
      "set_called\n",
      "set_called\n",
      "set_called\n",
      "set_called\n",
      "set_called\n",
      "set_called\n",
      "set_called\n",
      "set_called\n",
      "set_called\n",
      "set_called\n",
      "set_called\n",
      "set_called\n",
      "set_called\n",
      "set_called\n",
      "set_called\n",
      "set_called\n",
      "set_called\n",
      "set_called\n",
      "set_called\n",
      "set_called\n",
      "set_called\n",
      "set_called\n",
      "set_called\n",
      "set_called\n",
      "set_called\n",
      "set_called\n",
      "set_called\n",
      "set_called\n",
      "set_called\n",
      "set_called\n",
      "set_called\n",
      "set_called\n",
      "set_called\n",
      "set_called\n",
      "set_called\n",
      "set_called\n",
      "set_called\n",
      "set_called\n",
      "set_called\n",
      "set_called\n",
      "set_called\n",
      "set_called\n",
      "set_called\n",
      "set_called\n",
      "set_called\n",
      "set_called\n",
      "set_called\n",
      "set_called\n",
      "set_called\n",
      "set_called\n",
      "set_called\n",
      "set_called\n",
      "set_called\n",
      "set_called\n",
      "set_called\n",
      "set_called\n",
      "set_called\n",
      "set_called\n",
      "set_called\n",
      "set_called\n",
      "set_called\n",
      "set_called\n",
      "set_called\n",
      "set_called\n",
      "set_called\n",
      "set_called\n",
      "set_called\n",
      "set_called\n",
      "set_called\n",
      "set_called\n",
      "set_called\n",
      "set_called\n",
      "set_called\n",
      "set_called\n",
      "set_called\n",
      "set_called\n",
      "set_called\n",
      "set_called\n",
      "set_called\n",
      "set_called\n",
      "set_called\n",
      "set_called\n",
      "set_called\n",
      "set_called\n",
      "set_called\n",
      "set_called\n",
      "set_called\n",
      "set_called\n",
      "set_called\n",
      "set_called\n",
      "set_called\n",
      "set_called\n",
      "set_called\n",
      "set_called\n",
      "set_called\n",
      "set_called\n",
      "set_called\n",
      "set_called\n",
      "set_called\n",
      "set_called\n",
      "set_called\n",
      "set_called\n",
      "set_called\n",
      "set_called\n",
      "set_called\n",
      "set_called\n",
      "set_called\n",
      "set_called\n",
      "set_called\n",
      "set_called\n",
      "set_called\n",
      "set_called\n",
      "set_called\n",
      "set_called\n",
      "set_called\n",
      "set_called\n",
      "set_called\n",
      "set_called\n",
      "set_called\n",
      "set_called\n",
      "set_called\n",
      "set_called\n",
      "set_called\n",
      "set_called\n",
      "set_called\n",
      "set_called\n",
      "set_called\n",
      "set_called\n",
      "set_called\n",
      "set_called\n",
      "set_called\n",
      "set_called\n",
      "set_called\n",
      "set_called\n",
      "set_called\n",
      "set_called\n",
      "set_called\n",
      "set_called\n",
      "set_called\n",
      "set_called\n",
      "set_called\n",
      "set_called\n",
      "set_called\n",
      "set_called\n",
      "set_called\n",
      "set_called\n",
      "set_called\n",
      "set_called\n",
      "set_called\n",
      "set_called\n",
      "set_called\n",
      "set_called\n",
      "set_called\n",
      "set_called\n",
      "set_called\n",
      "set_called\n",
      "set_called\n",
      "set_called\n",
      "set_called\n",
      "set_called\n",
      "set_called\n",
      "set_called\n",
      "set_called\n",
      "set_called\n",
      "set_called\n",
      "set_called\n",
      "set_called\n",
      "set_called\n",
      "set_called\n",
      "set_called\n",
      "set_called\n",
      "set_called\n",
      "set_called\n",
      "set_called\n",
      "set_called\n",
      "set_called\n",
      "set_called\n",
      "set_called\n",
      "set_called\n",
      "set_called\n",
      "set_called\n",
      "set_called\n",
      "set_called\n",
      "set_called\n",
      "set_called\n",
      "set_called\n",
      "set_called\n",
      "set_called\n",
      "set_called\n",
      "set_called\n",
      "set_called\n",
      "set_called\n",
      "set_called\n",
      "set_called\n",
      "set_called\n",
      "set_called\n",
      "set_called\n",
      "set_called\n",
      "set_called\n",
      "set_called\n",
      "set_called\n",
      "set_called\n",
      "set_called\n",
      "set_called\n",
      "set_called\n",
      "set_called\n",
      "set_called\n",
      "set_called\n",
      "set_called\n",
      "set_called\n",
      "set_called\n",
      "set_called\n",
      "set_called\n",
      "set_called\n",
      "set_called\n",
      "set_called\n",
      "set_called\n",
      "set_called\n",
      "set_called\n",
      "set_called\n",
      "set_called\n",
      "set_called\n",
      "set_called\n",
      "set_called\n",
      "set_called\n",
      "set_called\n",
      "set_called\n",
      "set_called\n",
      "set_called\n",
      "set_called\n",
      "set_called\n",
      "set_called\n",
      "set_called\n",
      "set_called\n",
      "set_called\n",
      "set_called\n",
      "set_called\n",
      "set_called\n",
      "set_called\n",
      "set_called\n",
      "set_called\n",
      "set_called\n",
      "set_called\n",
      "set_called\n",
      "set_called\n",
      "set_called\n",
      "set_called\n",
      "set_called\n",
      "set_called\n",
      "set_called\n",
      "set_called\n",
      "set_called\n",
      "set_called\n",
      "set_called\n",
      "set_called\n",
      "set_called\n",
      "set_called\n",
      "set_called\n",
      "set_called\n",
      "set_called\n",
      "set_called\n",
      "set_called\n",
      "set_called\n",
      "set_called\n",
      "set_called\n",
      "set_called\n",
      "set_called\n",
      "set_called\n",
      "set_called\n",
      "set_called\n",
      "set_called\n",
      "set_called\n",
      "set_called\n",
      "set_called\n",
      "set_called\n",
      "set_called\n",
      "set_called\n",
      "set_called\n",
      "set_called\n",
      "set_called\n",
      "set_called\n",
      "set_called\n",
      "set_called\n",
      "set_called\n",
      "set_called\n",
      "set_called\n",
      "set_called\n",
      "set_called\n",
      "set_called\n",
      "set_called\n",
      "set_called\n",
      "set_called\n",
      "set_called\n",
      "set_called\n",
      "set_called\n",
      "set_called\n",
      "set_called\n",
      "set_called\n",
      "set_called\n",
      "set_called\n",
      "set_called\n",
      "set_called"
     ]
    }
   ],
   "source": [
    "p.name = 'lolo'"
   ]
  },
  {
   "cell_type": "code",
   "execution_count": 1,
   "metadata": {},
   "outputs": [],
   "source": [
    "##PROPERTIES"
   ]
  },
  {
   "cell_type": "code",
   "execution_count": 2,
   "metadata": {},
   "outputs": [],
   "source": [
    "from numbers import Integral"
   ]
  },
  {
   "cell_type": "code",
   "execution_count": 4,
   "metadata": {},
   "outputs": [],
   "source": [
    "class Person:\n",
    "    @property\n",
    "    def age(self):\n",
    "        return getattr(self, '_age', None)\n",
    "    \n",
    "    @age.setter\n",
    "    def age(self, value):\n",
    "        if not isinstance(value, Integral):\n",
    "            raise ValueError('age must be int')\n",
    "        if value < 0 :\n",
    "            raise ValueError('age must be +ve')\n",
    "            \n",
    "        self._age = value\n",
    "        \n",
    "        "
   ]
  },
  {
   "cell_type": "code",
   "execution_count": 5,
   "metadata": {},
   "outputs": [],
   "source": [
    " p = Person()"
   ]
  },
  {
   "cell_type": "code",
   "execution_count": 6,
   "metadata": {},
   "outputs": [
    {
     "name": "stdout",
     "output_type": "stream",
     "text": [
      "age must be +ve\n"
     ]
    }
   ],
   "source": [
    "try:\n",
    "    p.age = -10\n",
    "except ValueError as ex:\n",
    "    print(ex)"
   ]
  },
  {
   "cell_type": "code",
   "execution_count": 7,
   "metadata": {},
   "outputs": [],
   "source": [
    "p.age = 10"
   ]
  },
  {
   "cell_type": "code",
   "execution_count": 8,
   "metadata": {},
   "outputs": [
    {
     "data": {
      "text/plain": [
       "{'_age': 10}"
      ]
     },
     "execution_count": 8,
     "metadata": {},
     "output_type": "execute_result"
    }
   ],
   "source": [
    "p.__dict__"
   ]
  },
  {
   "cell_type": "code",
   "execution_count": 9,
   "metadata": {},
   "outputs": [],
   "source": [
    "class Person:\n",
    "    def get_age(self):\n",
    "        return getattr(self, '_age', None)\n",
    "    \n",
    "    def set_age(self, value):\n",
    "        if not isinstance(value, Integral):\n",
    "            raise ValueError('age must be int')\n",
    "        if value < 0 :\n",
    "            raise ValueError('age must be +ve')\n",
    "            \n",
    "        self._age = value\n",
    "        \n",
    "        \n",
    "    age = property(fget = get_age, fset = set_age)\n",
    "    "
   ]
  },
  {
   "cell_type": "code",
   "execution_count": 11,
   "metadata": {},
   "outputs": [],
   "source": [
    "prop = Person.age"
   ]
  },
  {
   "cell_type": "code",
   "execution_count": 12,
   "metadata": {},
   "outputs": [
    {
     "data": {
      "text/plain": [
       "True"
      ]
     },
     "execution_count": 12,
     "metadata": {},
     "output_type": "execute_result"
    }
   ],
   "source": [
    "hasattr(prop, '__get__')"
   ]
  },
  {
   "cell_type": "code",
   "execution_count": 13,
   "metadata": {},
   "outputs": [
    {
     "data": {
      "text/plain": [
       "True"
      ]
     },
     "execution_count": 13,
     "metadata": {},
     "output_type": "execute_result"
    }
   ],
   "source": [
    "hasattr(prop, '__set__')"
   ]
  },
  {
   "cell_type": "code",
   "execution_count": 15,
   "metadata": {},
   "outputs": [
    {
     "data": {
      "text/plain": [
       "True"
      ]
     },
     "execution_count": 15,
     "metadata": {},
     "output_type": "execute_result"
    }
   ],
   "source": [
    "hasattr(prop, '__delete__')"
   ]
  },
  {
   "cell_type": "code",
   "execution_count": 16,
   "metadata": {},
   "outputs": [
    {
     "name": "stdout",
     "output_type": "stream",
     "text": [
      "10\n"
     ]
    }
   ],
   "source": [
    "p = Person()\n",
    "p.age = 10\n",
    "print(p.age)"
   ]
  },
  {
   "cell_type": "code",
   "execution_count": 17,
   "metadata": {},
   "outputs": [],
   "source": [
    "class TimeUTC:\n",
    "    @property\n",
    "    def ct(self):\n",
    "        return 'ct'"
   ]
  },
  {
   "cell_type": "code",
   "execution_count": 18,
   "metadata": {},
   "outputs": [],
   "source": [
    "t = TimeUTC()"
   ]
  },
  {
   "cell_type": "code",
   "execution_count": 19,
   "metadata": {},
   "outputs": [
    {
     "data": {
      "text/plain": [
       "True"
      ]
     },
     "execution_count": 19,
     "metadata": {},
     "output_type": "execute_result"
    }
   ],
   "source": [
    "hasattr(TimeUTC.ct, '__get__')"
   ]
  },
  {
   "cell_type": "code",
   "execution_count": 20,
   "metadata": {},
   "outputs": [
    {
     "data": {
      "text/plain": [
       "True"
      ]
     },
     "execution_count": 20,
     "metadata": {},
     "output_type": "execute_result"
    }
   ],
   "source": [
    "hasattr(TimeUTC.ct, '__set__')"
   ]
  },
  {
   "cell_type": "code",
   "execution_count": 21,
   "metadata": {},
   "outputs": [
    {
     "data": {
      "text/plain": [
       "'ct'"
      ]
     },
     "execution_count": 21,
     "metadata": {},
     "output_type": "execute_result"
    }
   ],
   "source": [
    "t.ct"
   ]
  },
  {
   "cell_type": "code",
   "execution_count": 22,
   "metadata": {},
   "outputs": [
    {
     "ename": "AttributeError",
     "evalue": "can't set attribute",
     "output_type": "error",
     "traceback": [
      "\u001b[1;31m---------------------------------------------------------------------------\u001b[0m",
      "\u001b[1;31mAttributeError\u001b[0m                            Traceback (most recent call last)",
      "\u001b[1;32m<ipython-input-22-72a931e1b559>\u001b[0m in \u001b[0;36m<module>\u001b[1;34m\u001b[0m\n\u001b[1;32m----> 1\u001b[1;33m \u001b[0mt\u001b[0m\u001b[1;33m.\u001b[0m\u001b[0mct\u001b[0m \u001b[1;33m=\u001b[0m \u001b[1;34m'other'\u001b[0m\u001b[1;33m\u001b[0m\u001b[1;33m\u001b[0m\u001b[0m\n\u001b[0m",
      "\u001b[1;31mAttributeError\u001b[0m: can't set attribute"
     ]
    }
   ],
   "source": [
    "t.ct = 'other'"
   ]
  },
  {
   "cell_type": "code",
   "execution_count": 23,
   "metadata": {},
   "outputs": [],
   "source": [
    "p = Person()"
   ]
  },
  {
   "cell_type": "code",
   "execution_count": 24,
   "metadata": {},
   "outputs": [
    {
     "data": {
      "text/plain": [
       "{}"
      ]
     },
     "execution_count": 24,
     "metadata": {},
     "output_type": "execute_result"
    }
   ],
   "source": [
    "p.__dict__"
   ]
  },
  {
   "cell_type": "code",
   "execution_count": 25,
   "metadata": {},
   "outputs": [],
   "source": [
    "p.age = 10"
   ]
  },
  {
   "cell_type": "code",
   "execution_count": 26,
   "metadata": {},
   "outputs": [
    {
     "data": {
      "text/plain": [
       "10"
      ]
     },
     "execution_count": 26,
     "metadata": {},
     "output_type": "execute_result"
    }
   ],
   "source": [
    "p.age "
   ]
  },
  {
   "cell_type": "code",
   "execution_count": 27,
   "metadata": {},
   "outputs": [
    {
     "data": {
      "text/plain": [
       "{'_age': 10}"
      ]
     },
     "execution_count": 27,
     "metadata": {},
     "output_type": "execute_result"
    }
   ],
   "source": [
    "p.__dict__"
   ]
  },
  {
   "cell_type": "code",
   "execution_count": 28,
   "metadata": {},
   "outputs": [],
   "source": [
    "p.__dict__['age']=100"
   ]
  },
  {
   "cell_type": "code",
   "execution_count": 29,
   "metadata": {},
   "outputs": [
    {
     "data": {
      "text/plain": [
       "{'_age': 10, 'age': 100}"
      ]
     },
     "execution_count": 29,
     "metadata": {},
     "output_type": "execute_result"
    }
   ],
   "source": [
    "p.__dict__"
   ]
  },
  {
   "cell_type": "code",
   "execution_count": 30,
   "metadata": {},
   "outputs": [
    {
     "data": {
      "text/plain": [
       "10"
      ]
     },
     "execution_count": 30,
     "metadata": {},
     "output_type": "execute_result"
    }
   ],
   "source": [
    "p.age"
   ]
  },
  {
   "cell_type": "code",
   "execution_count": 32,
   "metadata": {},
   "outputs": [],
   "source": [
    "class MakeProp:\n",
    "    def __init__(self, fget = None, fset = None):\n",
    "        self.fget = fget\n",
    "        self.fset = fset\n",
    "    def __set_name__(self, owner_class, prop_name):\n",
    "        self.prop_name = prop_name\n",
    "        \n",
    "        \n",
    "    def __get__(self, instance, owner_class):\n",
    "        print('get called')\n",
    "        if instance is None:\n",
    "            return self\n",
    "        \n",
    "        if self.fget is None:\n",
    "            raise AttributeError(f'{self.prop_name} is not readable')\n",
    "        return self.fget(instance)\n",
    "    \n",
    "    def __set__(self, instance, value):\n",
    "        print('set called')\n",
    "        if self.fset is None:\n",
    "            raise AttributeError(f'{self.prop_name} is not lulu')\n",
    "        self.fset(instance, value) "
   ]
  },
  {
   "cell_type": "code",
   "execution_count": 36,
   "metadata": {},
   "outputs": [],
   "source": [
    "class Person:\n",
    "    def get_name(self):\n",
    "        print('getname called')\n",
    "        return getattr(self, '_name', None)\n",
    "    def set_name(self, value):\n",
    "        print('setname called')\n",
    "        self._name = value\n",
    "        \n",
    "    name = MakeProp(fget=get_name, fset=set_name)"
   ]
  },
  {
   "cell_type": "code",
   "execution_count": 37,
   "metadata": {},
   "outputs": [],
   "source": [
    "p = Person()"
   ]
  },
  {
   "cell_type": "code",
   "execution_count": 38,
   "metadata": {},
   "outputs": [
    {
     "name": "stdout",
     "output_type": "stream",
     "text": [
      "set called\n",
      "setname called\n"
     ]
    }
   ],
   "source": [
    "p.name = 'lolo'"
   ]
  },
  {
   "cell_type": "code",
   "execution_count": 39,
   "metadata": {},
   "outputs": [
    {
     "name": "stdout",
     "output_type": "stream",
     "text": [
      "get called\n",
      "getname called\n"
     ]
    },
    {
     "data": {
      "text/plain": [
       "'lolo'"
      ]
     },
     "execution_count": 39,
     "metadata": {},
     "output_type": "execute_result"
    }
   ],
   "source": [
    "p.name"
   ]
  },
  {
   "cell_type": "code",
   "execution_count": 40,
   "metadata": {},
   "outputs": [
    {
     "data": {
      "text/plain": [
       "{'_name': 'lolo'}"
      ]
     },
     "execution_count": 40,
     "metadata": {},
     "output_type": "execute_result"
    }
   ],
   "source": [
    "p.__dict__"
   ]
  },
  {
   "cell_type": "code",
   "execution_count": 41,
   "metadata": {},
   "outputs": [],
   "source": [
    "p.__dict__['name'] = 'lolololo'"
   ]
  },
  {
   "cell_type": "code",
   "execution_count": 42,
   "metadata": {},
   "outputs": [
    {
     "name": "stdout",
     "output_type": "stream",
     "text": [
      "get called\n",
      "getname called\n"
     ]
    },
    {
     "data": {
      "text/plain": [
       "'lolo'"
      ]
     },
     "execution_count": 42,
     "metadata": {},
     "output_type": "execute_result"
    }
   ],
   "source": [
    "p.name"
   ]
  },
  {
   "cell_type": "code",
   "execution_count": 43,
   "metadata": {},
   "outputs": [
    {
     "data": {
      "text/plain": [
       "{'_name': 'lolo', 'name': 'lolololo'}"
      ]
     },
     "execution_count": 43,
     "metadata": {},
     "output_type": "execute_result"
    }
   ],
   "source": [
    "p.__dict__"
   ]
  },
  {
   "cell_type": "code",
   "execution_count": 44,
   "metadata": {},
   "outputs": [],
   "source": [
    "class Person:\n",
    "    def age(self):\n",
    "        return getattr(self, '_age', None)\n",
    "    \n",
    "    age = property(age)\n",
    "    \n",
    "    def set_age(self, value):\n",
    "        if not isinstance(value, Integral):\n",
    "            raise ValueError('age must be int')\n",
    "        if value < 0 :\n",
    "            raise ValueError('age must be +ve')\n",
    "            \n",
    "        self._age = value\n",
    "        \n",
    "    age = age.setter(set_age)\n",
    "        \n",
    "        "
   ]
  },
  {
   "cell_type": "code",
   "execution_count": 45,
   "metadata": {},
   "outputs": [],
   "source": [
    "class Person:\n",
    "    @MakeProp\n",
    "    def age(self):\n",
    "        return 100"
   ]
  },
  {
   "cell_type": "code",
   "execution_count": 46,
   "metadata": {},
   "outputs": [],
   "source": [
    "p = Person()"
   ]
  },
  {
   "cell_type": "code",
   "execution_count": 47,
   "metadata": {},
   "outputs": [
    {
     "name": "stdout",
     "output_type": "stream",
     "text": [
      "get called\n"
     ]
    },
    {
     "data": {
      "text/plain": [
       "<__main__.MakeProp at 0x1a4a3fdf310>"
      ]
     },
     "execution_count": 47,
     "metadata": {},
     "output_type": "execute_result"
    }
   ],
   "source": [
    "Person.age"
   ]
  },
  {
   "cell_type": "code",
   "execution_count": 48,
   "metadata": {},
   "outputs": [
    {
     "name": "stdout",
     "output_type": "stream",
     "text": [
      "get called\n"
     ]
    },
    {
     "data": {
      "text/plain": [
       "100"
      ]
     },
     "execution_count": 48,
     "metadata": {},
     "output_type": "execute_result"
    }
   ],
   "source": [
    "p.age"
   ]
  },
  {
   "cell_type": "code",
   "execution_count": 49,
   "metadata": {},
   "outputs": [
    {
     "ename": "AttributeError",
     "evalue": "'MakeProp' object has no attribute 'setter'",
     "output_type": "error",
     "traceback": [
      "\u001b[1;31m---------------------------------------------------------------------------\u001b[0m",
      "\u001b[1;31mAttributeError\u001b[0m                            Traceback (most recent call last)",
      "\u001b[1;32m<ipython-input-49-f0193bc203e6>\u001b[0m in \u001b[0;36m<module>\u001b[1;34m\u001b[0m\n\u001b[1;32m----> 1\u001b[1;33m \u001b[1;32mclass\u001b[0m \u001b[0mPerson\u001b[0m\u001b[1;33m:\u001b[0m\u001b[1;33m\u001b[0m\u001b[1;33m\u001b[0m\u001b[0m\n\u001b[0m\u001b[0;32m      2\u001b[0m     \u001b[1;33m@\u001b[0m\u001b[0mMakeProp\u001b[0m\u001b[1;33m\u001b[0m\u001b[1;33m\u001b[0m\u001b[0m\n\u001b[0;32m      3\u001b[0m     \u001b[1;32mdef\u001b[0m \u001b[0mage\u001b[0m\u001b[1;33m(\u001b[0m\u001b[0mself\u001b[0m\u001b[1;33m)\u001b[0m\u001b[1;33m:\u001b[0m\u001b[1;33m\u001b[0m\u001b[1;33m\u001b[0m\u001b[0m\n\u001b[0;32m      4\u001b[0m         \u001b[1;32mreturn\u001b[0m \u001b[0mgetattr\u001b[0m\u001b[1;33m(\u001b[0m\u001b[0mself\u001b[0m\u001b[1;33m,\u001b[0m \u001b[1;34m'_age'\u001b[0m\u001b[1;33m,\u001b[0m \u001b[1;32mNone\u001b[0m\u001b[1;33m)\u001b[0m\u001b[1;33m\u001b[0m\u001b[1;33m\u001b[0m\u001b[0m\n\u001b[0;32m      5\u001b[0m \u001b[1;33m\u001b[0m\u001b[0m\n",
      "\u001b[1;32m<ipython-input-49-f0193bc203e6>\u001b[0m in \u001b[0;36mPerson\u001b[1;34m()\u001b[0m\n\u001b[0;32m      5\u001b[0m \u001b[1;33m\u001b[0m\u001b[0m\n\u001b[0;32m      6\u001b[0m \u001b[1;33m\u001b[0m\u001b[0m\n\u001b[1;32m----> 7\u001b[1;33m     \u001b[1;33m@\u001b[0m\u001b[0mage\u001b[0m\u001b[1;33m.\u001b[0m\u001b[0msetter\u001b[0m\u001b[1;33m\u001b[0m\u001b[1;33m\u001b[0m\u001b[0m\n\u001b[0m\u001b[0;32m      8\u001b[0m     \u001b[1;32mdef\u001b[0m \u001b[0mage\u001b[0m\u001b[1;33m(\u001b[0m\u001b[0mself\u001b[0m\u001b[1;33m,\u001b[0m \u001b[0mvalue\u001b[0m\u001b[1;33m)\u001b[0m\u001b[1;33m:\u001b[0m\u001b[1;33m\u001b[0m\u001b[1;33m\u001b[0m\u001b[0m\n\u001b[0;32m      9\u001b[0m         \u001b[0mself\u001b[0m\u001b[1;33m.\u001b[0m\u001b[0m_age\u001b[0m \u001b[1;33m=\u001b[0m \u001b[0mvalue\u001b[0m\u001b[1;33m\u001b[0m\u001b[1;33m\u001b[0m\u001b[0m\n",
      "\u001b[1;31mAttributeError\u001b[0m: 'MakeProp' object has no attribute 'setter'"
     ]
    }
   ],
   "source": [
    "class Person:\n",
    "    @MakeProp\n",
    "    def age(self):\n",
    "        return getattr(self, '_age', None)\n",
    "    \n",
    "    \n",
    "    @age.setter\n",
    "    def age(self, value):\n",
    "        self._age = value"
   ]
  },
  {
   "cell_type": "code",
   "execution_count": 50,
   "metadata": {},
   "outputs": [],
   "source": [
    "class MakeProp:\n",
    "    def __init__(self, fget = None, fset = None):\n",
    "        self.fget = fget\n",
    "        self.fset = fset\n",
    "    def __set_name__(self, owner_class, prop_name):\n",
    "        self.prop_name = prop_name\n",
    "        \n",
    "        \n",
    "    def __get__(self, instance, owner_class):\n",
    "        print('get called')\n",
    "        if instance is None:\n",
    "            return self\n",
    "        \n",
    "        if self.fget is None:\n",
    "            raise AttributeError(f'{self.prop_name} is not readable')\n",
    "        return self.fget(instance)\n",
    "    \n",
    "    def __set__(self, instance, value):\n",
    "        print('set called')\n",
    "        if self.fset is None:\n",
    "            raise AttributeError(f'{self.prop_name} is not lulu')\n",
    "        self.fset(instance, value) \n",
    "        \n",
    "        \n",
    "        \n",
    "    def setter(self, fset):\n",
    "        self.fset = fset\n",
    "        return self"
   ]
  },
  {
   "cell_type": "code",
   "execution_count": 51,
   "metadata": {},
   "outputs": [],
   "source": [
    "class Person:\n",
    "    @MakeProp\n",
    "    def age(self):\n",
    "        return getattr(self, '_age', None)\n",
    "    \n",
    "    @age.setter\n",
    "    def age(self, value):\n",
    "        self._age = value"
   ]
  },
  {
   "cell_type": "code",
   "execution_count": 52,
   "metadata": {},
   "outputs": [],
   "source": [
    "p = Person()"
   ]
  },
  {
   "cell_type": "code",
   "execution_count": 53,
   "metadata": {},
   "outputs": [
    {
     "name": "stdout",
     "output_type": "stream",
     "text": [
      "set called\n"
     ]
    }
   ],
   "source": [
    "p.age = 100"
   ]
  },
  {
   "cell_type": "code",
   "execution_count": 54,
   "metadata": {},
   "outputs": [
    {
     "name": "stdout",
     "output_type": "stream",
     "text": [
      "get called\n"
     ]
    },
    {
     "data": {
      "text/plain": [
       "100"
      ]
     },
     "execution_count": 54,
     "metadata": {},
     "output_type": "execute_result"
    }
   ],
   "source": [
    "p.age"
   ]
  },
  {
   "cell_type": "code",
   "execution_count": 56,
   "metadata": {},
   "outputs": [
    {
     "data": {
      "text/plain": [
       "{'_age': 100}"
      ]
     },
     "execution_count": 56,
     "metadata": {},
     "output_type": "execute_result"
    }
   ],
   "source": [
    "p.__dict__"
   ]
  },
  {
   "cell_type": "code",
   "execution_count": 57,
   "metadata": {},
   "outputs": [],
   "source": [
    "### APplication Ex 1 "
   ]
  },
  {
   "cell_type": "code",
   "execution_count": 58,
   "metadata": {},
   "outputs": [],
   "source": [
    "class Int:\n",
    "    def __set_name__(self, owner_class, prop_name):\n",
    "        self.prop_name = prop_name\n",
    "        \n",
    "    def __set__(self, instance, value):\n",
    "        if not isinstance(value, int):\n",
    "            raise ValueError(f'{self.prop_name} must be int')\n",
    "        instance.__dict__[self.prop_name] = value\n",
    "        \n",
    "    def __get__(self, instance, owner_class):\n",
    "        if instance is None:\n",
    "            return self\n",
    "        else:\n",
    "            return instance.__dict__.get(self.prop_name, None)\n",
    "        "
   ]
  },
  {
   "cell_type": "code",
   "execution_count": 59,
   "metadata": {},
   "outputs": [],
   "source": [
    "class Float:\n",
    "    def __set_name__(self, owner_class, prop_name):\n",
    "        self.prop_name = prop_name\n",
    "        \n",
    "    def __set__(self, instance, value):\n",
    "        if not isinstance(value, float):\n",
    "            raise ValueError(f'{self.prop_name} must be float')\n",
    "        instance.__dict__[self.prop_name] = value\n",
    "        \n",
    "    def __get__(self, instance, owner_class):\n",
    "        if instance is None:\n",
    "            return self\n",
    "        else:\n",
    "            return instance.__dict__.get(self.prop_name, None)\n",
    "        "
   ]
  },
  {
   "cell_type": "code",
   "execution_count": 60,
   "metadata": {},
   "outputs": [],
   "source": [
    "class List:\n",
    "    def __set_name__(self, owner_class, prop_name):\n",
    "        self.prop_name = prop_name\n",
    "        \n",
    "    def __set__(self, instance, value):\n",
    "        if not isinstance(value, list):\n",
    "            raise ValueError(f'{self.prop_name} must be list')\n",
    "        instance.__dict__[self.prop_name] = value\n",
    "        \n",
    "    def __get__(self, instance, owner_class):\n",
    "        if instance is None:\n",
    "            return self\n",
    "        else:\n",
    "            return instance.__dict__.get(self.prop_name, None)\n",
    "        "
   ]
  },
  {
   "cell_type": "code",
   "execution_count": 62,
   "metadata": {},
   "outputs": [],
   "source": [
    "class Person:\n",
    "    age = Int()\n",
    "    height = Float()\n",
    "    tags = List()\n",
    "    fav_foods = List()"
   ]
  },
  {
   "cell_type": "code",
   "execution_count": 63,
   "metadata": {},
   "outputs": [],
   "source": [
    "p = Person()"
   ]
  },
  {
   "cell_type": "code",
   "execution_count": 66,
   "metadata": {},
   "outputs": [
    {
     "name": "stdout",
     "output_type": "stream",
     "text": [
      "tags must be list\n"
     ]
    }
   ],
   "source": [
    "try:\n",
    "    p.tags = 'lolo'\n",
    "    \n",
    "except ValueError as ex:\n",
    "    print(ex)"
   ]
  },
  {
   "cell_type": "code",
   "execution_count": 71,
   "metadata": {},
   "outputs": [],
   "source": [
    "class ValidType:\n",
    "    def __init__(self, type_):\n",
    "        self._type = type_\n",
    "    def __set_name__(self, owner_class, prop_name):\n",
    "        self.prop_name = prop_name\n",
    "        \n",
    "    def __set__(self, instance, value):\n",
    "        if not isinstance(value, self._type):\n",
    "            raise ValueError(f'{self.prop_name} must be {self._type}')\n",
    "        instance.__dict__[self.prop_name] = value\n",
    "        \n",
    "    def __get__(self, instance, owner_class):\n",
    "        if instance is None:\n",
    "            return self\n",
    "        else:\n",
    "            return instance.__dict__.get(self.prop_name, None)\n",
    "        "
   ]
  },
  {
   "cell_type": "code",
   "execution_count": 72,
   "metadata": {},
   "outputs": [],
   "source": [
    "class Person:\n",
    "    age = ValidType(int)\n",
    "    height = ValidType(float)\n",
    "    tags = ValidType(list)\n",
    "    fav_foods = ValidType(tuple)"
   ]
  },
  {
   "cell_type": "code",
   "execution_count": 73,
   "metadata": {},
   "outputs": [],
   "source": [
    "p = Person()\n"
   ]
  },
  {
   "cell_type": "code",
   "execution_count": 77,
   "metadata": {},
   "outputs": [],
   "source": [
    "try:\n",
    "    p.height = 10.0\n",
    "except ValueError as ex:\n",
    "    print(ex)"
   ]
  },
  {
   "cell_type": "code",
   "execution_count": 78,
   "metadata": {},
   "outputs": [],
   "source": [
    "import numbers"
   ]
  },
  {
   "cell_type": "code",
   "execution_count": 82,
   "metadata": {},
   "outputs": [
    {
     "data": {
      "text/plain": [
       "True"
      ]
     },
     "execution_count": 82,
     "metadata": {},
     "output_type": "execute_result"
    }
   ],
   "source": [
    "isinstance(10.5, numbers.Real)"
   ]
  },
  {
   "cell_type": "code",
   "execution_count": 83,
   "metadata": {},
   "outputs": [],
   "source": [
    "class Person:\n",
    "    age = ValidType(int)\n",
    "    height = ValidType(numbers.Real)\n",
    "    tags = ValidType(list)\n",
    "    fav_foods = ValidType(tuple)"
   ]
  },
  {
   "cell_type": "code",
   "execution_count": 84,
   "metadata": {},
   "outputs": [],
   "source": [
    "p = Person()"
   ]
  },
  {
   "cell_type": "code",
   "execution_count": 85,
   "metadata": {},
   "outputs": [],
   "source": [
    "p.height = 10.0"
   ]
  },
  {
   "cell_type": "code",
   "execution_count": 86,
   "metadata": {},
   "outputs": [],
   "source": [
    "p.height = 10"
   ]
  },
  {
   "cell_type": "code",
   "execution_count": 93,
   "metadata": {},
   "outputs": [],
   "source": [
    "class Int:\n",
    "    def __init__(self, min_v=None, max_v = None):\n",
    "        self.min_v = min_v\n",
    "        self.max_v = max_v\n",
    "    \n",
    "    def __set_name__(self, owner_class, name):\n",
    "        self.name = name\n",
    "\n",
    "    def __set__(self, instance, value):\n",
    "        if not isinstance(value, int):\n",
    "            raise ValueError(f'{self.name} must be int')\n",
    "        if self.min_v is not None and value < self.min_v:\n",
    "            raise ValueError(f'{self.name} must be atleast {self.min_v}')\n",
    "        if self.max_v is not None and value> self.max_v:\n",
    "            raise ValueError(f'{self.name} must be atleast {self.max_v}')\n",
    "        instance.__dict__[self.name] = value\n",
    "\n",
    "    def __get__(self, instance, owner_class):\n",
    "        if instance is None:\n",
    "            return self\n",
    "        else:\n",
    "            return instance.__dict__.get(self.name, None)"
   ]
  },
  {
   "cell_type": "code",
   "execution_count": 94,
   "metadata": {},
   "outputs": [],
   "source": [
    "class Point2D:\n",
    "    x = Int(min_v=0, max_v=800)\n",
    "    y = Int(min_v=0, max_v=600)\n",
    "    \n",
    "    def __init__(self, x, y):\n",
    "        self.x = x\n",
    "        self.y = y\n",
    "        \n",
    "        \n",
    "    def __repr__(self):\n",
    "        return f'Point2D(x = {self.x}, y = {self.y})'\n",
    "    \n",
    "    def __str__(self):\n",
    "        return f'({self.x}, {self.y})'"
   ]
  },
  {
   "cell_type": "code",
   "execution_count": 95,
   "metadata": {},
   "outputs": [],
   "source": [
    "p = Point2D(0,10)"
   ]
  },
  {
   "cell_type": "code",
   "execution_count": 96,
   "metadata": {},
   "outputs": [
    {
     "data": {
      "text/plain": [
       "'(0, 10)'"
      ]
     },
     "execution_count": 96,
     "metadata": {},
     "output_type": "execute_result"
    }
   ],
   "source": [
    "str(p)"
   ]
  },
  {
   "cell_type": "code",
   "execution_count": 98,
   "metadata": {},
   "outputs": [
    {
     "data": {
      "text/plain": [
       "'Point2D(x = 0, y = 10)'"
      ]
     },
     "execution_count": 98,
     "metadata": {},
     "output_type": "execute_result"
    }
   ],
   "source": [
    "repr(p)"
   ]
  },
  {
   "cell_type": "code",
   "execution_count": 99,
   "metadata": {},
   "outputs": [
    {
     "name": "stdout",
     "output_type": "stream",
     "text": [
      "y must be atleast 600\n"
     ]
    }
   ],
   "source": [
    "try:\n",
    "    p = Point2D(0,800)\n",
    "except ValueError as ex:\n",
    "    print(ex)"
   ]
  },
  {
   "cell_type": "code",
   "execution_count": 100,
   "metadata": {},
   "outputs": [],
   "source": [
    "import collections"
   ]
  },
  {
   "cell_type": "code",
   "execution_count": 101,
   "metadata": {},
   "outputs": [
    {
     "data": {
      "text/plain": [
       "True"
      ]
     },
     "execution_count": 101,
     "metadata": {},
     "output_type": "execute_result"
    }
   ],
   "source": [
    "isinstance([1,2,3], collections.abc.Sequence)"
   ]
  },
  {
   "cell_type": "code",
   "execution_count": 102,
   "metadata": {},
   "outputs": [
    {
     "data": {
      "text/plain": [
       "True"
      ]
     },
     "execution_count": 102,
     "metadata": {},
     "output_type": "execute_result"
    }
   ],
   "source": [
    "isinstance((1,2,3), collections.abc.Sequence)"
   ]
  },
  {
   "cell_type": "code",
   "execution_count": 103,
   "metadata": {
    "scrolled": true
   },
   "outputs": [
    {
     "data": {
      "text/plain": [
       "False"
      ]
     },
     "execution_count": 103,
     "metadata": {},
     "output_type": "execute_result"
    }
   ],
   "source": [
    "isinstance({1,2,3}, collections.abc.Sequence\n",
    "          )"
   ]
  },
  {
   "cell_type": "code",
   "execution_count": 104,
   "metadata": {},
   "outputs": [
    {
     "data": {
      "text/plain": [
       "True"
      ]
     },
     "execution_count": 104,
     "metadata": {},
     "output_type": "execute_result"
    }
   ],
   "source": [
    "isinstance([1,2,3], collections.abc.MutableSequence)"
   ]
  },
  {
   "cell_type": "code",
   "execution_count": 105,
   "metadata": {},
   "outputs": [
    {
     "data": {
      "text/plain": [
       "False"
      ]
     },
     "execution_count": 105,
     "metadata": {},
     "output_type": "execute_result"
    }
   ],
   "source": [
    "isinstance((1,2,3), collections.abc.MutableSequence)"
   ]
  },
  {
   "cell_type": "code",
   "execution_count": 159,
   "metadata": {},
   "outputs": [],
   "source": [
    "class Point2DSeq:\n",
    "    def __init__(self, min_l=None, max_l = None):\n",
    "        self.min_l = min_l\n",
    "        self.max_l = max_l\n",
    "        \n",
    "    def __set_name__(self,cls, name):\n",
    "        self.name = name \n",
    "        \n",
    "    def __set__(self, instance, value):\n",
    "        if not isinstance(value, collections.abc.Sequence):\n",
    "            raise ValueError(f'{self.name} must be a seq type')\n",
    "        if self.min_l is not None and len(value) < self.min_l:\n",
    "            raise ValueError(f'{self.name} must be contains atleast {self.min_l} elem')\n",
    "            \n",
    "        if self.max_l is not None and len(value) > self.max_l:\n",
    "            raise ValueError(f'{self.name} cant be contains atleast {self.max_l} elem')\n",
    "            \n",
    "        for index, item in enumerate(value):\n",
    "            if not isinstance(item, Point2D):\n",
    "                raise ValueError(f'item index{index} not Point2D')\n",
    "                \n",
    "        instance.__dict__[self.name] = list(value)\n",
    "        def __get__(self, instance, owner_cls):\n",
    "            if instance is None:\n",
    "                return self\n",
    "            else:\n",
    "                if self.name  not in instance.__dict__:\n",
    "                    instance.__dict__[self.name] = []\n",
    "                return instance.__dict__.get(self.name)\n",
    "                    \n",
    "                    \n",
    "        \n",
    "        \n",
    "        \n",
    "        "
   ]
  },
  {
   "cell_type": "code",
   "execution_count": 110,
   "metadata": {},
   "outputs": [],
   "source": [
    "class Polygon:\n",
    "    vertices = Point2DSeq(min_l=3)\n",
    "    def __init__(self, *vertices):\n",
    "        self.vertices = vertices\n",
    "    "
   ]
  },
  {
   "cell_type": "code",
   "execution_count": 112,
   "metadata": {},
   "outputs": [
    {
     "name": "stdout",
     "output_type": "stream",
     "text": [
      "vertices must be contains atleast 3 elem\n"
     ]
    }
   ],
   "source": [
    "try:\n",
    "    p = Polygon()\n",
    "except ValueError as ex:\n",
    "    print(ex)"
   ]
  },
  {
   "cell_type": "code",
   "execution_count": 113,
   "metadata": {},
   "outputs": [
    {
     "name": "stdout",
     "output_type": "stream",
     "text": [
      "x must be atleast 0\n"
     ]
    }
   ],
   "source": [
    "try:\n",
    "    p = Polygon(Point2D(-100, 0), Point2D(0,1), Point2D(1,0))\n",
    "except ValueError as ex:\n",
    "    print(ex)"
   ]
  },
  {
   "cell_type": "code",
   "execution_count": 114,
   "metadata": {},
   "outputs": [],
   "source": [
    "p = Polygon(Point2D(0, 0), Point2D(0,1), Point2D(1,0))"
   ]
  },
  {
   "cell_type": "code",
   "execution_count": 115,
   "metadata": {},
   "outputs": [
    {
     "data": {
      "text/plain": [
       "[Point2D(x = 0, y = 0), Point2D(x = 0, y = 1), Point2D(x = 1, y = 0)]"
      ]
     },
     "execution_count": 115,
     "metadata": {},
     "output_type": "execute_result"
    }
   ],
   "source": [
    "p.vertices"
   ]
  },
  {
   "cell_type": "code",
   "execution_count": 116,
   "metadata": {},
   "outputs": [],
   "source": [
    "class Polygon:\n",
    "    vertices = Point2DSeq(min_l=3)\n",
    "    def __init__(self, *vertices):\n",
    "        self.vertices = vertices\n",
    "    def append(self, pt):\n",
    "        if not isinstance(pt, Point2D):\n",
    "            raise ValueError('can only append Point2d isnt')\n",
    "         \n",
    "        max_l = type(self).vertices.max_l\n",
    "        \n",
    "        if max_l is not None and len(self.vertices) >=max_l:\n",
    "            raise ValueError(f'Vertices length is at max ({max_l})')\n",
    "        self.vertices.append(pt)"
   ]
  },
  {
   "cell_type": "code",
   "execution_count": 121,
   "metadata": {},
   "outputs": [],
   "source": [
    "p = Polygon(Point2D(0, 0), Point2D(0,1), Point2D(1,0))"
   ]
  },
  {
   "cell_type": "code",
   "execution_count": 118,
   "metadata": {},
   "outputs": [
    {
     "data": {
      "text/plain": [
       "[Point2D(x = 0, y = 0), Point2D(x = 0, y = 1), Point2D(x = 1, y = 0)]"
      ]
     },
     "execution_count": 118,
     "metadata": {},
     "output_type": "execute_result"
    }
   ],
   "source": [
    "p .vertices"
   ]
  },
  {
   "cell_type": "code",
   "execution_count": 119,
   "metadata": {},
   "outputs": [],
   "source": [
    "p.append(Point2D(10,10))"
   ]
  },
  {
   "cell_type": "code",
   "execution_count": 120,
   "metadata": {},
   "outputs": [
    {
     "data": {
      "text/plain": [
       "[Point2D(x = 0, y = 0),\n",
       " Point2D(x = 0, y = 1),\n",
       " Point2D(x = 1, y = 0),\n",
       " Point2D(x = 10, y = 10)]"
      ]
     },
     "execution_count": 120,
     "metadata": {},
     "output_type": "execute_result"
    }
   ],
   "source": [
    "p.vertices"
   ]
  },
  {
   "cell_type": "code",
   "execution_count": 127,
   "metadata": {},
   "outputs": [],
   "source": [
    "class Polygon:\n",
    "    vertices = Point2DSeq(min_l=3, max_l = 3)\n",
    "    def __init__(self, *vertices):\n",
    "        self.vertices = vertices\n",
    "    def append(self, pt):\n",
    "        if not isinstance(pt, Point2D):\n",
    "            raise ValueError('can only append Point2d isnt')\n",
    "         \n",
    "        max_l = type(self).vertices.max_l\n",
    "        \n",
    "        if max_l is not None and len(self.vertices) >=max_l:\n",
    "            raise ValueError(f'Vertices length is at max ({max_l})')\n",
    "        self.vertices.append(pt)"
   ]
  },
  {
   "cell_type": "code",
   "execution_count": 125,
   "metadata": {},
   "outputs": [],
   "source": [
    "p = Polygon(Point2D(0, 0), Point2D(0,1), Point2D(1,0))"
   ]
  },
  {
   "cell_type": "code",
   "execution_count": 126,
   "metadata": {},
   "outputs": [
    {
     "ename": "ValueError",
     "evalue": "Vertices length is at max (3)",
     "output_type": "error",
     "traceback": [
      "\u001b[1;31m---------------------------------------------------------------------------\u001b[0m",
      "\u001b[1;31mValueError\u001b[0m                                Traceback (most recent call last)",
      "\u001b[1;32m<ipython-input-126-6227e31edb3f>\u001b[0m in \u001b[0;36m<module>\u001b[1;34m\u001b[0m\n\u001b[1;32m----> 1\u001b[1;33m \u001b[0mp\u001b[0m\u001b[1;33m.\u001b[0m\u001b[0mappend\u001b[0m\u001b[1;33m(\u001b[0m\u001b[0mPoint2D\u001b[0m\u001b[1;33m(\u001b[0m\u001b[1;36m10\u001b[0m\u001b[1;33m,\u001b[0m\u001b[1;36m10\u001b[0m\u001b[1;33m)\u001b[0m\u001b[1;33m)\u001b[0m\u001b[1;33m\u001b[0m\u001b[1;33m\u001b[0m\u001b[0m\n\u001b[0m",
      "\u001b[1;32m<ipython-input-124-f4ef81b10612>\u001b[0m in \u001b[0;36mappend\u001b[1;34m(self, pt)\u001b[0m\n\u001b[0;32m     10\u001b[0m \u001b[1;33m\u001b[0m\u001b[0m\n\u001b[0;32m     11\u001b[0m         \u001b[1;32mif\u001b[0m \u001b[0mmax_l\u001b[0m \u001b[1;32mis\u001b[0m \u001b[1;32mnot\u001b[0m \u001b[1;32mNone\u001b[0m \u001b[1;32mand\u001b[0m \u001b[0mlen\u001b[0m\u001b[1;33m(\u001b[0m\u001b[0mself\u001b[0m\u001b[1;33m.\u001b[0m\u001b[0mvertices\u001b[0m\u001b[1;33m)\u001b[0m \u001b[1;33m>=\u001b[0m\u001b[0mmax_l\u001b[0m\u001b[1;33m:\u001b[0m\u001b[1;33m\u001b[0m\u001b[1;33m\u001b[0m\u001b[0m\n\u001b[1;32m---> 12\u001b[1;33m             \u001b[1;32mraise\u001b[0m \u001b[0mValueError\u001b[0m\u001b[1;33m(\u001b[0m\u001b[1;34mf'Vertices length is at max ({max_l})'\u001b[0m\u001b[1;33m)\u001b[0m\u001b[1;33m\u001b[0m\u001b[1;33m\u001b[0m\u001b[0m\n\u001b[0m\u001b[0;32m     13\u001b[0m         \u001b[0mself\u001b[0m\u001b[1;33m.\u001b[0m\u001b[0mvertices\u001b[0m\u001b[1;33m.\u001b[0m\u001b[0mappend\u001b[0m\u001b[1;33m(\u001b[0m\u001b[0mpt\u001b[0m\u001b[1;33m)\u001b[0m\u001b[1;33m\u001b[0m\u001b[1;33m\u001b[0m\u001b[0m\n",
      "\u001b[1;31mValueError\u001b[0m: Vertices length is at max (3)"
     ]
    }
   ],
   "source": [
    "p.append(Point2D(10,10))"
   ]
  },
  {
   "cell_type": "code",
   "execution_count": 128,
   "metadata": {},
   "outputs": [],
   "source": [
    "class Square:\n",
    "    vertices = Point2DSeq(min_l=4, max_l = 4)\n",
    "    def __init__(self, *vertices):\n",
    "        self.vertices = vertices\n",
    "    def append(self, pt):\n",
    "        if not isinstance(pt, Point2D):\n",
    "            raise ValueError('can only append Point2d isnt')\n",
    "         \n",
    "        max_l = type(self).vertices.max_l\n",
    "        \n",
    "        if max_l is not None and len(self.vertices) >=max_l:\n",
    "            raise ValueError(f'Vertices length is at max ({max_l})')\n",
    "        self.vertices.append(pt)"
   ]
  },
  {
   "cell_type": "code",
   "execution_count": 129,
   "metadata": {},
   "outputs": [],
   "source": [
    "class Polygon:\n",
    "    vertices = Point2DSeq(min_l=3)\n",
    "    def __init__(self, *vertices):\n",
    "        self.vertices = vertices\n",
    "    def append(self, pt):\n",
    "        if not isinstance(pt, Point2D):\n",
    "            raise ValueError('can only append Point2d isnt')\n",
    "         \n",
    "        max_l = type(self).vertices.max_l\n",
    "        \n",
    "        if max_l is not None and len(self.vertices) >=max_l:\n",
    "            raise ValueError(f'Vertices length is at max ({max_l})')\n",
    "        self.vertices.append(pt)"
   ]
  },
  {
   "cell_type": "code",
   "execution_count": 130,
   "metadata": {},
   "outputs": [],
   "source": [
    "class Triangle(Polygon):\n",
    "    vertices = Point2DSeq(min_l=3, max_l=3)"
   ]
  },
  {
   "cell_type": "code",
   "execution_count": 131,
   "metadata": {},
   "outputs": [],
   "source": [
    "class Rectangle(Polygon):\n",
    "    verices = Point2DSeq(min_l=4, max_l=4)"
   ]
  },
  {
   "cell_type": "code",
   "execution_count": 132,
   "metadata": {},
   "outputs": [
    {
     "ename": "ValueError",
     "evalue": "vertices cant be contains atleast 3 elem",
     "output_type": "error",
     "traceback": [
      "\u001b[1;31m---------------------------------------------------------------------------\u001b[0m",
      "\u001b[1;31mValueError\u001b[0m                                Traceback (most recent call last)",
      "\u001b[1;32m<ipython-input-132-9ae0e0b592c3>\u001b[0m in \u001b[0;36m<module>\u001b[1;34m\u001b[0m\n\u001b[1;32m----> 1\u001b[1;33m \u001b[0mt\u001b[0m \u001b[1;33m=\u001b[0m \u001b[0mTriangle\u001b[0m\u001b[1;33m(\u001b[0m\u001b[0mPoint2D\u001b[0m\u001b[1;33m(\u001b[0m\u001b[1;36m0\u001b[0m\u001b[1;33m,\u001b[0m\u001b[1;36m0\u001b[0m\u001b[1;33m)\u001b[0m\u001b[1;33m,\u001b[0m \u001b[0mPoint2D\u001b[0m\u001b[1;33m(\u001b[0m\u001b[1;36m1\u001b[0m\u001b[1;33m,\u001b[0m\u001b[1;36m1\u001b[0m\u001b[1;33m)\u001b[0m\u001b[1;33m,\u001b[0m \u001b[0mPoint2D\u001b[0m\u001b[1;33m(\u001b[0m\u001b[1;36m3\u001b[0m\u001b[1;33m,\u001b[0m\u001b[1;36m3\u001b[0m\u001b[1;33m)\u001b[0m\u001b[1;33m,\u001b[0m \u001b[0mPoint2D\u001b[0m\u001b[1;33m(\u001b[0m\u001b[1;36m4\u001b[0m\u001b[1;33m,\u001b[0m\u001b[1;36m4\u001b[0m\u001b[1;33m)\u001b[0m\u001b[1;33m)\u001b[0m\u001b[1;33m\u001b[0m\u001b[1;33m\u001b[0m\u001b[0m\n\u001b[0m",
      "\u001b[1;32m<ipython-input-129-f1bb6b24bdc9>\u001b[0m in \u001b[0;36m__init__\u001b[1;34m(self, *vertices)\u001b[0m\n\u001b[0;32m      2\u001b[0m     \u001b[0mvertices\u001b[0m \u001b[1;33m=\u001b[0m \u001b[0mPoint2DSeq\u001b[0m\u001b[1;33m(\u001b[0m\u001b[0mmin_l\u001b[0m\u001b[1;33m=\u001b[0m\u001b[1;36m3\u001b[0m\u001b[1;33m)\u001b[0m\u001b[1;33m\u001b[0m\u001b[1;33m\u001b[0m\u001b[0m\n\u001b[0;32m      3\u001b[0m     \u001b[1;32mdef\u001b[0m \u001b[0m__init__\u001b[0m\u001b[1;33m(\u001b[0m\u001b[0mself\u001b[0m\u001b[1;33m,\u001b[0m \u001b[1;33m*\u001b[0m\u001b[0mvertices\u001b[0m\u001b[1;33m)\u001b[0m\u001b[1;33m:\u001b[0m\u001b[1;33m\u001b[0m\u001b[1;33m\u001b[0m\u001b[0m\n\u001b[1;32m----> 4\u001b[1;33m         \u001b[0mself\u001b[0m\u001b[1;33m.\u001b[0m\u001b[0mvertices\u001b[0m \u001b[1;33m=\u001b[0m \u001b[0mvertices\u001b[0m\u001b[1;33m\u001b[0m\u001b[1;33m\u001b[0m\u001b[0m\n\u001b[0m\u001b[0;32m      5\u001b[0m     \u001b[1;32mdef\u001b[0m \u001b[0mappend\u001b[0m\u001b[1;33m(\u001b[0m\u001b[0mself\u001b[0m\u001b[1;33m,\u001b[0m \u001b[0mpt\u001b[0m\u001b[1;33m)\u001b[0m\u001b[1;33m:\u001b[0m\u001b[1;33m\u001b[0m\u001b[1;33m\u001b[0m\u001b[0m\n\u001b[0;32m      6\u001b[0m         \u001b[1;32mif\u001b[0m \u001b[1;32mnot\u001b[0m \u001b[0misinstance\u001b[0m\u001b[1;33m(\u001b[0m\u001b[0mpt\u001b[0m\u001b[1;33m,\u001b[0m \u001b[0mPoint2D\u001b[0m\u001b[1;33m)\u001b[0m\u001b[1;33m:\u001b[0m\u001b[1;33m\u001b[0m\u001b[1;33m\u001b[0m\u001b[0m\n",
      "\u001b[1;32m<ipython-input-108-64e35de00110>\u001b[0m in \u001b[0;36m__set__\u001b[1;34m(self, instance, value)\u001b[0m\n\u001b[0;32m     14\u001b[0m \u001b[1;33m\u001b[0m\u001b[0m\n\u001b[0;32m     15\u001b[0m         \u001b[1;32mif\u001b[0m \u001b[0mself\u001b[0m\u001b[1;33m.\u001b[0m\u001b[0mmax_l\u001b[0m \u001b[1;32mis\u001b[0m \u001b[1;32mnot\u001b[0m \u001b[1;32mNone\u001b[0m \u001b[1;32mand\u001b[0m \u001b[0mlen\u001b[0m\u001b[1;33m(\u001b[0m\u001b[0mvalue\u001b[0m\u001b[1;33m)\u001b[0m \u001b[1;33m>\u001b[0m \u001b[0mself\u001b[0m\u001b[1;33m.\u001b[0m\u001b[0mmax_l\u001b[0m\u001b[1;33m:\u001b[0m\u001b[1;33m\u001b[0m\u001b[1;33m\u001b[0m\u001b[0m\n\u001b[1;32m---> 16\u001b[1;33m             \u001b[1;32mraise\u001b[0m \u001b[0mValueError\u001b[0m\u001b[1;33m(\u001b[0m\u001b[1;34mf'{self.name} cant be contains atleast {self.max_l} elem'\u001b[0m\u001b[1;33m)\u001b[0m\u001b[1;33m\u001b[0m\u001b[1;33m\u001b[0m\u001b[0m\n\u001b[0m\u001b[0;32m     17\u001b[0m \u001b[1;33m\u001b[0m\u001b[0m\n\u001b[0;32m     18\u001b[0m         \u001b[1;32mfor\u001b[0m \u001b[0mindex\u001b[0m\u001b[1;33m,\u001b[0m \u001b[0mitem\u001b[0m \u001b[1;32min\u001b[0m \u001b[0menumerate\u001b[0m\u001b[1;33m(\u001b[0m\u001b[0mvalue\u001b[0m\u001b[1;33m)\u001b[0m\u001b[1;33m:\u001b[0m\u001b[1;33m\u001b[0m\u001b[1;33m\u001b[0m\u001b[0m\n",
      "\u001b[1;31mValueError\u001b[0m: vertices cant be contains atleast 3 elem"
     ]
    }
   ],
   "source": [
    "t = Triangle(Point2D(0,0), Point2D(1,1), Point2D(3,3), Point2D(4,4))"
   ]
  },
  {
   "cell_type": "code",
   "execution_count": 145,
   "metadata": {},
   "outputs": [],
   "source": [
    "class Polygon:\n",
    "    vertices = Point2DSeq(min_l=3)\n",
    "    def __init__(self, *vertices):\n",
    "        self.vertices = vertices\n",
    "    def append(self, pt):\n",
    "        if not isinstance(pt, Point2D):\n",
    "            raise ValueError('can only append Point2d isnt')\n",
    "         \n",
    "        max_l = type(self).vertices.max_l\n",
    "        \n",
    "        if max_l is not None and len(self.vertices) >=max_l:\n",
    "            raise ValueError(f'Vertices length is at max ({max_l})')\n",
    "        self.vertices.append(pt)\n",
    "        \n",
    "        \n",
    "    def __len__(self):\n",
    "        return len(self.vertices)\n",
    "    \n",
    "    def __getitem__(self, idx):\n",
    "        return self.vertices[idx]"
   ]
  },
  {
   "cell_type": "code",
   "execution_count": 146,
   "metadata": {},
   "outputs": [],
   "source": [
    "p = Polygon(Point2D(0, 0), Point2D(0,1), Point2D(1,0))"
   ]
  },
  {
   "cell_type": "code",
   "execution_count": 147,
   "metadata": {},
   "outputs": [
    {
     "data": {
      "text/plain": [
       "3"
      ]
     },
     "execution_count": 147,
     "metadata": {},
     "output_type": "execute_result"
    }
   ],
   "source": [
    "len(p)"
   ]
  },
  {
   "cell_type": "code",
   "execution_count": 148,
   "metadata": {},
   "outputs": [
    {
     "data": {
      "text/plain": [
       "[Point2D(x = 0, y = 0), Point2D(x = 0, y = 1), Point2D(x = 1, y = 0)]"
      ]
     },
     "execution_count": 148,
     "metadata": {},
     "output_type": "execute_result"
    }
   ],
   "source": [
    "p.vertices"
   ]
  },
  {
   "cell_type": "code",
   "execution_count": 149,
   "metadata": {},
   "outputs": [
    {
     "data": {
      "text/plain": [
       "Point2D(x = 0, y = 1)"
      ]
     },
     "execution_count": 149,
     "metadata": {},
     "output_type": "execute_result"
    }
   ],
   "source": [
    "p[1]"
   ]
  },
  {
   "cell_type": "code",
   "execution_count": 150,
   "metadata": {},
   "outputs": [
    {
     "data": {
      "text/plain": [
       "Point2D(x = 0, y = 0)"
      ]
     },
     "execution_count": 150,
     "metadata": {},
     "output_type": "execute_result"
    }
   ],
   "source": [
    "p[0]"
   ]
  },
  {
   "cell_type": "code",
   "execution_count": 151,
   "metadata": {},
   "outputs": [
    {
     "data": {
      "text/plain": [
       "[Point2D(x = 0, y = 1), Point2D(x = 1, y = 0)]"
      ]
     },
     "execution_count": 151,
     "metadata": {},
     "output_type": "execute_result"
    }
   ],
   "source": [
    "p[1:3]"
   ]
  },
  {
   "cell_type": "code",
   "execution_count": 152,
   "metadata": {},
   "outputs": [],
   "source": [
    "class Polygon:\n",
    "    vertices = Point2DSeq(min_l=3)\n",
    "    def __init__(self, *vertices):\n",
    "        self.vertices = vertices\n",
    "    def append(self, pt):\n",
    "        if not isinstance(pt, Point2D):\n",
    "            raise ValueError('can only append Point2d isnt')\n",
    "         \n",
    "        max_l = type(self).vertices.max_l\n",
    "        \n",
    "        if max_l is not None and len(self.vertices) >=max_l:\n",
    "            raise ValueError(f'Vertices length is at max ({max_l})')\n",
    "        self.vertices.append(pt)\n",
    "        \n",
    "        \n",
    "    def __len__(self):\n",
    "        return len(self.vertices)\n",
    "    \n",
    "    def __getitem__(self, idx):\n",
    "        return self.vertices[idx]\n",
    "    \n",
    "    \n",
    "    def __iadd__(self, pt):\n",
    "        self.append(pt)\n",
    "        return self\n",
    "    \n",
    "    \n",
    "    def __contains__(self, pt):\n",
    "        return pt in self.vertices"
   ]
  },
  {
   "cell_type": "code",
   "execution_count": 153,
   "metadata": {},
   "outputs": [],
   "source": [
    "p = Polygon(Point2D(0, 0), Point2D(0,1), Point2D(1,0))"
   ]
  },
  {
   "cell_type": "code",
   "execution_count": 154,
   "metadata": {},
   "outputs": [
    {
     "data": {
      "text/plain": [
       "[Point2D(x = 0, y = 0), Point2D(x = 0, y = 1), Point2D(x = 1, y = 0)]"
      ]
     },
     "execution_count": 154,
     "metadata": {},
     "output_type": "execute_result"
    }
   ],
   "source": [
    "list(p)"
   ]
  },
  {
   "cell_type": "code",
   "execution_count": 155,
   "metadata": {},
   "outputs": [],
   "source": [
    "p+=Point2D(10,10)"
   ]
  },
  {
   "cell_type": "code",
   "execution_count": 156,
   "metadata": {},
   "outputs": [
    {
     "data": {
      "text/plain": [
       "[Point2D(x = 0, y = 0),\n",
       " Point2D(x = 0, y = 1),\n",
       " Point2D(x = 1, y = 0),\n",
       " Point2D(x = 10, y = 10)]"
      ]
     },
     "execution_count": 156,
     "metadata": {},
     "output_type": "execute_result"
    }
   ],
   "source": [
    "list(p)"
   ]
  },
  {
   "cell_type": "code",
   "execution_count": 157,
   "metadata": {},
   "outputs": [
    {
     "data": {
      "text/plain": [
       "False"
      ]
     },
     "execution_count": 157,
     "metadata": {},
     "output_type": "execute_result"
    }
   ],
   "source": [
    "Point2D(0,0) in p"
   ]
  },
  {
   "cell_type": "code",
   "execution_count": 158,
   "metadata": {},
   "outputs": [
    {
     "data": {
      "text/plain": [
       "True"
      ]
     },
     "execution_count": 158,
     "metadata": {},
     "output_type": "execute_result"
    }
   ],
   "source": [
    "p[0] in p"
   ]
  },
  {
   "cell_type": "code",
   "execution_count": 160,
   "metadata": {},
   "outputs": [
    {
     "ename": "SyntaxError",
     "evalue": "invalid syntax (<ipython-input-160-b0fc4bde869d>, line 32)",
     "output_type": "error",
     "traceback": [
      "\u001b[1;36m  File \u001b[1;32m\"<ipython-input-160-b0fc4bde869d>\"\u001b[1;36m, line \u001b[1;32m32\u001b[0m\n\u001b[1;33m    return isinstance(other, Point2D) and self.x = other.x and self.y = other.y\u001b[0m\n\u001b[1;37m                                                 ^\u001b[0m\n\u001b[1;31mSyntaxError\u001b[0m\u001b[1;31m:\u001b[0m invalid syntax\n"
     ]
    }
   ],
   "source": [
    "class Polygon:\n",
    "    vertices = Point2DSeq(min_l=3)\n",
    "    def __init__(self, *vertices):\n",
    "        self.vertices = vertices\n",
    "    def append(self, pt):\n",
    "        if not isinstance(pt, Point2D):\n",
    "            raise ValueError('can only append Point2d isnt')\n",
    "         \n",
    "        max_l = type(self).vertices.max_l\n",
    "        \n",
    "        if max_l is not None and len(self.vertices) >=max_l:\n",
    "            raise ValueError(f'Vertices length is at max ({max_l})')\n",
    "        self.vertices.append(pt)\n",
    "        \n",
    "        \n",
    "    def __len__(self):\n",
    "        return len(self.vertices)\n",
    "    \n",
    "    def __getitem__(self, idx):\n",
    "        return self.vertices[idx]\n",
    "    \n",
    "    \n",
    "    def __iadd__(self, pt):\n",
    "        self.append(pt)\n",
    "        return self\n",
    "    \n",
    "    \n",
    "    def __contains__(self, pt):\n",
    "        return pt in self.vertices\n",
    "    \n",
    "    def __eq__(self, other):\n",
    "        return isinstance(other, Point2D) and self.x = other.x and self.y = other.y\n",
    "    \n",
    "    \n",
    "    def __hash__(self):\n",
    "        return hash((self.x, self.y) )"
   ]
  },
  {
   "cell_type": "code",
   "execution_count": 161,
   "metadata": {},
   "outputs": [],
   "source": [
    "##FUNCTIONS AND DESCRIPTORS"
   ]
  },
  {
   "cell_type": "code",
   "execution_count": 162,
   "metadata": {},
   "outputs": [],
   "source": [
    "def add(a,b):\n",
    "    return a+b"
   ]
  },
  {
   "cell_type": "code",
   "execution_count": 163,
   "metadata": {},
   "outputs": [
    {
     "data": {
      "text/plain": [
       "True"
      ]
     },
     "execution_count": 163,
     "metadata": {},
     "output_type": "execute_result"
    }
   ],
   "source": [
    "hasattr(add, '__get__')"
   ]
  },
  {
   "cell_type": "code",
   "execution_count": 164,
   "metadata": {},
   "outputs": [
    {
     "data": {
      "text/plain": [
       "False"
      ]
     },
     "execution_count": 164,
     "metadata": {},
     "output_type": "execute_result"
    }
   ],
   "source": [
    "hasattr(add, '__set__')"
   ]
  },
  {
   "cell_type": "code",
   "execution_count": 165,
   "metadata": {},
   "outputs": [],
   "source": [
    "import sys\n",
    "me = sys.modules['__main__']"
   ]
  },
  {
   "cell_type": "code",
   "execution_count": 166,
   "metadata": {},
   "outputs": [
    {
     "data": {
      "text/plain": [
       "<module '__main__'>"
      ]
     },
     "execution_count": 166,
     "metadata": {},
     "output_type": "execute_result"
    }
   ],
   "source": [
    "me"
   ]
  },
  {
   "cell_type": "code",
   "execution_count": 167,
   "metadata": {},
   "outputs": [],
   "source": [
    "f = add.__get__(None, me)"
   ]
  },
  {
   "cell_type": "code",
   "execution_count": 168,
   "metadata": {},
   "outputs": [
    {
     "data": {
      "text/plain": [
       "<function __main__.add(a, b)>"
      ]
     },
     "execution_count": 168,
     "metadata": {},
     "output_type": "execute_result"
    }
   ],
   "source": [
    "f"
   ]
  },
  {
   "cell_type": "code",
   "execution_count": 169,
   "metadata": {},
   "outputs": [
    {
     "data": {
      "text/plain": [
       "True"
      ]
     },
     "execution_count": 169,
     "metadata": {},
     "output_type": "execute_result"
    }
   ],
   "source": [
    "f is add"
   ]
  },
  {
   "cell_type": "code",
   "execution_count": 170,
   "metadata": {},
   "outputs": [],
   "source": [
    "class Person:\n",
    "    def __init__(self, name):\n",
    "        self.name = name\n",
    "        \n",
    "    def say_hello(self):\n",
    "        return f'{self.name} says hello'"
   ]
  },
  {
   "cell_type": "code",
   "execution_count": 171,
   "metadata": {},
   "outputs": [
    {
     "data": {
      "text/plain": [
       "<function __main__.Person.say_hello(self)>"
      ]
     },
     "execution_count": 171,
     "metadata": {},
     "output_type": "execute_result"
    }
   ],
   "source": [
    "Person.say_hello"
   ]
  },
  {
   "cell_type": "code",
   "execution_count": 172,
   "metadata": {},
   "outputs": [],
   "source": [
    "p = Person('lol')"
   ]
  },
  {
   "cell_type": "code",
   "execution_count": 173,
   "metadata": {},
   "outputs": [
    {
     "data": {
      "text/plain": [
       "<bound method Person.say_hello of <__main__.Person object at 0x000001A4A37ECF40>>"
      ]
     },
     "execution_count": 173,
     "metadata": {},
     "output_type": "execute_result"
    }
   ],
   "source": [
    "p.say_hello"
   ]
  },
  {
   "cell_type": "code",
   "execution_count": 174,
   "metadata": {},
   "outputs": [],
   "source": [
    "bound_me = Person.say_hello.__get__(p, Person)"
   ]
  },
  {
   "cell_type": "code",
   "execution_count": 175,
   "metadata": {},
   "outputs": [
    {
     "data": {
      "text/plain": [
       "<bound method Person.say_hello of <__main__.Person object at 0x000001A4A37ECF40>>"
      ]
     },
     "execution_count": 175,
     "metadata": {},
     "output_type": "execute_result"
    }
   ],
   "source": [
    "bound_me\n"
   ]
  },
  {
   "cell_type": "code",
   "execution_count": 176,
   "metadata": {},
   "outputs": [],
   "source": [
    "f1 = p.say_hello\n",
    "f2 = p.say_hello"
   ]
  },
  {
   "cell_type": "code",
   "execution_count": 177,
   "metadata": {},
   "outputs": [
    {
     "data": {
      "text/plain": [
       "(<bound method Person.say_hello of <__main__.Person object at 0x000001A4A37ECF40>>,\n",
       " <bound method Person.say_hello of <__main__.Person object at 0x000001A4A37ECF40>>)"
      ]
     },
     "execution_count": 177,
     "metadata": {},
     "output_type": "execute_result"
    }
   ],
   "source": [
    "f1, f2"
   ]
  },
  {
   "cell_type": "code",
   "execution_count": 178,
   "metadata": {},
   "outputs": [
    {
     "data": {
      "text/plain": [
       "False"
      ]
     },
     "execution_count": 178,
     "metadata": {},
     "output_type": "execute_result"
    }
   ],
   "source": [
    "f1 is f2"
   ]
  },
  {
   "cell_type": "code",
   "execution_count": 179,
   "metadata": {},
   "outputs": [
    {
     "data": {
      "text/plain": [
       "'lol says hello'"
      ]
     },
     "execution_count": 179,
     "metadata": {},
     "output_type": "execute_result"
    }
   ],
   "source": [
    "p.say_hello()"
   ]
  },
  {
   "cell_type": "code",
   "execution_count": 180,
   "metadata": {},
   "outputs": [
    {
     "data": {
      "text/plain": [
       "'lol says hello'"
      ]
     },
     "execution_count": 180,
     "metadata": {},
     "output_type": "execute_result"
    }
   ],
   "source": [
    "bound_me()"
   ]
  },
  {
   "cell_type": "code",
   "execution_count": 181,
   "metadata": {},
   "outputs": [
    {
     "data": {
      "text/plain": [
       "method"
      ]
     },
     "execution_count": 181,
     "metadata": {},
     "output_type": "execute_result"
    }
   ],
   "source": [
    "type(bound_me)"
   ]
  },
  {
   "cell_type": "code",
   "execution_count": 182,
   "metadata": {},
   "outputs": [
    {
     "data": {
      "text/plain": [
       "<function __main__.Person.say_hello(self)>"
      ]
     },
     "execution_count": 182,
     "metadata": {},
     "output_type": "execute_result"
    }
   ],
   "source": [
    "bound_me.__func__"
   ]
  },
  {
   "cell_type": "code",
   "execution_count": 183,
   "metadata": {},
   "outputs": [
    {
     "data": {
      "text/plain": [
       "<function __main__.Person.say_hello(self)>"
      ]
     },
     "execution_count": 183,
     "metadata": {},
     "output_type": "execute_result"
    }
   ],
   "source": [
    "p.say_hello.__func__"
   ]
  },
  {
   "cell_type": "code",
   "execution_count": 185,
   "metadata": {},
   "outputs": [],
   "source": [
    "class Person:\n",
    "    def __init__(self, name):\n",
    "        self.name = name\n",
    "    "
   ]
  },
  {
   "cell_type": "code",
   "execution_count": 186,
   "metadata": {},
   "outputs": [],
   "source": [
    "def hello(self):\n",
    "    return f'{self.name} syaas helo'"
   ]
  },
  {
   "cell_type": "code",
   "execution_count": 187,
   "metadata": {},
   "outputs": [
    {
     "data": {
      "text/plain": [
       "<function __main__.hello(self)>"
      ]
     },
     "execution_count": 187,
     "metadata": {},
     "output_type": "execute_result"
    }
   ],
   "source": [
    "hello"
   ]
  },
  {
   "cell_type": "code",
   "execution_count": 188,
   "metadata": {},
   "outputs": [],
   "source": [
    "import types"
   ]
  },
  {
   "cell_type": "code",
   "execution_count": 189,
   "metadata": {},
   "outputs": [
    {
     "name": "stdout",
     "output_type": "stream",
     "text": [
      "Help on class method in module builtins:\n",
      "\n",
      "class method(object)\n",
      " |  method(function, instance)\n",
      " |  \n",
      " |  Create a bound instance method object.\n",
      " |  \n",
      " |  Methods defined here:\n",
      " |  \n",
      " |  __call__(self, /, *args, **kwargs)\n",
      " |      Call self as a function.\n",
      " |  \n",
      " |  __delattr__(self, name, /)\n",
      " |      Implement delattr(self, name).\n",
      " |  \n",
      " |  __eq__(self, value, /)\n",
      " |      Return self==value.\n",
      " |  \n",
      " |  __ge__(self, value, /)\n",
      " |      Return self>=value.\n",
      " |  \n",
      " |  __get__(self, instance, owner, /)\n",
      " |      Return an attribute of instance, which is of type owner.\n",
      " |  \n",
      " |  __getattribute__(self, name, /)\n",
      " |      Return getattr(self, name).\n",
      " |  \n",
      " |  __gt__(self, value, /)\n",
      " |      Return self>value.\n",
      " |  \n",
      " |  __hash__(self, /)\n",
      " |      Return hash(self).\n",
      " |  \n",
      " |  __le__(self, value, /)\n",
      " |      Return self<=value.\n",
      " |  \n",
      " |  __lt__(self, value, /)\n",
      " |      Return self<value.\n",
      " |  \n",
      " |  __ne__(self, value, /)\n",
      " |      Return self!=value.\n",
      " |  \n",
      " |  __reduce__(...)\n",
      " |      Helper for pickle.\n",
      " |  \n",
      " |  __repr__(self, /)\n",
      " |      Return repr(self).\n",
      " |  \n",
      " |  __setattr__(self, name, value, /)\n",
      " |      Implement setattr(self, name, value).\n",
      " |  \n",
      " |  ----------------------------------------------------------------------\n",
      " |  Static methods defined here:\n",
      " |  \n",
      " |  __new__(*args, **kwargs) from builtins.type\n",
      " |      Create and return a new object.  See help(type) for accurate signature.\n",
      " |  \n",
      " |  ----------------------------------------------------------------------\n",
      " |  Data descriptors defined here:\n",
      " |  \n",
      " |  __func__\n",
      " |      the function (or other callable) implementing a method\n",
      " |  \n",
      " |  __self__\n",
      " |      the instance to which a method is bound\n",
      "\n"
     ]
    }
   ],
   "source": [
    "help(types.MethodType)"
   ]
  },
  {
   "cell_type": "code",
   "execution_count": 192,
   "metadata": {},
   "outputs": [],
   "source": [
    "class Person:\n",
    "    def __init__(self, name):\n",
    "        self.name = name\n",
    "        "
   ]
  },
  {
   "cell_type": "code",
   "execution_count": 193,
   "metadata": {},
   "outputs": [],
   "source": [
    "p = Person('lol')"
   ]
  },
  {
   "cell_type": "code",
   "execution_count": 194,
   "metadata": {},
   "outputs": [],
   "source": [
    "m = types.MethodType(hello,p)"
   ]
  },
  {
   "cell_type": "code",
   "execution_count": 195,
   "metadata": {},
   "outputs": [
    {
     "data": {
      "text/plain": [
       "<bound method hello of <__main__.Person object at 0x000001A4A423C340>>"
      ]
     },
     "execution_count": 195,
     "metadata": {},
     "output_type": "execute_result"
    }
   ],
   "source": [
    "m"
   ]
  },
  {
   "cell_type": "code",
   "execution_count": 196,
   "metadata": {},
   "outputs": [
    {
     "data": {
      "text/plain": [
       "<__main__.Person at 0x1a4a423c340>"
      ]
     },
     "execution_count": 196,
     "metadata": {},
     "output_type": "execute_result"
    }
   ],
   "source": [
    "p"
   ]
  },
  {
   "cell_type": "code",
   "execution_count": 197,
   "metadata": {},
   "outputs": [
    {
     "data": {
      "text/plain": [
       "<function __main__.hello(self)>"
      ]
     },
     "execution_count": 197,
     "metadata": {},
     "output_type": "execute_result"
    }
   ],
   "source": [
    "m.__func__"
   ]
  },
  {
   "cell_type": "code",
   "execution_count": 198,
   "metadata": {},
   "outputs": [
    {
     "data": {
      "text/plain": [
       "'lol syaas helo'"
      ]
     },
     "execution_count": 198,
     "metadata": {},
     "output_type": "execute_result"
    }
   ],
   "source": [
    "m()"
   ]
  },
  {
   "cell_type": "code",
   "execution_count": 207,
   "metadata": {},
   "outputs": [],
   "source": [
    "class MyFunc:\n",
    "    def __init__(self, func):\n",
    "        self._func = func\n",
    "        \n",
    "    def __get__(self, instance, cls):\n",
    "        if instance is None:\n",
    "            print('__get__ called from class')\n",
    "            return self._func\n",
    "        else:\n",
    "            print('__get__ called from ins')\n",
    "            return types.MethodType(self._func, instance)\n",
    "        \n",
    "    "
   ]
  },
  {
   "cell_type": "code",
   "execution_count": 215,
   "metadata": {},
   "outputs": [],
   "source": [
    "def sshello(self):\n",
    "    print(f'{self.name} says hello')"
   ]
  },
  {
   "cell_type": "code",
   "execution_count": 216,
   "metadata": {},
   "outputs": [],
   "source": [
    "class Person:\n",
    "    def __init__(self, name):\n",
    "        self.name = name\n",
    "        \n",
    "    hello = MyFunc(sshello)\n",
    "    "
   ]
  },
  {
   "cell_type": "code",
   "execution_count": 217,
   "metadata": {},
   "outputs": [
    {
     "name": "stdout",
     "output_type": "stream",
     "text": [
      "__get__ called from class\n"
     ]
    },
    {
     "data": {
      "text/plain": [
       "<function __main__.sshello(self)>"
      ]
     },
     "execution_count": 217,
     "metadata": {},
     "output_type": "execute_result"
    }
   ],
   "source": [
    "Person.hello"
   ]
  },
  {
   "cell_type": "code",
   "execution_count": 218,
   "metadata": {},
   "outputs": [],
   "source": [
    "p = Person('lolo')"
   ]
  },
  {
   "cell_type": "code",
   "execution_count": 219,
   "metadata": {},
   "outputs": [
    {
     "name": "stdout",
     "output_type": "stream",
     "text": [
      "__get__ called from ins\n"
     ]
    },
    {
     "data": {
      "text/plain": [
       "<bound method sshello of <__main__.Person object at 0x000001A4A45DAE50>>"
      ]
     },
     "execution_count": 219,
     "metadata": {},
     "output_type": "execute_result"
    }
   ],
   "source": [
    "p.hello"
   ]
  },
  {
   "cell_type": "code",
   "execution_count": 220,
   "metadata": {},
   "outputs": [
    {
     "name": "stdout",
     "output_type": "stream",
     "text": [
      "__get__ called from ins\n"
     ]
    },
    {
     "data": {
      "text/plain": [
       "<function __main__.sshello(self)>"
      ]
     },
     "execution_count": 220,
     "metadata": {},
     "output_type": "execute_result"
    }
   ],
   "source": [
    "p.hello.__func__"
   ]
  },
  {
   "cell_type": "code",
   "execution_count": 221,
   "metadata": {},
   "outputs": [
    {
     "name": "stdout",
     "output_type": "stream",
     "text": [
      "__get__ called from ins\n",
      "lolo says hello\n"
     ]
    }
   ],
   "source": [
    "p.hello()"
   ]
  },
  {
   "cell_type": "code",
   "execution_count": null,
   "metadata": {},
   "outputs": [],
   "source": []
  }
 ],
 "metadata": {
  "kernelspec": {
   "display_name": "Python 3",
   "language": "python",
   "name": "python3"
  },
  "language_info": {
   "codemirror_mode": {
    "name": "ipython",
    "version": 3
   },
   "file_extension": ".py",
   "mimetype": "text/x-python",
   "name": "python",
   "nbconvert_exporter": "python",
   "pygments_lexer": "ipython3",
   "version": "3.9.0"
  }
 },
 "nbformat": 4,
 "nbformat_minor": 4
}
