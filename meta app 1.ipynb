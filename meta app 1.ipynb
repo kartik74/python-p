{
 "cells": [
  {
   "cell_type": "code",
   "execution_count": 2,
   "metadata": {},
   "outputs": [],
   "source": [
    "class Point2D:\n",
    "    __slots__= ('_x', '_y')\n",
    "    \n",
    "    def __init__(self, x,y):\n",
    "        self._x = x\n",
    "        self._y = y\n",
    "        \n",
    "    @property\n",
    "    def x(self):\n",
    "        return self._x\n",
    "    \n",
    "    \n",
    "    @property\n",
    "    def y(self):\n",
    "        return self._y\n",
    "    \n",
    "    def __eq__(self, other):\n",
    "        return isinstance(other, Point) and (self.x, self.y) == (other.x, other.y)\n",
    "    \n",
    "    def __hash__(self):\n",
    "        return hash((self.x, self.y))\n",
    "    \n",
    "    \n",
    "    def __repr__(self):\n",
    "        return f'Point2D({self.x}, {self.y})'\n",
    "    \n",
    "    \n",
    "    def __str__(self):\n",
    "        return f'({self.x}, {self.y})'\n",
    "    \n",
    "class Point3D:\n",
    "    __slots__=('_x', '_y', '_z')\n",
    "    \n",
    "    \n",
    "    def __init__(self, x,y,z):\n",
    "        self._x = x\n",
    "        self._y = y\n",
    "        self._z = z\n",
    "        \n",
    "        \n",
    "       \n",
    "    @property\n",
    "    def x(self):\n",
    "        return self._x\n",
    "    \n",
    "    \n",
    "    @property\n",
    "    def y(self):\n",
    "        return self._y\n",
    "    \n",
    "    \n",
    "        \n",
    "    @property\n",
    "    def z(self):\n",
    "        return self._z\n",
    "    \n",
    "    def __eq__(self, other):\n",
    "        return isinstance(other, Point) and (self.x, self.y, self.z) == (other.x, other.y, other.z)\n",
    "    \n",
    "    def __hash__(self):\n",
    "        return hash((self.x, self.y, self.z))\n",
    "    \n",
    "    \n",
    "    def __repr__(self):\n",
    "        return f'Point2D({self.x}, {self.y}, {self.z})'\n",
    "    \n",
    "    \n",
    "    def __str__(self):\n",
    "        return f'({self.x}, {self.y}, {self.z})'\n",
    "    \n",
    "    "
   ]
  },
  {
   "cell_type": "code",
   "execution_count": 4,
   "metadata": {},
   "outputs": [],
   "source": [
    "class Point2D:\n",
    "    _fields = ['x', 'y']\n",
    "    \n",
    "    def __init__(self, x,y):\n",
    "        self._x = x\n",
    "        self._y = y\n",
    "        \n",
    "class Point3D:\n",
    "    _fields = ['x', 'y', 'z']\n",
    "    \n",
    "    def __init__(self, x,y,z):\n",
    "        self._x = x\n",
    "        self._y = y\n",
    "        self._z = z"
   ]
  },
  {
   "cell_type": "code",
   "execution_count": 5,
   "metadata": {},
   "outputs": [],
   "source": [
    "class SlottedStruct(type):\n",
    "    def __new__(mcls, name, bases, class_dict):\n",
    "        cls_obj = super().__new__(mcls, name, bases, class_dict)\n",
    "        \n",
    "        #slots\n",
    "        \n",
    "        setattr(cls_obj,'__slots__', [f'_{field}' for field in cls_obj._fields])\n",
    "        \n",
    "        #read only prop\n",
    "        for field in cls_obj._fields:\n",
    "            slot = f'_{field}'\n",
    "            setattr(cls_obj, field, property(fget=lambda self, attrib = slot:getattr(self, attrib)))\n",
    "            \n",
    "            \n",
    "            \n",
    "            ## prop is a closure (fn) slot is coming from outer scope so lambda isa closure\n",
    "            ## so every lambda is pointing to same slot through self\n",
    "            ## so it is a shared ref to the same slot which means by the time we done iter through the fields\n",
    "            ## lambda will have same slot val whioch is the last field value thats why we attrib\n",
    "            \n",
    "        return cls_obj"
   ]
  },
  {
   "cell_type": "code",
   "execution_count": 6,
   "metadata": {},
   "outputs": [],
   "source": [
    "class Person(metaclass = SlottedStruct):\n",
    "    _fields = ['name', 'age']\n",
    "    \n",
    "    def __init__(self, name, age):\n",
    "        self._name = name\n",
    "        self._age = age"
   ]
  },
  {
   "cell_type": "code",
   "execution_count": 7,
   "metadata": {},
   "outputs": [
    {
     "data": {
      "text/plain": [
       "mappingproxy({'__module__': '__main__',\n",
       "              '_fields': ['name', 'age'],\n",
       "              '__init__': <function __main__.Person.__init__(self, name, age)>,\n",
       "              '__dict__': <attribute '__dict__' of 'Person' objects>,\n",
       "              '__weakref__': <attribute '__weakref__' of 'Person' objects>,\n",
       "              '__doc__': None,\n",
       "              '__slots__': ['_name', '_age'],\n",
       "              'name': <property at 0x1f512e25a90>,\n",
       "              'age': <property at 0x1f512e250e0>})"
      ]
     },
     "execution_count": 7,
     "metadata": {},
     "output_type": "execute_result"
    }
   ],
   "source": [
    "vars(Person)"
   ]
  },
  {
   "cell_type": "code",
   "execution_count": 8,
   "metadata": {},
   "outputs": [],
   "source": [
    "p = Person('kok', 19)"
   ]
  },
  {
   "cell_type": "code",
   "execution_count": 9,
   "metadata": {},
   "outputs": [
    {
     "data": {
      "text/plain": [
       "'kok'"
      ]
     },
     "execution_count": 9,
     "metadata": {},
     "output_type": "execute_result"
    }
   ],
   "source": [
    "p.name"
   ]
  },
  {
   "cell_type": "code",
   "execution_count": 10,
   "metadata": {},
   "outputs": [
    {
     "data": {
      "text/plain": [
       "19"
      ]
     },
     "execution_count": 10,
     "metadata": {},
     "output_type": "execute_result"
    }
   ],
   "source": [
    "p.age"
   ]
  },
  {
   "cell_type": "code",
   "execution_count": 11,
   "metadata": {},
   "outputs": [
    {
     "ename": "AttributeError",
     "evalue": "can't set attribute",
     "output_type": "error",
     "traceback": [
      "\u001b[1;31m---------------------------------------------------------------------------\u001b[0m",
      "\u001b[1;31mAttributeError\u001b[0m                            Traceback (most recent call last)",
      "\u001b[1;32m<ipython-input-11-14874c1fc9cc>\u001b[0m in \u001b[0;36m<module>\u001b[1;34m\u001b[0m\n\u001b[1;32m----> 1\u001b[1;33m \u001b[0mp\u001b[0m\u001b[1;33m.\u001b[0m\u001b[0mname\u001b[0m \u001b[1;33m=\u001b[0m \u001b[1;34m'lolo'\u001b[0m\u001b[1;33m\u001b[0m\u001b[1;33m\u001b[0m\u001b[0m\n\u001b[0m",
      "\u001b[1;31mAttributeError\u001b[0m: can't set attribute"
     ]
    }
   ],
   "source": [
    "p.name = 'lolo'"
   ]
  },
  {
   "cell_type": "code",
   "execution_count": 14,
   "metadata": {},
   "outputs": [],
   "source": [
    "class SlottedStruct(type):\n",
    "    def __new__(mcls, name, bases, class_dict):\n",
    "        cls_obj = super().__new__(mcls, name, bases, class_dict)\n",
    "        \n",
    "        #slots\n",
    "        \n",
    "        setattr(cls_obj,'__slots__', [f'_{field}' for field in cls_obj._fields])\n",
    "        \n",
    "        #read only prop\n",
    "        for field in cls_obj._fields:\n",
    "            slot = f'_{field}'\n",
    "            setattr(cls_obj, field, property(fget=lambda self, attrib = slot:getattr(self, attrib)))\n",
    "        \n",
    "        #__eq__\n",
    "        def eq(self, other):\n",
    "            if isinstance(other, cls_obj):\n",
    "                self_fields = [getattr(self, field) for field in cls_obj._fields]\n",
    "                other_fields = [getattr(other, field) for field in cls_obj._fields]\n",
    "                return self_fields == other_fields\n",
    "            return False\n",
    "        \n",
    "        setattr(cls_obj, '__eq__', eq)\n",
    "        \n",
    "        ##hash\n",
    "        \n",
    "        def hash_(self):\n",
    "            field_values = (getattr(self, field) for field in cls_obj._fields)\n",
    "            return hash(tuple(field_values))\n",
    "        setattr(cls_obj, '__hash__', hash_)\n",
    "        \n",
    "        \n",
    "        ##__str__\n",
    "        def str_(self):\n",
    "            field_values = (getattr(self, field) for field in cls_obj._fields)\n",
    "            field_values_join = ', '.join(map(str, field_values))\n",
    "            return f'{cls_obj.__name__}({field_values_join})'\n",
    "        \n",
    "        \n",
    "        \n",
    "        setattr(cls_obj, '__str__', str_)\n",
    "        \n",
    "        #__repr__\n",
    "        \n",
    "        def repr_(self):\n",
    "            field_values = (getattr(self, field) for field in self._fields)\n",
    "            field_key_values = (f'{k}={v}'for k,v in zip(cls_obj._fields, field_values))\n",
    "            field_key_values_str = ', '.join(field_key_values)\n",
    "            return f'{self.__class__.__name__}({field_key_values_str})'\n",
    "        setattr(cls_obj, '__repr__', repr_)\n",
    "            \n",
    "            \n",
    "            \n",
    "        \n",
    "        \n",
    "        return cls_obj"
   ]
  },
  {
   "cell_type": "code",
   "execution_count": 15,
   "metadata": {},
   "outputs": [],
   "source": [
    "class Person(metaclass = SlottedStruct):\n",
    "    _fields = ['name']\n",
    "    \n",
    "    def __init__(self, name):\n",
    "        self._name = name"
   ]
  },
  {
   "cell_type": "code",
   "execution_count": 16,
   "metadata": {},
   "outputs": [
    {
     "data": {
      "text/plain": [
       "__main__.SlottedStruct"
      ]
     },
     "execution_count": 16,
     "metadata": {},
     "output_type": "execute_result"
    }
   ],
   "source": [
    "type(Person)"
   ]
  },
  {
   "cell_type": "code",
   "execution_count": 17,
   "metadata": {},
   "outputs": [],
   "source": [
    "p1 = Person('alex')\n",
    "p2 = Person('alex')"
   ]
  },
  {
   "cell_type": "code",
   "execution_count": 27,
   "metadata": {},
   "outputs": [
    {
     "data": {
      "text/plain": [
       "__main__.Person"
      ]
     },
     "execution_count": 27,
     "metadata": {},
     "output_type": "execute_result"
    }
   ],
   "source": [
    "type(p1)"
   ]
  },
  {
   "cell_type": "code",
   "execution_count": 28,
   "metadata": {},
   "outputs": [
    {
     "data": {
      "text/plain": [
       "'Person(name=alex)'"
      ]
     },
     "execution_count": 28,
     "metadata": {},
     "output_type": "execute_result"
    }
   ],
   "source": [
    "repr(p1)"
   ]
  },
  {
   "cell_type": "code",
   "execution_count": 30,
   "metadata": {},
   "outputs": [],
   "source": [
    "class Point2D(metaclass = SlottedStruct):\n",
    "    _fields = ['x', 'y']\n",
    "    \n",
    "    def __init__(self, x, y):\n",
    "        self._x = x\n",
    "        self._y =y\n",
    "        \n",
    "class Point3D(metaclass = SlottedStruct):\n",
    "    _fields = ['x', 'y', 'z']\n",
    "    \n",
    "    def __init__(self, x, y, z):\n",
    "        self._x = x\n",
    "        self._y =y\n",
    "        self._z = z"
   ]
  },
  {
   "cell_type": "code",
   "execution_count": 31,
   "metadata": {},
   "outputs": [],
   "source": [
    "p1 = Point2D(1,2)\n",
    "p2 =Point2D(1,2)\n",
    "p3 = Point2D(0,0)"
   ]
  },
  {
   "cell_type": "code",
   "execution_count": 32,
   "metadata": {},
   "outputs": [
    {
     "data": {
      "text/plain": [
       "('Point2D(x=1, y=2)',\n",
       " 'Point2D(1, 2)',\n",
       " 'Point2D(x=1, y=2)',\n",
       " 'Point2D(1, 2)',\n",
       " 1,\n",
       " 2)"
      ]
     },
     "execution_count": 32,
     "metadata": {},
     "output_type": "execute_result"
    }
   ],
   "source": [
    "repr(p1), str(p1), repr(p2), str(p2), p1.x, p2.y"
   ]
  },
  {
   "cell_type": "code",
   "execution_count": 33,
   "metadata": {},
   "outputs": [
    {
     "data": {
      "text/plain": [
       "True"
      ]
     },
     "execution_count": 33,
     "metadata": {},
     "output_type": "execute_result"
    }
   ],
   "source": [
    "p1 ==p2"
   ]
  },
  {
   "cell_type": "code",
   "execution_count": 34,
   "metadata": {},
   "outputs": [
    {
     "data": {
      "text/plain": [
       "False"
      ]
     },
     "execution_count": 34,
     "metadata": {},
     "output_type": "execute_result"
    }
   ],
   "source": [
    "p1==p3"
   ]
  },
  {
   "cell_type": "code",
   "execution_count": 35,
   "metadata": {},
   "outputs": [
    {
     "data": {
      "text/plain": [
       "('Point2D',\n",
       " mappingproxy({'__module__': '__main__',\n",
       "               '_fields': ['x', 'y'],\n",
       "               '__init__': <function __main__.Point2D.__init__(self, x, y)>,\n",
       "               '__dict__': <attribute '__dict__' of 'Point2D' objects>,\n",
       "               '__weakref__': <attribute '__weakref__' of 'Point2D' objects>,\n",
       "               '__doc__': None,\n",
       "               '__slots__': ['_x', '_y'],\n",
       "               'x': <property at 0x1f512270540>,\n",
       "               'y': <property at 0x1f5122705e0>,\n",
       "               '__eq__': <function __main__.SlottedStruct.__new__.<locals>.eq(self, other)>,\n",
       "               '__hash__': <function __main__.SlottedStruct.__new__.<locals>.hash_(self)>,\n",
       "               '__str__': <function __main__.SlottedStruct.__new__.<locals>.str_(self)>,\n",
       "               '__repr__': <function __main__.SlottedStruct.__new__.<locals>.repr_(self)>}))"
      ]
     },
     "execution_count": 35,
     "metadata": {},
     "output_type": "execute_result"
    }
   ],
   "source": [
    "Point2D.__name__, Point2D.__dict__"
   ]
  },
  {
   "cell_type": "code",
   "execution_count": 36,
   "metadata": {},
   "outputs": [
    {
     "data": {
      "text/plain": [
       "(object,)"
      ]
     },
     "execution_count": 36,
     "metadata": {},
     "output_type": "execute_result"
    }
   ],
   "source": [
    "Point2D.__bases__"
   ]
  },
  {
   "cell_type": "code",
   "execution_count": 37,
   "metadata": {},
   "outputs": [],
   "source": [
    "def Struct(cls):\n",
    "    return SlottedStruct(cls.__name__, cls.__bases__,dict(cls.__dict__))"
   ]
  },
  {
   "cell_type": "code",
   "execution_count": 39,
   "metadata": {},
   "outputs": [],
   "source": [
    "@Struct\n",
    "class Point2D():\n",
    "    _fields = ['x', 'y']\n",
    "    \n",
    "    def __init__(self, x, y):\n",
    "        self._x = x\n",
    "        self._y =y\n",
    "@Struct        \n",
    "class Point3D():\n",
    "    _fields = ['x', 'y', 'z']\n",
    "    \n",
    "    def __init__(self, x, y, z):\n",
    "        self._x = x\n",
    "        self._y =y\n",
    "        self._z = z"
   ]
  },
  {
   "cell_type": "code",
   "execution_count": 40,
   "metadata": {},
   "outputs": [
    {
     "data": {
      "text/plain": [
       "__main__.SlottedStruct"
      ]
     },
     "execution_count": 40,
     "metadata": {},
     "output_type": "execute_result"
    }
   ],
   "source": [
    "type(Point2D)"
   ]
  },
  {
   "cell_type": "code",
   "execution_count": 41,
   "metadata": {},
   "outputs": [],
   "source": [
    "p1 = Point2D(1,2)\n",
    "p2 =Point2D(1,2)\n",
    "p3 = Point2D(0,0)"
   ]
  },
  {
   "cell_type": "code",
   "execution_count": 42,
   "metadata": {},
   "outputs": [
    {
     "data": {
      "text/plain": [
       "('Point2D(x=1, y=2)',\n",
       " 'Point2D(1, 2)',\n",
       " 'Point2D(x=1, y=2)',\n",
       " 'Point2D(1, 2)',\n",
       " 1,\n",
       " 2)"
      ]
     },
     "execution_count": 42,
     "metadata": {},
     "output_type": "execute_result"
    }
   ],
   "source": [
    "repr(p1), str(p1), repr(p2), str(p2), p1.x, p2.y"
   ]
  },
  {
   "cell_type": "code",
   "execution_count": null,
   "metadata": {},
   "outputs": [],
   "source": []
  }
 ],
 "metadata": {
  "kernelspec": {
   "display_name": "Python 3",
   "language": "python",
   "name": "python3"
  },
  "language_info": {
   "codemirror_mode": {
    "name": "ipython",
    "version": 3
   },
   "file_extension": ".py",
   "mimetype": "text/x-python",
   "name": "python",
   "nbconvert_exporter": "python",
   "pygments_lexer": "ipython3",
   "version": "3.9.0"
  }
 },
 "nbformat": 4,
 "nbformat_minor": 4
}
